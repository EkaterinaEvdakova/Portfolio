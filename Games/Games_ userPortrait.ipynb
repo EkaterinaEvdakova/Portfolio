{
 "cells": [
  {
   "cell_type": "markdown",
   "metadata": {
    "id": "sykqecLwbIfq"
   },
   "source": [
    "# Проект \"Стримчик\""
   ]
  },
  {
   "cell_type": "markdown",
   "metadata": {
    "id": "QGRnbRGvbIfr"
   },
   "source": [
    "Представлены данные из открытых источников по всему миру о продажах компьютерных игр, оценок пользователей и экспертов. Необходимо выявить определяющие успешность игры закономерности для выявления потенциально популярных продуктов и планированияь рекламных кампании."
   ]
  },
  {
   "cell_type": "code",
   "execution_count": 45,
   "metadata": {
    "id": "6swKJvVCbIfs"
   },
   "outputs": [],
   "source": [
    "#Загрузка библиотек\n",
    "import pandas as pd\n",
    "import matplotlib.pyplot as plt\n",
    "from scipy import stats as st\n",
    "import seaborn as sb"
   ]
  },
  {
   "cell_type": "markdown",
   "metadata": {
    "id": "1VZOc1QRbIfu"
   },
   "source": [
    "## Изучение данных"
   ]
  },
  {
   "cell_type": "code",
   "execution_count": 46,
   "metadata": {
    "colab": {
     "base_uri": "https://localhost:8080/",
     "height": 206
    },
    "id": "sySw7YHHbIfu",
    "outputId": "fe26cd9b-9048-4345-c42f-25f2559dcd4c"
   },
   "outputs": [
    {
     "data": {
      "text/html": [
       "<div>\n",
       "<style scoped>\n",
       "    .dataframe tbody tr th:only-of-type {\n",
       "        vertical-align: middle;\n",
       "    }\n",
       "\n",
       "    .dataframe tbody tr th {\n",
       "        vertical-align: top;\n",
       "    }\n",
       "\n",
       "    .dataframe thead th {\n",
       "        text-align: right;\n",
       "    }\n",
       "</style>\n",
       "<table border=\"1\" class=\"dataframe\">\n",
       "  <thead>\n",
       "    <tr style=\"text-align: right;\">\n",
       "      <th></th>\n",
       "      <th>Name</th>\n",
       "      <th>Platform</th>\n",
       "      <th>Year_of_Release</th>\n",
       "      <th>Genre</th>\n",
       "      <th>NA_sales</th>\n",
       "      <th>EU_sales</th>\n",
       "      <th>JP_sales</th>\n",
       "      <th>Other_sales</th>\n",
       "      <th>Critic_Score</th>\n",
       "      <th>User_Score</th>\n",
       "      <th>Rating</th>\n",
       "    </tr>\n",
       "  </thead>\n",
       "  <tbody>\n",
       "    <tr>\n",
       "      <th>0</th>\n",
       "      <td>Wii Sports</td>\n",
       "      <td>Wii</td>\n",
       "      <td>2006.0</td>\n",
       "      <td>Sports</td>\n",
       "      <td>41.36</td>\n",
       "      <td>28.96</td>\n",
       "      <td>3.77</td>\n",
       "      <td>8.45</td>\n",
       "      <td>76.0</td>\n",
       "      <td>8</td>\n",
       "      <td>E</td>\n",
       "    </tr>\n",
       "    <tr>\n",
       "      <th>1</th>\n",
       "      <td>Super Mario Bros.</td>\n",
       "      <td>NES</td>\n",
       "      <td>1985.0</td>\n",
       "      <td>Platform</td>\n",
       "      <td>29.08</td>\n",
       "      <td>3.58</td>\n",
       "      <td>6.81</td>\n",
       "      <td>0.77</td>\n",
       "      <td>NaN</td>\n",
       "      <td>NaN</td>\n",
       "      <td>NaN</td>\n",
       "    </tr>\n",
       "    <tr>\n",
       "      <th>2</th>\n",
       "      <td>Mario Kart Wii</td>\n",
       "      <td>Wii</td>\n",
       "      <td>2008.0</td>\n",
       "      <td>Racing</td>\n",
       "      <td>15.68</td>\n",
       "      <td>12.76</td>\n",
       "      <td>3.79</td>\n",
       "      <td>3.29</td>\n",
       "      <td>82.0</td>\n",
       "      <td>8.3</td>\n",
       "      <td>E</td>\n",
       "    </tr>\n",
       "    <tr>\n",
       "      <th>3</th>\n",
       "      <td>Wii Sports Resort</td>\n",
       "      <td>Wii</td>\n",
       "      <td>2009.0</td>\n",
       "      <td>Sports</td>\n",
       "      <td>15.61</td>\n",
       "      <td>10.93</td>\n",
       "      <td>3.28</td>\n",
       "      <td>2.95</td>\n",
       "      <td>80.0</td>\n",
       "      <td>8</td>\n",
       "      <td>E</td>\n",
       "    </tr>\n",
       "    <tr>\n",
       "      <th>4</th>\n",
       "      <td>Pokemon Red/Pokemon Blue</td>\n",
       "      <td>GB</td>\n",
       "      <td>1996.0</td>\n",
       "      <td>Role-Playing</td>\n",
       "      <td>11.27</td>\n",
       "      <td>8.89</td>\n",
       "      <td>10.22</td>\n",
       "      <td>1.00</td>\n",
       "      <td>NaN</td>\n",
       "      <td>NaN</td>\n",
       "      <td>NaN</td>\n",
       "    </tr>\n",
       "  </tbody>\n",
       "</table>\n",
       "</div>"
      ],
      "text/plain": [
       "                       Name Platform  Year_of_Release         Genre  NA_sales  \\\n",
       "0                Wii Sports      Wii           2006.0        Sports     41.36   \n",
       "1         Super Mario Bros.      NES           1985.0      Platform     29.08   \n",
       "2            Mario Kart Wii      Wii           2008.0        Racing     15.68   \n",
       "3         Wii Sports Resort      Wii           2009.0        Sports     15.61   \n",
       "4  Pokemon Red/Pokemon Blue       GB           1996.0  Role-Playing     11.27   \n",
       "\n",
       "   EU_sales  JP_sales  Other_sales  Critic_Score User_Score Rating  \n",
       "0     28.96      3.77         8.45          76.0          8      E  \n",
       "1      3.58      6.81         0.77           NaN        NaN    NaN  \n",
       "2     12.76      3.79         3.29          82.0        8.3      E  \n",
       "3     10.93      3.28         2.95          80.0          8      E  \n",
       "4      8.89     10.22         1.00           NaN        NaN    NaN  "
      ]
     },
     "execution_count": 46,
     "metadata": {},
     "output_type": "execute_result"
    }
   ],
   "source": [
    "# Загрузка данных \n",
    "games = pd.read_csv('games.csv')\n",
    "games.head(5)"
   ]
  },
  {
   "cell_type": "markdown",
   "metadata": {
    "id": "grLI0DR5bIfv"
   },
   "source": [
    "Данные отображаются верно. Опишем данные:"
   ]
  },
  {
   "cell_type": "code",
   "execution_count": 47,
   "metadata": {
    "colab": {
     "base_uri": "https://localhost:8080/"
    },
    "id": "IViR3-fkbIfv",
    "outputId": "3641c8eb-7430-4285-936a-3436040ad25d"
   },
   "outputs": [
    {
     "name": "stdout",
     "output_type": "stream",
     "text": [
      "<class 'pandas.core.frame.DataFrame'>\n",
      "RangeIndex: 16715 entries, 0 to 16714\n",
      "Data columns (total 11 columns):\n",
      " #   Column           Non-Null Count  Dtype  \n",
      "---  ------           --------------  -----  \n",
      " 0   Name             16713 non-null  object \n",
      " 1   Platform         16715 non-null  object \n",
      " 2   Year_of_Release  16446 non-null  float64\n",
      " 3   Genre            16713 non-null  object \n",
      " 4   NA_sales         16715 non-null  float64\n",
      " 5   EU_sales         16715 non-null  float64\n",
      " 6   JP_sales         16715 non-null  float64\n",
      " 7   Other_sales      16715 non-null  float64\n",
      " 8   Critic_Score     8137 non-null   float64\n",
      " 9   User_Score       10014 non-null  object \n",
      " 10  Rating           9949 non-null   object \n",
      "dtypes: float64(6), object(5)\n",
      "memory usage: 1.4+ MB\n"
     ]
    }
   ],
   "source": [
    "games.info()"
   ]
  },
  {
   "cell_type": "markdown",
   "metadata": {
    "id": "3OGJofYybIfw"
   },
   "source": [
    "Всего 16715 строк, 11 столбцов. Название столбцов нужно привести к единому стилю. \n",
    "Тип значений в столбцах : 'Year_of_Release', 'User_Score' нужно заменить."
   ]
  },
  {
   "cell_type": "code",
   "execution_count": 48,
   "metadata": {
    "colab": {
     "base_uri": "https://localhost:8080/"
    },
    "id": "VsW8nHRHbIfw",
    "outputId": "cdbbff11-cd78-4eab-97e8-33d075a8e01b"
   },
   "outputs": [],
   "source": [
    "games.isnull().sum()"
   ]
  },
  {
   "cell_type": "markdown",
   "metadata": {
    "id": "Dtu7szYIbIfw"
   },
   "source": [
    "В столбцах:\n",
    "    'Name'\n",
    "    'Year_of_Release'\n",
    "    'Genre' \n",
    "    'Critic_Score'\n",
    "    'User_Score'\n",
    "    'Rating' \n",
    "есть пропуски."
   ]
  },
  {
   "cell_type": "code",
   "execution_count": 49,
   "metadata": {
    "colab": {
     "base_uri": "https://localhost:8080/",
     "height": 300
    },
    "id": "VxCUTS9ZbIfx",
    "outputId": "2195cdb7-a501-452a-cb19-88194265d497"
   },
   "outputs": [
    {
     "data": {
      "text/html": [
       "<div>\n",
       "<style scoped>\n",
       "    .dataframe tbody tr th:only-of-type {\n",
       "        vertical-align: middle;\n",
       "    }\n",
       "\n",
       "    .dataframe tbody tr th {\n",
       "        vertical-align: top;\n",
       "    }\n",
       "\n",
       "    .dataframe thead th {\n",
       "        text-align: right;\n",
       "    }\n",
       "</style>\n",
       "<table border=\"1\" class=\"dataframe\">\n",
       "  <thead>\n",
       "    <tr style=\"text-align: right;\">\n",
       "      <th></th>\n",
       "      <th>Year_of_Release</th>\n",
       "      <th>NA_sales</th>\n",
       "      <th>EU_sales</th>\n",
       "      <th>JP_sales</th>\n",
       "      <th>Other_sales</th>\n",
       "      <th>Critic_Score</th>\n",
       "    </tr>\n",
       "  </thead>\n",
       "  <tbody>\n",
       "    <tr>\n",
       "      <th>count</th>\n",
       "      <td>16446.000000</td>\n",
       "      <td>16715.000000</td>\n",
       "      <td>16715.000000</td>\n",
       "      <td>16715.000000</td>\n",
       "      <td>16715.000000</td>\n",
       "      <td>8137.000000</td>\n",
       "    </tr>\n",
       "    <tr>\n",
       "      <th>mean</th>\n",
       "      <td>2006.484616</td>\n",
       "      <td>0.263377</td>\n",
       "      <td>0.145060</td>\n",
       "      <td>0.077617</td>\n",
       "      <td>0.047342</td>\n",
       "      <td>68.967679</td>\n",
       "    </tr>\n",
       "    <tr>\n",
       "      <th>std</th>\n",
       "      <td>5.877050</td>\n",
       "      <td>0.813604</td>\n",
       "      <td>0.503339</td>\n",
       "      <td>0.308853</td>\n",
       "      <td>0.186731</td>\n",
       "      <td>13.938165</td>\n",
       "    </tr>\n",
       "    <tr>\n",
       "      <th>min</th>\n",
       "      <td>1980.000000</td>\n",
       "      <td>0.000000</td>\n",
       "      <td>0.000000</td>\n",
       "      <td>0.000000</td>\n",
       "      <td>0.000000</td>\n",
       "      <td>13.000000</td>\n",
       "    </tr>\n",
       "    <tr>\n",
       "      <th>25%</th>\n",
       "      <td>2003.000000</td>\n",
       "      <td>0.000000</td>\n",
       "      <td>0.000000</td>\n",
       "      <td>0.000000</td>\n",
       "      <td>0.000000</td>\n",
       "      <td>60.000000</td>\n",
       "    </tr>\n",
       "    <tr>\n",
       "      <th>50%</th>\n",
       "      <td>2007.000000</td>\n",
       "      <td>0.080000</td>\n",
       "      <td>0.020000</td>\n",
       "      <td>0.000000</td>\n",
       "      <td>0.010000</td>\n",
       "      <td>71.000000</td>\n",
       "    </tr>\n",
       "    <tr>\n",
       "      <th>75%</th>\n",
       "      <td>2010.000000</td>\n",
       "      <td>0.240000</td>\n",
       "      <td>0.110000</td>\n",
       "      <td>0.040000</td>\n",
       "      <td>0.030000</td>\n",
       "      <td>79.000000</td>\n",
       "    </tr>\n",
       "    <tr>\n",
       "      <th>max</th>\n",
       "      <td>2016.000000</td>\n",
       "      <td>41.360000</td>\n",
       "      <td>28.960000</td>\n",
       "      <td>10.220000</td>\n",
       "      <td>10.570000</td>\n",
       "      <td>98.000000</td>\n",
       "    </tr>\n",
       "  </tbody>\n",
       "</table>\n",
       "</div>"
      ],
      "text/plain": [
       "       Year_of_Release      NA_sales      EU_sales      JP_sales  \\\n",
       "count     16446.000000  16715.000000  16715.000000  16715.000000   \n",
       "mean       2006.484616      0.263377      0.145060      0.077617   \n",
       "std           5.877050      0.813604      0.503339      0.308853   \n",
       "min        1980.000000      0.000000      0.000000      0.000000   \n",
       "25%        2003.000000      0.000000      0.000000      0.000000   \n",
       "50%        2007.000000      0.080000      0.020000      0.000000   \n",
       "75%        2010.000000      0.240000      0.110000      0.040000   \n",
       "max        2016.000000     41.360000     28.960000     10.220000   \n",
       "\n",
       "        Other_sales  Critic_Score  \n",
       "count  16715.000000   8137.000000  \n",
       "mean       0.047342     68.967679  \n",
       "std        0.186731     13.938165  \n",
       "min        0.000000     13.000000  \n",
       "25%        0.000000     60.000000  \n",
       "50%        0.010000     71.000000  \n",
       "75%        0.030000     79.000000  \n",
       "max       10.570000     98.000000  "
      ]
     },
     "execution_count": 49,
     "metadata": {},
     "output_type": "execute_result"
    }
   ],
   "source": [
    "games.describe()"
   ]
  },
  {
   "cell_type": "markdown",
   "metadata": {
    "id": "2taOUMAvbIfx"
   },
   "source": [
    "В столбце 'JP_sales', 'Other_sales' среднее и медиана сильно отличаются, скорее всего данные смещены влево."
   ]
  },
  {
   "cell_type": "code",
   "execution_count": 50,
   "metadata": {
    "colab": {
     "base_uri": "https://localhost:8080/"
    },
    "id": "3dHu0ylJcV9r",
    "outputId": "306b1333-d761-44e5-805b-49b49127c6ff"
   },
   "outputs": [
    {
     "data": {
      "text/plain": [
       "0"
      ]
     },
     "execution_count": 50,
     "metadata": {},
     "output_type": "execute_result"
    }
   ],
   "source": [
    "games.duplicated().sum()"
   ]
  },
  {
   "cell_type": "markdown",
   "metadata": {
    "id": "j82xHFhobIfx"
   },
   "source": [
    "## Подготовка данных"
   ]
  },
  {
   "cell_type": "markdown",
   "metadata": {
    "id": "YL8DwWyrbIfy"
   },
   "source": [
    "### Исправление названия столбцов"
   ]
  },
  {
   "cell_type": "code",
   "execution_count": 51,
   "metadata": {
    "colab": {
     "base_uri": "https://localhost:8080/"
    },
    "id": "Z4hFc-o1bIfy",
    "outputId": "1dd6cb2e-4fb9-45ad-e32d-1b1582a9b36a"
   },
   "outputs": [
    {
     "data": {
      "text/plain": [
       "Index(['name', 'platform', 'year_of_release', 'genre', 'na_sales', 'eu_sales',\n",
       "       'jp_sales', 'other_sales', 'critic_score', 'user_score', 'rating'],\n",
       "      dtype='object')"
      ]
     },
     "execution_count": 51,
     "metadata": {},
     "output_type": "execute_result"
    }
   ],
   "source": [
    "games.columns =  games.columns.str.lower()\n",
    "games.columns"
   ]
  },
  {
   "cell_type": "markdown",
   "metadata": {
    "id": "AnW5FltnbIfz"
   },
   "source": [
    "### Изменение типа данных"
   ]
  },
  {
   "cell_type": "markdown",
   "metadata": {
    "id": "nHb4_SAVbIfz"
   },
   "source": [
    "Столбец 'year_of_release' необходимо преобразовать в int, 'user_score' - float. Оценки поьзователей - это цисла, которые потом можно анализировать суммарно. Год - целое число. "
   ]
  },
  {
   "cell_type": "code",
   "execution_count": 52,
   "metadata": {
    "id": "SM-nL-2ubIfz"
   },
   "outputs": [],
   "source": [
    "games['user_score'] = pd.to_numeric(games['user_score'], errors = 'ignore')"
   ]
  },
  {
   "cell_type": "markdown",
   "metadata": {
    "id": "hhbTSl1bbIfz"
   },
   "source": [
    "Для преобразования данных в столбце 'year_of_release' нужно заполнить пропуски. Например заглушкой 1900. Ее всегда можно будет отфильтровать."
   ]
  },
  {
   "cell_type": "code",
   "execution_count": 53,
   "metadata": {
    "id": "FoAaIGsXbIf0"
   },
   "outputs": [],
   "source": [
    "games['year_of_release'] = games['year_of_release'].fillna('1900')\n",
    "games['year_of_release'] = games['year_of_release'].astype('int') "
   ]
  },
  {
   "cell_type": "code",
   "execution_count": 54,
   "metadata": {
    "colab": {
     "base_uri": "https://localhost:8080/"
    },
    "id": "o8EQSF-6eSvD",
    "outputId": "8226e520-57f8-4451-fa24-66590edc2887"
   },
   "outputs": [
    {
     "data": {
      "text/plain": [
       "269"
      ]
     },
     "execution_count": 54,
     "metadata": {},
     "output_type": "execute_result"
    }
   ],
   "source": [
    "len(games[games['year_of_release'] == 1900 ])"
   ]
  },
  {
   "cell_type": "code",
   "execution_count": 55,
   "metadata": {
    "colab": {
     "base_uri": "https://localhost:8080/"
    },
    "id": "HPwUqNDWdup5",
    "outputId": "3a48011e-9457-4fbb-cce5-b04c846a775f"
   },
   "outputs": [
    {
     "data": {
      "text/plain": [
       "269"
      ]
     },
     "execution_count": 55,
     "metadata": {},
     "output_type": "execute_result"
    }
   ],
   "source": [
    "games = games[games['year_of_release'] != 1900]\n",
    "16715 - len(games)"
   ]
  },
  {
   "cell_type": "code",
   "execution_count": 56,
   "metadata": {
    "colab": {
     "base_uri": "https://localhost:8080/"
    },
    "id": "G3WTmsFxbIf0",
    "outputId": "d9d70c81-8275-4a7e-fb12-9e1eb63821a8"
   },
   "outputs": [
    {
     "name": "stdout",
     "output_type": "stream",
     "text": [
      "<class 'pandas.core.frame.DataFrame'>\n",
      "Int64Index: 16446 entries, 0 to 16714\n",
      "Data columns (total 11 columns):\n",
      " #   Column           Non-Null Count  Dtype  \n",
      "---  ------           --------------  -----  \n",
      " 0   name             16444 non-null  object \n",
      " 1   platform         16446 non-null  object \n",
      " 2   year_of_release  16446 non-null  int32  \n",
      " 3   genre            16444 non-null  object \n",
      " 4   na_sales         16446 non-null  float64\n",
      " 5   eu_sales         16446 non-null  float64\n",
      " 6   jp_sales         16446 non-null  float64\n",
      " 7   other_sales      16446 non-null  float64\n",
      " 8   critic_score     7983 non-null   float64\n",
      " 9   user_score       9839 non-null   object \n",
      " 10  rating           9768 non-null   object \n",
      "dtypes: float64(5), int32(1), object(5)\n",
      "memory usage: 1.4+ MB\n"
     ]
    }
   ],
   "source": [
    "games.info()"
   ]
  },
  {
   "cell_type": "markdown",
   "metadata": {
    "id": "wvDBsImIbIf1"
   },
   "source": [
    "Тип данных user_score - не изменился, сначала поработаем с пропусками, а затем изменим тип данных. Тип данных year_of_release изменен."
   ]
  },
  {
   "cell_type": "markdown",
   "metadata": {
    "id": "xd178x0ObIf1"
   },
   "source": [
    "### Заполнение пропусков"
   ]
  },
  {
   "cell_type": "markdown",
   "metadata": {
    "id": "TIAOPDJjbIf1"
   },
   "source": [
    "Пропуски есть в столбцах:\n",
    "    'name',\n",
    "    'year_of_release',\n",
    "    'genre' ,\n",
    "    'critic_score',\n",
    "    'user_score',\n",
    "    'rating'.\n",
    "'Year_of_Release' - пропуски заполнены заглушкой 1900.\n",
    "    "
   ]
  },
  {
   "cell_type": "code",
   "execution_count": 57,
   "metadata": {
    "colab": {
     "base_uri": "https://localhost:8080/"
    },
    "id": "QsjoznJgbIf1",
    "outputId": "df9e6457-a38f-4ed7-ec96-827e986750c0"
   },
   "outputs": [],
   "source": [
    "# Заполним пропуски в столбце с названиями игр - значением 'unknown'\n",
    "games['name'] = games['name'].fillna('unknown')"
   ]
  },
  {
   "cell_type": "code",
   "execution_count": 58,
   "metadata": {
    "colab": {
     "base_uri": "https://localhost:8080/",
     "height": 112
    },
    "id": "SysvnflcgeMc",
    "outputId": "c2db7ff8-8294-406e-adad-70f2e1f0b3e3"
   },
   "outputs": [
    {
     "data": {
      "text/html": [
       "<div>\n",
       "<style scoped>\n",
       "    .dataframe tbody tr th:only-of-type {\n",
       "        vertical-align: middle;\n",
       "    }\n",
       "\n",
       "    .dataframe tbody tr th {\n",
       "        vertical-align: top;\n",
       "    }\n",
       "\n",
       "    .dataframe thead th {\n",
       "        text-align: right;\n",
       "    }\n",
       "</style>\n",
       "<table border=\"1\" class=\"dataframe\">\n",
       "  <thead>\n",
       "    <tr style=\"text-align: right;\">\n",
       "      <th></th>\n",
       "      <th>name</th>\n",
       "      <th>platform</th>\n",
       "      <th>year_of_release</th>\n",
       "      <th>genre</th>\n",
       "      <th>na_sales</th>\n",
       "      <th>eu_sales</th>\n",
       "      <th>jp_sales</th>\n",
       "      <th>other_sales</th>\n",
       "      <th>critic_score</th>\n",
       "      <th>user_score</th>\n",
       "      <th>rating</th>\n",
       "    </tr>\n",
       "  </thead>\n",
       "  <tbody>\n",
       "    <tr>\n",
       "      <th>659</th>\n",
       "      <td>unknown</td>\n",
       "      <td>GEN</td>\n",
       "      <td>1993</td>\n",
       "      <td>NaN</td>\n",
       "      <td>1.78</td>\n",
       "      <td>0.53</td>\n",
       "      <td>0.00</td>\n",
       "      <td>0.08</td>\n",
       "      <td>NaN</td>\n",
       "      <td>NaN</td>\n",
       "      <td>NaN</td>\n",
       "    </tr>\n",
       "    <tr>\n",
       "      <th>14244</th>\n",
       "      <td>unknown</td>\n",
       "      <td>GEN</td>\n",
       "      <td>1993</td>\n",
       "      <td>NaN</td>\n",
       "      <td>0.00</td>\n",
       "      <td>0.00</td>\n",
       "      <td>0.03</td>\n",
       "      <td>0.00</td>\n",
       "      <td>NaN</td>\n",
       "      <td>NaN</td>\n",
       "      <td>NaN</td>\n",
       "    </tr>\n",
       "  </tbody>\n",
       "</table>\n",
       "</div>"
      ],
      "text/plain": [
       "          name platform  year_of_release genre  na_sales  eu_sales  jp_sales  \\\n",
       "659    unknown      GEN             1993   NaN      1.78      0.53      0.00   \n",
       "14244  unknown      GEN             1993   NaN      0.00      0.00      0.03   \n",
       "\n",
       "       other_sales  critic_score user_score rating  \n",
       "659           0.08           NaN        NaN    NaN  \n",
       "14244         0.00           NaN        NaN    NaN  "
      ]
     },
     "execution_count": 58,
     "metadata": {},
     "output_type": "execute_result"
    }
   ],
   "source": [
    "games[games['name'] == 'unknown']"
   ]
  },
  {
   "cell_type": "code",
   "execution_count": 59,
   "metadata": {
    "colab": {
     "base_uri": "https://localhost:8080/"
    },
    "id": "gnNHH9sTfIGs",
    "outputId": "4cc3f379-0293-4ff5-bca4-f1d7d4ef8343"
   },
   "outputs": [
    {
     "data": {
      "text/plain": [
       "16444"
      ]
     },
     "execution_count": 59,
     "metadata": {},
     "output_type": "execute_result"
    }
   ],
   "source": [
    "games = games[games['name'] != 'unknown']\n",
    "len(games)"
   ]
  },
  {
   "cell_type": "code",
   "execution_count": 60,
   "metadata": {
    "colab": {
     "base_uri": "https://localhost:8080/"
    },
    "id": "dt78yJ0qbIf2",
    "outputId": "c08f86f2-0d14-4435-d647-53e4e30fe2f1"
   },
   "outputs": [
    {
     "data": {
      "text/plain": [
       "array(['Sports', 'Platform', 'Racing', 'Role-Playing', 'Puzzle', 'Misc',\n",
       "       'Shooter', 'Simulation', 'Action', 'Fighting', 'Adventure',\n",
       "       'Strategy'], dtype=object)"
      ]
     },
     "execution_count": 60,
     "metadata": {},
     "output_type": "execute_result"
    }
   ],
   "source": [
    "#Посмотрим какие жанры представлены\n",
    "games['genre'].unique()"
   ]
  },
  {
   "cell_type": "code",
   "execution_count": 61,
   "metadata": {
    "id": "COCgNC3abIf3"
   },
   "outputs": [],
   "source": [
    " #Заполним пропуски жанром 'others'\n",
    "#games['genre'] = games['genre'].fillna('others')"
   ]
  },
  {
   "cell_type": "code",
   "execution_count": 62,
   "metadata": {
    "colab": {
     "base_uri": "https://localhost:8080/"
    },
    "id": "We-jKFpSbIf4",
    "outputId": "a682019a-edbb-4f0f-ca1c-4df99be4e049"
   },
   "outputs": [
    {
     "data": {
      "text/plain": [
       "array([76., nan, 82., 80., 89., 58., 87., 91., 61., 97., 95., 77., 88.,\n",
       "       83., 94., 93., 85., 86., 98., 96., 90., 84., 73., 74., 78., 92.,\n",
       "       71., 72., 68., 62., 49., 67., 81., 66., 56., 79., 70., 59., 64.,\n",
       "       75., 60., 63., 69., 50., 25., 42., 44., 55., 48., 57., 29., 47.,\n",
       "       65., 54., 20., 53., 37., 38., 33., 52., 30., 32., 43., 45., 51.,\n",
       "       40., 46., 39., 34., 41., 36., 31., 27., 35., 26., 19., 28., 23.,\n",
       "       24., 21., 17., 13.])"
      ]
     },
     "execution_count": 62,
     "metadata": {},
     "output_type": "execute_result"
    }
   ],
   "source": [
    "#Посмотрим какие оценки критиков представлены\n",
    "games['critic_score'].unique()"
   ]
  },
  {
   "cell_type": "markdown",
   "metadata": {
    "id": "v_IhuTFubIf5"
   },
   "source": [
    "За критиков рассуждать мы не можем, лучше оставить пропуски."
   ]
  },
  {
   "cell_type": "code",
   "execution_count": 63,
   "metadata": {
    "colab": {
     "base_uri": "https://localhost:8080/"
    },
    "id": "wdwHZgABbIf6",
    "outputId": "0cc4e093-c851-4787-abae-c0875154d490"
   },
   "outputs": [
    {
     "data": {
      "text/plain": [
       "array(['8', nan, '8.3', '8.5', '6.6', '8.4', '8.6', '7.7', '6.3', '7.4',\n",
       "       '8.2', '9', '7.9', '8.1', '8.7', '7.1', '3.4', '5.3', '4.8', '3.2',\n",
       "       '8.9', '6.4', '7.8', '7.5', '2.6', '7.2', '9.2', '7', '7.3', '4.3',\n",
       "       '7.6', '5.7', '5', '9.1', '6.5', 'tbd', '8.8', '6.9', '9.4', '6.8',\n",
       "       '6.1', '6.7', '5.4', '4', '4.9', '4.5', '9.3', '6.2', '4.2', '6',\n",
       "       '3.7', '4.1', '5.8', '5.6', '5.5', '4.4', '4.6', '5.9', '3.9',\n",
       "       '3.1', '2.9', '5.2', '3.3', '4.7', '5.1', '3.5', '2.5', '1.9', '3',\n",
       "       '2.7', '2.2', '2', '9.5', '2.1', '3.6', '2.8', '1.8', '3.8', '0',\n",
       "       '1.6', '9.6', '2.4', '1.7', '1.1', '0.3', '1.5', '0.7', '1.2',\n",
       "       '2.3', '0.5', '1.3', '0.2', '0.6', '1.4', '0.9', '1', '9.7'],\n",
       "      dtype=object)"
      ]
     },
     "execution_count": 63,
     "metadata": {},
     "output_type": "execute_result"
    }
   ],
   "source": [
    "#Посмотрим какие оценки пользоватлей представлены\n",
    "games['user_score'].unique()"
   ]
  },
  {
   "cell_type": "markdown",
   "metadata": {
    "id": "QE_nGeAYbIf6"
   },
   "source": [
    "'tbd' - аббревиатура, используется, если информация еще не определена."
   ]
  },
  {
   "cell_type": "code",
   "execution_count": 64,
   "metadata": {
    "colab": {
     "base_uri": "https://localhost:8080/",
     "height": 424
    },
    "id": "eej9OfeTbIf7",
    "outputId": "dfccc473-c6ed-471d-fc8d-61c11a2f1b7f"
   },
   "outputs": [
    {
     "data": {
      "text/html": [
       "<div>\n",
       "<style scoped>\n",
       "    .dataframe tbody tr th:only-of-type {\n",
       "        vertical-align: middle;\n",
       "    }\n",
       "\n",
       "    .dataframe tbody tr th {\n",
       "        vertical-align: top;\n",
       "    }\n",
       "\n",
       "    .dataframe thead th {\n",
       "        text-align: right;\n",
       "    }\n",
       "</style>\n",
       "<table border=\"1\" class=\"dataframe\">\n",
       "  <thead>\n",
       "    <tr style=\"text-align: right;\">\n",
       "      <th></th>\n",
       "      <th>name</th>\n",
       "      <th>platform</th>\n",
       "      <th>year_of_release</th>\n",
       "      <th>genre</th>\n",
       "      <th>na_sales</th>\n",
       "      <th>eu_sales</th>\n",
       "      <th>jp_sales</th>\n",
       "      <th>other_sales</th>\n",
       "      <th>critic_score</th>\n",
       "      <th>user_score</th>\n",
       "      <th>rating</th>\n",
       "    </tr>\n",
       "  </thead>\n",
       "  <tbody>\n",
       "    <tr>\n",
       "      <th>119</th>\n",
       "      <td>Zumba Fitness</td>\n",
       "      <td>Wii</td>\n",
       "      <td>2010</td>\n",
       "      <td>Sports</td>\n",
       "      <td>3.45</td>\n",
       "      <td>2.59</td>\n",
       "      <td>0.0</td>\n",
       "      <td>0.66</td>\n",
       "      <td>NaN</td>\n",
       "      <td>tbd</td>\n",
       "      <td>E</td>\n",
       "    </tr>\n",
       "    <tr>\n",
       "      <th>301</th>\n",
       "      <td>Namco Museum: 50th Anniversary</td>\n",
       "      <td>PS2</td>\n",
       "      <td>2005</td>\n",
       "      <td>Misc</td>\n",
       "      <td>2.08</td>\n",
       "      <td>1.35</td>\n",
       "      <td>0.0</td>\n",
       "      <td>0.54</td>\n",
       "      <td>61.0</td>\n",
       "      <td>tbd</td>\n",
       "      <td>E10+</td>\n",
       "    </tr>\n",
       "    <tr>\n",
       "      <th>520</th>\n",
       "      <td>Zumba Fitness 2</td>\n",
       "      <td>Wii</td>\n",
       "      <td>2011</td>\n",
       "      <td>Sports</td>\n",
       "      <td>1.51</td>\n",
       "      <td>1.03</td>\n",
       "      <td>0.0</td>\n",
       "      <td>0.27</td>\n",
       "      <td>NaN</td>\n",
       "      <td>tbd</td>\n",
       "      <td>T</td>\n",
       "    </tr>\n",
       "    <tr>\n",
       "      <th>645</th>\n",
       "      <td>uDraw Studio</td>\n",
       "      <td>Wii</td>\n",
       "      <td>2010</td>\n",
       "      <td>Misc</td>\n",
       "      <td>1.65</td>\n",
       "      <td>0.57</td>\n",
       "      <td>0.0</td>\n",
       "      <td>0.20</td>\n",
       "      <td>71.0</td>\n",
       "      <td>tbd</td>\n",
       "      <td>E</td>\n",
       "    </tr>\n",
       "    <tr>\n",
       "      <th>718</th>\n",
       "      <td>Just Dance Kids</td>\n",
       "      <td>Wii</td>\n",
       "      <td>2010</td>\n",
       "      <td>Misc</td>\n",
       "      <td>1.52</td>\n",
       "      <td>0.54</td>\n",
       "      <td>0.0</td>\n",
       "      <td>0.18</td>\n",
       "      <td>NaN</td>\n",
       "      <td>tbd</td>\n",
       "      <td>E</td>\n",
       "    </tr>\n",
       "    <tr>\n",
       "      <th>...</th>\n",
       "      <td>...</td>\n",
       "      <td>...</td>\n",
       "      <td>...</td>\n",
       "      <td>...</td>\n",
       "      <td>...</td>\n",
       "      <td>...</td>\n",
       "      <td>...</td>\n",
       "      <td>...</td>\n",
       "      <td>...</td>\n",
       "      <td>...</td>\n",
       "      <td>...</td>\n",
       "    </tr>\n",
       "    <tr>\n",
       "      <th>16695</th>\n",
       "      <td>Planet Monsters</td>\n",
       "      <td>GBA</td>\n",
       "      <td>2001</td>\n",
       "      <td>Action</td>\n",
       "      <td>0.01</td>\n",
       "      <td>0.00</td>\n",
       "      <td>0.0</td>\n",
       "      <td>0.00</td>\n",
       "      <td>67.0</td>\n",
       "      <td>tbd</td>\n",
       "      <td>E</td>\n",
       "    </tr>\n",
       "    <tr>\n",
       "      <th>16697</th>\n",
       "      <td>Bust-A-Move 3000</td>\n",
       "      <td>GC</td>\n",
       "      <td>2003</td>\n",
       "      <td>Puzzle</td>\n",
       "      <td>0.01</td>\n",
       "      <td>0.00</td>\n",
       "      <td>0.0</td>\n",
       "      <td>0.00</td>\n",
       "      <td>53.0</td>\n",
       "      <td>tbd</td>\n",
       "      <td>E</td>\n",
       "    </tr>\n",
       "    <tr>\n",
       "      <th>16698</th>\n",
       "      <td>Mega Brain Boost</td>\n",
       "      <td>DS</td>\n",
       "      <td>2008</td>\n",
       "      <td>Puzzle</td>\n",
       "      <td>0.01</td>\n",
       "      <td>0.00</td>\n",
       "      <td>0.0</td>\n",
       "      <td>0.00</td>\n",
       "      <td>48.0</td>\n",
       "      <td>tbd</td>\n",
       "      <td>E</td>\n",
       "    </tr>\n",
       "    <tr>\n",
       "      <th>16704</th>\n",
       "      <td>Plushees</td>\n",
       "      <td>DS</td>\n",
       "      <td>2008</td>\n",
       "      <td>Simulation</td>\n",
       "      <td>0.01</td>\n",
       "      <td>0.00</td>\n",
       "      <td>0.0</td>\n",
       "      <td>0.00</td>\n",
       "      <td>NaN</td>\n",
       "      <td>tbd</td>\n",
       "      <td>E</td>\n",
       "    </tr>\n",
       "    <tr>\n",
       "      <th>16706</th>\n",
       "      <td>Men in Black II: Alien Escape</td>\n",
       "      <td>GC</td>\n",
       "      <td>2003</td>\n",
       "      <td>Shooter</td>\n",
       "      <td>0.01</td>\n",
       "      <td>0.00</td>\n",
       "      <td>0.0</td>\n",
       "      <td>0.00</td>\n",
       "      <td>NaN</td>\n",
       "      <td>tbd</td>\n",
       "      <td>T</td>\n",
       "    </tr>\n",
       "  </tbody>\n",
       "</table>\n",
       "<p>2376 rows × 11 columns</p>\n",
       "</div>"
      ],
      "text/plain": [
       "                                 name platform  year_of_release       genre  \\\n",
       "119                     Zumba Fitness      Wii             2010      Sports   \n",
       "301    Namco Museum: 50th Anniversary      PS2             2005        Misc   \n",
       "520                   Zumba Fitness 2      Wii             2011      Sports   \n",
       "645                      uDraw Studio      Wii             2010        Misc   \n",
       "718                   Just Dance Kids      Wii             2010        Misc   \n",
       "...                               ...      ...              ...         ...   \n",
       "16695                 Planet Monsters      GBA             2001      Action   \n",
       "16697                Bust-A-Move 3000       GC             2003      Puzzle   \n",
       "16698                Mega Brain Boost       DS             2008      Puzzle   \n",
       "16704                        Plushees       DS             2008  Simulation   \n",
       "16706   Men in Black II: Alien Escape       GC             2003     Shooter   \n",
       "\n",
       "       na_sales  eu_sales  jp_sales  other_sales  critic_score user_score  \\\n",
       "119        3.45      2.59       0.0         0.66           NaN        tbd   \n",
       "301        2.08      1.35       0.0         0.54          61.0        tbd   \n",
       "520        1.51      1.03       0.0         0.27           NaN        tbd   \n",
       "645        1.65      0.57       0.0         0.20          71.0        tbd   \n",
       "718        1.52      0.54       0.0         0.18           NaN        tbd   \n",
       "...         ...       ...       ...          ...           ...        ...   \n",
       "16695      0.01      0.00       0.0         0.00          67.0        tbd   \n",
       "16697      0.01      0.00       0.0         0.00          53.0        tbd   \n",
       "16698      0.01      0.00       0.0         0.00          48.0        tbd   \n",
       "16704      0.01      0.00       0.0         0.00           NaN        tbd   \n",
       "16706      0.01      0.00       0.0         0.00           NaN        tbd   \n",
       "\n",
       "      rating  \n",
       "119        E  \n",
       "301     E10+  \n",
       "520        T  \n",
       "645        E  \n",
       "718        E  \n",
       "...      ...  \n",
       "16695      E  \n",
       "16697      E  \n",
       "16698      E  \n",
       "16704      E  \n",
       "16706      T  \n",
       "\n",
       "[2376 rows x 11 columns]"
      ]
     },
     "execution_count": 64,
     "metadata": {},
     "output_type": "execute_result"
    }
   ],
   "source": [
    "games[games['user_score'] =='tbd']"
   ]
  },
  {
   "cell_type": "markdown",
   "metadata": {
    "id": "4YuBxYsYbIf7"
   },
   "source": [
    "Пропускам присвоим значением 'tbd'"
   ]
  },
  {
   "cell_type": "code",
   "execution_count": 65,
   "metadata": {
    "colab": {
     "base_uri": "https://localhost:8080/"
    },
    "id": "1cZU482PbIf7",
    "outputId": "78b3cb79-feb4-4dc9-829c-c6ac56db45a4"
   },
   "outputs": [],
   "source": [
    "#Заполним пропуски 'tbd'\n",
    "games['user_score'] = games['user_score'].fillna('tbd')"
   ]
  },
  {
   "cell_type": "markdown",
   "metadata": {
    "id": "IaFGxBCabIf8"
   },
   "source": [
    "Чтобы работать с user_score необходимо преобразовать в float. Заменим 'tbd' на -10. Эту заглушку можно будет отфильтровать."
   ]
  },
  {
   "cell_type": "code",
   "execution_count": 66,
   "metadata": {
    "colab": {
     "base_uri": "https://localhost:8080/"
    },
    "id": "zqsNDSf1bIf8",
    "outputId": "ea6ca18f-f71a-4308-9062-2b65c2b97db4"
   },
   "outputs": [],
   "source": [
    "games.loc[games['user_score'] == 'tbd', 'user_score' ] = -10\n",
    "games['user_score'] = pd.to_numeric(games['user_score'] )"
   ]
  },
  {
   "cell_type": "code",
   "execution_count": 67,
   "metadata": {
    "colab": {
     "base_uri": "https://localhost:8080/",
     "height": 424
    },
    "id": "cuj045zybIf8",
    "outputId": "f0e00d34-b635-4bd7-a88e-e53211cd4294"
   },
   "outputs": [
    {
     "data": {
      "text/html": [
       "<div>\n",
       "<style scoped>\n",
       "    .dataframe tbody tr th:only-of-type {\n",
       "        vertical-align: middle;\n",
       "    }\n",
       "\n",
       "    .dataframe tbody tr th {\n",
       "        vertical-align: top;\n",
       "    }\n",
       "\n",
       "    .dataframe thead th {\n",
       "        text-align: right;\n",
       "    }\n",
       "</style>\n",
       "<table border=\"1\" class=\"dataframe\">\n",
       "  <thead>\n",
       "    <tr style=\"text-align: right;\">\n",
       "      <th></th>\n",
       "      <th>name</th>\n",
       "      <th>platform</th>\n",
       "      <th>year_of_release</th>\n",
       "      <th>genre</th>\n",
       "      <th>na_sales</th>\n",
       "      <th>eu_sales</th>\n",
       "      <th>jp_sales</th>\n",
       "      <th>other_sales</th>\n",
       "      <th>critic_score</th>\n",
       "      <th>user_score</th>\n",
       "      <th>rating</th>\n",
       "    </tr>\n",
       "  </thead>\n",
       "  <tbody>\n",
       "    <tr>\n",
       "      <th>1</th>\n",
       "      <td>Super Mario Bros.</td>\n",
       "      <td>NES</td>\n",
       "      <td>1985</td>\n",
       "      <td>Platform</td>\n",
       "      <td>29.08</td>\n",
       "      <td>3.58</td>\n",
       "      <td>6.81</td>\n",
       "      <td>0.77</td>\n",
       "      <td>NaN</td>\n",
       "      <td>-10.0</td>\n",
       "      <td>NaN</td>\n",
       "    </tr>\n",
       "    <tr>\n",
       "      <th>4</th>\n",
       "      <td>Pokemon Red/Pokemon Blue</td>\n",
       "      <td>GB</td>\n",
       "      <td>1996</td>\n",
       "      <td>Role-Playing</td>\n",
       "      <td>11.27</td>\n",
       "      <td>8.89</td>\n",
       "      <td>10.22</td>\n",
       "      <td>1.00</td>\n",
       "      <td>NaN</td>\n",
       "      <td>-10.0</td>\n",
       "      <td>NaN</td>\n",
       "    </tr>\n",
       "    <tr>\n",
       "      <th>5</th>\n",
       "      <td>Tetris</td>\n",
       "      <td>GB</td>\n",
       "      <td>1989</td>\n",
       "      <td>Puzzle</td>\n",
       "      <td>23.20</td>\n",
       "      <td>2.26</td>\n",
       "      <td>4.22</td>\n",
       "      <td>0.58</td>\n",
       "      <td>NaN</td>\n",
       "      <td>-10.0</td>\n",
       "      <td>NaN</td>\n",
       "    </tr>\n",
       "    <tr>\n",
       "      <th>9</th>\n",
       "      <td>Duck Hunt</td>\n",
       "      <td>NES</td>\n",
       "      <td>1984</td>\n",
       "      <td>Shooter</td>\n",
       "      <td>26.93</td>\n",
       "      <td>0.63</td>\n",
       "      <td>0.28</td>\n",
       "      <td>0.47</td>\n",
       "      <td>NaN</td>\n",
       "      <td>-10.0</td>\n",
       "      <td>NaN</td>\n",
       "    </tr>\n",
       "    <tr>\n",
       "      <th>10</th>\n",
       "      <td>Nintendogs</td>\n",
       "      <td>DS</td>\n",
       "      <td>2005</td>\n",
       "      <td>Simulation</td>\n",
       "      <td>9.05</td>\n",
       "      <td>10.95</td>\n",
       "      <td>1.93</td>\n",
       "      <td>2.74</td>\n",
       "      <td>NaN</td>\n",
       "      <td>-10.0</td>\n",
       "      <td>NaN</td>\n",
       "    </tr>\n",
       "    <tr>\n",
       "      <th>...</th>\n",
       "      <td>...</td>\n",
       "      <td>...</td>\n",
       "      <td>...</td>\n",
       "      <td>...</td>\n",
       "      <td>...</td>\n",
       "      <td>...</td>\n",
       "      <td>...</td>\n",
       "      <td>...</td>\n",
       "      <td>...</td>\n",
       "      <td>...</td>\n",
       "      <td>...</td>\n",
       "    </tr>\n",
       "    <tr>\n",
       "      <th>16710</th>\n",
       "      <td>Samurai Warriors: Sanada Maru</td>\n",
       "      <td>PS3</td>\n",
       "      <td>2016</td>\n",
       "      <td>Action</td>\n",
       "      <td>0.00</td>\n",
       "      <td>0.00</td>\n",
       "      <td>0.01</td>\n",
       "      <td>0.00</td>\n",
       "      <td>NaN</td>\n",
       "      <td>-10.0</td>\n",
       "      <td>NaN</td>\n",
       "    </tr>\n",
       "    <tr>\n",
       "      <th>16711</th>\n",
       "      <td>LMA Manager 2007</td>\n",
       "      <td>X360</td>\n",
       "      <td>2006</td>\n",
       "      <td>Sports</td>\n",
       "      <td>0.00</td>\n",
       "      <td>0.01</td>\n",
       "      <td>0.00</td>\n",
       "      <td>0.00</td>\n",
       "      <td>NaN</td>\n",
       "      <td>-10.0</td>\n",
       "      <td>NaN</td>\n",
       "    </tr>\n",
       "    <tr>\n",
       "      <th>16712</th>\n",
       "      <td>Haitaka no Psychedelica</td>\n",
       "      <td>PSV</td>\n",
       "      <td>2016</td>\n",
       "      <td>Adventure</td>\n",
       "      <td>0.00</td>\n",
       "      <td>0.00</td>\n",
       "      <td>0.01</td>\n",
       "      <td>0.00</td>\n",
       "      <td>NaN</td>\n",
       "      <td>-10.0</td>\n",
       "      <td>NaN</td>\n",
       "    </tr>\n",
       "    <tr>\n",
       "      <th>16713</th>\n",
       "      <td>Spirits &amp; Spells</td>\n",
       "      <td>GBA</td>\n",
       "      <td>2003</td>\n",
       "      <td>Platform</td>\n",
       "      <td>0.01</td>\n",
       "      <td>0.00</td>\n",
       "      <td>0.00</td>\n",
       "      <td>0.00</td>\n",
       "      <td>NaN</td>\n",
       "      <td>-10.0</td>\n",
       "      <td>NaN</td>\n",
       "    </tr>\n",
       "    <tr>\n",
       "      <th>16714</th>\n",
       "      <td>Winning Post 8 2016</td>\n",
       "      <td>PSV</td>\n",
       "      <td>2016</td>\n",
       "      <td>Simulation</td>\n",
       "      <td>0.00</td>\n",
       "      <td>0.00</td>\n",
       "      <td>0.01</td>\n",
       "      <td>0.00</td>\n",
       "      <td>NaN</td>\n",
       "      <td>-10.0</td>\n",
       "      <td>NaN</td>\n",
       "    </tr>\n",
       "  </tbody>\n",
       "</table>\n",
       "<p>8981 rows × 11 columns</p>\n",
       "</div>"
      ],
      "text/plain": [
       "                                name platform  year_of_release         genre  \\\n",
       "1                  Super Mario Bros.      NES             1985      Platform   \n",
       "4           Pokemon Red/Pokemon Blue       GB             1996  Role-Playing   \n",
       "5                             Tetris       GB             1989        Puzzle   \n",
       "9                          Duck Hunt      NES             1984       Shooter   \n",
       "10                        Nintendogs       DS             2005    Simulation   \n",
       "...                              ...      ...              ...           ...   \n",
       "16710  Samurai Warriors: Sanada Maru      PS3             2016        Action   \n",
       "16711               LMA Manager 2007     X360             2006        Sports   \n",
       "16712        Haitaka no Psychedelica      PSV             2016     Adventure   \n",
       "16713               Spirits & Spells      GBA             2003      Platform   \n",
       "16714            Winning Post 8 2016      PSV             2016    Simulation   \n",
       "\n",
       "       na_sales  eu_sales  jp_sales  other_sales  critic_score  user_score  \\\n",
       "1         29.08      3.58      6.81         0.77           NaN       -10.0   \n",
       "4         11.27      8.89     10.22         1.00           NaN       -10.0   \n",
       "5         23.20      2.26      4.22         0.58           NaN       -10.0   \n",
       "9         26.93      0.63      0.28         0.47           NaN       -10.0   \n",
       "10         9.05     10.95      1.93         2.74           NaN       -10.0   \n",
       "...         ...       ...       ...          ...           ...         ...   \n",
       "16710      0.00      0.00      0.01         0.00           NaN       -10.0   \n",
       "16711      0.00      0.01      0.00         0.00           NaN       -10.0   \n",
       "16712      0.00      0.00      0.01         0.00           NaN       -10.0   \n",
       "16713      0.01      0.00      0.00         0.00           NaN       -10.0   \n",
       "16714      0.00      0.00      0.01         0.00           NaN       -10.0   \n",
       "\n",
       "      rating  \n",
       "1        NaN  \n",
       "4        NaN  \n",
       "5        NaN  \n",
       "9        NaN  \n",
       "10       NaN  \n",
       "...      ...  \n",
       "16710    NaN  \n",
       "16711    NaN  \n",
       "16712    NaN  \n",
       "16713    NaN  \n",
       "16714    NaN  \n",
       "\n",
       "[8981 rows x 11 columns]"
      ]
     },
     "execution_count": 67,
     "metadata": {},
     "output_type": "execute_result"
    }
   ],
   "source": [
    "# Комментарий ревьюера 0\n",
    "games[games['user_score'] == -10]"
   ]
  },
  {
   "cell_type": "code",
   "execution_count": 68,
   "metadata": {
    "colab": {
     "base_uri": "https://localhost:8080/"
    },
    "id": "uA84vtJ9bIf9",
    "outputId": "4fa77939-1b03-4e51-c750-f541e6158588"
   },
   "outputs": [
    {
     "name": "stdout",
     "output_type": "stream",
     "text": [
      "<class 'pandas.core.frame.DataFrame'>\n",
      "Int64Index: 16444 entries, 0 to 16714\n",
      "Data columns (total 11 columns):\n",
      " #   Column           Non-Null Count  Dtype  \n",
      "---  ------           --------------  -----  \n",
      " 0   name             16444 non-null  object \n",
      " 1   platform         16444 non-null  object \n",
      " 2   year_of_release  16444 non-null  int32  \n",
      " 3   genre            16444 non-null  object \n",
      " 4   na_sales         16444 non-null  float64\n",
      " 5   eu_sales         16444 non-null  float64\n",
      " 6   jp_sales         16444 non-null  float64\n",
      " 7   other_sales      16444 non-null  float64\n",
      " 8   critic_score     7983 non-null   float64\n",
      " 9   user_score       16444 non-null  float64\n",
      " 10  rating           9768 non-null   object \n",
      "dtypes: float64(6), int32(1), object(4)\n",
      "memory usage: 1.4+ MB\n"
     ]
    }
   ],
   "source": [
    "games.info()"
   ]
  },
  {
   "cell_type": "markdown",
   "metadata": {
    "id": "RpYar1oLbIf9"
   },
   "source": [
    "Тип данных user_score изменен на float"
   ]
  },
  {
   "cell_type": "code",
   "execution_count": 69,
   "metadata": {
    "colab": {
     "base_uri": "https://localhost:8080/"
    },
    "id": "0fSIBz94bIf9",
    "outputId": "12299bc4-fdda-42c7-b584-8423e7b6b962"
   },
   "outputs": [
    {
     "data": {
      "text/plain": [
       "array(['E', nan, 'M', 'T', 'E10+', 'K-A', 'AO', 'EC', 'RP'], dtype=object)"
      ]
     },
     "execution_count": 69,
     "metadata": {},
     "output_type": "execute_result"
    }
   ],
   "source": [
    "#Посмотрим какие рейтинги от организации ESRB представлены\n",
    "games['rating'].unique()"
   ]
  },
  {
   "cell_type": "markdown",
   "metadata": {
    "id": "oEngK6ZHbIf-"
   },
   "source": [
    "Есть рейтинг 'RP' - рейтинг ожидается. Заполним пропуски этим значением."
   ]
  },
  {
   "cell_type": "code",
   "execution_count": 70,
   "metadata": {
    "id": "4TURuF_UbIf-"
   },
   "outputs": [],
   "source": [
    "#Заполним пропуски 'RP'\n",
    "games['rating'] = games['rating'].fillna('no_ESRB')"
   ]
  },
  {
   "cell_type": "code",
   "execution_count": 71,
   "metadata": {
    "colab": {
     "base_uri": "https://localhost:8080/"
    },
    "id": "GYMQuAY5bIf_",
    "outputId": "0b7951fb-e531-41e6-8b50-6c298ff40786"
   },
   "outputs": [
    {
     "data": {
      "text/plain": [
       "name                  0\n",
       "platform              0\n",
       "year_of_release       0\n",
       "genre                 0\n",
       "na_sales              0\n",
       "eu_sales              0\n",
       "jp_sales              0\n",
       "other_sales           0\n",
       "critic_score       8461\n",
       "user_score            0\n",
       "rating                0\n",
       "dtype: int64"
      ]
     },
     "execution_count": 71,
     "metadata": {},
     "output_type": "execute_result"
    }
   ],
   "source": [
    "# Итоговые данные\n",
    "games.isnull().sum()\n",
    "    "
   ]
  },
  {
   "cell_type": "markdown",
   "metadata": {
    "id": "QOmqJrkvbIf_"
   },
   "source": [
    "Пропуски остались только в столбце 'critic_score'. \n",
    "Пропуски могли появиться из-за: \n",
    "1. человеческого фактора, кто-то не внес данные, пропустил ячейку, \n",
    "2. отсутсвия информации по какому-либо параметру,\n",
    "3. не было единной систмы заполнения информации, вместо соотвствующего значения о том, что данные ожидаются, оставили пропуск.     "
   ]
  },
  {
   "cell_type": "markdown",
   "metadata": {
    "id": "5WfRt19pbIf_"
   },
   "source": [
    "### Cуммарные продажи во всех регионах"
   ]
  },
  {
   "cell_type": "code",
   "execution_count": 72,
   "metadata": {
    "id": "NS7_MjfabIgA"
   },
   "outputs": [],
   "source": [
    "games['total_sales'] =games[['na_sales','eu_sales','jp_sales', 'other_sales']].sum(axis = 1) "
   ]
  },
  {
   "cell_type": "code",
   "execution_count": 73,
   "metadata": {
    "colab": {
     "base_uri": "https://localhost:8080/",
     "height": 250
    },
    "id": "5Ujdx3u9bIgB",
    "outputId": "841b0e33-3968-4679-bf5d-9f566fadf873"
   },
   "outputs": [
    {
     "data": {
      "text/html": [
       "<div>\n",
       "<style scoped>\n",
       "    .dataframe tbody tr th:only-of-type {\n",
       "        vertical-align: middle;\n",
       "    }\n",
       "\n",
       "    .dataframe tbody tr th {\n",
       "        vertical-align: top;\n",
       "    }\n",
       "\n",
       "    .dataframe thead th {\n",
       "        text-align: right;\n",
       "    }\n",
       "</style>\n",
       "<table border=\"1\" class=\"dataframe\">\n",
       "  <thead>\n",
       "    <tr style=\"text-align: right;\">\n",
       "      <th></th>\n",
       "      <th>name</th>\n",
       "      <th>platform</th>\n",
       "      <th>year_of_release</th>\n",
       "      <th>genre</th>\n",
       "      <th>na_sales</th>\n",
       "      <th>eu_sales</th>\n",
       "      <th>jp_sales</th>\n",
       "      <th>other_sales</th>\n",
       "      <th>critic_score</th>\n",
       "      <th>user_score</th>\n",
       "      <th>rating</th>\n",
       "      <th>total_sales</th>\n",
       "    </tr>\n",
       "  </thead>\n",
       "  <tbody>\n",
       "    <tr>\n",
       "      <th>0</th>\n",
       "      <td>Wii Sports</td>\n",
       "      <td>Wii</td>\n",
       "      <td>2006</td>\n",
       "      <td>Sports</td>\n",
       "      <td>41.36</td>\n",
       "      <td>28.96</td>\n",
       "      <td>3.77</td>\n",
       "      <td>8.45</td>\n",
       "      <td>76.0</td>\n",
       "      <td>8.0</td>\n",
       "      <td>E</td>\n",
       "      <td>82.54</td>\n",
       "    </tr>\n",
       "    <tr>\n",
       "      <th>1</th>\n",
       "      <td>Super Mario Bros.</td>\n",
       "      <td>NES</td>\n",
       "      <td>1985</td>\n",
       "      <td>Platform</td>\n",
       "      <td>29.08</td>\n",
       "      <td>3.58</td>\n",
       "      <td>6.81</td>\n",
       "      <td>0.77</td>\n",
       "      <td>NaN</td>\n",
       "      <td>-10.0</td>\n",
       "      <td>no_ESRB</td>\n",
       "      <td>40.24</td>\n",
       "    </tr>\n",
       "    <tr>\n",
       "      <th>2</th>\n",
       "      <td>Mario Kart Wii</td>\n",
       "      <td>Wii</td>\n",
       "      <td>2008</td>\n",
       "      <td>Racing</td>\n",
       "      <td>15.68</td>\n",
       "      <td>12.76</td>\n",
       "      <td>3.79</td>\n",
       "      <td>3.29</td>\n",
       "      <td>82.0</td>\n",
       "      <td>8.3</td>\n",
       "      <td>E</td>\n",
       "      <td>35.52</td>\n",
       "    </tr>\n",
       "    <tr>\n",
       "      <th>3</th>\n",
       "      <td>Wii Sports Resort</td>\n",
       "      <td>Wii</td>\n",
       "      <td>2009</td>\n",
       "      <td>Sports</td>\n",
       "      <td>15.61</td>\n",
       "      <td>10.93</td>\n",
       "      <td>3.28</td>\n",
       "      <td>2.95</td>\n",
       "      <td>80.0</td>\n",
       "      <td>8.0</td>\n",
       "      <td>E</td>\n",
       "      <td>32.77</td>\n",
       "    </tr>\n",
       "    <tr>\n",
       "      <th>4</th>\n",
       "      <td>Pokemon Red/Pokemon Blue</td>\n",
       "      <td>GB</td>\n",
       "      <td>1996</td>\n",
       "      <td>Role-Playing</td>\n",
       "      <td>11.27</td>\n",
       "      <td>8.89</td>\n",
       "      <td>10.22</td>\n",
       "      <td>1.00</td>\n",
       "      <td>NaN</td>\n",
       "      <td>-10.0</td>\n",
       "      <td>no_ESRB</td>\n",
       "      <td>31.38</td>\n",
       "    </tr>\n",
       "  </tbody>\n",
       "</table>\n",
       "</div>"
      ],
      "text/plain": [
       "                       name platform  year_of_release         genre  na_sales  \\\n",
       "0                Wii Sports      Wii             2006        Sports     41.36   \n",
       "1         Super Mario Bros.      NES             1985      Platform     29.08   \n",
       "2            Mario Kart Wii      Wii             2008        Racing     15.68   \n",
       "3         Wii Sports Resort      Wii             2009        Sports     15.61   \n",
       "4  Pokemon Red/Pokemon Blue       GB             1996  Role-Playing     11.27   \n",
       "\n",
       "   eu_sales  jp_sales  other_sales  critic_score  user_score   rating  \\\n",
       "0     28.96      3.77         8.45          76.0         8.0        E   \n",
       "1      3.58      6.81         0.77           NaN       -10.0  no_ESRB   \n",
       "2     12.76      3.79         3.29          82.0         8.3        E   \n",
       "3     10.93      3.28         2.95          80.0         8.0        E   \n",
       "4      8.89     10.22         1.00           NaN       -10.0  no_ESRB   \n",
       "\n",
       "   total_sales  \n",
       "0        82.54  \n",
       "1        40.24  \n",
       "2        35.52  \n",
       "3        32.77  \n",
       "4        31.38  "
      ]
     },
     "execution_count": 73,
     "metadata": {},
     "output_type": "execute_result"
    }
   ],
   "source": [
    "games.head(5)"
   ]
  },
  {
   "cell_type": "code",
   "execution_count": 74,
   "metadata": {
    "colab": {
     "base_uri": "https://localhost:8080/"
    },
    "id": "-L4AEd1AbIgC",
    "outputId": "9d0fe42a-420b-493b-9c5d-66f7dadac3d9"
   },
   "outputs": [
    {
     "data": {
      "text/plain": [
       "0.0"
      ]
     },
     "execution_count": 74,
     "metadata": {},
     "output_type": "execute_result"
    }
   ],
   "source": [
    "\n",
    "games.total_sales.min()"
   ]
  },
  {
   "cell_type": "markdown",
   "metadata": {
    "id": "FW0hjpkzbIgD"
   },
   "source": [
    "## Исследовательский анализ данных"
   ]
  },
  {
   "cell_type": "markdown",
   "metadata": {
    "id": "xrVKS-3JbIgD"
   },
   "source": [
    "### Год выпуска игр"
   ]
  },
  {
   "cell_type": "code",
   "execution_count": 75,
   "metadata": {
    "colab": {
     "base_uri": "https://localhost:8080/",
     "height": 265
    },
    "id": "MUFWXoq2bIgD",
    "outputId": "5a4ac01b-68d9-405d-fd3b-493950a88024",
    "scrolled": true
   },
   "outputs": [
    {
     "data": {
      "image/png": "[encoded data removed]",
      "text/plain": [
       "<Figure size 640x480 with 1 Axes>"
      ]
     },
     "metadata": {},
     "output_type": "display_data"
    }
   ],
   "source": [
    "games['year_of_release'].hist(bins = [1990, 1995, 2000,2005,2010,2016])\n",
    "plt.show()"
   ]
  },
  {
   "cell_type": "markdown",
   "metadata": {
    "id": "9zlqxP11bIgE"
   },
   "source": [
    "Больше всего в данных игр, выпушенных с 2005-2016. Это логично, что с течением времени выпускается все больше и больше игр. "
   ]
  },
  {
   "cell_type": "code",
   "execution_count": 76,
   "metadata": {
    "colab": {
     "base_uri": "https://localhost:8080/",
     "height": 265
    },
    "id": "_tNONcNMbIgE",
    "outputId": "dee29c51-be46-484d-9fd6-2796c8a63624"
   },
   "outputs": [
    {
     "data": {
      "image/png": "[encoded data removed]",
      "text/plain": [
       "<Figure size 640x480 with 1 Axes>"
      ]
     },
     "metadata": {},
     "output_type": "display_data"
    }
   ],
   "source": [
    "plt.plot(games.\n",
    "         groupby('year_of_release')['name'].count())\n",
    "plt.show()"
   ]
  },
  {
   "cell_type": "markdown",
   "metadata": {
    "id": "sSbUkF0KbIgF"
   },
   "source": [
    "Пик приходится на 2008-2009 год"
   ]
  },
  {
   "cell_type": "markdown",
   "metadata": {
    "id": "S1md0KQKbIgF"
   },
   "source": [
    "Данные важны, чем больше игр в год было выпушено- тем больше конкуренция, тем больше это отражается на оценках пользователей и критиков.\n",
    "Чем год выпуска больше- тем больше запросы пользователей и критиков. Игра, что получила бы максимальные оценки в 2000 году, не факт что получит их в 2022 (не считая фан базы игры). "
   ]
  },
  {
   "cell_type": "markdown",
   "metadata": {
    "id": "IKa83AwMbIgF"
   },
   "source": [
    "### Данные за актуальный период"
   ]
  },
  {
   "cell_type": "code",
   "execution_count": 77,
   "metadata": {},
   "outputs": [],
   "source": [
    "games_new2 = games.query('year_of_release >2014').copy()"
   ]
  },
  {
   "cell_type": "markdown",
   "metadata": {
    "id": "N6tN1E9LbIgG"
   },
   "source": [
    "### Платформы - лидеры продаж"
   ]
  },
  {
   "cell_type": "code",
   "execution_count": 78,
   "metadata": {
    "colab": {
     "base_uri": "https://localhost:8080/"
    },
    "id": "UbF1wgO9bIgH",
    "outputId": "4a348fa1-f29f-4cd5-d42d-1190c89eec6f"
   },
   "outputs": [
    {
     "data": {
      "text/plain": [
       "platform\n",
       "PS4     288.15\n",
       "XOne    140.36\n",
       "3DS      86.68\n",
       "PS3      68.18\n",
       "X360     48.22\n",
       "Name: total_sales, dtype: float64"
      ]
     },
     "execution_count": 78,
     "metadata": {},
     "output_type": "execute_result"
    }
   ],
   "source": [
    "games_new2 = games.query('year_of_release >=2014').copy()\n",
    "platform_leader2 = games_new2.groupby('platform')['total_sales'].sum().sort_values(ascending = False).head(5)\n",
    "platform_leader2"
   ]
  },
  {
   "cell_type": "markdown",
   "metadata": {
    "id": "99rsNL1ebIgI"
   },
   "source": [
    "PS3 уступил место XOne."
   ]
  },
  {
   "cell_type": "code",
   "execution_count": 79,
   "metadata": {
    "colab": {
     "base_uri": "https://localhost:8080/",
     "height": 269
    },
    "id": "TxZYlaVRbIgI",
    "outputId": "de2860f7-4e9b-4d04-c837-90ac386c2605"
   },
   "outputs": [
    {
     "data": {
      "text/html": [
       "<div>\n",
       "<style scoped>\n",
       "    .dataframe tbody tr th:only-of-type {\n",
       "        vertical-align: middle;\n",
       "    }\n",
       "\n",
       "    .dataframe tbody tr th {\n",
       "        vertical-align: top;\n",
       "    }\n",
       "\n",
       "    .dataframe thead tr th {\n",
       "        text-align: left;\n",
       "    }\n",
       "\n",
       "    .dataframe thead tr:last-of-type th {\n",
       "        text-align: right;\n",
       "    }\n",
       "</style>\n",
       "<table border=\"1\" class=\"dataframe\">\n",
       "  <thead>\n",
       "    <tr>\n",
       "      <th></th>\n",
       "      <th colspan=\"3\" halign=\"left\">total_sales</th>\n",
       "    </tr>\n",
       "    <tr>\n",
       "      <th>year_of_release</th>\n",
       "      <th>2014</th>\n",
       "      <th>2015</th>\n",
       "      <th>2016</th>\n",
       "    </tr>\n",
       "    <tr>\n",
       "      <th>platform</th>\n",
       "      <th></th>\n",
       "      <th></th>\n",
       "      <th></th>\n",
       "    </tr>\n",
       "  </thead>\n",
       "  <tbody>\n",
       "    <tr>\n",
       "      <th>3DS</th>\n",
       "      <td>43.76</td>\n",
       "      <td>27.78</td>\n",
       "      <td>15.14</td>\n",
       "    </tr>\n",
       "    <tr>\n",
       "      <th>PS3</th>\n",
       "      <td>47.76</td>\n",
       "      <td>16.82</td>\n",
       "      <td>3.60</td>\n",
       "    </tr>\n",
       "    <tr>\n",
       "      <th>PS4</th>\n",
       "      <td>100.00</td>\n",
       "      <td>118.90</td>\n",
       "      <td>69.25</td>\n",
       "    </tr>\n",
       "    <tr>\n",
       "      <th>X360</th>\n",
       "      <td>34.74</td>\n",
       "      <td>11.96</td>\n",
       "      <td>1.52</td>\n",
       "    </tr>\n",
       "    <tr>\n",
       "      <th>XOne</th>\n",
       "      <td>54.07</td>\n",
       "      <td>60.14</td>\n",
       "      <td>26.15</td>\n",
       "    </tr>\n",
       "  </tbody>\n",
       "</table>\n",
       "</div>"
      ],
      "text/plain": [
       "                total_sales               \n",
       "year_of_release        2014    2015   2016\n",
       "platform                                  \n",
       "3DS                   43.76   27.78  15.14\n",
       "PS3                   47.76   16.82   3.60\n",
       "PS4                  100.00  118.90  69.25\n",
       "X360                  34.74   11.96   1.52\n",
       "XOne                  54.07   60.14  26.15"
      ]
     },
     "execution_count": 79,
     "metadata": {},
     "output_type": "execute_result"
    }
   ],
   "source": [
    "games_leader = games_new2.query(\n",
    "    'platform in @platform_leader2.index').pivot_table(\n",
    "        index ='platform',columns = 'year_of_release', values =['total_sales'], aggfunc = 'sum')\n",
    "games_leader"
   ]
  },
  {
   "cell_type": "markdown",
   "metadata": {
    "id": "uZdwt_NlbIgI"
   },
   "source": [
    "Продажи падают у всех платформ, но в разной степени. "
   ]
  },
  {
   "cell_type": "markdown",
   "metadata": {
    "id": "NYPvbUfpbIgJ"
   },
   "source": [
    "### График «ящик с усами» по глобальным продажам игр "
   ]
  },
  {
   "cell_type": "code",
   "execution_count": 80,
   "metadata": {},
   "outputs": [
    {
     "data": {
      "image/png": "[encoded data removed]",
      "text/plain": [
       "<Figure size 640x480 with 1 Axes>"
      ]
     },
     "metadata": {},
     "output_type": "display_data"
    }
   ],
   "source": [
    "sb.boxplot(x =games_new2['platform'], y = games_new2['total_sales'])\n",
    "plt.show()"
   ]
  },
  {
   "cell_type": "code",
   "execution_count": 81,
   "metadata": {},
   "outputs": [
    {
     "data": {
      "image/png": "[encoded data removed]",
      "text/plain": [
       "<Figure size 640x480 with 1 Axes>"
      ]
     },
     "metadata": {},
     "output_type": "display_data"
    }
   ],
   "source": [
    "ax = sb.boxplot(x =games_new2['platform'], y = games_new2['total_sales'])\n",
    "ax.set(ylim=(0, 2))\n",
    "plt.show()"
   ]
  },
  {
   "cell_type": "code",
   "execution_count": 82,
   "metadata": {
    "colab": {
     "base_uri": "https://localhost:8080/",
     "height": 238
    },
    "id": "Hu4uCRLrbIgK",
    "outputId": "7f42bfe2-6bc3-449d-ef9e-f6afe93d40fb"
   },
   "outputs": [
    {
     "data": {
      "text/html": [
       "<div>\n",
       "<style scoped>\n",
       "    .dataframe tbody tr th:only-of-type {\n",
       "        vertical-align: middle;\n",
       "    }\n",
       "\n",
       "    .dataframe tbody tr th {\n",
       "        vertical-align: top;\n",
       "    }\n",
       "\n",
       "    .dataframe thead th {\n",
       "        text-align: right;\n",
       "    }\n",
       "</style>\n",
       "<table border=\"1\" class=\"dataframe\">\n",
       "  <thead>\n",
       "    <tr style=\"text-align: right;\">\n",
       "      <th></th>\n",
       "      <th>count</th>\n",
       "      <th>mean</th>\n",
       "      <th>std</th>\n",
       "      <th>min</th>\n",
       "      <th>25%</th>\n",
       "      <th>50%</th>\n",
       "      <th>75%</th>\n",
       "      <th>max</th>\n",
       "    </tr>\n",
       "    <tr>\n",
       "      <th>platform</th>\n",
       "      <th></th>\n",
       "      <th></th>\n",
       "      <th></th>\n",
       "      <th></th>\n",
       "      <th></th>\n",
       "      <th></th>\n",
       "      <th></th>\n",
       "      <th></th>\n",
       "    </tr>\n",
       "  </thead>\n",
       "  <tbody>\n",
       "    <tr>\n",
       "      <th>PS4</th>\n",
       "      <td>376.0</td>\n",
       "      <td>0.766356</td>\n",
       "      <td>1.614969</td>\n",
       "      <td>0.01</td>\n",
       "      <td>0.0575</td>\n",
       "      <td>0.185</td>\n",
       "      <td>0.6900</td>\n",
       "      <td>14.63</td>\n",
       "    </tr>\n",
       "    <tr>\n",
       "      <th>XOne</th>\n",
       "      <td>228.0</td>\n",
       "      <td>0.615614</td>\n",
       "      <td>1.046513</td>\n",
       "      <td>0.01</td>\n",
       "      <td>0.0500</td>\n",
       "      <td>0.205</td>\n",
       "      <td>0.6325</td>\n",
       "      <td>7.39</td>\n",
       "    </tr>\n",
       "    <tr>\n",
       "      <th>WiiU</th>\n",
       "      <td>73.0</td>\n",
       "      <td>0.588767</td>\n",
       "      <td>1.161467</td>\n",
       "      <td>0.01</td>\n",
       "      <td>0.0500</td>\n",
       "      <td>0.190</td>\n",
       "      <td>0.5700</td>\n",
       "      <td>7.09</td>\n",
       "    </tr>\n",
       "    <tr>\n",
       "      <th>Wii</th>\n",
       "      <td>11.0</td>\n",
       "      <td>0.460909</td>\n",
       "      <td>0.625451</td>\n",
       "      <td>0.01</td>\n",
       "      <td>0.0350</td>\n",
       "      <td>0.180</td>\n",
       "      <td>0.7550</td>\n",
       "      <td>2.01</td>\n",
       "    </tr>\n",
       "    <tr>\n",
       "      <th>X360</th>\n",
       "      <td>111.0</td>\n",
       "      <td>0.434414</td>\n",
       "      <td>0.628967</td>\n",
       "      <td>0.01</td>\n",
       "      <td>0.0700</td>\n",
       "      <td>0.180</td>\n",
       "      <td>0.5050</td>\n",
       "      <td>4.28</td>\n",
       "    </tr>\n",
       "    <tr>\n",
       "      <th>3DS</th>\n",
       "      <td>212.0</td>\n",
       "      <td>0.408868</td>\n",
       "      <td>1.188368</td>\n",
       "      <td>0.01</td>\n",
       "      <td>0.0300</td>\n",
       "      <td>0.090</td>\n",
       "      <td>0.2500</td>\n",
       "      <td>11.68</td>\n",
       "    </tr>\n",
       "    <tr>\n",
       "      <th>PS3</th>\n",
       "      <td>219.0</td>\n",
       "      <td>0.311324</td>\n",
       "      <td>0.633059</td>\n",
       "      <td>0.01</td>\n",
       "      <td>0.0400</td>\n",
       "      <td>0.110</td>\n",
       "      <td>0.3250</td>\n",
       "      <td>5.27</td>\n",
       "    </tr>\n",
       "    <tr>\n",
       "      <th>PC</th>\n",
       "      <td>151.0</td>\n",
       "      <td>0.179139</td>\n",
       "      <td>0.329359</td>\n",
       "      <td>0.01</td>\n",
       "      <td>0.0200</td>\n",
       "      <td>0.060</td>\n",
       "      <td>0.2000</td>\n",
       "      <td>3.05</td>\n",
       "    </tr>\n",
       "    <tr>\n",
       "      <th>PSV</th>\n",
       "      <td>295.0</td>\n",
       "      <td>0.075932</td>\n",
       "      <td>0.141591</td>\n",
       "      <td>0.01</td>\n",
       "      <td>0.0200</td>\n",
       "      <td>0.040</td>\n",
       "      <td>0.0900</td>\n",
       "      <td>1.96</td>\n",
       "    </tr>\n",
       "    <tr>\n",
       "      <th>PSP</th>\n",
       "      <td>13.0</td>\n",
       "      <td>0.027692</td>\n",
       "      <td>0.027735</td>\n",
       "      <td>0.01</td>\n",
       "      <td>0.0100</td>\n",
       "      <td>0.020</td>\n",
       "      <td>0.0200</td>\n",
       "      <td>0.09</td>\n",
       "    </tr>\n",
       "  </tbody>\n",
       "</table>\n",
       "</div>"
      ],
      "text/plain": [
       "          count      mean       std   min     25%    50%     75%    max\n",
       "platform                                                               \n",
       "PS4       376.0  0.766356  1.614969  0.01  0.0575  0.185  0.6900  14.63\n",
       "XOne      228.0  0.615614  1.046513  0.01  0.0500  0.205  0.6325   7.39\n",
       "WiiU       73.0  0.588767  1.161467  0.01  0.0500  0.190  0.5700   7.09\n",
       "Wii        11.0  0.460909  0.625451  0.01  0.0350  0.180  0.7550   2.01\n",
       "X360      111.0  0.434414  0.628967  0.01  0.0700  0.180  0.5050   4.28\n",
       "3DS       212.0  0.408868  1.188368  0.01  0.0300  0.090  0.2500  11.68\n",
       "PS3       219.0  0.311324  0.633059  0.01  0.0400  0.110  0.3250   5.27\n",
       "PC        151.0  0.179139  0.329359  0.01  0.0200  0.060  0.2000   3.05\n",
       "PSV       295.0  0.075932  0.141591  0.01  0.0200  0.040  0.0900   1.96\n",
       "PSP        13.0  0.027692  0.027735  0.01  0.0100  0.020  0.0200   0.09"
      ]
     },
     "execution_count": 82,
     "metadata": {},
     "output_type": "execute_result"
    }
   ],
   "source": [
    "#опишем полученные данные\n",
    "games_new2.groupby('platform')['total_sales'].describe().sort_values(by = 'mean', ascending = False)"
   ]
  },
  {
   "cell_type": "markdown",
   "metadata": {},
   "source": [
    "Максимальные средние продажи наблюдаются у PS4. Самая большая медиана -XOne. У всех платформ много выбросов, которые влияют на среднее. Можно выделить трех лидеров - PS4,XOne, WiiU"
   ]
  },
  {
   "cell_type": "markdown",
   "metadata": {
    "id": "sLnPU8NNbIgK"
   },
   "source": [
    "### Влияние отзывов пользователей и критиков на продажи"
   ]
  },
  {
   "cell_type": "markdown",
   "metadata": {
    "id": "mPVg2jm7bIgK"
   },
   "source": [
    "Выберем одну платформу для анализа из лидеров:PS4 или XOne. ПОсчитаем общее количество записей в выборке об этой платформе (с 2014 года)."
   ]
  },
  {
   "cell_type": "code",
   "execution_count": 83,
   "metadata": {},
   "outputs": [
    {
     "name": "stdout",
     "output_type": "stream",
     "text": [
      "PS4 коэффициент корреляции между оценками пользователей и оценками критиков: 0.546434245119031\n",
      "PS4 коэффициент корреляции между оценками пользователей и общими продажами: -0.04013158947269733\n",
      "PS4 коэффициент корреляции между оценками критиков и общими продажами: 0.40190287811475284\n"
     ]
    },
    {
     "data": {
      "image/png": "[encoded data removed]",
      "text/plain": [
       "<Figure size 1800x600 with 3 Axes>"
      ]
     },
     "metadata": {},
     "output_type": "display_data"
    },
    {
     "name": "stdout",
     "output_type": "stream",
     "text": [
      "XOne коэффициент корреляции между оценками пользователей и оценками критиков: 0.44097734837644087\n",
      "XOne коэффициент корреляции между оценками пользователей и общими продажами: -0.07038392806475809\n",
      "XOne коэффициент корреляции между оценками критиков и общими продажами: 0.4221118510555763\n"
     ]
    },
    {
     "data": {
      "image/png": "[encoded data removed]",
      "text/plain": [
       "<Figure size 1800x600 with 3 Axes>"
      ]
     },
     "metadata": {},
     "output_type": "display_data"
    },
    {
     "name": "stdout",
     "output_type": "stream",
     "text": [
      "3DS коэффициент корреляции между оценками пользователей и оценками критиков: 0.862484552934546\n",
      "3DS коэффициент корреляции между оценками пользователей и общими продажами: 0.2151932718527028\n",
      "3DS коэффициент корреляции между оценками критиков и общими продажами: 0.28468579095782925\n"
     ]
    },
    {
     "data": {
      "image/png": "[encoded data removed]",
      "text/plain": [
       "<Figure size 1800x600 with 3 Axes>"
      ]
     },
     "metadata": {},
     "output_type": "display_data"
    },
    {
     "name": "stdout",
     "output_type": "stream",
     "text": [
      "PS3 коэффициент корреляции между оценками пользователей и оценками критиков: 0.6934448406261046\n",
      "PS3 коэффициент корреляции между оценками пользователей и общими продажами: -0.16676141347662118\n",
      "PS3 коэффициент корреляции между оценками критиков и общими продажами: 0.44657460493190704\n"
     ]
    },
    {
     "data": {
      "image/png": "[encoded data removed]",
      "text/plain": [
       "<Figure size 1800x600 with 3 Axes>"
      ]
     },
     "metadata": {},
     "output_type": "display_data"
    },
    {
     "name": "stdout",
     "output_type": "stream",
     "text": [
      "X360 коэффициент корреляции между оценками пользователей и оценками критиков: 0.6253094753809085\n",
      "X360 коэффициент корреляции между оценками пользователей и общими продажами: -0.138444570945665\n",
      "X360 коэффициент корреляции между оценками критиков и общими продажами: 0.5257228356581523\n"
     ]
    },
    {
     "data": {
      "image/png": "[encoded data removed]",
      "text/plain": [
       "<Figure size 1800x600 with 3 Axes>"
      ]
     },
     "metadata": {},
     "output_type": "display_data"
    }
   ],
   "source": [
    "for platform in platform_leader2.index:\n",
    "    print(platform, 'коэффициент корреляции между оценками пользователей и оценками критиков:', \n",
    "          games_new2.query('platform ==@platform and user_score>-10')['user_score'].corr(\n",
    "              games_new2.query('platform ==@platform and user_score>-10')['critic_score']))\n",
    "    print(platform, 'коэффициент корреляции между оценками пользователей и общими продажами:', \n",
    "          games_new2.query('platform ==@platform and user_score>-10')['user_score'].corr(\n",
    "              games_new2.query('platform ==@platform and user_score>-10')['total_sales']))\n",
    "    print(platform, 'коэффициент корреляции между оценками критиков и общими продажами:', \n",
    "          games_new2.query('platform ==@platform and user_score>-10')['critic_score'].corr(\n",
    "              games_new2.query('platform ==@platform and user_score>-10')['total_sales']))\n",
    "\n",
    "   \n",
    "\n",
    "    fig, axes = plt.subplots(1, 3)\n",
    "   \n",
    "    games_new2.query('platform ==@platform and user_score>-10').plot(\n",
    "        x = 'user_score', y = 'critic_score', kind = 'scatter', ax=axes[0])\n",
    "    \n",
    "    \n",
    "    games_new2.query('platform ==@platform and user_score>-10').plot(\n",
    "        x = 'user_score', y = 'total_sales', kind = 'scatter', ax=axes[1])\n",
    "    \n",
    "    \n",
    "    games_new2.query('platform ==@platform and user_score>-10').plot(\n",
    "        x = 'critic_score', y = 'total_sales', kind = 'scatter', ax=axes[2], figsize = (18,6))\n",
    "\n",
    "    plt.show()\n",
    "    "
   ]
  },
  {
   "cell_type": "markdown",
   "metadata": {},
   "source": [
    "</font><font color='Blue'><b>Комментарий студента: \n",
    "В целом наблюдается прямая связь между оценками критиков и объемом продаж, связь между оценками пользователей и объемом продаж выявить не удалось.\n",
    "</b></font><br>"
   ]
  },
  {
   "attachments": {
    "image.png": {
     "image/png": "[encoded data removed]"
    }
   },
   "cell_type": "markdown",
   "metadata": {},
   "source": [
    "<font color='DarkBlue'><b>Комментарий ревьюера 2</b></font><br>\n",
    "<font color='DarkGreen'>👌 Для оценки корреляции лучше пользоваться вот этой шкалой:</font>\n",
    "![image.png](attachment:image.png)"
   ]
  },
  {
   "cell_type": "markdown",
   "metadata": {
    "id": "fTD0pz3lbIgQ"
   },
   "source": [
    "### Распределение по жанрам"
   ]
  },
  {
   "cell_type": "code",
   "execution_count": 84,
   "metadata": {
    "colab": {
     "base_uri": "https://localhost:8080/",
     "height": 280
    },
    "id": "hWxGc5nLbIgQ",
    "outputId": "e14e7d99-4f38-42fe-952c-b1a217f8af11"
   },
   "outputs": [
    {
     "data": {
      "image/png": "[encoded data removed]",
      "text/plain": [
       "<Figure size 640x480 with 1 Axes>"
      ]
     },
     "metadata": {},
     "output_type": "display_data"
    }
   ],
   "source": [
    "sb.boxplot(y =games_new2['genre'], x = games_new2['total_sales'])\n",
    "plt.show()"
   ]
  },
  {
   "cell_type": "code",
   "execution_count": 85,
   "metadata": {
    "colab": {
     "base_uri": "https://localhost:8080/",
     "height": 457
    },
    "id": "LK7CUrDubIgR",
    "outputId": "765ccf53-84a7-4170-fe31-4ed1d5184758"
   },
   "outputs": [
    {
     "data": {
      "text/html": [
       "<div>\n",
       "<style scoped>\n",
       "    .dataframe tbody tr th:only-of-type {\n",
       "        vertical-align: middle;\n",
       "    }\n",
       "\n",
       "    .dataframe tbody tr th {\n",
       "        vertical-align: top;\n",
       "    }\n",
       "\n",
       "    .dataframe thead th {\n",
       "        text-align: right;\n",
       "    }\n",
       "</style>\n",
       "<table border=\"1\" class=\"dataframe\">\n",
       "  <thead>\n",
       "    <tr style=\"text-align: right;\">\n",
       "      <th></th>\n",
       "      <th>count</th>\n",
       "      <th>mean</th>\n",
       "      <th>std</th>\n",
       "      <th>min</th>\n",
       "      <th>25%</th>\n",
       "      <th>50%</th>\n",
       "      <th>75%</th>\n",
       "      <th>max</th>\n",
       "    </tr>\n",
       "    <tr>\n",
       "      <th>genre</th>\n",
       "      <th></th>\n",
       "      <th></th>\n",
       "      <th></th>\n",
       "      <th></th>\n",
       "      <th></th>\n",
       "      <th></th>\n",
       "      <th></th>\n",
       "      <th></th>\n",
       "    </tr>\n",
       "  </thead>\n",
       "  <tbody>\n",
       "    <tr>\n",
       "      <th>Shooter</th>\n",
       "      <td>128.0</td>\n",
       "      <td>1.335469</td>\n",
       "      <td>2.050567</td>\n",
       "      <td>0.01</td>\n",
       "      <td>0.1725</td>\n",
       "      <td>0.515</td>\n",
       "      <td>1.6175</td>\n",
       "      <td>14.63</td>\n",
       "    </tr>\n",
       "    <tr>\n",
       "      <th>Sports</th>\n",
       "      <td>161.0</td>\n",
       "      <td>0.680000</td>\n",
       "      <td>1.239736</td>\n",
       "      <td>0.01</td>\n",
       "      <td>0.0600</td>\n",
       "      <td>0.180</td>\n",
       "      <td>0.6400</td>\n",
       "      <td>8.58</td>\n",
       "    </tr>\n",
       "    <tr>\n",
       "      <th>Platform</th>\n",
       "      <td>38.0</td>\n",
       "      <td>0.476053</td>\n",
       "      <td>0.722561</td>\n",
       "      <td>0.01</td>\n",
       "      <td>0.0625</td>\n",
       "      <td>0.140</td>\n",
       "      <td>0.4675</td>\n",
       "      <td>3.21</td>\n",
       "    </tr>\n",
       "    <tr>\n",
       "      <th>Fighting</th>\n",
       "      <td>60.0</td>\n",
       "      <td>0.470333</td>\n",
       "      <td>1.188053</td>\n",
       "      <td>0.01</td>\n",
       "      <td>0.0600</td>\n",
       "      <td>0.125</td>\n",
       "      <td>0.3200</td>\n",
       "      <td>7.55</td>\n",
       "    </tr>\n",
       "    <tr>\n",
       "      <th>Role-Playing</th>\n",
       "      <td>221.0</td>\n",
       "      <td>0.459005</td>\n",
       "      <td>1.177284</td>\n",
       "      <td>0.01</td>\n",
       "      <td>0.0500</td>\n",
       "      <td>0.110</td>\n",
       "      <td>0.3600</td>\n",
       "      <td>11.68</td>\n",
       "    </tr>\n",
       "    <tr>\n",
       "      <th>Racing</th>\n",
       "      <td>69.0</td>\n",
       "      <td>0.398841</td>\n",
       "      <td>0.963716</td>\n",
       "      <td>0.01</td>\n",
       "      <td>0.0300</td>\n",
       "      <td>0.090</td>\n",
       "      <td>0.2500</td>\n",
       "      <td>7.09</td>\n",
       "    </tr>\n",
       "    <tr>\n",
       "      <th>Misc</th>\n",
       "      <td>113.0</td>\n",
       "      <td>0.332301</td>\n",
       "      <td>0.736999</td>\n",
       "      <td>0.01</td>\n",
       "      <td>0.0300</td>\n",
       "      <td>0.090</td>\n",
       "      <td>0.3200</td>\n",
       "      <td>5.27</td>\n",
       "    </tr>\n",
       "    <tr>\n",
       "      <th>Action</th>\n",
       "      <td>619.0</td>\n",
       "      <td>0.322068</td>\n",
       "      <td>0.798181</td>\n",
       "      <td>0.01</td>\n",
       "      <td>0.0300</td>\n",
       "      <td>0.090</td>\n",
       "      <td>0.2800</td>\n",
       "      <td>12.62</td>\n",
       "    </tr>\n",
       "    <tr>\n",
       "      <th>Simulation</th>\n",
       "      <td>44.0</td>\n",
       "      <td>0.298409</td>\n",
       "      <td>0.646925</td>\n",
       "      <td>0.01</td>\n",
       "      <td>0.0200</td>\n",
       "      <td>0.100</td>\n",
       "      <td>0.3275</td>\n",
       "      <td>3.05</td>\n",
       "    </tr>\n",
       "    <tr>\n",
       "      <th>Puzzle</th>\n",
       "      <td>14.0</td>\n",
       "      <td>0.157857</td>\n",
       "      <td>0.320629</td>\n",
       "      <td>0.01</td>\n",
       "      <td>0.0200</td>\n",
       "      <td>0.045</td>\n",
       "      <td>0.1000</td>\n",
       "      <td>1.19</td>\n",
       "    </tr>\n",
       "    <tr>\n",
       "      <th>Strategy</th>\n",
       "      <td>37.0</td>\n",
       "      <td>0.107027</td>\n",
       "      <td>0.118412</td>\n",
       "      <td>0.01</td>\n",
       "      <td>0.0300</td>\n",
       "      <td>0.060</td>\n",
       "      <td>0.1400</td>\n",
       "      <td>0.52</td>\n",
       "    </tr>\n",
       "    <tr>\n",
       "      <th>Adventure</th>\n",
       "      <td>185.0</td>\n",
       "      <td>0.094865</td>\n",
       "      <td>0.203147</td>\n",
       "      <td>0.01</td>\n",
       "      <td>0.0200</td>\n",
       "      <td>0.030</td>\n",
       "      <td>0.0800</td>\n",
       "      <td>1.66</td>\n",
       "    </tr>\n",
       "  </tbody>\n",
       "</table>\n",
       "</div>"
      ],
      "text/plain": [
       "              count      mean       std   min     25%    50%     75%    max\n",
       "genre                                                                      \n",
       "Shooter       128.0  1.335469  2.050567  0.01  0.1725  0.515  1.6175  14.63\n",
       "Sports        161.0  0.680000  1.239736  0.01  0.0600  0.180  0.6400   8.58\n",
       "Platform       38.0  0.476053  0.722561  0.01  0.0625  0.140  0.4675   3.21\n",
       "Fighting       60.0  0.470333  1.188053  0.01  0.0600  0.125  0.3200   7.55\n",
       "Role-Playing  221.0  0.459005  1.177284  0.01  0.0500  0.110  0.3600  11.68\n",
       "Racing         69.0  0.398841  0.963716  0.01  0.0300  0.090  0.2500   7.09\n",
       "Misc          113.0  0.332301  0.736999  0.01  0.0300  0.090  0.3200   5.27\n",
       "Action        619.0  0.322068  0.798181  0.01  0.0300  0.090  0.2800  12.62\n",
       "Simulation     44.0  0.298409  0.646925  0.01  0.0200  0.100  0.3275   3.05\n",
       "Puzzle         14.0  0.157857  0.320629  0.01  0.0200  0.045  0.1000   1.19\n",
       "Strategy       37.0  0.107027  0.118412  0.01  0.0300  0.060  0.1400   0.52\n",
       "Adventure     185.0  0.094865  0.203147  0.01  0.0200  0.030  0.0800   1.66"
      ]
     },
     "execution_count": 85,
     "metadata": {},
     "output_type": "execute_result"
    }
   ],
   "source": [
    "#опишем полученные данные\n",
    "games_new2.groupby('genre')['total_sales'].describe().sort_values(by = 'mean',ascending = False)"
   ]
  },
  {
   "cell_type": "markdown",
   "metadata": {
    "id": "6fp5LxoKbIgR"
   },
   "source": [
    "Самый прибыльный жанр- \"Shooter\". Самый неприбыльный - \"Adventure\" если опираться на среднее. Если опираться на медиану, то также непопулярны \"Puzzle\", \"Strategy\". "
   ]
  },
  {
   "cell_type": "markdown",
   "metadata": {
    "id": "5xm4eYshbIgR"
   },
   "source": [
    "## Портрет пользователя каждого региона"
   ]
  },
  {
   "cell_type": "markdown",
   "metadata": {
    "id": "u2UtjT3tbIgS"
   },
   "source": [
    "### Самая популярная платформа у пользователей разного региона"
   ]
  },
  {
   "cell_type": "code",
   "execution_count": 86,
   "metadata": {
    "colab": {
     "base_uri": "https://localhost:8080/",
     "height": 296
    },
    "id": "WTHTX8LsbIgS",
    "outputId": "979e2db6-7ec2-444d-b262-3c733cd9acc0"
   },
   "outputs": [
    {
     "data": {
      "image/png": "[encoded data removed]",
      "text/plain": [
       "<Figure size 640x480 with 2 Axes>"
      ]
     },
     "metadata": {},
     "output_type": "display_data"
    }
   ],
   "source": [
    "fig, axes = plt.subplots(1, 2)\n",
    "games_new2.pivot_table(\n",
    "    index = 'platform', values = 'na_sales', aggfunc = 'median').sort_values(\n",
    "    by = 'na_sales', ascending = False).plot(y = 'na_sales', kind = 'bar', ax= axes[0])\n",
    "games_new2.pivot_table(\n",
    "    index = 'platform', values = 'na_sales', aggfunc = 'median').sort_values(\n",
    "    by = 'na_sales', ascending = False).head(5).plot(y = 'na_sales', kind = 'pie', normalize=True, ax= axes[1],legend=None)\n",
    "\n",
    "plt.show()"
   ]
  },
  {
   "cell_type": "markdown",
   "metadata": {
    "id": "PxXcSZ1abIgS"
   },
   "source": [
    "В Северной Америке - популярны платформы X360, XOne. На третьем месте - WiiU."
   ]
  },
  {
   "cell_type": "code",
   "execution_count": 87,
   "metadata": {
    "colab": {
     "base_uri": "https://localhost:8080/",
     "height": 296
    },
    "id": "_pi97H7hbIgT",
    "outputId": "44cb2c0e-7858-44cc-ce43-da6f87b18b96"
   },
   "outputs": [
    {
     "data": {
      "image/png": "[encoded data removed]",
      "text/plain": [
       "<Figure size 640x480 with 2 Axes>"
      ]
     },
     "metadata": {},
     "output_type": "display_data"
    }
   ],
   "source": [
    "fig, axes = plt.subplots(1, 2)\n",
    "games_new2.pivot_table(\n",
    "    index = 'platform', values = 'eu_sales', aggfunc = 'median').sort_values(\n",
    "    by = 'eu_sales', ascending = False).plot(y = 'eu_sales', kind = 'bar', ax= axes[0])\n",
    "games_new2.pivot_table(\n",
    "    index = 'platform', values = 'eu_sales', aggfunc = 'median').sort_values(\n",
    "    by = 'eu_sales', ascending = False).head(5).plot(\n",
    "    y = 'eu_sales', kind = 'pie', normalize=True , ax= axes[1],legend=None )\n",
    "plt.show()"
   ]
  },
  {
   "cell_type": "markdown",
   "metadata": {
    "id": "WLiUOrojbIgT"
   },
   "source": [
    "В Европе - Wii, PS4, XOne"
   ]
  },
  {
   "cell_type": "code",
   "execution_count": 88,
   "metadata": {
    "colab": {
     "base_uri": "https://localhost:8080/",
     "height": 296
    },
    "id": "uD9uLW1EbIgT",
    "outputId": "5da8fd4e-4e2a-43e6-9fbe-bbcd6a79f106"
   },
   "outputs": [
    {
     "data": {
      "image/png": "[encoded data removed]",
      "text/plain": [
       "<Figure size 640x480 with 2 Axes>"
      ]
     },
     "metadata": {},
     "output_type": "display_data"
    }
   ],
   "source": [
    "fig, axes = plt.subplots(1, 2)\n",
    "games_new2.pivot_table(\n",
    "    index = 'platform', values = 'jp_sales', aggfunc = 'median').sort_values(\n",
    "    by = 'jp_sales', ascending = False).plot(\n",
    "    y = 'jp_sales', kind = 'bar', ax= axes[0])\n",
    "games_new2.pivot_table(\n",
    "    index = 'platform', values = 'jp_sales', aggfunc = 'median').sort_values(\n",
    "    by = 'jp_sales', ascending = False).head(5).plot(\n",
    "    y = 'jp_sales', kind = 'pie', normalize=True , ax= axes[1],legend=None )\n",
    "plt.show()"
   ]
  },
  {
   "cell_type": "markdown",
   "metadata": {
    "id": "k4Ls1okHbIgU"
   },
   "source": [
    "В Японии 3DS (которая не представлена в Северной Америке и Европе). Платформа XOne, X360 не представлены."
   ]
  },
  {
   "cell_type": "code",
   "execution_count": 89,
   "metadata": {
    "colab": {
     "base_uri": "https://localhost:8080/",
     "height": 296
    },
    "id": "QCffNxd0bIgU",
    "outputId": "2de64bd3-308f-408e-ad72-d8fc9c396dd8"
   },
   "outputs": [
    {
     "data": {
      "image/png": "[encoded data removed]",
      "text/plain": [
       "<Figure size 640x480 with 2 Axes>"
      ]
     },
     "metadata": {},
     "output_type": "display_data"
    }
   ],
   "source": [
    "fig, axes = plt.subplots(1, 2)\n",
    "games_new2.pivot_table(\n",
    "    index = 'platform', values = 'total_sales', aggfunc = 'median').sort_values(\n",
    "    by = 'total_sales', ascending = False).plot(y = 'total_sales', kind = 'bar', ax= axes[0])\n",
    "games_new2.pivot_table(\n",
    "    index = 'platform', values = 'total_sales', aggfunc = 'median').sort_values(\n",
    "    by = 'total_sales', ascending = False).head(5).plot(\n",
    "    y = 'total_sales', kind = 'pie', normalize=True , ax= axes[1],legend=None )\n",
    "plt.show()"
   ]
  },
  {
   "cell_type": "markdown",
   "metadata": {
    "id": "JG3rR3a5bIgV"
   },
   "source": [
    "В среднем среди пользователей лидирует XOne. Но максимальные продажи в сумме приносит платформа PS4. "
   ]
  },
  {
   "cell_type": "code",
   "execution_count": 90,
   "metadata": {
    "colab": {
     "base_uri": "https://localhost:8080/",
     "height": 298
    },
    "id": "GEySp87PbIgV",
    "outputId": "fc559631-9417-4b69-91e9-9cef38e67a55"
   },
   "outputs": [
    {
     "data": {
      "image/png": "[encoded data removed]",
      "text/plain": [
       "<Figure size 640x480 with 2 Axes>"
      ]
     },
     "metadata": {},
     "output_type": "display_data"
    }
   ],
   "source": [
    "fig, axes = plt.subplots(1, 2)\n",
    "games_new2.pivot_table(\n",
    "    index = 'platform', values = 'total_sales', aggfunc = 'sum').sort_values(\n",
    "    by = 'total_sales', ascending = False).plot(y = 'total_sales', kind = 'bar', ax= axes[0])\n",
    "games_new2.pivot_table(\n",
    "    index = 'platform', values = 'total_sales', aggfunc = 'sum').sort_values(\n",
    "    by = 'total_sales', ascending = False).head(5).plot(\n",
    "    y = 'total_sales', kind = 'pie', normalize=True , ax= axes[1],legend=None )\n",
    "plt.show()"
   ]
  },
  {
   "cell_type": "markdown",
   "metadata": {
    "id": "WTogoO_cbIgV"
   },
   "source": [
    "### Самый популярный жанр у пользователей разного региона"
   ]
  },
  {
   "cell_type": "code",
   "execution_count": null,
   "metadata": {
    "colab": {
     "base_uri": "https://localhost:8080/",
     "height": 331
    },
    "id": "-Glr3iXJbIgW",
    "outputId": "7db2a8ed-6b62-4e63-e4f5-00869197e13d"
   },
   "outputs": [],
   "source": [
    "fig, axes = plt.subplots(1, 2)\n",
    "games_new2.pivot_table(\n",
    "    index = 'genre', values = 'na_sales', aggfunc = 'median').sort_values(\n",
    "    by = 'na_sales', ascending = False).plot(y = 'na_sales', kind = 'bar',ax= axes[0])\n",
    "games_new2.pivot_table(\n",
    "    index = 'genre', values = 'na_sales', aggfunc = 'median').sort_values(\n",
    "    by = 'na_sales', ascending = False).head(5).plot(\n",
    "    y = 'na_sales', kind = 'pie', normalize=True , ax= axes[1],legend=None )\n",
    "\n",
    "plt.show()"
   ]
  },
  {
   "cell_type": "markdown",
   "metadata": {
    "id": "y9XwzrpnbIgW"
   },
   "source": [
    "Самый популярный жанр в Северной Америке - Shooter"
   ]
  },
  {
   "cell_type": "code",
   "execution_count": null,
   "metadata": {
    "colab": {
     "base_uri": "https://localhost:8080/",
     "height": 331
    },
    "id": "2nhnx6nKbIgW",
    "outputId": "65af0a85-22e8-4677-f34d-76f470e99757"
   },
   "outputs": [],
   "source": [
    "fig, axes = plt.subplots(1, 2)\n",
    "games_new2.pivot_table(\n",
    "    index = 'genre', values = 'eu_sales', aggfunc = 'median').sort_values(\n",
    "    by = 'eu_sales', ascending = False).plot(y = 'eu_sales', kind = 'bar', ax= axes[0])\n",
    "games_new2.pivot_table(\n",
    "    index = 'genre', values = 'eu_sales', aggfunc = 'median').sort_values(\n",
    "    by = 'eu_sales', ascending = False).head(5).plot(\n",
    "    y = 'eu_sales', kind = 'pie', normalize=True , ax= axes[1],legend=None )\n",
    "plt.show()"
   ]
  },
  {
   "cell_type": "markdown",
   "metadata": {
    "id": "En5NtwFHbIgX"
   },
   "source": [
    "Самый популярный жанр в Европе - Shooter"
   ]
  },
  {
   "cell_type": "code",
   "execution_count": null,
   "metadata": {
    "colab": {
     "base_uri": "https://localhost:8080/",
     "height": 331
    },
    "id": "8dCQhyGPbIgX",
    "outputId": "d5112adf-1f64-41df-820a-74974f659af7"
   },
   "outputs": [],
   "source": [
    "fig, axes = plt.subplots(1, 2)\n",
    "games_new2.pivot_table(\n",
    "    index = 'genre', values = 'jp_sales', aggfunc = 'median').sort_values(\n",
    "    by = 'jp_sales', ascending = False).plot(y = 'jp_sales', kind = 'bar', ax= axes[0])\n",
    "games_new2.pivot_table(\n",
    "    index = 'genre', values = 'jp_sales', aggfunc = 'median').sort_values(\n",
    "    by = 'jp_sales', ascending = False).head(5).plot(\n",
    "    y = 'jp_sales', kind = 'pie', normalize=True , ax= axes[1],legend=None )\n",
    "plt.show()"
   ]
  },
  {
   "cell_type": "markdown",
   "metadata": {
    "id": "lEg92rr0bIgb"
   },
   "source": [
    "Самый популярный жанр в Японии - Role-Playing."
   ]
  },
  {
   "cell_type": "markdown",
   "metadata": {
    "id": "-2O3eSI5bIgc"
   },
   "source": [
    "В Японии представлен ограничиный набор жанров."
   ]
  },
  {
   "cell_type": "markdown",
   "metadata": {
    "id": "qILje0JdbIgd"
   },
   "source": [
    "### Влияние рейтинга ESRB на продажи в отдельном регионе"
   ]
  },
  {
   "cell_type": "code",
   "execution_count": null,
   "metadata": {
    "colab": {
     "base_uri": "https://localhost:8080/",
     "height": 313
    },
    "id": "0-qjzIbPbIge",
    "outputId": "3e50550f-31c0-4c87-d7be-c24ed1fa7a68"
   },
   "outputs": [],
   "source": [
    "fig, axes = plt.subplots(1, 2)\n",
    "games_new2.pivot_table(\n",
    "    index = 'rating', values = 'na_sales', aggfunc = 'median').sort_values(\n",
    "    by = 'na_sales', ascending = False).plot(y = 'na_sales', kind = 'bar',ax= axes[0])\n",
    "games_new2.pivot_table(\n",
    "    index = 'rating', values = 'na_sales', aggfunc = 'sum').plot(\n",
    "    y = 'na_sales', kind = 'bar',  ax= axes[1],legend=None )\n",
    "plt.show()"
   ]
  },
  {
   "cell_type": "markdown",
   "metadata": {
    "id": "33EUrNRDbIge"
   },
   "source": [
    "Самый популярный рейтинг в Северной Америке - М"
   ]
  },
  {
   "cell_type": "code",
   "execution_count": null,
   "metadata": {
    "colab": {
     "base_uri": "https://localhost:8080/",
     "height": 313
    },
    "id": "OK9dXkFIbIgf",
    "outputId": "fa10a246-123c-437e-f97f-2d237b68416d"
   },
   "outputs": [],
   "source": [
    "fig, axes = plt.subplots(1, 2)\n",
    "games_new2.pivot_table(\n",
    "    index = 'rating', values = 'eu_sales', aggfunc = 'median').sort_values(\n",
    "    by = 'eu_sales', ascending = False).plot(y = 'eu_sales', kind = 'bar',ax= axes[0])\n",
    "games_new2.pivot_table(\n",
    "    index = 'rating', values = 'eu_sales', aggfunc = 'sum').plot(\n",
    "    y = 'eu_sales', kind = 'bar',  ax= axes[1],legend=None )\n",
    "plt.show()"
   ]
  },
  {
   "cell_type": "markdown",
   "metadata": {
    "id": "fa_YisB7bIgf"
   },
   "source": [
    "Самый популярный рейтинг в Европе - М"
   ]
  },
  {
   "cell_type": "code",
   "execution_count": null,
   "metadata": {
    "colab": {
     "base_uri": "https://localhost:8080/",
     "height": 313
    },
    "id": "yh3SmQiMbIgf",
    "outputId": "4e6de44c-4331-45fe-c445-5e784d17b91d"
   },
   "outputs": [],
   "source": [
    "fig, axes = plt.subplots(1, 2)\n",
    "games_new2.pivot_table(\n",
    "    index = 'rating', values = 'jp_sales', aggfunc = 'median').sort_values(\n",
    "    by = 'jp_sales', ascending = False).plot(y = 'jp_sales', kind = 'bar', ax= axes[0])\n",
    "games_new2.pivot_table(\n",
    "    index = 'rating', values = 'jp_sales', aggfunc = 'sum').plot(\n",
    "    y = 'jp_sales', kind = 'bar',  ax= axes[1],legend=None )\n",
    "plt.show()"
   ]
  },
  {
   "cell_type": "markdown",
   "metadata": {
    "id": "y9nXn9JDbIgg"
   },
   "source": [
    "Самый популярный рейтинг в Японии -no_ESRB, игры, оцененные по этой системе, малопопулярны в этом регионе."
   ]
  },
  {
   "cell_type": "markdown",
   "metadata": {
    "id": "xcDF5qvIbIgg"
   },
   "source": [
    "Данные для Северной Америки и Европы - схожи.  Для Японии портерт пользователя совершенно инной, так они используют платформу 3DS, которая не представлена в других регионах, предпочитают жанр Role-Playing, малопопулярный в Европе и Северной Америке "
   ]
  },
  {
   "cell_type": "markdown",
   "metadata": {
    "id": "bHT8_F5pbIgg"
   },
   "source": [
    "## Гипотезы"
   ]
  },
  {
   "cell_type": "markdown",
   "metadata": {
    "id": "Knwgm6webIgh"
   },
   "source": [
    "### Средние пользовательские рейтинги платформ Xbox One и PC одинаковые"
   ]
  },
  {
   "cell_type": "markdown",
   "metadata": {
    "id": "v6QezWNzbIgh"
   },
   "source": [
    "H_0: Средние пользовательские рейтинги платформ XOne и PS4 одинаковые`\n",
    "\n",
    "H_a: Средние пользовательские рейтинги платформ XOne и PS4 неодинаковые`\n",
    "\n",
    "alpha = 0.05"
   ]
  },
  {
   "cell_type": "code",
   "execution_count": null,
   "metadata": {
    "colab": {
     "base_uri": "https://localhost:8080/"
    },
    "id": "yD0DE60AbIgh",
    "outputId": "8e5b4c45-ce59-44ed-f6e2-8792f0a9da43"
   },
   "outputs": [],
   "source": [
    "data = games_new2.query('user_score>-10')\n",
    "results = st.ttest_ind(\n",
    "    data[data['platform'] =='XOne']['user_score'],\n",
    "    data[data['platform'] =='PS4']['user_score'], equal_var = False)\n",
    "\n",
    "alpha = 0.05\n",
    "\n",
    "# вывод значения p-value на экран \n",
    "print(results.pvalue)\n",
    "# условный оператор с выводом строки с ответом\n",
    "if results.pvalue <alpha:\n",
    "    print('Отвергаем нулевую гипотезу')\n",
    "else:\n",
    "    print('Не получилось отвергнуть нулевую гипотезу')"
   ]
  },
  {
   "cell_type": "code",
   "execution_count": null,
   "metadata": {},
   "outputs": [],
   "source": [
    "# Комментарий ревьюера\n",
    "data[data['platform'] =='XOne']['user_score'].min(), data[data['platform'] =='PS4']['user_score'].min()"
   ]
  },
  {
   "cell_type": "code",
   "execution_count": null,
   "metadata": {},
   "outputs": [],
   "source": [
    " data.groupby('platform')['user_score'].describe().sort_values(by = 'mean', ascending = False)"
   ]
  },
  {
   "cell_type": "markdown",
   "metadata": {
    "id": "IKQgNQOFbIgi"
   },
   "source": [
    "### Средние пользовательские рейтинги жанров Action  и Sports  разные."
   ]
  },
  {
   "cell_type": "markdown",
   "metadata": {
    "id": "cZqSH_AVbIgi"
   },
   "source": [
    "H_0: С Средние пользовательские рейтинги жанров Action  и Sports  одинаковые`\n",
    "\n",
    "H_a:  Средние пользовательские рейтинги жанров Action  и Sports  разные\n",
    "\n",
    "alpha = 0.05"
   ]
  },
  {
   "cell_type": "code",
   "execution_count": null,
   "metadata": {
    "colab": {
     "base_uri": "https://localhost:8080/"
    },
    "id": "3yooF_i9bIgj",
    "outputId": "afcebebb-63b2-43c0-8299-673ddef12ad8"
   },
   "outputs": [],
   "source": [
    "results = st.ttest_ind(\n",
    "    data[data['genre'] =='Action']['user_score'],\n",
    "    data[data['genre'] =='Sports']['user_score'], equal_var = False)\n",
    "\n",
    "alpha = 0.05\n",
    "\n",
    "# вывод значения p-value на экран \n",
    "print(results.pvalue)\n",
    "# условный оператор с выводом строки с ответом\n",
    "if results.pvalue <alpha:\n",
    "    print('Отвергаем нулевую гипотезу')\n",
    "else:\n",
    "    print('Не получилось отвергнуть нулевую гипотезу')"
   ]
  },
  {
   "cell_type": "code",
   "execution_count": null,
   "metadata": {},
   "outputs": [],
   "source": [
    "# Комментарий ревьюера 4\n",
    "data.year_of_release.min()"
   ]
  },
  {
   "cell_type": "markdown",
   "metadata": {
    "id": "uFVeWd43bIgj"
   },
   "source": [
    "Нулевая гипотеза - гипотеза о равнестве средний значений, альтернативная - они неравны. Применялся двухстороний критерий. Критерий значимости выбран как 0.05"
   ]
  },
  {
   "cell_type": "code",
   "execution_count": null,
   "metadata": {},
   "outputs": [],
   "source": [
    "data.groupby('genre')['user_score'].describe().sort_values(by = 'mean', ascending = False)"
   ]
  },
  {
   "cell_type": "markdown",
   "metadata": {
    "id": "F4W5XVwNbIgj"
   },
   "source": [
    "## Вывод"
   ]
  },
  {
   "cell_type": "markdown",
   "metadata": {
    "id": "heGLwreWbIgk"
   },
   "source": [
    "Были проанализированы данные из открытых источников по всему миру о продажах компьютерных игр, оценок пользователей и экспертов с целью выявить определяющие успешность игры закономерности. Данный анализ поможет выявить потенциально популярные продукты и спланировать рекламные кампании.\n",
    "\n",
    "Всего 16715 строк, 11 столбцов. \n",
    "\n",
    "<b> Задачи исследования:</b>\n",
    "1. Провести предобработку данных. Заполнить пропуски, изменить тип данных в столбцах на соответствующий.  \n",
    "2. Провести исследовательский анализ данных:\n",
    "  - определить на что влияет год выпуска игры\n",
    "  - определить какой период из данных стоит проанализировать\n",
    "  - определить платформы лидеры-продаж\n",
    "  - проанализировать глобальные продажи игр в разбивке по платформам\n",
    "  - выяснить степень влияние отзывов пользователей и экспертов на уровень продаж\n",
    "  - оценить прибыльность жанров\n",
    "3. Составьте портрет пользователя каждого региона\n",
    "  -  определить самые популярные платформы\n",
    "  - определить самые популярные жанры\n",
    "  - оценить влияние рейтинга ESRB на продажи\n",
    "4. Проверьте гипотезы\n",
    "  - Средние пользовательские рейтинги платформ Xbox One и PC одинаковые\n",
    "  - Средние пользовательские рейтинги жанров Action (англ. «действие», экшен-игры) и Sports (англ. «спортивные соревнования») разные\n",
    "\n",
    "<b>Задача 1. Предобработка данных.</b>\n",
    "Были приведены названия столбцов к единому формату.\n",
    "\n",
    "Тип данных \"user_score\" приведен к формату float, \"year_of_release\" - к целочисленному формату.\n",
    "\n",
    "Строки с пропуском в столбце 'name', \"genre\" - удалены (2 строки).\n",
    "Строки с пропусками в столбце year_of_release\"  - удалены (269 строк).\n",
    "В столбце \"critic_score\" - пропуски остались, \"user_score\" - выяснилось, что значения tbd маркируют игры ожидающие оценки, таким образом пропуски заполнены сначала tbd, а затем для добства работы с данными заглушкой -10, \"rating\" - \"no_ESRN\", как не отмеченные данной системой оценок.\n",
    "\n",
    "При анализе данных заглушки всегда можно отфильтровать. \n",
    "\n",
    "<b>Задача 2. Исследовательский анализ данных.</b>\n",
    "Пик продаж игр приходится на 2008-2009 год по имеющимся данным. \n",
    "\n",
    "Чем год выпуска больше- тем больше запросы пользователей и критиков. Игра, что получила бы максимальные оценки в 2000 году, не факт, что получит их в 2022 (не считая фан базы игры). Поэтому для дальнейшего анализа было принято решения оставить только игры, выпушенные с 2014 года.\n",
    "\n",
    "Были определены лидеры продаж среди платформ:\n",
    "       Данные о общей сумме продаж с 2014-2016 год\n",
    "PS4     288.15\n",
    "XOne    140.36\n",
    "3DS      86.68\n",
    "PS3      68.18\n",
    "X360     48.22\n",
    "Однако в последние три года у всех компаний наблюдается снижение общей суммы продаж, но в разной степени.\n",
    "\n",
    "Максимальные средние продажи наблюдаются у PS4. У всех платформ много выбросов, которые влияют на среднее. Однако, можно выделить двух лидеров - PS4,XOne, WiiU.\n",
    "\n",
    "Выяснено, что слабая положительная корреляция наблюдается между отзывами критиков и объемами продаж. Так,\n",
    "PS4 коэффициент корреляции: 0.40\n",
    "XOne коэффициент корреляции: 0.42\n",
    "3DS коэффициент корреляции: 0.29\n",
    "PS3 коэффициент корреляции: 0.45\n",
    "X360 коэффициент корреляции: 0.53\n",
    "\n",
    "Самый прибыльный жанр- \"Shooter\". Самый неприбыльный - \"Adventure\" если опираться на среднее. Если опираться на медиану, то также непопулярны \"Puzzle\", \"Strategy\".  \n",
    "\n",
    "<b>Задача 3. Портрет пользователя каждого региона.</b>\n",
    "\n",
    "Данные для Северной Америки и Европы - схожи. \n",
    "Самые популярные платформы для Северной Америки X360,XOne, WiiU, PS4, Wii.\n",
    "Самые популярные платформы для Европы Wii,PS4, XOne, WiiU, PC.\n",
    "\n",
    "Для Японии : 3DS, PSV, PS3, PSP, PS4.\n",
    "\n",
    "\n",
    "Самые популярные жанры для Северной Америки: Shooter, Platform, Sports, Fighting, Racing.\n",
    "Самые популярные жанры для Европы: Shooter, Platform,Racing, Sports, Simulation. \n",
    "Для Японии : Role-playing, Fighting, Puzzle, Action, Adventure.\n",
    "\n",
    "\n",
    "\n",
    "\n",
    "PS4 и XOne, жанр -Shooter, рейтинг - М.\n",
    "\n",
    "Для Японии самая популярная платформа - 3DS, жанр - Role-playing, и отсутсвие рейтинга ESRB.\n",
    "\n",
    "<b>Задача 4. Гипотезы.</b>\n",
    "\n",
    "Нулевая гипотеза о том, что средние пользовательские рейтинги платформ XOne и PS4 одинаковые- не отвергнута.\n",
    "Нулевая гипотеза о том, что средние пользовательские рейтинги жанров Action и Sports одинаковые - отвергнута.\n",
    "\n",
    "<b>Вывод:</b>по данным самой популярной платформой является PS4 и XOne.\n",
    "Жанр Shooter - считается наиболее прибыльным и популярным. При прогнозе успешности игры следуют больше уделять внимание оценкам критиков, чем пользователей. Для Японии нужно опираться на другие данные: самая популярная платформа - 3DS, жанр - Role-playing, и отсутсвие рейтинга ESRB.\n",
    "\n"
   ]
  }
 ],
 "metadata": {
  "ExecuteTimeLog": [
   {
    "duration": 375,
    "start_time": "2022-11-03T15:39:17.294Z"
   },
   {
    "duration": 407,
    "start_time": "2022-11-05T09:33:27.204Z"
   },
   {
    "duration": 112,
    "start_time": "2022-11-05T09:38:37.830Z"
   },
   {
    "duration": 48,
    "start_time": "2022-11-05T09:39:17.630Z"
   },
   {
    "duration": 66,
    "start_time": "2022-11-05T09:39:37.449Z"
   },
   {
    "duration": 8,
    "start_time": "2022-11-05T09:39:41.412Z"
   },
   {
    "duration": 29,
    "start_time": "2022-11-05T09:39:43.734Z"
   },
   {
    "duration": 13,
    "start_time": "2022-11-05T09:42:28.373Z"
   },
   {
    "duration": 17,
    "start_time": "2022-11-05T09:42:35.636Z"
   },
   {
    "duration": 8,
    "start_time": "2022-11-05T09:45:08.117Z"
   },
   {
    "duration": 9,
    "start_time": "2022-11-05T09:45:12.898Z"
   },
   {
    "duration": 7,
    "start_time": "2022-11-05T09:45:52.722Z"
   },
   {
    "duration": 9,
    "start_time": "2022-11-05T09:46:15.658Z"
   },
   {
    "duration": 2,
    "start_time": "2022-11-05T09:48:04.649Z"
   },
   {
    "duration": 843,
    "start_time": "2022-11-05T10:08:20.606Z"
   },
   {
    "duration": 522,
    "start_time": "2022-11-05T10:08:27.425Z"
   },
   {
    "duration": 422,
    "start_time": "2022-11-05T10:08:57.227Z"
   },
   {
    "duration": 486,
    "start_time": "2022-11-05T10:09:05.549Z"
   },
   {
    "duration": 2,
    "start_time": "2022-11-05T10:12:46.001Z"
   },
   {
    "duration": 4,
    "start_time": "2022-11-05T10:13:01.608Z"
   },
   {
    "duration": 5,
    "start_time": "2022-11-05T10:15:54.524Z"
   },
   {
    "duration": 5,
    "start_time": "2022-11-05T10:16:01.879Z"
   },
   {
    "duration": 5,
    "start_time": "2022-11-05T10:16:44.492Z"
   },
   {
    "duration": 3,
    "start_time": "2022-11-05T10:17:15.217Z"
   },
   {
    "duration": 38,
    "start_time": "2022-11-05T10:23:55.260Z"
   },
   {
    "duration": 3,
    "start_time": "2022-11-05T10:25:32.237Z"
   },
   {
    "duration": 10,
    "start_time": "2022-11-05T10:26:01.298Z"
   },
   {
    "duration": 15,
    "start_time": "2022-11-05T10:26:10.100Z"
   },
   {
    "duration": 5,
    "start_time": "2022-11-05T10:28:02.074Z"
   },
   {
    "duration": 8,
    "start_time": "2022-11-05T10:28:11.945Z"
   },
   {
    "duration": 14,
    "start_time": "2022-11-05T10:28:18.112Z"
   },
   {
    "duration": 6,
    "start_time": "2022-11-05T10:28:27.339Z"
   },
   {
    "duration": 15,
    "start_time": "2022-11-05T10:28:29.773Z"
   },
   {
    "duration": 4,
    "start_time": "2022-11-05T10:29:48.088Z"
   },
   {
    "duration": 13,
    "start_time": "2022-11-05T10:29:49.338Z"
   },
   {
    "duration": 6,
    "start_time": "2022-11-05T10:35:58.451Z"
   },
   {
    "duration": 7,
    "start_time": "2022-11-05T10:37:00.636Z"
   },
   {
    "duration": 14,
    "start_time": "2022-11-05T10:37:02.045Z"
   },
   {
    "duration": 3,
    "start_time": "2022-11-05T10:40:44.458Z"
   },
   {
    "duration": 8,
    "start_time": "2022-11-05T10:46:37.746Z"
   },
   {
    "duration": 7,
    "start_time": "2022-11-05T10:46:55.551Z"
   },
   {
    "duration": 10,
    "start_time": "2022-11-05T10:47:22.153Z"
   },
   {
    "duration": 5,
    "start_time": "2022-11-05T10:47:56.880Z"
   },
   {
    "duration": 5,
    "start_time": "2022-11-05T10:48:22.246Z"
   },
   {
    "duration": 11,
    "start_time": "2022-11-05T10:52:34.436Z"
   },
   {
    "duration": 7,
    "start_time": "2022-11-05T10:52:48.297Z"
   },
   {
    "duration": 6,
    "start_time": "2022-11-05T10:53:16.024Z"
   },
   {
    "duration": 5,
    "start_time": "2022-11-05T10:53:50.394Z"
   },
   {
    "duration": 6,
    "start_time": "2022-11-05T10:54:31.909Z"
   },
   {
    "duration": 139,
    "start_time": "2022-11-05T10:55:02.851Z"
   },
   {
    "duration": 80,
    "start_time": "2022-11-05T10:57:23.942Z"
   },
   {
    "duration": 655,
    "start_time": "2022-11-05T10:58:56.642Z"
   },
   {
    "duration": 6,
    "start_time": "2022-11-05T10:59:19.629Z"
   },
   {
    "duration": 10,
    "start_time": "2022-11-05T10:59:31.607Z"
   },
   {
    "duration": 3,
    "start_time": "2022-11-05T11:02:31.900Z"
   },
   {
    "duration": 71,
    "start_time": "2022-11-05T11:02:31.905Z"
   },
   {
    "duration": 18,
    "start_time": "2022-11-05T11:02:31.979Z"
   },
   {
    "duration": 20,
    "start_time": "2022-11-05T11:02:31.998Z"
   },
   {
    "duration": 50,
    "start_time": "2022-11-05T11:02:32.020Z"
   },
   {
    "duration": 14,
    "start_time": "2022-11-05T11:02:32.072Z"
   },
   {
    "duration": 22,
    "start_time": "2022-11-05T11:02:32.088Z"
   },
   {
    "duration": 18,
    "start_time": "2022-11-05T11:02:32.111Z"
   },
   {
    "duration": 20,
    "start_time": "2022-11-05T11:02:32.131Z"
   },
   {
    "duration": 15,
    "start_time": "2022-11-05T11:02:32.153Z"
   },
   {
    "duration": 17,
    "start_time": "2022-11-05T11:02:32.172Z"
   },
   {
    "duration": 25,
    "start_time": "2022-11-05T11:02:32.191Z"
   },
   {
    "duration": 18,
    "start_time": "2022-11-05T11:02:32.218Z"
   },
   {
    "duration": 6,
    "start_time": "2022-11-05T11:02:37.670Z"
   },
   {
    "duration": 29,
    "start_time": "2022-11-05T11:09:00.242Z"
   },
   {
    "duration": 41,
    "start_time": "2022-11-05T11:11:16.776Z"
   },
   {
    "duration": 7,
    "start_time": "2022-11-05T11:12:36.717Z"
   },
   {
    "duration": 6,
    "start_time": "2022-11-05T11:14:11.932Z"
   },
   {
    "duration": 5,
    "start_time": "2022-11-05T11:20:23.185Z"
   },
   {
    "duration": 11,
    "start_time": "2022-11-05T11:21:09.127Z"
   },
   {
    "duration": 3,
    "start_time": "2022-11-05T11:30:15.741Z"
   },
   {
    "duration": 14,
    "start_time": "2022-11-05T11:31:34.196Z"
   },
   {
    "duration": 84,
    "start_time": "2022-11-05T11:33:46.119Z"
   },
   {
    "duration": 68,
    "start_time": "2022-11-05T11:34:06.655Z"
   },
   {
    "duration": 7,
    "start_time": "2022-11-05T11:34:15.131Z"
   },
   {
    "duration": 55,
    "start_time": "2022-11-05T11:34:22.571Z"
   },
   {
    "duration": 54,
    "start_time": "2022-11-05T11:34:27.428Z"
   },
   {
    "duration": 5,
    "start_time": "2022-11-05T11:34:40.106Z"
   },
   {
    "duration": 6,
    "start_time": "2022-11-05T11:34:46.589Z"
   },
   {
    "duration": 15,
    "start_time": "2022-11-05T11:34:59.045Z"
   },
   {
    "duration": 3,
    "start_time": "2022-11-05T11:35:40.387Z"
   },
   {
    "duration": 2,
    "start_time": "2022-11-05T12:46:23.029Z"
   },
   {
    "duration": 137,
    "start_time": "2022-11-05T12:46:54.033Z"
   },
   {
    "duration": 131,
    "start_time": "2022-11-05T12:47:52.747Z"
   },
   {
    "duration": 5,
    "start_time": "2022-11-05T12:48:45.710Z"
   },
   {
    "duration": 9,
    "start_time": "2022-11-05T12:48:57.303Z"
   },
   {
    "duration": 127,
    "start_time": "2022-11-05T12:49:07.221Z"
   },
   {
    "duration": 8,
    "start_time": "2022-11-05T12:49:12.888Z"
   },
   {
    "duration": 9,
    "start_time": "2022-11-05T12:49:24.798Z"
   },
   {
    "duration": 123,
    "start_time": "2022-11-05T12:50:10.807Z"
   },
   {
    "duration": 132,
    "start_time": "2022-11-05T12:50:23.461Z"
   },
   {
    "duration": 44,
    "start_time": "2022-11-05T12:53:21.326Z"
   },
   {
    "duration": 128,
    "start_time": "2022-11-05T12:53:25.713Z"
   },
   {
    "duration": 129,
    "start_time": "2022-11-05T12:53:35.047Z"
   },
   {
    "duration": 40,
    "start_time": "2022-11-05T13:00:45.559Z"
   },
   {
    "duration": 11,
    "start_time": "2022-11-05T13:00:58.950Z"
   },
   {
    "duration": 127,
    "start_time": "2022-11-05T13:01:29.149Z"
   },
   {
    "duration": 121,
    "start_time": "2022-11-05T13:02:04.904Z"
   },
   {
    "duration": 38,
    "start_time": "2022-11-05T13:03:09.858Z"
   },
   {
    "duration": 47,
    "start_time": "2022-11-05T13:03:25.623Z"
   },
   {
    "duration": 10,
    "start_time": "2022-11-05T13:03:30.417Z"
   },
   {
    "duration": 73,
    "start_time": "2022-11-05T13:10:07.957Z"
   },
   {
    "duration": 9,
    "start_time": "2022-11-05T13:14:40.578Z"
   },
   {
    "duration": 3,
    "start_time": "2022-11-05T13:15:30.668Z"
   },
   {
    "duration": 9,
    "start_time": "2022-11-05T13:16:50.571Z"
   },
   {
    "duration": 13,
    "start_time": "2022-11-05T13:17:04.117Z"
   },
   {
    "duration": 9,
    "start_time": "2022-11-05T13:17:19.716Z"
   },
   {
    "duration": 14,
    "start_time": "2022-11-05T13:17:33.311Z"
   },
   {
    "duration": 8,
    "start_time": "2022-11-05T13:17:42.250Z"
   },
   {
    "duration": 8,
    "start_time": "2022-11-05T13:17:57.340Z"
   },
   {
    "duration": 8,
    "start_time": "2022-11-05T13:19:13.563Z"
   },
   {
    "duration": 8,
    "start_time": "2022-11-05T13:19:30.083Z"
   },
   {
    "duration": 6,
    "start_time": "2022-11-05T13:20:39.121Z"
   },
   {
    "duration": 1274,
    "start_time": "2022-11-05T15:07:20.222Z"
   },
   {
    "duration": 114,
    "start_time": "2022-11-05T15:07:21.498Z"
   },
   {
    "duration": 16,
    "start_time": "2022-11-05T15:07:21.614Z"
   },
   {
    "duration": 10,
    "start_time": "2022-11-05T15:07:21.632Z"
   },
   {
    "duration": 33,
    "start_time": "2022-11-05T15:07:21.643Z"
   },
   {
    "duration": 43,
    "start_time": "2022-11-05T15:07:21.678Z"
   },
   {
    "duration": 10,
    "start_time": "2022-11-05T15:07:21.723Z"
   },
   {
    "duration": 10,
    "start_time": "2022-11-05T15:07:21.735Z"
   },
   {
    "duration": 14,
    "start_time": "2022-11-05T15:07:21.746Z"
   },
   {
    "duration": 5,
    "start_time": "2022-11-05T15:07:21.762Z"
   },
   {
    "duration": 15,
    "start_time": "2022-11-05T15:07:21.769Z"
   },
   {
    "duration": 4,
    "start_time": "2022-11-05T15:07:21.821Z"
   },
   {
    "duration": 26,
    "start_time": "2022-11-05T15:07:21.827Z"
   },
   {
    "duration": 9,
    "start_time": "2022-11-05T15:07:21.855Z"
   },
   {
    "duration": 26,
    "start_time": "2022-11-05T15:07:21.866Z"
   },
   {
    "duration": 4,
    "start_time": "2022-11-05T15:07:21.893Z"
   },
   {
    "duration": 26,
    "start_time": "2022-11-05T15:07:21.898Z"
   },
   {
    "duration": 12,
    "start_time": "2022-11-05T15:07:21.925Z"
   },
   {
    "duration": 20,
    "start_time": "2022-11-05T15:07:21.938Z"
   },
   {
    "duration": 8,
    "start_time": "2022-11-05T15:07:21.960Z"
   },
   {
    "duration": 52,
    "start_time": "2022-11-05T15:07:21.970Z"
   },
   {
    "duration": 157,
    "start_time": "2022-11-05T15:07:22.024Z"
   },
   {
    "duration": 140,
    "start_time": "2022-11-05T15:07:22.182Z"
   },
   {
    "duration": 9,
    "start_time": "2022-11-05T15:07:22.324Z"
   },
   {
    "duration": 25,
    "start_time": "2022-11-05T15:07:22.334Z"
   },
   {
    "duration": 48,
    "start_time": "2022-11-05T15:07:31.180Z"
   },
   {
    "duration": 133,
    "start_time": "2022-11-05T15:08:09.001Z"
   },
   {
    "duration": 15,
    "start_time": "2022-11-05T15:08:28.867Z"
   },
   {
    "duration": 12,
    "start_time": "2022-11-05T15:08:37.483Z"
   },
   {
    "duration": 12,
    "start_time": "2022-11-05T15:08:42.479Z"
   },
   {
    "duration": 14,
    "start_time": "2022-11-05T15:08:49.483Z"
   },
   {
    "duration": 11,
    "start_time": "2022-11-05T15:09:27.936Z"
   },
   {
    "duration": 899,
    "start_time": "2022-11-05T15:10:05.433Z"
   },
   {
    "duration": 4,
    "start_time": "2022-11-05T15:10:12.103Z"
   },
   {
    "duration": 4,
    "start_time": "2022-11-05T15:10:19.756Z"
   },
   {
    "duration": 4,
    "start_time": "2022-11-05T15:10:25.459Z"
   },
   {
    "duration": 21,
    "start_time": "2022-11-05T15:10:41.652Z"
   },
   {
    "duration": 30,
    "start_time": "2022-11-05T15:11:10.522Z"
   },
   {
    "duration": 44,
    "start_time": "2022-11-05T15:12:23.900Z"
   },
   {
    "duration": 24,
    "start_time": "2022-11-05T15:12:30.538Z"
   },
   {
    "duration": 150,
    "start_time": "2022-11-05T15:13:16.615Z"
   },
   {
    "duration": 25,
    "start_time": "2022-11-05T15:13:35.377Z"
   },
   {
    "duration": 39,
    "start_time": "2022-11-05T15:14:49.992Z"
   },
   {
    "duration": 158,
    "start_time": "2022-11-05T15:16:01.057Z"
   },
   {
    "duration": 742,
    "start_time": "2022-11-05T15:17:47.530Z"
   },
   {
    "duration": 41,
    "start_time": "2022-11-05T15:17:59.162Z"
   },
   {
    "duration": 33,
    "start_time": "2022-11-05T15:18:12.318Z"
   },
   {
    "duration": 26,
    "start_time": "2022-11-05T15:20:29.075Z"
   },
   {
    "duration": 18,
    "start_time": "2022-11-05T15:20:33.130Z"
   },
   {
    "duration": 874,
    "start_time": "2022-11-05T15:20:44.514Z"
   },
   {
    "duration": 18,
    "start_time": "2022-11-05T15:20:54.018Z"
   },
   {
    "duration": 43,
    "start_time": "2022-11-05T15:21:08.097Z"
   },
   {
    "duration": 35,
    "start_time": "2022-11-05T15:21:12.631Z"
   },
   {
    "duration": 122,
    "start_time": "2022-11-05T15:23:32.658Z"
   },
   {
    "duration": 26,
    "start_time": "2022-11-05T15:24:07.868Z"
   },
   {
    "duration": 29,
    "start_time": "2022-11-05T15:24:17.172Z"
   },
   {
    "duration": 20,
    "start_time": "2022-11-05T15:24:50.946Z"
   },
   {
    "duration": 20,
    "start_time": "2022-11-05T15:24:53.722Z"
   },
   {
    "duration": 38,
    "start_time": "2022-11-05T15:28:32.398Z"
   },
   {
    "duration": 12,
    "start_time": "2022-11-05T15:36:34.320Z"
   },
   {
    "duration": 42,
    "start_time": "2022-11-05T15:37:10.215Z"
   },
   {
    "duration": 24,
    "start_time": "2022-11-05T15:37:29.401Z"
   },
   {
    "duration": 14,
    "start_time": "2022-11-05T15:40:58.129Z"
   },
   {
    "duration": 8,
    "start_time": "2022-11-05T15:41:05.549Z"
   },
   {
    "duration": 47,
    "start_time": "2022-11-05T15:41:15.757Z"
   },
   {
    "duration": 8,
    "start_time": "2022-11-05T15:41:26.950Z"
   },
   {
    "duration": 43,
    "start_time": "2022-11-05T15:41:29.304Z"
   },
   {
    "duration": 10,
    "start_time": "2022-11-05T15:41:41.955Z"
   },
   {
    "duration": 22,
    "start_time": "2022-11-05T15:41:53.389Z"
   },
   {
    "duration": 13,
    "start_time": "2022-11-05T15:48:54.614Z"
   },
   {
    "duration": 23,
    "start_time": "2022-11-05T15:48:58.370Z"
   },
   {
    "duration": 172,
    "start_time": "2022-11-05T15:49:09.529Z"
   },
   {
    "duration": 11,
    "start_time": "2022-11-05T15:49:20.538Z"
   },
   {
    "duration": 136,
    "start_time": "2022-11-05T15:49:23.900Z"
   },
   {
    "duration": 123,
    "start_time": "2022-11-05T15:49:34.781Z"
   },
   {
    "duration": 127,
    "start_time": "2022-11-05T15:53:43.479Z"
   },
   {
    "duration": 4,
    "start_time": "2022-11-05T15:56:27.728Z"
   },
   {
    "duration": 3,
    "start_time": "2022-11-05T15:56:45.304Z"
   },
   {
    "duration": 27,
    "start_time": "2022-11-05T15:57:47.446Z"
   },
   {
    "duration": 100,
    "start_time": "2022-11-05T15:58:01.571Z"
   },
   {
    "duration": 104,
    "start_time": "2022-11-05T15:58:11.436Z"
   },
   {
    "duration": 14,
    "start_time": "2022-11-05T15:58:40.667Z"
   },
   {
    "duration": 5,
    "start_time": "2022-11-05T15:59:08.416Z"
   },
   {
    "duration": 7,
    "start_time": "2022-11-05T15:59:21.323Z"
   },
   {
    "duration": 35,
    "start_time": "2022-11-05T15:59:32.266Z"
   },
   {
    "duration": 52,
    "start_time": "2022-11-05T15:59:45.399Z"
   },
   {
    "duration": 94,
    "start_time": "2022-11-05T15:59:53.519Z"
   },
   {
    "duration": 109,
    "start_time": "2022-11-05T15:59:59.430Z"
   },
   {
    "duration": 154,
    "start_time": "2022-11-05T16:00:19.639Z"
   },
   {
    "duration": 17,
    "start_time": "2022-11-05T16:00:45.766Z"
   },
   {
    "duration": 14,
    "start_time": "2022-11-05T16:01:16.855Z"
   },
   {
    "duration": 18,
    "start_time": "2022-11-05T16:02:24.866Z"
   },
   {
    "duration": 15,
    "start_time": "2022-11-05T16:03:34.013Z"
   },
   {
    "duration": 162,
    "start_time": "2022-11-05T16:03:56.386Z"
   },
   {
    "duration": 21,
    "start_time": "2022-11-05T16:04:09.390Z"
   },
   {
    "duration": 11,
    "start_time": "2022-11-05T16:04:11.569Z"
   },
   {
    "duration": 13,
    "start_time": "2022-11-05T16:06:35.077Z"
   },
   {
    "duration": 17,
    "start_time": "2022-11-05T16:06:57.556Z"
   },
   {
    "duration": 16,
    "start_time": "2022-11-05T16:09:23.279Z"
   },
   {
    "duration": 5,
    "start_time": "2022-11-05T16:09:43.100Z"
   },
   {
    "duration": 16,
    "start_time": "2022-11-05T16:10:00.368Z"
   },
   {
    "duration": 177,
    "start_time": "2022-11-05T16:10:36.752Z"
   },
   {
    "duration": 166,
    "start_time": "2022-11-05T16:10:40.186Z"
   },
   {
    "duration": 25,
    "start_time": "2022-11-05T16:14:05.484Z"
   },
   {
    "duration": 8,
    "start_time": "2022-11-05T16:19:40.092Z"
   },
   {
    "duration": 5,
    "start_time": "2022-11-05T16:20:06.572Z"
   },
   {
    "duration": 23,
    "start_time": "2022-11-05T16:20:24.456Z"
   },
   {
    "duration": 2,
    "start_time": "2022-11-05T16:35:48.629Z"
   },
   {
    "duration": 11,
    "start_time": "2022-11-05T17:53:23.794Z"
   },
   {
    "duration": 11,
    "start_time": "2022-11-05T17:53:54.301Z"
   },
   {
    "duration": 5,
    "start_time": "2022-11-05T17:54:07.158Z"
   },
   {
    "duration": 6,
    "start_time": "2022-11-05T17:54:19.471Z"
   },
   {
    "duration": 9,
    "start_time": "2022-11-05T17:54:30.078Z"
   },
   {
    "duration": 5,
    "start_time": "2022-11-05T17:55:13.924Z"
   },
   {
    "duration": 9,
    "start_time": "2022-11-05T17:57:16.132Z"
   },
   {
    "duration": 8,
    "start_time": "2022-11-05T17:58:38.574Z"
   },
   {
    "duration": 27,
    "start_time": "2022-11-05T17:58:58.429Z"
   },
   {
    "duration": 9,
    "start_time": "2022-11-05T17:59:04.461Z"
   },
   {
    "duration": 9,
    "start_time": "2022-11-05T17:59:56.867Z"
   },
   {
    "duration": 7,
    "start_time": "2022-11-05T18:00:16.702Z"
   },
   {
    "duration": 7,
    "start_time": "2022-11-05T18:00:23.922Z"
   },
   {
    "duration": 28,
    "start_time": "2022-11-05T18:01:17.885Z"
   },
   {
    "duration": 30,
    "start_time": "2022-11-05T18:01:32.512Z"
   },
   {
    "duration": 8,
    "start_time": "2022-11-05T18:01:53.860Z"
   },
   {
    "duration": 7,
    "start_time": "2022-11-05T18:02:02.318Z"
   },
   {
    "duration": 7,
    "start_time": "2022-11-05T18:02:27.140Z"
   },
   {
    "duration": 7,
    "start_time": "2022-11-05T18:02:39.515Z"
   },
   {
    "duration": 42,
    "start_time": "2022-11-05T18:03:34.389Z"
   },
   {
    "duration": 46,
    "start_time": "2022-11-05T18:03:52.794Z"
   },
   {
    "duration": 118,
    "start_time": "2022-11-05T18:04:07.160Z"
   },
   {
    "duration": 4,
    "start_time": "2022-11-05T18:11:55.005Z"
   },
   {
    "duration": 3,
    "start_time": "2022-11-05T18:12:13.369Z"
   },
   {
    "duration": 4,
    "start_time": "2022-11-05T18:12:38.092Z"
   },
   {
    "duration": 4,
    "start_time": "2022-11-05T18:12:50.405Z"
   },
   {
    "duration": 6,
    "start_time": "2022-11-05T18:15:56.651Z"
   },
   {
    "duration": 686,
    "start_time": "2022-11-05T18:18:25.542Z"
   },
   {
    "duration": 815,
    "start_time": "2022-11-05T18:18:50.288Z"
   },
   {
    "duration": 5,
    "start_time": "2022-11-05T18:19:21.311Z"
   },
   {
    "duration": 22,
    "start_time": "2022-11-05T18:19:24.290Z"
   },
   {
    "duration": 15,
    "start_time": "2022-11-05T18:24:08.200Z"
   },
   {
    "duration": 14,
    "start_time": "2022-11-05T18:24:16.043Z"
   },
   {
    "duration": 13,
    "start_time": "2022-11-05T18:24:25.608Z"
   },
   {
    "duration": 12,
    "start_time": "2022-11-05T18:24:28.312Z"
   },
   {
    "duration": 14,
    "start_time": "2022-11-05T18:24:36.459Z"
   },
   {
    "duration": 81,
    "start_time": "2022-11-05T18:24:58.243Z"
   },
   {
    "duration": 3,
    "start_time": "2022-11-05T18:25:25.727Z"
   },
   {
    "duration": 67,
    "start_time": "2022-11-05T18:25:25.732Z"
   },
   {
    "duration": 14,
    "start_time": "2022-11-05T18:25:25.801Z"
   },
   {
    "duration": 14,
    "start_time": "2022-11-05T18:25:25.817Z"
   },
   {
    "duration": 31,
    "start_time": "2022-11-05T18:25:25.949Z"
   },
   {
    "duration": 5,
    "start_time": "2022-11-05T18:25:25.982Z"
   },
   {
    "duration": 5,
    "start_time": "2022-11-05T18:25:25.989Z"
   },
   {
    "duration": 32,
    "start_time": "2022-11-05T18:25:25.995Z"
   },
   {
    "duration": 14,
    "start_time": "2022-11-05T18:25:26.028Z"
   },
   {
    "duration": 5,
    "start_time": "2022-11-05T18:25:26.044Z"
   },
   {
    "duration": 11,
    "start_time": "2022-11-05T18:25:26.051Z"
   },
   {
    "duration": 5,
    "start_time": "2022-11-05T18:25:26.064Z"
   },
   {
    "duration": 9,
    "start_time": "2022-11-05T18:25:26.071Z"
   },
   {
    "duration": 5,
    "start_time": "2022-11-05T18:25:26.084Z"
   },
   {
    "duration": 21,
    "start_time": "2022-11-05T18:25:26.121Z"
   },
   {
    "duration": 7,
    "start_time": "2022-11-05T18:25:26.144Z"
   },
   {
    "duration": 16,
    "start_time": "2022-11-05T18:25:26.153Z"
   },
   {
    "duration": 14,
    "start_time": "2022-11-05T18:25:26.170Z"
   },
   {
    "duration": 5,
    "start_time": "2022-11-05T18:25:26.185Z"
   },
   {
    "duration": 29,
    "start_time": "2022-11-05T18:25:26.192Z"
   },
   {
    "duration": 11,
    "start_time": "2022-11-05T18:25:26.223Z"
   },
   {
    "duration": 5,
    "start_time": "2022-11-05T18:25:26.236Z"
   },
   {
    "duration": 16,
    "start_time": "2022-11-05T18:25:26.242Z"
   },
   {
    "duration": 151,
    "start_time": "2022-11-05T18:25:26.260Z"
   },
   {
    "duration": 132,
    "start_time": "2022-11-05T18:25:26.420Z"
   },
   {
    "duration": 8,
    "start_time": "2022-11-05T18:25:26.554Z"
   },
   {
    "duration": 11,
    "start_time": "2022-11-05T18:25:26.563Z"
   },
   {
    "duration": 56,
    "start_time": "2022-11-05T18:25:26.577Z"
   },
   {
    "duration": 12,
    "start_time": "2022-11-05T18:25:26.635Z"
   },
   {
    "duration": 23,
    "start_time": "2022-11-05T18:25:26.649Z"
   },
   {
    "duration": 10,
    "start_time": "2022-11-05T18:25:26.673Z"
   },
   {
    "duration": 38,
    "start_time": "2022-11-05T18:25:26.684Z"
   },
   {
    "duration": 170,
    "start_time": "2022-11-05T18:25:26.724Z"
   },
   {
    "duration": 40,
    "start_time": "2022-11-05T18:25:26.895Z"
   },
   {
    "duration": 7,
    "start_time": "2022-11-05T18:25:26.937Z"
   },
   {
    "duration": 8,
    "start_time": "2022-11-05T18:25:26.945Z"
   },
   {
    "duration": 12,
    "start_time": "2022-11-05T18:25:26.955Z"
   },
   {
    "duration": 11,
    "start_time": "2022-11-05T18:25:26.969Z"
   },
   {
    "duration": 9,
    "start_time": "2022-11-05T18:25:26.982Z"
   },
   {
    "duration": 30,
    "start_time": "2022-11-05T18:25:26.992Z"
   },
   {
    "duration": 7,
    "start_time": "2022-11-05T18:25:27.025Z"
   },
   {
    "duration": 9,
    "start_time": "2022-11-05T18:25:27.034Z"
   },
   {
    "duration": 6,
    "start_time": "2022-11-05T18:25:27.045Z"
   },
   {
    "duration": 8,
    "start_time": "2022-11-05T18:25:27.053Z"
   },
   {
    "duration": 6,
    "start_time": "2022-11-05T18:25:33.862Z"
   },
   {
    "duration": 162,
    "start_time": "2022-11-05T18:25:36.445Z"
   },
   {
    "duration": 6,
    "start_time": "2022-11-05T18:25:54.562Z"
   },
   {
    "duration": 143,
    "start_time": "2022-11-05T18:25:55.996Z"
   },
   {
    "duration": 5,
    "start_time": "2022-11-05T18:29:46.032Z"
   },
   {
    "duration": 5,
    "start_time": "2022-11-05T18:29:57.628Z"
   },
   {
    "duration": 42,
    "start_time": "2022-11-05T18:30:44.729Z"
   },
   {
    "duration": 29,
    "start_time": "2022-11-05T18:40:14.355Z"
   },
   {
    "duration": 4,
    "start_time": "2022-11-05T18:40:21.669Z"
   },
   {
    "duration": 30,
    "start_time": "2022-11-05T18:40:28.647Z"
   },
   {
    "duration": 31,
    "start_time": "2022-11-05T18:41:07.428Z"
   },
   {
    "duration": 2,
    "start_time": "2022-11-05T18:42:41.209Z"
   },
   {
    "duration": 332,
    "start_time": "2022-11-05T18:44:05.053Z"
   },
   {
    "duration": 96,
    "start_time": "2022-11-05T18:44:25.142Z"
   },
   {
    "duration": 259,
    "start_time": "2022-11-05T18:45:00.836Z"
   },
   {
    "duration": 131,
    "start_time": "2022-11-05T18:45:18.336Z"
   },
   {
    "duration": 134,
    "start_time": "2022-11-05T18:45:41.526Z"
   },
   {
    "duration": 368,
    "start_time": "2022-11-05T18:46:54.437Z"
   },
   {
    "duration": 278,
    "start_time": "2022-11-05T18:47:29.672Z"
   },
   {
    "duration": 41,
    "start_time": "2022-11-05T18:48:02.893Z"
   },
   {
    "duration": 35,
    "start_time": "2022-11-05T18:52:46.366Z"
   },
   {
    "duration": 38,
    "start_time": "2022-11-05T18:52:58.248Z"
   },
   {
    "duration": 3,
    "start_time": "2022-11-05T18:54:48.411Z"
   },
   {
    "duration": 16,
    "start_time": "2022-11-05T19:38:09.996Z"
   },
   {
    "duration": 308,
    "start_time": "2022-11-05T19:38:37.162Z"
   },
   {
    "duration": 45,
    "start_time": "2022-11-05T19:38:53.188Z"
   },
   {
    "duration": 58,
    "start_time": "2022-11-05T19:38:57.099Z"
   },
   {
    "duration": 312,
    "start_time": "2022-11-05T19:39:12.094Z"
   },
   {
    "duration": 184,
    "start_time": "2022-11-05T19:39:25.798Z"
   },
   {
    "duration": 15,
    "start_time": "2022-11-05T19:41:42.451Z"
   },
   {
    "duration": 14,
    "start_time": "2022-11-05T19:42:14.924Z"
   },
   {
    "duration": 150,
    "start_time": "2022-11-05T19:42:22.959Z"
   },
   {
    "duration": 11,
    "start_time": "2022-11-05T19:42:36.042Z"
   },
   {
    "duration": 12,
    "start_time": "2022-11-05T19:44:37.685Z"
   },
   {
    "duration": 15,
    "start_time": "2022-11-05T19:46:00.786Z"
   },
   {
    "duration": 15,
    "start_time": "2022-11-05T19:46:09.950Z"
   },
   {
    "duration": 14,
    "start_time": "2022-11-05T19:46:20.404Z"
   },
   {
    "duration": 13,
    "start_time": "2022-11-05T19:46:33.445Z"
   },
   {
    "duration": 45,
    "start_time": "2022-11-05T19:46:42.386Z"
   },
   {
    "duration": 12,
    "start_time": "2022-11-05T19:46:46.956Z"
   },
   {
    "duration": 10,
    "start_time": "2022-11-05T19:46:54.909Z"
   },
   {
    "duration": 42,
    "start_time": "2022-11-05T19:47:02.723Z"
   },
   {
    "duration": 13,
    "start_time": "2022-11-05T19:47:13.794Z"
   },
   {
    "duration": 17,
    "start_time": "2022-11-05T19:47:31.110Z"
   },
   {
    "duration": 12,
    "start_time": "2022-11-05T19:47:34.157Z"
   },
   {
    "duration": 9,
    "start_time": "2022-11-05T19:48:17.478Z"
   },
   {
    "duration": 10,
    "start_time": "2022-11-05T19:48:21.516Z"
   },
   {
    "duration": 10,
    "start_time": "2022-11-05T19:49:14.625Z"
   },
   {
    "duration": 11,
    "start_time": "2022-11-05T19:50:43.510Z"
   },
   {
    "duration": 10,
    "start_time": "2022-11-05T19:50:48.614Z"
   },
   {
    "duration": 13,
    "start_time": "2022-11-05T19:50:54.489Z"
   },
   {
    "duration": 17,
    "start_time": "2022-11-05T19:51:09.310Z"
   },
   {
    "duration": 29,
    "start_time": "2022-11-05T19:51:15.264Z"
   },
   {
    "duration": 19,
    "start_time": "2022-11-05T19:51:25.729Z"
   },
   {
    "duration": 50,
    "start_time": "2022-11-05T19:51:28.277Z"
   },
   {
    "duration": 16,
    "start_time": "2022-11-05T19:51:31.298Z"
   },
   {
    "duration": 14,
    "start_time": "2022-11-05T19:51:51.748Z"
   },
   {
    "duration": 10,
    "start_time": "2022-11-05T19:53:11.008Z"
   },
   {
    "duration": 54,
    "start_time": "2022-11-05T19:53:14.775Z"
   },
   {
    "duration": 10,
    "start_time": "2022-11-05T19:53:17.035Z"
   },
   {
    "duration": 10,
    "start_time": "2022-11-05T19:53:33.940Z"
   },
   {
    "duration": 11,
    "start_time": "2022-11-05T19:53:44.132Z"
   },
   {
    "duration": 12,
    "start_time": "2022-11-05T19:54:14.529Z"
   },
   {
    "duration": 12,
    "start_time": "2022-11-05T19:54:31.591Z"
   },
   {
    "duration": 11,
    "start_time": "2022-11-05T19:54:51.572Z"
   },
   {
    "duration": 11,
    "start_time": "2022-11-05T19:55:01.761Z"
   },
   {
    "duration": 45,
    "start_time": "2022-11-05T19:55:21.181Z"
   },
   {
    "duration": 11,
    "start_time": "2022-11-05T19:55:24.039Z"
   },
   {
    "duration": 42,
    "start_time": "2022-11-05T19:56:34.711Z"
   },
   {
    "duration": 40,
    "start_time": "2022-11-05T19:56:45.163Z"
   },
   {
    "duration": 10,
    "start_time": "2022-11-05T19:56:51.718Z"
   },
   {
    "duration": 50,
    "start_time": "2022-11-05T19:56:57.989Z"
   },
   {
    "duration": 37,
    "start_time": "2022-11-05T19:57:04.837Z"
   },
   {
    "duration": 41,
    "start_time": "2022-11-05T19:57:10.910Z"
   },
   {
    "duration": 11,
    "start_time": "2022-11-05T19:57:14.719Z"
   },
   {
    "duration": 14,
    "start_time": "2022-11-05T19:57:19.670Z"
   },
   {
    "duration": 18,
    "start_time": "2022-11-05T19:58:22.880Z"
   },
   {
    "duration": 13,
    "start_time": "2022-11-05T19:58:28.678Z"
   },
   {
    "duration": 13,
    "start_time": "2022-11-05T19:59:22.006Z"
   },
   {
    "duration": 2,
    "start_time": "2022-11-05T20:01:58.081Z"
   },
   {
    "duration": 149,
    "start_time": "2022-11-05T20:03:57.971Z"
   },
   {
    "duration": 193,
    "start_time": "2022-11-05T20:04:04.330Z"
   },
   {
    "duration": 152,
    "start_time": "2022-11-05T20:04:08.018Z"
   },
   {
    "duration": 236,
    "start_time": "2022-11-05T20:04:46.552Z"
   },
   {
    "duration": 139,
    "start_time": "2022-11-05T20:04:55.381Z"
   },
   {
    "duration": 156,
    "start_time": "2022-11-05T20:08:05.570Z"
   },
   {
    "duration": 131,
    "start_time": "2022-11-05T20:08:26.095Z"
   },
   {
    "duration": 145,
    "start_time": "2022-11-05T20:08:34.345Z"
   },
   {
    "duration": 123,
    "start_time": "2022-11-05T20:09:56.458Z"
   },
   {
    "duration": 660,
    "start_time": "2022-11-05T20:12:04.262Z"
   },
   {
    "duration": 191,
    "start_time": "2022-11-05T20:12:12.672Z"
   },
   {
    "duration": 169,
    "start_time": "2022-11-05T20:14:04.031Z"
   },
   {
    "duration": 47,
    "start_time": "2022-11-05T20:14:21.152Z"
   },
   {
    "duration": 202,
    "start_time": "2022-11-05T20:15:04.683Z"
   },
   {
    "duration": 37,
    "start_time": "2022-11-05T20:15:25.936Z"
   },
   {
    "duration": 3,
    "start_time": "2022-11-05T20:18:14.421Z"
   },
   {
    "duration": 145,
    "start_time": "2022-11-05T20:23:28.338Z"
   },
   {
    "duration": 41,
    "start_time": "2022-11-05T20:24:26.035Z"
   },
   {
    "duration": 145,
    "start_time": "2022-11-05T20:24:58.287Z"
   },
   {
    "duration": 118,
    "start_time": "2022-11-05T20:25:40.386Z"
   },
   {
    "duration": 39,
    "start_time": "2022-11-05T20:26:28.482Z"
   },
   {
    "duration": 15,
    "start_time": "2022-11-05T20:27:13.475Z"
   },
   {
    "duration": 14,
    "start_time": "2022-11-05T20:28:04.543Z"
   },
   {
    "duration": 18,
    "start_time": "2022-11-05T20:28:36.046Z"
   },
   {
    "duration": 3,
    "start_time": "2022-11-05T20:30:51.766Z"
   },
   {
    "duration": 3,
    "start_time": "2022-11-05T20:33:21.338Z"
   },
   {
    "duration": 8,
    "start_time": "2022-11-05T20:35:14.876Z"
   },
   {
    "duration": 706,
    "start_time": "2022-11-05T20:39:11.167Z"
   },
   {
    "duration": 7,
    "start_time": "2022-11-05T20:39:17.193Z"
   },
   {
    "duration": 7,
    "start_time": "2022-11-05T20:40:37.675Z"
   },
   {
    "duration": 6,
    "start_time": "2022-11-05T20:41:26.013Z"
   },
   {
    "duration": 2,
    "start_time": "2022-11-05T20:55:11.614Z"
   },
   {
    "duration": 8,
    "start_time": "2022-11-05T20:57:18.054Z"
   },
   {
    "duration": 8,
    "start_time": "2022-11-05T20:58:21.288Z"
   },
   {
    "duration": 68,
    "start_time": "2022-11-05T21:10:58.814Z"
   },
   {
    "duration": 8,
    "start_time": "2022-11-05T21:11:13.010Z"
   },
   {
    "duration": 1093,
    "start_time": "2022-11-05T21:58:29.122Z"
   },
   {
    "duration": 65,
    "start_time": "2022-11-05T21:58:30.217Z"
   },
   {
    "duration": 15,
    "start_time": "2022-11-05T21:58:30.284Z"
   },
   {
    "duration": 8,
    "start_time": "2022-11-05T21:58:30.301Z"
   },
   {
    "duration": 33,
    "start_time": "2022-11-05T21:58:30.310Z"
   },
   {
    "duration": 4,
    "start_time": "2022-11-05T21:58:30.344Z"
   },
   {
    "duration": 10,
    "start_time": "2022-11-05T21:58:30.349Z"
   },
   {
    "duration": 9,
    "start_time": "2022-11-05T21:58:30.361Z"
   },
   {
    "duration": 12,
    "start_time": "2022-11-05T21:58:30.371Z"
   },
   {
    "duration": 4,
    "start_time": "2022-11-05T21:58:30.385Z"
   },
   {
    "duration": 9,
    "start_time": "2022-11-05T21:58:30.390Z"
   },
   {
    "duration": 22,
    "start_time": "2022-11-05T21:58:30.401Z"
   },
   {
    "duration": 7,
    "start_time": "2022-11-05T21:58:30.425Z"
   },
   {
    "duration": 9,
    "start_time": "2022-11-05T21:58:30.433Z"
   },
   {
    "duration": 22,
    "start_time": "2022-11-05T21:58:30.444Z"
   },
   {
    "duration": 4,
    "start_time": "2022-11-05T21:58:30.468Z"
   },
   {
    "duration": 22,
    "start_time": "2022-11-05T21:58:30.473Z"
   },
   {
    "duration": 35,
    "start_time": "2022-11-05T21:58:30.497Z"
   },
   {
    "duration": 15,
    "start_time": "2022-11-05T21:58:30.533Z"
   },
   {
    "duration": 8,
    "start_time": "2022-11-05T21:58:30.549Z"
   },
   {
    "duration": 16,
    "start_time": "2022-11-05T21:58:30.558Z"
   },
   {
    "duration": 5,
    "start_time": "2022-11-05T21:58:30.576Z"
   },
   {
    "duration": 18,
    "start_time": "2022-11-05T21:58:30.583Z"
   },
   {
    "duration": 134,
    "start_time": "2022-11-05T21:58:30.603Z"
   },
   {
    "duration": 125,
    "start_time": "2022-11-05T21:58:30.739Z"
   },
   {
    "duration": 7,
    "start_time": "2022-11-05T21:58:30.866Z"
   },
   {
    "duration": 34,
    "start_time": "2022-11-05T21:58:30.874Z"
   },
   {
    "duration": 37,
    "start_time": "2022-11-05T21:58:30.912Z"
   },
   {
    "duration": 10,
    "start_time": "2022-11-05T21:58:30.950Z"
   },
   {
    "duration": 33,
    "start_time": "2022-11-05T21:58:30.962Z"
   },
   {
    "duration": 20,
    "start_time": "2022-11-05T21:58:30.996Z"
   },
   {
    "duration": 48,
    "start_time": "2022-11-05T21:58:31.021Z"
   },
   {
    "duration": 184,
    "start_time": "2022-11-05T21:58:31.071Z"
   },
   {
    "duration": 24,
    "start_time": "2022-11-05T21:58:31.257Z"
   },
   {
    "duration": 8,
    "start_time": "2022-11-05T21:58:31.282Z"
   },
   {
    "duration": 25,
    "start_time": "2022-11-05T21:58:31.292Z"
   },
   {
    "duration": 33,
    "start_time": "2022-11-05T21:58:31.322Z"
   },
   {
    "duration": 46,
    "start_time": "2022-11-05T21:58:31.356Z"
   },
   {
    "duration": 24,
    "start_time": "2022-11-05T21:58:31.403Z"
   },
   {
    "duration": 44,
    "start_time": "2022-11-05T21:58:31.429Z"
   },
   {
    "duration": 11,
    "start_time": "2022-11-05T21:58:31.475Z"
   },
   {
    "duration": 13,
    "start_time": "2022-11-05T21:58:31.487Z"
   },
   {
    "duration": 6,
    "start_time": "2022-11-05T21:58:31.502Z"
   },
   {
    "duration": 11,
    "start_time": "2022-11-05T21:58:31.510Z"
   },
   {
    "duration": 16,
    "start_time": "2022-11-05T21:58:31.522Z"
   },
   {
    "duration": 157,
    "start_time": "2022-11-05T21:58:31.540Z"
   },
   {
    "duration": 4,
    "start_time": "2022-11-05T21:58:31.698Z"
   },
   {
    "duration": 8,
    "start_time": "2022-11-05T21:58:31.703Z"
   },
   {
    "duration": 38,
    "start_time": "2022-11-05T21:58:31.712Z"
   },
   {
    "duration": 234,
    "start_time": "2022-11-05T21:58:31.752Z"
   },
   {
    "duration": 47,
    "start_time": "2022-11-05T21:58:31.988Z"
   },
   {
    "duration": 140,
    "start_time": "2022-11-05T21:58:32.036Z"
   },
   {
    "duration": 125,
    "start_time": "2022-11-05T21:58:32.178Z"
   },
   {
    "duration": 200,
    "start_time": "2022-11-05T21:58:32.304Z"
   },
   {
    "duration": 128,
    "start_time": "2022-11-05T21:58:32.505Z"
   },
   {
    "duration": 122,
    "start_time": "2022-11-05T21:58:32.635Z"
   },
   {
    "duration": 170,
    "start_time": "2022-11-05T21:58:32.758Z"
   },
   {
    "duration": 168,
    "start_time": "2022-11-05T21:58:32.930Z"
   },
   {
    "duration": 178,
    "start_time": "2022-11-05T21:58:33.100Z"
   },
   {
    "duration": 149,
    "start_time": "2022-11-05T21:58:33.279Z"
   },
   {
    "duration": 130,
    "start_time": "2022-11-05T21:58:33.430Z"
   },
   {
    "duration": 12,
    "start_time": "2022-11-05T21:58:33.561Z"
   },
   {
    "duration": 9,
    "start_time": "2022-11-05T21:58:33.574Z"
   },
   {
    "duration": 15,
    "start_time": "2022-11-05T21:58:33.584Z"
   },
   {
    "duration": 108,
    "start_time": "2022-11-05T22:12:21.595Z"
   },
   {
    "duration": 34,
    "start_time": "2022-11-05T22:12:35.460Z"
   },
   {
    "duration": 1075,
    "start_time": "2022-11-05T22:12:53.546Z"
   },
   {
    "duration": 65,
    "start_time": "2022-11-05T22:12:54.623Z"
   },
   {
    "duration": 14,
    "start_time": "2022-11-05T22:12:54.690Z"
   },
   {
    "duration": 9,
    "start_time": "2022-11-05T22:12:54.706Z"
   },
   {
    "duration": 29,
    "start_time": "2022-11-05T22:12:54.716Z"
   },
   {
    "duration": 4,
    "start_time": "2022-11-05T22:12:54.747Z"
   },
   {
    "duration": 5,
    "start_time": "2022-11-05T22:12:54.753Z"
   },
   {
    "duration": 8,
    "start_time": "2022-11-05T22:12:54.759Z"
   },
   {
    "duration": 14,
    "start_time": "2022-11-05T22:12:54.769Z"
   },
   {
    "duration": 3,
    "start_time": "2022-11-05T22:12:54.785Z"
   },
   {
    "duration": 33,
    "start_time": "2022-11-05T22:12:54.790Z"
   },
   {
    "duration": 4,
    "start_time": "2022-11-05T22:12:54.824Z"
   },
   {
    "duration": 7,
    "start_time": "2022-11-05T22:12:54.829Z"
   },
   {
    "duration": 4,
    "start_time": "2022-11-05T22:12:54.837Z"
   },
   {
    "duration": 20,
    "start_time": "2022-11-05T22:12:54.843Z"
   },
   {
    "duration": 3,
    "start_time": "2022-11-05T22:12:54.865Z"
   },
   {
    "duration": 14,
    "start_time": "2022-11-05T22:12:54.870Z"
   },
   {
    "duration": 44,
    "start_time": "2022-11-05T22:12:54.885Z"
   },
   {
    "duration": 4,
    "start_time": "2022-11-05T22:12:54.931Z"
   },
   {
    "duration": 5,
    "start_time": "2022-11-05T22:12:54.936Z"
   },
   {
    "duration": 10,
    "start_time": "2022-11-05T22:12:54.942Z"
   },
   {
    "duration": 5,
    "start_time": "2022-11-05T22:12:54.954Z"
   },
   {
    "duration": 13,
    "start_time": "2022-11-05T22:12:54.960Z"
   },
   {
    "duration": 60,
    "start_time": "2022-11-05T22:12:54.974Z"
   },
   {
    "duration": 143,
    "start_time": "2022-11-05T22:12:55.036Z"
   },
   {
    "duration": 122,
    "start_time": "2022-11-05T22:12:55.180Z"
   },
   {
    "duration": 7,
    "start_time": "2022-11-05T22:12:55.304Z"
   },
   {
    "duration": 10,
    "start_time": "2022-11-05T22:12:55.325Z"
   },
   {
    "duration": 40,
    "start_time": "2022-11-05T22:12:55.337Z"
   },
   {
    "duration": 9,
    "start_time": "2022-11-05T22:12:55.379Z"
   },
   {
    "duration": 34,
    "start_time": "2022-11-05T22:12:55.390Z"
   },
   {
    "duration": 8,
    "start_time": "2022-11-05T22:12:55.426Z"
   },
   {
    "duration": 6,
    "start_time": "2022-11-05T22:12:55.435Z"
   },
   {
    "duration": 146,
    "start_time": "2022-11-05T22:12:55.443Z"
   },
   {
    "duration": 20,
    "start_time": "2022-11-05T22:12:55.591Z"
   },
   {
    "duration": 6,
    "start_time": "2022-11-05T22:12:55.622Z"
   },
   {
    "duration": 7,
    "start_time": "2022-11-05T22:12:55.629Z"
   },
   {
    "duration": 11,
    "start_time": "2022-11-05T22:12:55.637Z"
   },
   {
    "duration": 12,
    "start_time": "2022-11-05T22:12:55.650Z"
   },
   {
    "duration": 16,
    "start_time": "2022-11-05T22:12:55.663Z"
   },
   {
    "duration": 8,
    "start_time": "2022-11-05T22:12:55.681Z"
   },
   {
    "duration": 10,
    "start_time": "2022-11-05T22:12:55.690Z"
   },
   {
    "duration": 5,
    "start_time": "2022-11-05T22:12:55.701Z"
   },
   {
    "duration": 16,
    "start_time": "2022-11-05T22:12:55.707Z"
   },
   {
    "duration": 16,
    "start_time": "2022-11-05T22:12:55.724Z"
   },
   {
    "duration": 8,
    "start_time": "2022-11-05T22:12:55.742Z"
   },
   {
    "duration": 130,
    "start_time": "2022-11-05T22:12:55.752Z"
   },
   {
    "duration": 4,
    "start_time": "2022-11-05T22:12:55.883Z"
   },
   {
    "duration": 6,
    "start_time": "2022-11-05T22:12:55.889Z"
   },
   {
    "duration": 42,
    "start_time": "2022-11-05T22:12:55.897Z"
   },
   {
    "duration": 228,
    "start_time": "2022-11-05T22:12:55.941Z"
   },
   {
    "duration": 35,
    "start_time": "2022-11-05T22:12:56.170Z"
   },
   {
    "duration": 135,
    "start_time": "2022-11-05T22:12:56.206Z"
   },
   {
    "duration": 148,
    "start_time": "2022-11-05T22:12:56.343Z"
   },
   {
    "duration": 192,
    "start_time": "2022-11-05T22:12:56.492Z"
   },
   {
    "duration": 130,
    "start_time": "2022-11-05T22:12:56.686Z"
   },
   {
    "duration": 117,
    "start_time": "2022-11-05T22:12:56.821Z"
   },
   {
    "duration": 174,
    "start_time": "2022-11-05T22:12:56.940Z"
   },
   {
    "duration": 163,
    "start_time": "2022-11-05T22:12:57.115Z"
   },
   {
    "duration": 161,
    "start_time": "2022-11-05T22:12:57.279Z"
   },
   {
    "duration": 146,
    "start_time": "2022-11-05T22:12:57.442Z"
   },
   {
    "duration": 135,
    "start_time": "2022-11-05T22:12:57.589Z"
   },
   {
    "duration": 12,
    "start_time": "2022-11-05T22:12:57.725Z"
   },
   {
    "duration": 10,
    "start_time": "2022-11-05T22:12:57.738Z"
   },
   {
    "duration": 7,
    "start_time": "2022-11-05T22:12:57.749Z"
   },
   {
    "duration": 23,
    "start_time": "2022-11-05T22:20:04.851Z"
   },
   {
    "duration": 22,
    "start_time": "2022-11-05T22:27:17.062Z"
   },
   {
    "duration": 4,
    "start_time": "2022-11-05T22:27:40.715Z"
   },
   {
    "duration": 144,
    "start_time": "2022-11-05T22:39:08.382Z"
   },
   {
    "duration": 62,
    "start_time": "2022-11-05T22:39:32.365Z"
   },
   {
    "duration": 147,
    "start_time": "2022-11-05T22:39:40.796Z"
   },
   {
    "duration": 112,
    "start_time": "2022-11-05T22:40:06.524Z"
   },
   {
    "duration": 1147,
    "start_time": "2022-11-05T22:40:18.061Z"
   },
   {
    "duration": 66,
    "start_time": "2022-11-05T22:40:19.209Z"
   },
   {
    "duration": 14,
    "start_time": "2022-11-05T22:40:19.276Z"
   },
   {
    "duration": 9,
    "start_time": "2022-11-05T22:40:19.291Z"
   },
   {
    "duration": 31,
    "start_time": "2022-11-05T22:40:19.301Z"
   },
   {
    "duration": 4,
    "start_time": "2022-11-05T22:40:19.333Z"
   },
   {
    "duration": 17,
    "start_time": "2022-11-05T22:40:19.339Z"
   },
   {
    "duration": 9,
    "start_time": "2022-11-05T22:40:19.357Z"
   },
   {
    "duration": 12,
    "start_time": "2022-11-05T22:40:19.367Z"
   },
   {
    "duration": 4,
    "start_time": "2022-11-05T22:40:19.382Z"
   },
   {
    "duration": 9,
    "start_time": "2022-11-05T22:40:19.387Z"
   },
   {
    "duration": 13,
    "start_time": "2022-11-05T22:40:19.398Z"
   },
   {
    "duration": 10,
    "start_time": "2022-11-05T22:40:19.413Z"
   },
   {
    "duration": 11,
    "start_time": "2022-11-05T22:40:19.424Z"
   },
   {
    "duration": 45,
    "start_time": "2022-11-05T22:40:19.436Z"
   },
   {
    "duration": 6,
    "start_time": "2022-11-05T22:40:19.482Z"
   },
   {
    "duration": 42,
    "start_time": "2022-11-05T22:40:19.489Z"
   },
   {
    "duration": 26,
    "start_time": "2022-11-05T22:40:19.533Z"
   },
   {
    "duration": 20,
    "start_time": "2022-11-05T22:40:19.561Z"
   },
   {
    "duration": 4,
    "start_time": "2022-11-05T22:40:19.583Z"
   },
   {
    "duration": 6,
    "start_time": "2022-11-05T22:40:19.588Z"
   },
   {
    "duration": 12,
    "start_time": "2022-11-05T22:40:19.596Z"
   },
   {
    "duration": 12,
    "start_time": "2022-11-05T22:40:19.610Z"
   },
   {
    "duration": 17,
    "start_time": "2022-11-05T22:40:19.624Z"
   },
   {
    "duration": 42,
    "start_time": "2022-11-05T22:40:19.643Z"
   },
   {
    "duration": 142,
    "start_time": "2022-11-05T22:40:19.687Z"
   },
   {
    "duration": 121,
    "start_time": "2022-11-05T22:40:19.831Z"
   },
   {
    "duration": 4,
    "start_time": "2022-11-05T22:40:19.956Z"
   },
   {
    "duration": 121,
    "start_time": "2022-11-05T22:40:19.961Z"
   },
   {
    "duration": 7,
    "start_time": "2022-11-05T22:40:20.084Z"
   },
   {
    "duration": 20,
    "start_time": "2022-11-05T22:40:20.092Z"
   },
   {
    "duration": 37,
    "start_time": "2022-11-05T22:40:20.114Z"
   },
   {
    "duration": 9,
    "start_time": "2022-11-05T22:40:20.153Z"
   },
   {
    "duration": 21,
    "start_time": "2022-11-05T22:40:20.164Z"
   },
   {
    "duration": 8,
    "start_time": "2022-11-05T22:40:20.186Z"
   },
   {
    "duration": 6,
    "start_time": "2022-11-05T22:40:20.196Z"
   },
   {
    "duration": 142,
    "start_time": "2022-11-05T22:40:20.222Z"
   },
   {
    "duration": 23,
    "start_time": "2022-11-05T22:40:20.365Z"
   },
   {
    "duration": 7,
    "start_time": "2022-11-05T22:40:20.389Z"
   },
   {
    "duration": 27,
    "start_time": "2022-11-05T22:40:20.398Z"
   },
   {
    "duration": 10,
    "start_time": "2022-11-05T22:40:20.427Z"
   },
   {
    "duration": 10,
    "start_time": "2022-11-05T22:40:20.439Z"
   },
   {
    "duration": 9,
    "start_time": "2022-11-05T22:40:20.450Z"
   },
   {
    "duration": 9,
    "start_time": "2022-11-05T22:40:20.461Z"
   },
   {
    "duration": 5,
    "start_time": "2022-11-05T22:40:20.472Z"
   },
   {
    "duration": 5,
    "start_time": "2022-11-05T22:40:20.478Z"
   },
   {
    "duration": 4,
    "start_time": "2022-11-05T22:40:20.485Z"
   },
   {
    "duration": 32,
    "start_time": "2022-11-05T22:40:20.491Z"
   },
   {
    "duration": 5,
    "start_time": "2022-11-05T22:40:20.525Z"
   },
   {
    "duration": 147,
    "start_time": "2022-11-05T22:40:20.532Z"
   },
   {
    "duration": 4,
    "start_time": "2022-11-05T22:40:20.681Z"
   },
   {
    "duration": 6,
    "start_time": "2022-11-05T22:40:20.686Z"
   },
   {
    "duration": 49,
    "start_time": "2022-11-05T22:40:20.693Z"
   },
   {
    "duration": 241,
    "start_time": "2022-11-05T22:40:20.744Z"
   },
   {
    "duration": 42,
    "start_time": "2022-11-05T22:40:20.986Z"
   },
   {
    "duration": 148,
    "start_time": "2022-11-05T22:40:21.030Z"
   },
   {
    "duration": 207,
    "start_time": "2022-11-05T22:40:21.180Z"
   },
   {
    "duration": 129,
    "start_time": "2022-11-05T22:40:21.388Z"
   },
   {
    "duration": 135,
    "start_time": "2022-11-05T22:40:21.519Z"
   },
   {
    "duration": 119,
    "start_time": "2022-11-05T22:40:21.656Z"
   },
   {
    "duration": 163,
    "start_time": "2022-11-05T22:40:21.777Z"
   },
   {
    "duration": 170,
    "start_time": "2022-11-05T22:40:21.941Z"
   },
   {
    "duration": 166,
    "start_time": "2022-11-05T22:40:22.113Z"
   },
   {
    "duration": 134,
    "start_time": "2022-11-05T22:40:22.280Z"
   },
   {
    "duration": 134,
    "start_time": "2022-11-05T22:40:22.416Z"
   },
   {
    "duration": 14,
    "start_time": "2022-11-05T22:40:22.551Z"
   },
   {
    "duration": 13,
    "start_time": "2022-11-05T22:40:22.566Z"
   },
   {
    "duration": 8,
    "start_time": "2022-11-05T22:40:22.581Z"
   },
   {
    "duration": 22,
    "start_time": "2022-11-05T22:48:59.965Z"
   },
   {
    "duration": 4,
    "start_time": "2022-11-05T22:49:38.292Z"
   },
   {
    "duration": 42,
    "start_time": "2022-11-08T14:45:53.081Z"
   },
   {
    "duration": 1248,
    "start_time": "2022-11-08T14:45:57.676Z"
   },
   {
    "duration": 104,
    "start_time": "2022-11-08T14:45:59.625Z"
   },
   {
    "duration": 2,
    "start_time": "2022-11-08T14:46:20.914Z"
   },
   {
    "duration": 54,
    "start_time": "2022-11-08T14:46:20.920Z"
   },
   {
    "duration": 14,
    "start_time": "2022-11-08T14:46:20.975Z"
   },
   {
    "duration": 8,
    "start_time": "2022-11-08T14:46:20.991Z"
   },
   {
    "duration": 41,
    "start_time": "2022-11-08T14:46:21.001Z"
   },
   {
    "duration": 15,
    "start_time": "2022-11-08T14:46:21.044Z"
   },
   {
    "duration": 4,
    "start_time": "2022-11-08T14:46:21.060Z"
   },
   {
    "duration": 8,
    "start_time": "2022-11-08T14:46:21.066Z"
   },
   {
    "duration": 12,
    "start_time": "2022-11-08T14:46:21.076Z"
   },
   {
    "duration": 7,
    "start_time": "2022-11-08T14:46:21.089Z"
   },
   {
    "duration": 31,
    "start_time": "2022-11-08T14:46:21.098Z"
   },
   {
    "duration": 13,
    "start_time": "2022-11-08T14:46:21.130Z"
   },
   {
    "duration": 4,
    "start_time": "2022-11-08T14:46:21.144Z"
   },
   {
    "duration": 16,
    "start_time": "2022-11-08T14:46:21.149Z"
   },
   {
    "duration": 22,
    "start_time": "2022-11-08T14:46:21.167Z"
   },
   {
    "duration": 8,
    "start_time": "2022-11-08T14:46:21.190Z"
   },
   {
    "duration": 5,
    "start_time": "2022-11-08T14:46:21.200Z"
   },
   {
    "duration": 21,
    "start_time": "2022-11-08T14:46:21.206Z"
   },
   {
    "duration": 7,
    "start_time": "2022-11-08T14:46:21.229Z"
   },
   {
    "duration": 22,
    "start_time": "2022-11-08T14:46:21.238Z"
   },
   {
    "duration": 3,
    "start_time": "2022-11-08T14:46:21.262Z"
   },
   {
    "duration": 18,
    "start_time": "2022-11-08T14:46:21.266Z"
   },
   {
    "duration": 18,
    "start_time": "2022-11-08T14:46:21.286Z"
   },
   {
    "duration": 30,
    "start_time": "2022-11-08T14:46:21.306Z"
   },
   {
    "duration": 4,
    "start_time": "2022-11-08T14:46:21.338Z"
   },
   {
    "duration": 6,
    "start_time": "2022-11-08T14:46:21.343Z"
   },
   {
    "duration": 28,
    "start_time": "2022-11-08T14:46:21.351Z"
   },
   {
    "duration": 4,
    "start_time": "2022-11-08T14:46:21.381Z"
   },
   {
    "duration": 14,
    "start_time": "2022-11-08T14:46:21.388Z"
   },
   {
    "duration": 44,
    "start_time": "2022-11-08T14:46:21.403Z"
   },
   {
    "duration": 4,
    "start_time": "2022-11-08T14:46:21.449Z"
   },
   {
    "duration": 138,
    "start_time": "2022-11-08T14:46:21.455Z"
   },
   {
    "duration": 125,
    "start_time": "2022-11-08T14:46:21.595Z"
   },
   {
    "duration": 10,
    "start_time": "2022-11-08T14:46:21.721Z"
   },
   {
    "duration": 9,
    "start_time": "2022-11-08T14:46:21.732Z"
   },
   {
    "duration": 37,
    "start_time": "2022-11-08T14:46:21.742Z"
   },
   {
    "duration": 10,
    "start_time": "2022-11-08T14:46:21.781Z"
   },
   {
    "duration": 41,
    "start_time": "2022-11-08T14:46:21.793Z"
   },
   {
    "duration": 7,
    "start_time": "2022-11-08T14:46:21.836Z"
   },
   {
    "duration": 7,
    "start_time": "2022-11-08T14:46:21.845Z"
   },
   {
    "duration": 155,
    "start_time": "2022-11-08T14:46:21.853Z"
   },
   {
    "duration": 33,
    "start_time": "2022-11-08T14:46:22.009Z"
   },
   {
    "duration": 6,
    "start_time": "2022-11-08T14:46:22.043Z"
   },
   {
    "duration": 7,
    "start_time": "2022-11-08T14:46:22.051Z"
   },
   {
    "duration": 21,
    "start_time": "2022-11-08T14:46:22.060Z"
   },
   {
    "duration": 10,
    "start_time": "2022-11-08T14:46:22.082Z"
   },
   {
    "duration": 8,
    "start_time": "2022-11-08T14:46:22.094Z"
   },
   {
    "duration": 10,
    "start_time": "2022-11-08T14:46:22.103Z"
   },
   {
    "duration": 3,
    "start_time": "2022-11-08T14:46:22.126Z"
   },
   {
    "duration": 7,
    "start_time": "2022-11-08T14:46:22.131Z"
   },
   {
    "duration": 7,
    "start_time": "2022-11-08T14:46:22.139Z"
   },
   {
    "duration": 5,
    "start_time": "2022-11-08T14:46:22.148Z"
   },
   {
    "duration": 10,
    "start_time": "2022-11-08T14:46:22.155Z"
   },
   {
    "duration": 155,
    "start_time": "2022-11-08T14:46:22.167Z"
   },
   {
    "duration": 4,
    "start_time": "2022-11-08T14:46:22.323Z"
   },
   {
    "duration": 6,
    "start_time": "2022-11-08T14:46:22.329Z"
   },
   {
    "duration": 28,
    "start_time": "2022-11-08T14:46:22.336Z"
   },
   {
    "duration": 55,
    "start_time": "2022-11-08T14:46:22.366Z"
   },
   {
    "duration": 230,
    "start_time": "2022-11-08T14:46:22.422Z"
   },
   {
    "duration": 34,
    "start_time": "2022-11-08T14:46:22.653Z"
   },
   {
    "duration": 130,
    "start_time": "2022-11-08T14:46:22.688Z"
   },
   {
    "duration": 129,
    "start_time": "2022-11-08T14:46:22.819Z"
   },
   {
    "duration": 197,
    "start_time": "2022-11-08T14:46:22.949Z"
   },
   {
    "duration": 138,
    "start_time": "2022-11-08T14:46:23.148Z"
   },
   {
    "duration": 130,
    "start_time": "2022-11-08T14:46:23.287Z"
   },
   {
    "duration": 168,
    "start_time": "2022-11-08T14:46:23.418Z"
   },
   {
    "duration": 172,
    "start_time": "2022-11-08T14:46:23.588Z"
   },
   {
    "duration": 165,
    "start_time": "2022-11-08T14:46:23.762Z"
   },
   {
    "duration": 131,
    "start_time": "2022-11-08T14:46:23.929Z"
   },
   {
    "duration": 136,
    "start_time": "2022-11-08T14:46:24.061Z"
   },
   {
    "duration": 157,
    "start_time": "2022-11-08T14:46:24.199Z"
   },
   {
    "duration": 7,
    "start_time": "2022-11-08T14:46:24.358Z"
   },
   {
    "duration": 9,
    "start_time": "2022-11-08T14:46:24.367Z"
   },
   {
    "duration": 1627,
    "start_time": "2022-11-09T11:02:27.882Z"
   },
   {
    "duration": 118,
    "start_time": "2022-11-09T11:02:29.511Z"
   },
   {
    "duration": 22,
    "start_time": "2022-11-09T11:02:29.632Z"
   },
   {
    "duration": 23,
    "start_time": "2022-11-09T11:02:29.657Z"
   },
   {
    "duration": 43,
    "start_time": "2022-11-09T11:02:29.683Z"
   },
   {
    "duration": 25,
    "start_time": "2022-11-09T11:02:29.728Z"
   },
   {
    "duration": 7,
    "start_time": "2022-11-09T11:02:29.773Z"
   },
   {
    "duration": 10,
    "start_time": "2022-11-09T11:02:29.782Z"
   },
   {
    "duration": 15,
    "start_time": "2022-11-09T11:02:29.795Z"
   },
   {
    "duration": 23,
    "start_time": "2022-11-09T11:02:29.812Z"
   },
   {
    "duration": 17,
    "start_time": "2022-11-09T11:02:29.837Z"
   },
   {
    "duration": 28,
    "start_time": "2022-11-09T11:02:29.857Z"
   },
   {
    "duration": 34,
    "start_time": "2022-11-09T11:02:29.887Z"
   },
   {
    "duration": 27,
    "start_time": "2022-11-09T11:02:29.925Z"
   },
   {
    "duration": 33,
    "start_time": "2022-11-09T11:02:29.954Z"
   },
   {
    "duration": 33,
    "start_time": "2022-11-09T11:02:29.989Z"
   },
   {
    "duration": 16,
    "start_time": "2022-11-09T11:02:30.024Z"
   },
   {
    "duration": 21,
    "start_time": "2022-11-09T11:02:30.042Z"
   },
   {
    "duration": 34,
    "start_time": "2022-11-09T11:02:30.065Z"
   },
   {
    "duration": 64,
    "start_time": "2022-11-09T11:02:30.102Z"
   },
   {
    "duration": 14,
    "start_time": "2022-11-09T11:02:30.168Z"
   },
   {
    "duration": 47,
    "start_time": "2022-11-09T11:02:30.184Z"
   },
   {
    "duration": 44,
    "start_time": "2022-11-09T11:02:30.234Z"
   },
   {
    "duration": 18,
    "start_time": "2022-11-09T11:02:30.280Z"
   },
   {
    "duration": 36,
    "start_time": "2022-11-09T11:02:30.300Z"
   },
   {
    "duration": 34,
    "start_time": "2022-11-09T11:02:30.338Z"
   },
   {
    "duration": 52,
    "start_time": "2022-11-09T11:02:30.374Z"
   },
   {
    "duration": 53,
    "start_time": "2022-11-09T11:02:30.428Z"
   },
   {
    "duration": 32,
    "start_time": "2022-11-09T11:02:30.483Z"
   },
   {
    "duration": 96,
    "start_time": "2022-11-09T11:02:30.518Z"
   },
   {
    "duration": 6,
    "start_time": "2022-11-09T11:02:30.616Z"
   },
   {
    "duration": 177,
    "start_time": "2022-11-09T11:02:30.624Z"
   },
   {
    "duration": 160,
    "start_time": "2022-11-09T11:02:30.817Z"
   },
   {
    "duration": 89,
    "start_time": "2022-11-09T11:02:30.979Z"
   },
   {
    "duration": 626,
    "start_time": "2022-11-09T11:02:31.070Z"
   },
   {
    "duration": 57,
    "start_time": "2022-11-09T11:02:31.698Z"
   },
   {
    "duration": 12,
    "start_time": "2022-11-09T11:02:31.757Z"
   },
   {
    "duration": 41,
    "start_time": "2022-11-09T11:02:31.771Z"
   },
   {
    "duration": 11,
    "start_time": "2022-11-09T11:02:31.814Z"
   },
   {
    "duration": 14,
    "start_time": "2022-11-09T11:02:31.826Z"
   },
   {
    "duration": 228,
    "start_time": "2022-11-09T11:02:31.845Z"
   },
   {
    "duration": 34,
    "start_time": "2022-11-09T11:02:32.075Z"
   },
   {
    "duration": 8,
    "start_time": "2022-11-09T11:02:32.111Z"
   },
   {
    "duration": 10,
    "start_time": "2022-11-09T11:02:32.122Z"
   },
   {
    "duration": 39,
    "start_time": "2022-11-09T11:02:32.134Z"
   },
   {
    "duration": 9,
    "start_time": "2022-11-09T11:02:32.175Z"
   },
   {
    "duration": 15,
    "start_time": "2022-11-09T11:02:32.186Z"
   },
   {
    "duration": 17,
    "start_time": "2022-11-09T11:02:32.202Z"
   },
   {
    "duration": 14,
    "start_time": "2022-11-09T11:02:32.220Z"
   },
   {
    "duration": 32,
    "start_time": "2022-11-09T11:02:32.236Z"
   },
   {
    "duration": 19,
    "start_time": "2022-11-09T11:02:32.270Z"
   },
   {
    "duration": 27,
    "start_time": "2022-11-09T11:02:32.290Z"
   },
   {
    "duration": 38,
    "start_time": "2022-11-09T11:02:32.319Z"
   },
   {
    "duration": 219,
    "start_time": "2022-11-09T11:02:32.359Z"
   },
   {
    "duration": 7,
    "start_time": "2022-11-09T11:02:32.580Z"
   },
   {
    "duration": 21,
    "start_time": "2022-11-09T11:02:32.589Z"
   },
   {
    "duration": 45,
    "start_time": "2022-11-09T11:02:32.612Z"
   },
   {
    "duration": 50,
    "start_time": "2022-11-09T11:02:32.659Z"
   },
   {
    "duration": 316,
    "start_time": "2022-11-09T11:02:32.711Z"
   },
   {
    "duration": 65,
    "start_time": "2022-11-09T11:02:33.030Z"
   },
   {
    "duration": 192,
    "start_time": "2022-11-09T11:02:33.097Z"
   },
   {
    "duration": 224,
    "start_time": "2022-11-09T11:02:33.291Z"
   },
   {
    "duration": 261,
    "start_time": "2022-11-09T11:02:33.518Z"
   },
   {
    "duration": 175,
    "start_time": "2022-11-09T11:02:33.781Z"
   },
   {
    "duration": 188,
    "start_time": "2022-11-09T11:02:33.958Z"
   },
   {
    "duration": 251,
    "start_time": "2022-11-09T11:02:34.148Z"
   },
   {
    "duration": 259,
    "start_time": "2022-11-09T11:02:34.401Z"
   },
   {
    "duration": 218,
    "start_time": "2022-11-09T11:02:34.662Z"
   },
   {
    "duration": 231,
    "start_time": "2022-11-09T11:02:34.882Z"
   },
   {
    "duration": 221,
    "start_time": "2022-11-09T11:02:35.116Z"
   },
   {
    "duration": 187,
    "start_time": "2022-11-09T11:02:35.339Z"
   },
   {
    "duration": 9,
    "start_time": "2022-11-09T11:02:35.528Z"
   },
   {
    "duration": 17,
    "start_time": "2022-11-09T11:02:35.539Z"
   },
   {
    "duration": 10,
    "start_time": "2022-11-09T11:39:52.931Z"
   },
   {
    "duration": 1728,
    "start_time": "2022-11-09T11:40:09.505Z"
   },
   {
    "duration": 68,
    "start_time": "2022-11-09T11:40:11.236Z"
   },
   {
    "duration": 24,
    "start_time": "2022-11-09T11:40:11.307Z"
   },
   {
    "duration": 19,
    "start_time": "2022-11-09T11:40:11.333Z"
   },
   {
    "duration": 37,
    "start_time": "2022-11-09T11:40:11.373Z"
   },
   {
    "duration": 19,
    "start_time": "2022-11-09T11:40:11.412Z"
   },
   {
    "duration": 6,
    "start_time": "2022-11-09T11:40:11.433Z"
   },
   {
    "duration": 40,
    "start_time": "2022-11-09T11:40:11.441Z"
   },
   {
    "duration": 37,
    "start_time": "2022-11-09T11:40:11.483Z"
   },
   {
    "duration": 13,
    "start_time": "2022-11-09T11:40:11.522Z"
   },
   {
    "duration": 23,
    "start_time": "2022-11-09T11:40:11.537Z"
   },
   {
    "duration": 20,
    "start_time": "2022-11-09T11:40:11.562Z"
   },
   {
    "duration": 7,
    "start_time": "2022-11-09T11:40:11.584Z"
   },
   {
    "duration": 29,
    "start_time": "2022-11-09T11:40:11.596Z"
   },
   {
    "duration": 17,
    "start_time": "2022-11-09T11:40:11.627Z"
   },
   {
    "duration": 12,
    "start_time": "2022-11-09T11:40:11.646Z"
   },
   {
    "duration": 5,
    "start_time": "2022-11-09T11:40:11.673Z"
   },
   {
    "duration": 8,
    "start_time": "2022-11-09T11:40:11.680Z"
   },
   {
    "duration": 8,
    "start_time": "2022-11-09T11:40:11.691Z"
   },
   {
    "duration": 29,
    "start_time": "2022-11-09T11:40:11.701Z"
   },
   {
    "duration": 6,
    "start_time": "2022-11-09T11:40:11.732Z"
   },
   {
    "duration": 42,
    "start_time": "2022-11-09T11:40:11.740Z"
   },
   {
    "duration": 30,
    "start_time": "2022-11-09T11:40:11.784Z"
   },
   {
    "duration": 18,
    "start_time": "2022-11-09T11:40:11.816Z"
   },
   {
    "duration": 6,
    "start_time": "2022-11-09T11:40:11.837Z"
   },
   {
    "duration": 28,
    "start_time": "2022-11-09T11:40:11.845Z"
   },
   {
    "duration": 21,
    "start_time": "2022-11-09T11:40:11.876Z"
   },
   {
    "duration": 6,
    "start_time": "2022-11-09T11:40:11.899Z"
   },
   {
    "duration": 53,
    "start_time": "2022-11-09T11:40:11.907Z"
   },
   {
    "duration": 62,
    "start_time": "2022-11-09T11:40:11.962Z"
   },
   {
    "duration": 5,
    "start_time": "2022-11-09T11:40:12.026Z"
   },
   {
    "duration": 191,
    "start_time": "2022-11-09T11:40:12.033Z"
   },
   {
    "duration": 152,
    "start_time": "2022-11-09T11:40:12.226Z"
   },
   {
    "duration": 9,
    "start_time": "2022-11-09T11:40:12.380Z"
   },
   {
    "duration": 23,
    "start_time": "2022-11-09T11:40:12.390Z"
   },
   {
    "duration": 30,
    "start_time": "2022-11-09T11:40:12.414Z"
   },
   {
    "duration": 34,
    "start_time": "2022-11-09T11:40:12.446Z"
   },
   {
    "duration": 30,
    "start_time": "2022-11-09T11:40:12.482Z"
   },
   {
    "duration": 14,
    "start_time": "2022-11-09T11:40:12.514Z"
   },
   {
    "duration": 14,
    "start_time": "2022-11-09T11:40:12.531Z"
   },
   {
    "duration": 215,
    "start_time": "2022-11-09T11:40:12.576Z"
   },
   {
    "duration": 29,
    "start_time": "2022-11-09T11:40:12.794Z"
   },
   {
    "duration": 9,
    "start_time": "2022-11-09T11:40:12.825Z"
   },
   {
    "duration": 37,
    "start_time": "2022-11-09T11:40:12.836Z"
   },
   {
    "duration": 11,
    "start_time": "2022-11-09T11:40:12.875Z"
   },
   {
    "duration": 15,
    "start_time": "2022-11-09T11:40:12.887Z"
   },
   {
    "duration": 10,
    "start_time": "2022-11-09T11:40:12.905Z"
   },
   {
    "duration": 11,
    "start_time": "2022-11-09T11:40:12.917Z"
   },
   {
    "duration": 13,
    "start_time": "2022-11-09T11:40:12.930Z"
   },
   {
    "duration": 29,
    "start_time": "2022-11-09T11:40:12.945Z"
   },
   {
    "duration": 21,
    "start_time": "2022-11-09T11:40:12.975Z"
   },
   {
    "duration": 14,
    "start_time": "2022-11-09T11:40:12.998Z"
   },
   {
    "duration": 14,
    "start_time": "2022-11-09T11:40:13.014Z"
   },
   {
    "duration": 188,
    "start_time": "2022-11-09T11:40:13.030Z"
   },
   {
    "duration": 6,
    "start_time": "2022-11-09T11:40:13.220Z"
   },
   {
    "duration": 27,
    "start_time": "2022-11-09T11:40:13.227Z"
   },
   {
    "duration": 44,
    "start_time": "2022-11-09T11:40:13.257Z"
   },
   {
    "duration": 38,
    "start_time": "2022-11-09T11:40:13.303Z"
   },
   {
    "duration": 33,
    "start_time": "2022-11-09T11:40:13.343Z"
   },
   {
    "duration": 308,
    "start_time": "2022-11-09T11:40:13.379Z"
   },
   {
    "duration": 42,
    "start_time": "2022-11-09T11:40:13.689Z"
   },
   {
    "duration": 166,
    "start_time": "2022-11-09T11:40:13.733Z"
   },
   {
    "duration": 209,
    "start_time": "2022-11-09T11:40:13.901Z"
   },
   {
    "duration": 257,
    "start_time": "2022-11-09T11:40:14.112Z"
   },
   {
    "duration": 181,
    "start_time": "2022-11-09T11:40:14.372Z"
   },
   {
    "duration": 219,
    "start_time": "2022-11-09T11:40:14.555Z"
   },
   {
    "duration": 243,
    "start_time": "2022-11-09T11:40:14.776Z"
   },
   {
    "duration": 213,
    "start_time": "2022-11-09T11:40:15.021Z"
   },
   {
    "duration": 201,
    "start_time": "2022-11-09T11:40:15.237Z"
   },
   {
    "duration": 164,
    "start_time": "2022-11-09T11:40:15.441Z"
   },
   {
    "duration": 185,
    "start_time": "2022-11-09T11:40:15.608Z"
   },
   {
    "duration": 186,
    "start_time": "2022-11-09T11:40:15.795Z"
   },
   {
    "duration": 9,
    "start_time": "2022-11-09T11:40:15.983Z"
   },
   {
    "duration": 17,
    "start_time": "2022-11-09T11:40:15.994Z"
   },
   {
    "duration": 10,
    "start_time": "2022-11-09T11:55:26.601Z"
   },
   {
    "duration": 7,
    "start_time": "2022-11-09T11:55:37.822Z"
   },
   {
    "duration": 8,
    "start_time": "2022-11-09T11:56:03.885Z"
   },
   {
    "duration": 53,
    "start_time": "2022-11-09T18:14:36.293Z"
   },
   {
    "duration": 46,
    "start_time": "2022-11-09T18:15:51.801Z"
   },
   {
    "duration": 1256,
    "start_time": "2022-11-09T18:16:06.304Z"
   },
   {
    "duration": 59,
    "start_time": "2022-11-09T18:16:13.055Z"
   },
   {
    "duration": 3,
    "start_time": "2022-11-09T18:16:32.615Z"
   },
   {
    "duration": 199,
    "start_time": "2022-11-09T18:16:32.620Z"
   },
   {
    "duration": 13,
    "start_time": "2022-11-09T18:16:32.821Z"
   },
   {
    "duration": 9,
    "start_time": "2022-11-09T18:16:32.836Z"
   },
   {
    "duration": 25,
    "start_time": "2022-11-09T18:16:32.847Z"
   },
   {
    "duration": 13,
    "start_time": "2022-11-09T18:16:32.873Z"
   },
   {
    "duration": 4,
    "start_time": "2022-11-09T18:16:32.888Z"
   },
   {
    "duration": 6,
    "start_time": "2022-11-09T18:16:32.893Z"
   },
   {
    "duration": 9,
    "start_time": "2022-11-09T18:16:32.900Z"
   },
   {
    "duration": 6,
    "start_time": "2022-11-09T18:16:32.910Z"
   },
   {
    "duration": 6,
    "start_time": "2022-11-09T18:16:32.917Z"
   },
   {
    "duration": 42,
    "start_time": "2022-11-09T18:16:32.925Z"
   },
   {
    "duration": 3,
    "start_time": "2022-11-09T18:16:32.970Z"
   },
   {
    "duration": 15,
    "start_time": "2022-11-09T18:16:32.975Z"
   },
   {
    "duration": 7,
    "start_time": "2022-11-09T18:16:32.991Z"
   },
   {
    "duration": 7,
    "start_time": "2022-11-09T18:16:32.999Z"
   },
   {
    "duration": 6,
    "start_time": "2022-11-09T18:16:33.008Z"
   },
   {
    "duration": 17,
    "start_time": "2022-11-09T18:16:33.015Z"
   },
   {
    "duration": 5,
    "start_time": "2022-11-09T18:16:33.033Z"
   },
   {
    "duration": 32,
    "start_time": "2022-11-09T18:16:33.040Z"
   },
   {
    "duration": 3,
    "start_time": "2022-11-09T18:16:33.074Z"
   },
   {
    "duration": 15,
    "start_time": "2022-11-09T18:16:33.078Z"
   },
   {
    "duration": 20,
    "start_time": "2022-11-09T18:16:33.095Z"
   },
   {
    "duration": 12,
    "start_time": "2022-11-09T18:16:33.116Z"
   },
   {
    "duration": 4,
    "start_time": "2022-11-09T18:16:33.129Z"
   },
   {
    "duration": 27,
    "start_time": "2022-11-09T18:16:33.134Z"
   },
   {
    "duration": 10,
    "start_time": "2022-11-09T18:16:33.162Z"
   },
   {
    "duration": 4,
    "start_time": "2022-11-09T18:16:33.174Z"
   },
   {
    "duration": 16,
    "start_time": "2022-11-09T18:16:33.179Z"
   },
   {
    "duration": 35,
    "start_time": "2022-11-09T18:16:33.197Z"
   },
   {
    "duration": 25,
    "start_time": "2022-11-09T18:16:33.234Z"
   },
   {
    "duration": 124,
    "start_time": "2022-11-09T18:16:33.260Z"
   },
   {
    "duration": 123,
    "start_time": "2022-11-09T18:16:33.385Z"
   },
   {
    "duration": 9,
    "start_time": "2022-11-09T18:16:33.510Z"
   },
   {
    "duration": 6,
    "start_time": "2022-11-09T18:16:33.521Z"
   },
   {
    "duration": 8,
    "start_time": "2022-11-09T18:16:33.529Z"
   },
   {
    "duration": 40,
    "start_time": "2022-11-09T18:16:33.540Z"
   },
   {
    "duration": 9,
    "start_time": "2022-11-09T18:16:33.581Z"
   },
   {
    "duration": 29,
    "start_time": "2022-11-09T18:16:33.591Z"
   },
   {
    "duration": 9,
    "start_time": "2022-11-09T18:16:33.622Z"
   },
   {
    "duration": 9,
    "start_time": "2022-11-09T18:16:33.632Z"
   },
   {
    "duration": 162,
    "start_time": "2022-11-09T18:16:33.642Z"
   },
   {
    "duration": 22,
    "start_time": "2022-11-09T18:16:33.805Z"
   },
   {
    "duration": 198,
    "start_time": "2022-11-09T18:16:41.218Z"
   },
   {
    "duration": 192,
    "start_time": "2022-11-09T18:18:17.282Z"
   },
   {
    "duration": 264,
    "start_time": "2022-11-09T18:18:19.395Z"
   },
   {
    "duration": 102,
    "start_time": "2022-11-09T18:18:43.680Z"
   },
   {
    "duration": 199,
    "start_time": "2022-11-09T18:18:56.137Z"
   },
   {
    "duration": 200,
    "start_time": "2022-11-09T18:19:03.774Z"
   },
   {
    "duration": 295,
    "start_time": "2022-11-09T18:20:23.177Z"
   },
   {
    "duration": 211,
    "start_time": "2022-11-09T18:21:01.018Z"
   },
   {
    "duration": 287,
    "start_time": "2022-11-09T18:21:35.856Z"
   },
   {
    "duration": 200,
    "start_time": "2022-11-09T18:21:39.155Z"
   },
   {
    "duration": 225,
    "start_time": "2022-11-09T18:21:58.514Z"
   },
   {
    "duration": 212,
    "start_time": "2022-11-09T18:22:05.016Z"
   },
   {
    "duration": 32,
    "start_time": "2022-11-09T18:22:49.290Z"
   },
   {
    "duration": 32,
    "start_time": "2022-11-09T18:23:45.140Z"
   },
   {
    "duration": 31,
    "start_time": "2022-11-09T18:23:59.075Z"
   },
   {
    "duration": 35,
    "start_time": "2022-11-09T18:24:10.025Z"
   },
   {
    "duration": 16,
    "start_time": "2022-11-09T18:33:12.540Z"
   },
   {
    "duration": 770,
    "start_time": "2022-11-09T18:33:26.530Z"
   },
   {
    "duration": 623,
    "start_time": "2022-11-09T18:33:56.266Z"
   },
   {
    "duration": 638,
    "start_time": "2022-11-09T18:34:51.388Z"
   },
   {
    "duration": 3242,
    "start_time": "2022-11-09T18:38:02.495Z"
   },
   {
    "duration": 2198,
    "start_time": "2022-11-09T18:38:43.252Z"
   },
   {
    "duration": 2130,
    "start_time": "2022-11-09T18:38:57.595Z"
   },
   {
    "duration": 2298,
    "start_time": "2022-11-09T18:39:17.221Z"
   },
   {
    "duration": 1230,
    "start_time": "2022-11-09T18:42:07.802Z"
   },
   {
    "duration": 1123,
    "start_time": "2022-11-09T18:42:31.992Z"
   },
   {
    "duration": 28,
    "start_time": "2022-11-09T18:44:13.815Z"
   },
   {
    "duration": 201,
    "start_time": "2022-11-09T18:45:26.708Z"
   },
   {
    "duration": 1376,
    "start_time": "2022-11-09T18:46:44.048Z"
   },
   {
    "duration": 2057,
    "start_time": "2022-11-09T18:47:00.893Z"
   },
   {
    "duration": 1434,
    "start_time": "2022-11-09T18:47:12.703Z"
   },
   {
    "duration": 1479,
    "start_time": "2022-11-09T18:47:15.962Z"
   },
   {
    "duration": 202,
    "start_time": "2022-11-09T18:48:15.127Z"
   },
   {
    "duration": 200,
    "start_time": "2022-11-09T18:48:26.288Z"
   },
   {
    "duration": 1638,
    "start_time": "2022-11-09T18:49:20.021Z"
   },
   {
    "duration": 1568,
    "start_time": "2022-11-09T18:49:27.574Z"
   },
   {
    "duration": 1544,
    "start_time": "2022-11-09T18:49:32.552Z"
   },
   {
    "duration": 313,
    "start_time": "2022-11-09T18:49:40.561Z"
   },
   {
    "duration": 1451,
    "start_time": "2022-11-09T18:50:18.397Z"
   },
   {
    "duration": 2311,
    "start_time": "2022-11-09T18:50:28.605Z"
   },
   {
    "duration": 1683,
    "start_time": "2022-11-09T18:50:41.320Z"
   },
   {
    "duration": 1570,
    "start_time": "2022-11-09T18:50:58.320Z"
   },
   {
    "duration": 1930,
    "start_time": "2022-11-09T18:51:04.119Z"
   },
   {
    "duration": 2037,
    "start_time": "2022-11-09T18:51:14.374Z"
   },
   {
    "duration": 8,
    "start_time": "2022-11-09T19:33:21.638Z"
   },
   {
    "duration": 16,
    "start_time": "2022-11-09T19:33:27.300Z"
   },
   {
    "duration": 16,
    "start_time": "2022-11-09T19:33:33.991Z"
   },
   {
    "duration": 45,
    "start_time": "2022-11-09T19:35:06.057Z"
   },
   {
    "duration": 5,
    "start_time": "2022-11-09T19:35:30.491Z"
   },
   {
    "duration": 232,
    "start_time": "2022-11-09T19:35:40.951Z"
   },
   {
    "duration": 40,
    "start_time": "2022-11-09T19:35:49.394Z"
   },
   {
    "duration": 149,
    "start_time": "2022-11-09T19:42:02.088Z"
   },
   {
    "duration": 397,
    "start_time": "2022-11-09T19:42:24.580Z"
   },
   {
    "duration": 143,
    "start_time": "2022-11-09T19:42:39.989Z"
   },
   {
    "duration": 148,
    "start_time": "2022-11-09T19:42:48.111Z"
   },
   {
    "duration": 155,
    "start_time": "2022-11-09T19:46:00.361Z"
   },
   {
    "duration": 134,
    "start_time": "2022-11-09T19:48:32.792Z"
   },
   {
    "duration": 150,
    "start_time": "2022-11-09T19:48:52.554Z"
   },
   {
    "duration": 148,
    "start_time": "2022-11-09T19:49:07.952Z"
   },
   {
    "duration": 157,
    "start_time": "2022-11-09T19:49:49.521Z"
   },
   {
    "duration": 194,
    "start_time": "2022-11-09T19:49:54.742Z"
   },
   {
    "duration": 171,
    "start_time": "2022-11-09T19:50:06.487Z"
   },
   {
    "duration": 440,
    "start_time": "2022-11-09T19:54:56.863Z"
   },
   {
    "duration": 345,
    "start_time": "2022-11-09T19:55:51.116Z"
   },
   {
    "duration": 366,
    "start_time": "2022-11-09T19:56:58.469Z"
   },
   {
    "duration": 366,
    "start_time": "2022-11-09T19:57:11.651Z"
   },
   {
    "duration": 399,
    "start_time": "2022-11-09T19:58:45.292Z"
   },
   {
    "duration": 171,
    "start_time": "2022-11-09T19:59:25.309Z"
   },
   {
    "duration": 160,
    "start_time": "2022-11-09T19:59:31.766Z"
   },
   {
    "duration": 429,
    "start_time": "2022-11-09T19:59:45.894Z"
   },
   {
    "duration": 47,
    "start_time": "2022-11-09T20:01:16.037Z"
   },
   {
    "duration": 48,
    "start_time": "2022-11-09T20:01:26.329Z"
   },
   {
    "duration": 85,
    "start_time": "2022-11-09T20:01:35.597Z"
   },
   {
    "duration": 242,
    "start_time": "2022-11-09T20:01:46.418Z"
   },
   {
    "duration": 389,
    "start_time": "2022-11-09T20:02:06.690Z"
   },
   {
    "duration": 263,
    "start_time": "2022-11-09T20:02:18.188Z"
   },
   {
    "duration": 262,
    "start_time": "2022-11-09T20:02:44.331Z"
   },
   {
    "duration": 459,
    "start_time": "2022-11-09T20:02:57.068Z"
   },
   {
    "duration": 261,
    "start_time": "2022-11-09T20:03:05.233Z"
   },
   {
    "duration": 244,
    "start_time": "2022-11-09T20:04:58.860Z"
   },
   {
    "duration": 238,
    "start_time": "2022-11-09T20:07:18.937Z"
   },
   {
    "duration": 224,
    "start_time": "2022-11-09T20:16:54.835Z"
   },
   {
    "duration": 224,
    "start_time": "2022-11-09T20:18:00.258Z"
   },
   {
    "duration": 234,
    "start_time": "2022-11-09T20:18:23.612Z"
   },
   {
    "duration": 198,
    "start_time": "2022-11-09T20:18:30.863Z"
   },
   {
    "duration": 216,
    "start_time": "2022-11-09T20:18:40.780Z"
   },
   {
    "duration": 302,
    "start_time": "2022-11-09T20:18:59.386Z"
   },
   {
    "duration": 209,
    "start_time": "2022-11-09T20:20:32.880Z"
   },
   {
    "duration": 180,
    "start_time": "2022-11-09T20:21:01.055Z"
   },
   {
    "duration": 325,
    "start_time": "2022-11-09T20:21:10.409Z"
   },
   {
    "duration": 217,
    "start_time": "2022-11-09T20:21:25.642Z"
   },
   {
    "duration": 226,
    "start_time": "2022-11-09T20:22:34.069Z"
   },
   {
    "duration": 331,
    "start_time": "2022-11-09T20:25:18.754Z"
   },
   {
    "duration": 232,
    "start_time": "2022-11-09T20:25:29.711Z"
   },
   {
    "duration": 243,
    "start_time": "2022-11-09T20:26:11.358Z"
   },
   {
    "duration": 348,
    "start_time": "2022-11-09T20:26:27.105Z"
   },
   {
    "duration": 127,
    "start_time": "2022-11-09T20:28:52.509Z"
   },
   {
    "duration": 112,
    "start_time": "2022-11-09T20:29:39.276Z"
   },
   {
    "duration": 128,
    "start_time": "2022-11-09T20:29:42.609Z"
   },
   {
    "duration": 126,
    "start_time": "2022-11-09T20:29:47.119Z"
   },
   {
    "duration": 120,
    "start_time": "2022-11-09T20:30:41.574Z"
   },
   {
    "duration": 17,
    "start_time": "2022-11-09T20:30:51.355Z"
   },
   {
    "duration": 141,
    "start_time": "2022-11-09T20:30:58.819Z"
   },
   {
    "duration": 189,
    "start_time": "2022-11-09T20:31:55.876Z"
   },
   {
    "duration": 239,
    "start_time": "2022-11-09T20:32:14.546Z"
   },
   {
    "duration": 238,
    "start_time": "2022-11-09T20:32:44.205Z"
   },
   {
    "duration": 205,
    "start_time": "2022-11-09T20:32:51.378Z"
   },
   {
    "duration": 362,
    "start_time": "2022-11-09T20:33:44.561Z"
   },
   {
    "duration": 51,
    "start_time": "2022-11-09T20:34:25.091Z"
   },
   {
    "duration": 163,
    "start_time": "2022-11-09T20:34:31.688Z"
   },
   {
    "duration": 165,
    "start_time": "2022-11-09T20:34:52.839Z"
   },
   {
    "duration": 211,
    "start_time": "2022-11-09T20:34:56.631Z"
   },
   {
    "duration": 10,
    "start_time": "2022-11-09T20:40:31.175Z"
   },
   {
    "duration": 6,
    "start_time": "2022-11-09T20:41:21.292Z"
   },
   {
    "duration": 7,
    "start_time": "2022-11-09T20:42:57.839Z"
   },
   {
    "duration": 42,
    "start_time": "2022-11-09T20:45:49.541Z"
   },
   {
    "duration": 8,
    "start_time": "2022-11-09T20:46:32.408Z"
   },
   {
    "duration": 32,
    "start_time": "2022-11-09T20:47:14.895Z"
   },
   {
    "duration": 26,
    "start_time": "2022-11-09T20:47:38.092Z"
   },
   {
    "duration": 28,
    "start_time": "2022-11-09T20:47:46.530Z"
   },
   {
    "duration": 25,
    "start_time": "2022-11-09T20:47:51.194Z"
   },
   {
    "duration": 30,
    "start_time": "2022-11-09T20:48:01.573Z"
   },
   {
    "duration": 36,
    "start_time": "2022-11-09T20:49:20.734Z"
   },
   {
    "duration": 8,
    "start_time": "2022-11-09T20:49:34.921Z"
   },
   {
    "duration": 6,
    "start_time": "2022-11-09T20:49:44.236Z"
   },
   {
    "duration": 6,
    "start_time": "2022-11-09T20:50:05.191Z"
   },
   {
    "duration": 7,
    "start_time": "2022-11-09T20:50:25.498Z"
   },
   {
    "duration": 1181,
    "start_time": "2022-11-10T17:02:49.394Z"
   },
   {
    "duration": 77,
    "start_time": "2022-11-10T17:02:50.577Z"
   },
   {
    "duration": 15,
    "start_time": "2022-11-10T17:02:50.656Z"
   },
   {
    "duration": 17,
    "start_time": "2022-11-10T17:02:50.673Z"
   },
   {
    "duration": 31,
    "start_time": "2022-11-10T17:02:50.692Z"
   },
   {
    "duration": 16,
    "start_time": "2022-11-10T17:02:50.725Z"
   },
   {
    "duration": 5,
    "start_time": "2022-11-10T17:02:50.759Z"
   },
   {
    "duration": 12,
    "start_time": "2022-11-10T17:02:50.765Z"
   },
   {
    "duration": 13,
    "start_time": "2022-11-10T17:02:50.779Z"
   },
   {
    "duration": 6,
    "start_time": "2022-11-10T17:02:50.794Z"
   },
   {
    "duration": 7,
    "start_time": "2022-11-10T17:02:50.801Z"
   },
   {
    "duration": 22,
    "start_time": "2022-11-10T17:02:50.809Z"
   },
   {
    "duration": 5,
    "start_time": "2022-11-10T17:02:50.832Z"
   },
   {
    "duration": 27,
    "start_time": "2022-11-10T17:02:50.839Z"
   },
   {
    "duration": 14,
    "start_time": "2022-11-10T17:02:50.868Z"
   },
   {
    "duration": 11,
    "start_time": "2022-11-10T17:02:50.883Z"
   },
   {
    "duration": 11,
    "start_time": "2022-11-10T17:02:50.895Z"
   },
   {
    "duration": 26,
    "start_time": "2022-11-10T17:02:50.907Z"
   },
   {
    "duration": 10,
    "start_time": "2022-11-10T17:02:50.935Z"
   },
   {
    "duration": 25,
    "start_time": "2022-11-10T17:02:50.947Z"
   },
   {
    "duration": 3,
    "start_time": "2022-11-10T17:02:50.974Z"
   },
   {
    "duration": 28,
    "start_time": "2022-11-10T17:02:50.979Z"
   },
   {
    "duration": 27,
    "start_time": "2022-11-10T17:02:51.009Z"
   },
   {
    "duration": 17,
    "start_time": "2022-11-10T17:02:51.038Z"
   },
   {
    "duration": 5,
    "start_time": "2022-11-10T17:02:51.056Z"
   },
   {
    "duration": 8,
    "start_time": "2022-11-10T17:02:51.062Z"
   },
   {
    "duration": 17,
    "start_time": "2022-11-10T17:02:51.071Z"
   },
   {
    "duration": 5,
    "start_time": "2022-11-10T17:02:51.092Z"
   },
   {
    "duration": 18,
    "start_time": "2022-11-10T17:02:51.099Z"
   },
   {
    "duration": 52,
    "start_time": "2022-11-10T17:02:51.119Z"
   },
   {
    "duration": 4,
    "start_time": "2022-11-10T17:02:51.173Z"
   },
   {
    "duration": 181,
    "start_time": "2022-11-10T17:02:51.178Z"
   },
   {
    "duration": 132,
    "start_time": "2022-11-10T17:02:51.360Z"
   },
   {
    "duration": 8,
    "start_time": "2022-11-10T17:02:51.494Z"
   },
   {
    "duration": 6,
    "start_time": "2022-11-10T17:02:51.504Z"
   },
   {
    "duration": 11,
    "start_time": "2022-11-10T17:02:51.511Z"
   },
   {
    "duration": 43,
    "start_time": "2022-11-10T17:02:51.524Z"
   },
   {
    "duration": 10,
    "start_time": "2022-11-10T17:02:51.569Z"
   },
   {
    "duration": 20,
    "start_time": "2022-11-10T17:02:51.580Z"
   },
   {
    "duration": 25,
    "start_time": "2022-11-10T17:02:51.601Z"
   },
   {
    "duration": 21,
    "start_time": "2022-11-10T17:02:51.628Z"
   },
   {
    "duration": 178,
    "start_time": "2022-11-10T17:02:51.650Z"
   },
   {
    "duration": 33,
    "start_time": "2022-11-10T17:02:51.829Z"
   },
   {
    "duration": 221,
    "start_time": "2022-11-10T17:02:51.864Z"
   },
   {
    "duration": 223,
    "start_time": "2022-11-10T17:02:52.086Z"
   },
   {
    "duration": 35,
    "start_time": "2022-11-10T17:02:52.310Z"
   },
   {
    "duration": 6,
    "start_time": "2022-11-10T17:02:52.358Z"
   },
   {
    "duration": 7,
    "start_time": "2022-11-10T17:02:52.366Z"
   },
   {
    "duration": 7,
    "start_time": "2022-11-10T17:02:52.375Z"
   },
   {
    "duration": 12,
    "start_time": "2022-11-10T17:02:52.384Z"
   },
   {
    "duration": 10,
    "start_time": "2022-11-10T17:02:52.398Z"
   },
   {
    "duration": 8,
    "start_time": "2022-11-10T17:02:52.409Z"
   },
   {
    "duration": 5,
    "start_time": "2022-11-10T17:02:52.419Z"
   },
   {
    "duration": 5,
    "start_time": "2022-11-10T17:02:52.425Z"
   },
   {
    "duration": 28,
    "start_time": "2022-11-10T17:02:52.432Z"
   },
   {
    "duration": 4,
    "start_time": "2022-11-10T17:02:52.461Z"
   },
   {
    "duration": 7,
    "start_time": "2022-11-10T17:02:52.466Z"
   },
   {
    "duration": 165,
    "start_time": "2022-11-10T17:02:52.474Z"
   },
   {
    "duration": 4,
    "start_time": "2022-11-10T17:02:52.641Z"
   },
   {
    "duration": 20,
    "start_time": "2022-11-10T17:02:52.646Z"
   },
   {
    "duration": 29,
    "start_time": "2022-11-10T17:02:52.668Z"
   },
   {
    "duration": 29,
    "start_time": "2022-11-10T17:02:52.699Z"
   },
   {
    "duration": 2094,
    "start_time": "2022-11-10T17:02:52.729Z"
   },
   {
    "duration": 11,
    "start_time": "2022-11-10T17:02:54.825Z"
   },
   {
    "duration": 341,
    "start_time": "2022-11-10T17:02:54.838Z"
   },
   {
    "duration": 41,
    "start_time": "2022-11-10T17:02:55.181Z"
   },
   {
    "duration": 249,
    "start_time": "2022-11-10T17:02:55.223Z"
   },
   {
    "duration": 236,
    "start_time": "2022-11-10T17:02:55.474Z"
   },
   {
    "duration": 226,
    "start_time": "2022-11-10T17:02:55.712Z"
   },
   {
    "duration": 244,
    "start_time": "2022-11-10T17:02:55.939Z"
   },
   {
    "duration": 231,
    "start_time": "2022-11-10T17:02:56.185Z"
   },
   {
    "duration": 233,
    "start_time": "2022-11-10T17:02:56.418Z"
   },
   {
    "duration": 241,
    "start_time": "2022-11-10T17:02:56.652Z"
   },
   {
    "duration": 249,
    "start_time": "2022-11-10T17:02:56.895Z"
   },
   {
    "duration": 221,
    "start_time": "2022-11-10T17:02:57.145Z"
   },
   {
    "duration": 220,
    "start_time": "2022-11-10T17:02:57.368Z"
   },
   {
    "duration": 344,
    "start_time": "2022-11-10T17:02:57.589Z"
   },
   {
    "duration": 8,
    "start_time": "2022-11-10T17:02:57.935Z"
   },
   {
    "duration": 17,
    "start_time": "2022-11-10T17:02:57.944Z"
   },
   {
    "duration": 29,
    "start_time": "2022-11-10T17:02:57.963Z"
   },
   {
    "duration": 6,
    "start_time": "2022-11-10T17:02:57.994Z"
   },
   {
    "duration": 60,
    "start_time": "2022-11-10T17:02:58.005Z"
   },
   {
    "duration": 60,
    "start_time": "2022-11-10T18:38:59.231Z"
   },
   {
    "duration": 13,
    "start_time": "2022-11-10T18:39:52.217Z"
   },
   {
    "duration": 2,
    "start_time": "2022-11-10T18:39:59.092Z"
   },
   {
    "duration": 2,
    "start_time": "2022-11-10T18:40:39.173Z"
   },
   {
    "duration": 3,
    "start_time": "2022-11-10T18:40:43.968Z"
   },
   {
    "duration": 60,
    "start_time": "2022-11-10T18:47:10.041Z"
   },
   {
    "duration": 1206,
    "start_time": "2022-11-11T14:32:07.552Z"
   },
   {
    "duration": 72,
    "start_time": "2022-11-11T14:32:08.760Z"
   },
   {
    "duration": 15,
    "start_time": "2022-11-11T14:32:08.833Z"
   },
   {
    "duration": 11,
    "start_time": "2022-11-11T14:32:08.850Z"
   },
   {
    "duration": 35,
    "start_time": "2022-11-11T14:32:08.863Z"
   },
   {
    "duration": 35,
    "start_time": "2022-11-11T14:32:08.900Z"
   },
   {
    "duration": 16,
    "start_time": "2022-11-11T14:32:08.937Z"
   },
   {
    "duration": 15,
    "start_time": "2022-11-11T14:32:08.955Z"
   },
   {
    "duration": 20,
    "start_time": "2022-11-11T14:32:08.971Z"
   },
   {
    "duration": 28,
    "start_time": "2022-11-11T14:32:08.994Z"
   },
   {
    "duration": 18,
    "start_time": "2022-11-11T14:32:09.024Z"
   },
   {
    "duration": 21,
    "start_time": "2022-11-11T14:32:09.043Z"
   },
   {
    "duration": 6,
    "start_time": "2022-11-11T14:32:09.066Z"
   },
   {
    "duration": 26,
    "start_time": "2022-11-11T14:32:09.073Z"
   },
   {
    "duration": 14,
    "start_time": "2022-11-11T14:32:09.101Z"
   },
   {
    "duration": 13,
    "start_time": "2022-11-11T14:32:09.118Z"
   },
   {
    "duration": 22,
    "start_time": "2022-11-11T14:32:09.133Z"
   },
   {
    "duration": 14,
    "start_time": "2022-11-11T14:32:09.157Z"
   },
   {
    "duration": 12,
    "start_time": "2022-11-11T14:32:09.173Z"
   },
   {
    "duration": 32,
    "start_time": "2022-11-11T14:32:09.187Z"
   },
   {
    "duration": 25,
    "start_time": "2022-11-11T14:32:09.221Z"
   },
   {
    "duration": 30,
    "start_time": "2022-11-11T14:32:09.247Z"
   },
   {
    "duration": 29,
    "start_time": "2022-11-11T14:32:09.279Z"
   },
   {
    "duration": 15,
    "start_time": "2022-11-11T14:32:09.310Z"
   },
   {
    "duration": 8,
    "start_time": "2022-11-11T14:32:09.328Z"
   },
   {
    "duration": 19,
    "start_time": "2022-11-11T14:32:09.338Z"
   },
   {
    "duration": 14,
    "start_time": "2022-11-11T14:32:09.358Z"
   },
   {
    "duration": 6,
    "start_time": "2022-11-11T14:32:09.377Z"
   },
   {
    "duration": 30,
    "start_time": "2022-11-11T14:32:09.385Z"
   },
   {
    "duration": 42,
    "start_time": "2022-11-11T14:32:09.416Z"
   },
   {
    "duration": 6,
    "start_time": "2022-11-11T14:32:09.460Z"
   },
   {
    "duration": 163,
    "start_time": "2022-11-11T14:32:09.468Z"
   },
   {
    "duration": 160,
    "start_time": "2022-11-11T14:32:09.633Z"
   },
   {
    "duration": 10,
    "start_time": "2022-11-11T14:32:09.796Z"
   },
   {
    "duration": 19,
    "start_time": "2022-11-11T14:32:09.808Z"
   },
   {
    "duration": 4,
    "start_time": "2022-11-11T14:32:09.829Z"
   },
   {
    "duration": 6,
    "start_time": "2022-11-11T14:32:09.835Z"
   },
   {
    "duration": 15,
    "start_time": "2022-11-11T14:32:09.843Z"
   },
   {
    "duration": 25,
    "start_time": "2022-11-11T14:32:09.861Z"
   },
   {
    "duration": 31,
    "start_time": "2022-11-11T14:32:09.889Z"
   },
   {
    "duration": 10,
    "start_time": "2022-11-11T14:32:09.922Z"
   },
   {
    "duration": 117,
    "start_time": "2022-11-11T14:32:09.934Z"
   },
   {
    "duration": 0,
    "start_time": "2022-11-11T14:32:10.052Z"
   },
   {
    "duration": 0,
    "start_time": "2022-11-11T14:32:10.054Z"
   },
   {
    "duration": 0,
    "start_time": "2022-11-11T14:32:10.054Z"
   },
   {
    "duration": 0,
    "start_time": "2022-11-11T14:32:10.056Z"
   },
   {
    "duration": 0,
    "start_time": "2022-11-11T14:32:10.056Z"
   },
   {
    "duration": 0,
    "start_time": "2022-11-11T14:32:10.058Z"
   },
   {
    "duration": 0,
    "start_time": "2022-11-11T14:32:10.059Z"
   },
   {
    "duration": 0,
    "start_time": "2022-11-11T14:32:10.060Z"
   },
   {
    "duration": 0,
    "start_time": "2022-11-11T14:32:10.062Z"
   },
   {
    "duration": 0,
    "start_time": "2022-11-11T14:32:10.063Z"
   },
   {
    "duration": 0,
    "start_time": "2022-11-11T14:32:10.065Z"
   },
   {
    "duration": 0,
    "start_time": "2022-11-11T14:32:10.066Z"
   },
   {
    "duration": 0,
    "start_time": "2022-11-11T14:32:10.068Z"
   },
   {
    "duration": 1,
    "start_time": "2022-11-11T14:32:10.069Z"
   },
   {
    "duration": 0,
    "start_time": "2022-11-11T14:32:10.071Z"
   },
   {
    "duration": 0,
    "start_time": "2022-11-11T14:32:10.072Z"
   },
   {
    "duration": 0,
    "start_time": "2022-11-11T14:32:10.073Z"
   },
   {
    "duration": 0,
    "start_time": "2022-11-11T14:32:10.074Z"
   },
   {
    "duration": 0,
    "start_time": "2022-11-11T14:32:10.076Z"
   },
   {
    "duration": 0,
    "start_time": "2022-11-11T14:32:10.077Z"
   },
   {
    "duration": 0,
    "start_time": "2022-11-11T14:32:10.119Z"
   },
   {
    "duration": 0,
    "start_time": "2022-11-11T14:32:10.121Z"
   },
   {
    "duration": 0,
    "start_time": "2022-11-11T14:32:10.123Z"
   },
   {
    "duration": 0,
    "start_time": "2022-11-11T14:32:10.124Z"
   },
   {
    "duration": 0,
    "start_time": "2022-11-11T14:32:10.125Z"
   },
   {
    "duration": 0,
    "start_time": "2022-11-11T14:32:10.126Z"
   },
   {
    "duration": 0,
    "start_time": "2022-11-11T14:32:10.128Z"
   },
   {
    "duration": 0,
    "start_time": "2022-11-11T14:32:10.129Z"
   },
   {
    "duration": 0,
    "start_time": "2022-11-11T14:32:10.131Z"
   },
   {
    "duration": 0,
    "start_time": "2022-11-11T14:32:10.132Z"
   },
   {
    "duration": 0,
    "start_time": "2022-11-11T14:32:10.133Z"
   },
   {
    "duration": 0,
    "start_time": "2022-11-11T14:32:10.134Z"
   },
   {
    "duration": 0,
    "start_time": "2022-11-11T14:32:10.135Z"
   },
   {
    "duration": 0,
    "start_time": "2022-11-11T14:32:10.136Z"
   },
   {
    "duration": 0,
    "start_time": "2022-11-11T14:32:10.137Z"
   },
   {
    "duration": 0,
    "start_time": "2022-11-11T14:32:10.139Z"
   },
   {
    "duration": 0,
    "start_time": "2022-11-11T14:32:10.140Z"
   },
   {
    "duration": 0,
    "start_time": "2022-11-11T14:32:10.142Z"
   },
   {
    "duration": 0,
    "start_time": "2022-11-11T14:32:10.143Z"
   },
   {
    "duration": 0,
    "start_time": "2022-11-11T14:32:10.145Z"
   },
   {
    "duration": 1415,
    "start_time": "2022-11-11T15:25:28.040Z"
   },
   {
    "duration": 202,
    "start_time": "2022-11-11T15:25:29.457Z"
   },
   {
    "duration": 15,
    "start_time": "2022-11-11T15:25:29.660Z"
   },
   {
    "duration": 9,
    "start_time": "2022-11-11T15:25:29.677Z"
   },
   {
    "duration": 38,
    "start_time": "2022-11-11T15:25:29.687Z"
   },
   {
    "duration": 16,
    "start_time": "2022-11-11T15:25:29.727Z"
   },
   {
    "duration": 4,
    "start_time": "2022-11-11T15:25:29.745Z"
   },
   {
    "duration": 6,
    "start_time": "2022-11-11T15:25:29.751Z"
   },
   {
    "duration": 10,
    "start_time": "2022-11-11T15:25:29.758Z"
   },
   {
    "duration": 6,
    "start_time": "2022-11-11T15:25:29.771Z"
   },
   {
    "duration": 9,
    "start_time": "2022-11-11T15:25:29.779Z"
   },
   {
    "duration": 15,
    "start_time": "2022-11-11T15:25:29.820Z"
   },
   {
    "duration": 4,
    "start_time": "2022-11-11T15:25:29.837Z"
   },
   {
    "duration": 15,
    "start_time": "2022-11-11T15:25:29.843Z"
   },
   {
    "duration": 9,
    "start_time": "2022-11-11T15:25:29.860Z"
   },
   {
    "duration": 7,
    "start_time": "2022-11-11T15:25:29.870Z"
   },
   {
    "duration": 10,
    "start_time": "2022-11-11T15:25:29.879Z"
   },
   {
    "duration": 32,
    "start_time": "2022-11-11T15:25:29.890Z"
   },
   {
    "duration": 6,
    "start_time": "2022-11-11T15:25:29.923Z"
   },
   {
    "duration": 22,
    "start_time": "2022-11-11T15:25:29.930Z"
   },
   {
    "duration": 4,
    "start_time": "2022-11-11T15:25:29.954Z"
   },
   {
    "duration": 14,
    "start_time": "2022-11-11T15:25:29.960Z"
   },
   {
    "duration": 48,
    "start_time": "2022-11-11T15:25:29.976Z"
   },
   {
    "duration": 16,
    "start_time": "2022-11-11T15:25:30.026Z"
   },
   {
    "duration": 17,
    "start_time": "2022-11-11T15:25:30.044Z"
   },
   {
    "duration": 22,
    "start_time": "2022-11-11T15:25:30.062Z"
   },
   {
    "duration": 37,
    "start_time": "2022-11-11T15:25:30.086Z"
   },
   {
    "duration": 15,
    "start_time": "2022-11-11T15:25:30.129Z"
   },
   {
    "duration": 25,
    "start_time": "2022-11-11T15:25:30.146Z"
   },
   {
    "duration": 121,
    "start_time": "2022-11-11T15:25:30.173Z"
   },
   {
    "duration": 5,
    "start_time": "2022-11-11T15:25:30.296Z"
   },
   {
    "duration": 180,
    "start_time": "2022-11-11T15:25:30.303Z"
   },
   {
    "duration": 134,
    "start_time": "2022-11-11T15:25:30.485Z"
   },
   {
    "duration": 10,
    "start_time": "2022-11-11T15:25:30.621Z"
   },
   {
    "duration": 28,
    "start_time": "2022-11-11T15:25:30.633Z"
   },
   {
    "duration": 8,
    "start_time": "2022-11-11T15:25:30.663Z"
   },
   {
    "duration": 8,
    "start_time": "2022-11-11T15:25:30.673Z"
   },
   {
    "duration": 22,
    "start_time": "2022-11-11T15:25:30.683Z"
   },
   {
    "duration": 57,
    "start_time": "2022-11-11T15:25:30.707Z"
   },
   {
    "duration": 43,
    "start_time": "2022-11-11T15:25:30.766Z"
   },
   {
    "duration": 27,
    "start_time": "2022-11-11T15:25:30.811Z"
   },
   {
    "duration": 38,
    "start_time": "2022-11-11T15:25:30.840Z"
   },
   {
    "duration": 29,
    "start_time": "2022-11-11T15:25:30.879Z"
   },
   {
    "duration": 272,
    "start_time": "2022-11-11T15:25:30.910Z"
   },
   {
    "duration": 271,
    "start_time": "2022-11-11T15:25:31.184Z"
   },
   {
    "duration": 38,
    "start_time": "2022-11-11T15:25:31.456Z"
   },
   {
    "duration": 119,
    "start_time": "2022-11-11T15:25:31.496Z"
   },
   {
    "duration": 0,
    "start_time": "2022-11-11T15:25:31.619Z"
   },
   {
    "duration": 0,
    "start_time": "2022-11-11T15:25:31.621Z"
   },
   {
    "duration": 0,
    "start_time": "2022-11-11T15:25:31.622Z"
   },
   {
    "duration": 0,
    "start_time": "2022-11-11T15:25:31.623Z"
   },
   {
    "duration": 0,
    "start_time": "2022-11-11T15:25:31.624Z"
   },
   {
    "duration": 0,
    "start_time": "2022-11-11T15:25:31.625Z"
   },
   {
    "duration": 0,
    "start_time": "2022-11-11T15:25:31.626Z"
   },
   {
    "duration": 0,
    "start_time": "2022-11-11T15:25:31.627Z"
   },
   {
    "duration": 0,
    "start_time": "2022-11-11T15:25:31.628Z"
   },
   {
    "duration": 0,
    "start_time": "2022-11-11T15:25:31.629Z"
   },
   {
    "duration": 0,
    "start_time": "2022-11-11T15:25:31.630Z"
   },
   {
    "duration": 0,
    "start_time": "2022-11-11T15:25:31.632Z"
   },
   {
    "duration": 0,
    "start_time": "2022-11-11T15:25:31.633Z"
   },
   {
    "duration": 0,
    "start_time": "2022-11-11T15:25:31.634Z"
   },
   {
    "duration": 0,
    "start_time": "2022-11-11T15:25:31.636Z"
   },
   {
    "duration": 0,
    "start_time": "2022-11-11T15:25:31.637Z"
   },
   {
    "duration": 0,
    "start_time": "2022-11-11T15:25:31.638Z"
   },
   {
    "duration": 0,
    "start_time": "2022-11-11T15:25:31.639Z"
   },
   {
    "duration": 0,
    "start_time": "2022-11-11T15:25:31.641Z"
   },
   {
    "duration": 0,
    "start_time": "2022-11-11T15:25:31.642Z"
   },
   {
    "duration": 0,
    "start_time": "2022-11-11T15:25:31.643Z"
   },
   {
    "duration": 0,
    "start_time": "2022-11-11T15:25:31.644Z"
   },
   {
    "duration": 0,
    "start_time": "2022-11-11T15:25:31.646Z"
   },
   {
    "duration": 0,
    "start_time": "2022-11-11T15:25:31.647Z"
   },
   {
    "duration": 0,
    "start_time": "2022-11-11T15:25:31.648Z"
   },
   {
    "duration": 0,
    "start_time": "2022-11-11T15:25:31.649Z"
   },
   {
    "duration": 0,
    "start_time": "2022-11-11T15:25:31.650Z"
   },
   {
    "duration": 0,
    "start_time": "2022-11-11T15:25:31.651Z"
   },
   {
    "duration": 0,
    "start_time": "2022-11-11T15:25:31.652Z"
   },
   {
    "duration": 0,
    "start_time": "2022-11-11T15:25:31.653Z"
   },
   {
    "duration": 0,
    "start_time": "2022-11-11T15:25:31.654Z"
   },
   {
    "duration": 0,
    "start_time": "2022-11-11T15:25:31.655Z"
   },
   {
    "duration": 0,
    "start_time": "2022-11-11T15:25:31.656Z"
   },
   {
    "duration": 1,
    "start_time": "2022-11-11T15:25:31.719Z"
   },
   {
    "duration": 0,
    "start_time": "2022-11-11T15:25:31.721Z"
   },
   {
    "duration": 54,
    "start_time": "2022-11-11T15:28:42.964Z"
   },
   {
    "duration": 4,
    "start_time": "2022-11-11T15:30:28.957Z"
   },
   {
    "duration": 71,
    "start_time": "2022-11-11T15:30:28.965Z"
   },
   {
    "duration": 15,
    "start_time": "2022-11-11T15:30:29.038Z"
   },
   {
    "duration": 10,
    "start_time": "2022-11-11T15:30:29.055Z"
   },
   {
    "duration": 58,
    "start_time": "2022-11-11T15:30:29.067Z"
   },
   {
    "duration": 16,
    "start_time": "2022-11-11T15:30:29.127Z"
   },
   {
    "duration": 5,
    "start_time": "2022-11-11T15:30:29.145Z"
   },
   {
    "duration": 16,
    "start_time": "2022-11-11T15:30:29.151Z"
   },
   {
    "duration": 9,
    "start_time": "2022-11-11T15:30:29.169Z"
   },
   {
    "duration": 7,
    "start_time": "2022-11-11T15:30:29.180Z"
   },
   {
    "duration": 7,
    "start_time": "2022-11-11T15:30:29.220Z"
   },
   {
    "duration": 17,
    "start_time": "2022-11-11T15:30:29.229Z"
   },
   {
    "duration": 10,
    "start_time": "2022-11-11T15:30:29.247Z"
   },
   {
    "duration": 27,
    "start_time": "2022-11-11T15:30:29.259Z"
   },
   {
    "duration": 11,
    "start_time": "2022-11-11T15:30:29.288Z"
   },
   {
    "duration": 19,
    "start_time": "2022-11-11T15:30:29.301Z"
   },
   {
    "duration": 2,
    "start_time": "2022-11-11T15:30:29.322Z"
   },
   {
    "duration": 8,
    "start_time": "2022-11-11T15:30:29.325Z"
   },
   {
    "duration": 15,
    "start_time": "2022-11-11T15:30:29.335Z"
   },
   {
    "duration": 22,
    "start_time": "2022-11-11T15:30:29.352Z"
   },
   {
    "duration": 4,
    "start_time": "2022-11-11T15:30:29.376Z"
   },
   {
    "duration": 12,
    "start_time": "2022-11-11T15:30:29.381Z"
   },
   {
    "duration": 43,
    "start_time": "2022-11-11T15:30:29.394Z"
   },
   {
    "duration": 14,
    "start_time": "2022-11-11T15:30:29.438Z"
   },
   {
    "duration": 6,
    "start_time": "2022-11-11T15:30:29.453Z"
   },
   {
    "duration": 9,
    "start_time": "2022-11-11T15:30:29.460Z"
   },
   {
    "duration": 19,
    "start_time": "2022-11-11T15:30:29.471Z"
   },
   {
    "duration": 6,
    "start_time": "2022-11-11T15:30:29.492Z"
   },
   {
    "duration": 15,
    "start_time": "2022-11-11T15:30:29.522Z"
   },
   {
    "duration": 43,
    "start_time": "2022-11-11T15:30:29.539Z"
   },
   {
    "duration": 6,
    "start_time": "2022-11-11T15:30:29.583Z"
   },
   {
    "duration": 162,
    "start_time": "2022-11-11T15:30:29.590Z"
   },
   {
    "duration": 141,
    "start_time": "2022-11-11T15:30:29.754Z"
   },
   {
    "duration": 9,
    "start_time": "2022-11-11T15:30:29.897Z"
   },
   {
    "duration": 22,
    "start_time": "2022-11-11T15:30:29.908Z"
   },
   {
    "duration": 119,
    "start_time": "2022-11-11T15:30:29.932Z"
   },
   {
    "duration": 2,
    "start_time": "2022-11-11T15:31:49.844Z"
   },
   {
    "duration": 61,
    "start_time": "2022-11-11T15:31:53.130Z"
   },
   {
    "duration": 15,
    "start_time": "2022-11-11T15:31:56.978Z"
   },
   {
    "duration": 10,
    "start_time": "2022-11-11T15:32:00.855Z"
   },
   {
    "duration": 30,
    "start_time": "2022-11-11T15:32:03.769Z"
   },
   {
    "duration": 21,
    "start_time": "2022-11-11T15:32:06.343Z"
   },
   {
    "duration": 5,
    "start_time": "2022-11-11T15:32:08.275Z"
   },
   {
    "duration": 4,
    "start_time": "2022-11-11T15:32:11.575Z"
   },
   {
    "duration": 8,
    "start_time": "2022-11-11T15:32:13.074Z"
   },
   {
    "duration": 6,
    "start_time": "2022-11-11T15:32:15.143Z"
   },
   {
    "duration": 6,
    "start_time": "2022-11-11T15:32:16.376Z"
   },
   {
    "duration": 15,
    "start_time": "2022-11-11T15:32:18.855Z"
   },
   {
    "duration": 5,
    "start_time": "2022-11-11T15:32:21.749Z"
   },
   {
    "duration": 15,
    "start_time": "2022-11-11T15:32:24.803Z"
   },
   {
    "duration": 8,
    "start_time": "2022-11-11T15:32:26.139Z"
   },
   {
    "duration": 5,
    "start_time": "2022-11-11T15:32:29.312Z"
   },
   {
    "duration": 5,
    "start_time": "2022-11-11T15:32:31.041Z"
   },
   {
    "duration": 5,
    "start_time": "2022-11-11T15:32:33.112Z"
   },
   {
    "duration": 23,
    "start_time": "2022-11-11T15:32:35.788Z"
   },
   {
    "duration": 23,
    "start_time": "2022-11-11T15:33:02.796Z"
   },
   {
    "duration": 5,
    "start_time": "2022-11-11T15:33:06.323Z"
   },
   {
    "duration": 10,
    "start_time": "2022-11-11T15:33:08.099Z"
   },
   {
    "duration": 22,
    "start_time": "2022-11-11T15:33:11.182Z"
   },
   {
    "duration": 13,
    "start_time": "2022-11-11T15:33:14.571Z"
   },
   {
    "duration": 5,
    "start_time": "2022-11-11T15:33:17.260Z"
   },
   {
    "duration": 5,
    "start_time": "2022-11-11T15:33:19.320Z"
   },
   {
    "duration": 11,
    "start_time": "2022-11-11T15:33:21.989Z"
   },
   {
    "duration": 6,
    "start_time": "2022-11-11T15:33:46.969Z"
   },
   {
    "duration": 15,
    "start_time": "2022-11-11T15:33:49.327Z"
   },
   {
    "duration": 5,
    "start_time": "2022-11-11T15:33:55.858Z"
   },
   {
    "duration": 123,
    "start_time": "2022-11-11T15:33:57.728Z"
   },
   {
    "duration": 132,
    "start_time": "2022-11-11T15:33:59.936Z"
   },
   {
    "duration": 9,
    "start_time": "2022-11-11T15:34:15.011Z"
   },
   {
    "duration": 12,
    "start_time": "2022-11-11T15:34:23.760Z"
   },
   {
    "duration": 23,
    "start_time": "2022-11-11T15:34:26.104Z"
   },
   {
    "duration": 233,
    "start_time": "2022-11-11T15:34:44.249Z"
   },
   {
    "duration": 235,
    "start_time": "2022-11-11T15:34:48.237Z"
   },
   {
    "duration": 39,
    "start_time": "2022-11-11T15:34:53.073Z"
   },
   {
    "duration": 2250,
    "start_time": "2022-11-11T15:36:47.880Z"
   },
   {
    "duration": 10,
    "start_time": "2022-11-11T15:37:12.057Z"
   },
   {
    "duration": 2,
    "start_time": "2022-11-11T15:37:54.065Z"
   },
   {
    "duration": 264,
    "start_time": "2022-11-11T15:39:30.336Z"
   },
   {
    "duration": 44,
    "start_time": "2022-11-11T15:39:32.786Z"
   },
   {
    "duration": 220,
    "start_time": "2022-11-11T15:39:37.228Z"
   },
   {
    "duration": 216,
    "start_time": "2022-11-11T15:39:39.395Z"
   },
   {
    "duration": 223,
    "start_time": "2022-11-11T15:39:41.989Z"
   },
   {
    "duration": 242,
    "start_time": "2022-11-11T15:39:43.955Z"
   },
   {
    "duration": 342,
    "start_time": "2022-11-11T15:39:46.685Z"
   },
   {
    "duration": 244,
    "start_time": "2022-11-11T15:39:49.739Z"
   },
   {
    "duration": 258,
    "start_time": "2022-11-11T15:39:53.186Z"
   },
   {
    "duration": 265,
    "start_time": "2022-11-11T15:39:55.213Z"
   },
   {
    "duration": 236,
    "start_time": "2022-11-11T15:40:00.147Z"
   },
   {
    "duration": 224,
    "start_time": "2022-11-11T15:40:02.556Z"
   },
   {
    "duration": 237,
    "start_time": "2022-11-11T15:40:04.589Z"
   },
   {
    "duration": 10,
    "start_time": "2022-11-11T15:40:08.930Z"
   },
   {
    "duration": 7,
    "start_time": "2022-11-11T15:40:19.065Z"
   },
   {
    "duration": 33,
    "start_time": "2022-11-11T15:40:21.063Z"
   },
   {
    "duration": 7,
    "start_time": "2022-11-11T15:40:41.833Z"
   },
   {
    "duration": 43,
    "start_time": "2022-11-11T15:40:45.279Z"
   },
   {
    "duration": 3,
    "start_time": "2022-11-11T15:41:14.594Z"
   },
   {
    "duration": 3,
    "start_time": "2022-11-11T15:41:20.256Z"
   },
   {
    "duration": 4,
    "start_time": "2022-11-11T15:41:24.005Z"
   },
   {
    "duration": 3,
    "start_time": "2022-11-11T15:44:47.057Z"
   },
   {
    "duration": 66,
    "start_time": "2022-11-11T15:44:47.064Z"
   },
   {
    "duration": 13,
    "start_time": "2022-11-11T15:44:47.133Z"
   },
   {
    "duration": 9,
    "start_time": "2022-11-11T15:44:47.148Z"
   },
   {
    "duration": 31,
    "start_time": "2022-11-11T15:44:47.159Z"
   },
   {
    "duration": 15,
    "start_time": "2022-11-11T15:44:47.219Z"
   },
   {
    "duration": 7,
    "start_time": "2022-11-11T15:44:47.236Z"
   },
   {
    "duration": 6,
    "start_time": "2022-11-11T15:44:47.246Z"
   },
   {
    "duration": 11,
    "start_time": "2022-11-11T15:44:47.253Z"
   },
   {
    "duration": 9,
    "start_time": "2022-11-11T15:44:47.266Z"
   },
   {
    "duration": 6,
    "start_time": "2022-11-11T15:44:47.278Z"
   },
   {
    "duration": 41,
    "start_time": "2022-11-11T15:44:47.286Z"
   },
   {
    "duration": 5,
    "start_time": "2022-11-11T15:44:47.328Z"
   },
   {
    "duration": 16,
    "start_time": "2022-11-11T15:44:47.335Z"
   },
   {
    "duration": 9,
    "start_time": "2022-11-11T15:44:47.353Z"
   },
   {
    "duration": 5,
    "start_time": "2022-11-11T15:44:47.364Z"
   },
   {
    "duration": 3,
    "start_time": "2022-11-11T15:44:47.371Z"
   },
   {
    "duration": 46,
    "start_time": "2022-11-11T15:44:47.375Z"
   },
   {
    "duration": 5,
    "start_time": "2022-11-11T15:44:47.423Z"
   },
   {
    "duration": 25,
    "start_time": "2022-11-11T15:44:47.430Z"
   },
   {
    "duration": 4,
    "start_time": "2022-11-11T15:44:47.457Z"
   },
   {
    "duration": 15,
    "start_time": "2022-11-11T15:44:47.463Z"
   },
   {
    "duration": 44,
    "start_time": "2022-11-11T15:44:47.480Z"
   },
   {
    "duration": 19,
    "start_time": "2022-11-11T15:44:47.526Z"
   },
   {
    "duration": 8,
    "start_time": "2022-11-11T15:44:47.547Z"
   },
   {
    "duration": 8,
    "start_time": "2022-11-11T15:44:47.557Z"
   },
   {
    "duration": 16,
    "start_time": "2022-11-11T15:44:47.567Z"
   },
   {
    "duration": 5,
    "start_time": "2022-11-11T15:44:47.585Z"
   },
   {
    "duration": 36,
    "start_time": "2022-11-11T15:44:47.594Z"
   },
   {
    "duration": 44,
    "start_time": "2022-11-11T15:44:47.632Z"
   },
   {
    "duration": 5,
    "start_time": "2022-11-11T15:44:47.678Z"
   },
   {
    "duration": 148,
    "start_time": "2022-11-11T15:44:47.685Z"
   },
   {
    "duration": 147,
    "start_time": "2022-11-11T15:44:47.835Z"
   },
   {
    "duration": 9,
    "start_time": "2022-11-11T15:44:47.983Z"
   },
   {
    "duration": 29,
    "start_time": "2022-11-11T15:44:47.994Z"
   },
   {
    "duration": 24,
    "start_time": "2022-11-11T15:44:48.025Z"
   },
   {
    "duration": 252,
    "start_time": "2022-11-11T15:44:48.050Z"
   },
   {
    "duration": 351,
    "start_time": "2022-11-11T15:44:48.303Z"
   },
   {
    "duration": 35,
    "start_time": "2022-11-11T15:44:48.655Z"
   },
   {
    "duration": 2228,
    "start_time": "2022-11-11T15:44:48.691Z"
   },
   {
    "duration": 2,
    "start_time": "2022-11-11T15:44:50.921Z"
   },
   {
    "duration": 272,
    "start_time": "2022-11-11T15:44:50.924Z"
   },
   {
    "duration": 51,
    "start_time": "2022-11-11T15:44:51.198Z"
   },
   {
    "duration": 251,
    "start_time": "2022-11-11T15:44:51.251Z"
   },
   {
    "duration": 251,
    "start_time": "2022-11-11T15:44:51.504Z"
   },
   {
    "duration": 253,
    "start_time": "2022-11-11T15:44:51.756Z"
   },
   {
    "duration": 276,
    "start_time": "2022-11-11T15:44:52.011Z"
   },
   {
    "duration": 250,
    "start_time": "2022-11-11T15:44:52.289Z"
   },
   {
    "duration": 260,
    "start_time": "2022-11-11T15:44:52.541Z"
   },
   {
    "duration": 272,
    "start_time": "2022-11-11T15:44:52.803Z"
   },
   {
    "duration": 289,
    "start_time": "2022-11-11T15:44:53.077Z"
   },
   {
    "duration": 366,
    "start_time": "2022-11-11T15:44:53.368Z"
   },
   {
    "duration": 253,
    "start_time": "2022-11-11T15:44:53.736Z"
   },
   {
    "duration": 259,
    "start_time": "2022-11-11T15:44:53.991Z"
   },
   {
    "duration": 12,
    "start_time": "2022-11-11T15:44:54.252Z"
   },
   {
    "duration": 24,
    "start_time": "2022-11-11T15:44:54.265Z"
   },
   {
    "duration": 100,
    "start_time": "2022-11-11T15:44:54.290Z"
   },
   {
    "duration": 6,
    "start_time": "2022-11-11T15:44:54.392Z"
   },
   {
    "duration": 59,
    "start_time": "2022-11-11T15:44:54.401Z"
   },
   {
    "duration": 65,
    "start_time": "2022-11-11T15:45:18.997Z"
   },
   {
    "duration": 14,
    "start_time": "2022-11-11T15:45:21.244Z"
   },
   {
    "duration": 11,
    "start_time": "2022-11-11T15:45:23.932Z"
   },
   {
    "duration": 29,
    "start_time": "2022-11-11T15:45:26.012Z"
   },
   {
    "duration": 16,
    "start_time": "2022-11-11T15:45:28.627Z"
   },
   {
    "duration": 5,
    "start_time": "2022-11-11T15:45:31.974Z"
   },
   {
    "duration": 6,
    "start_time": "2022-11-11T15:45:34.724Z"
   },
   {
    "duration": 9,
    "start_time": "2022-11-11T15:45:36.601Z"
   },
   {
    "duration": 6,
    "start_time": "2022-11-11T15:45:38.639Z"
   },
   {
    "duration": 6,
    "start_time": "2022-11-11T15:45:40.197Z"
   },
   {
    "duration": 2,
    "start_time": "2022-11-11T15:46:26.165Z"
   },
   {
    "duration": 4,
    "start_time": "2022-11-11T15:46:27.464Z"
   },
   {
    "duration": 4,
    "start_time": "2022-11-11T15:46:35.525Z"
   },
   {
    "duration": 2,
    "start_time": "2022-11-11T15:46:40.323Z"
   },
   {
    "duration": 3,
    "start_time": "2022-11-11T15:46:41.793Z"
   },
   {
    "duration": 16,
    "start_time": "2022-11-11T15:46:53.122Z"
   },
   {
    "duration": 5,
    "start_time": "2022-11-11T15:46:55.582Z"
   },
   {
    "duration": 4,
    "start_time": "2022-11-11T15:46:58.839Z"
   },
   {
    "duration": 6,
    "start_time": "2022-11-11T15:47:00.459Z"
   },
   {
    "duration": 5,
    "start_time": "2022-11-11T15:47:03.089Z"
   },
   {
    "duration": 6,
    "start_time": "2022-11-11T15:47:05.069Z"
   },
   {
    "duration": 3,
    "start_time": "2022-11-11T15:47:35.154Z"
   },
   {
    "duration": 60,
    "start_time": "2022-11-11T15:47:35.164Z"
   },
   {
    "duration": 14,
    "start_time": "2022-11-11T15:47:35.227Z"
   },
   {
    "duration": 10,
    "start_time": "2022-11-11T15:47:35.243Z"
   },
   {
    "duration": 29,
    "start_time": "2022-11-11T15:47:35.255Z"
   },
   {
    "duration": 35,
    "start_time": "2022-11-11T15:47:35.286Z"
   },
   {
    "duration": 5,
    "start_time": "2022-11-11T15:47:35.323Z"
   },
   {
    "duration": 14,
    "start_time": "2022-11-11T15:47:35.330Z"
   },
   {
    "duration": 14,
    "start_time": "2022-11-11T15:47:35.346Z"
   },
   {
    "duration": 5,
    "start_time": "2022-11-11T15:47:37.265Z"
   },
   {
    "duration": 8,
    "start_time": "2022-11-11T15:47:38.647Z"
   },
   {
    "duration": 14,
    "start_time": "2022-11-11T15:48:01.719Z"
   },
   {
    "duration": 5,
    "start_time": "2022-11-11T15:48:04.638Z"
   },
   {
    "duration": 17,
    "start_time": "2022-11-11T15:48:06.527Z"
   },
   {
    "duration": 7,
    "start_time": "2022-11-11T15:48:08.425Z"
   },
   {
    "duration": 5,
    "start_time": "2022-11-11T15:48:10.447Z"
   },
   {
    "duration": 2,
    "start_time": "2022-11-11T15:48:18.667Z"
   },
   {
    "duration": 5,
    "start_time": "2022-11-11T15:48:21.443Z"
   },
   {
    "duration": 5,
    "start_time": "2022-11-11T15:48:24.284Z"
   },
   {
    "duration": 28,
    "start_time": "2022-11-11T15:48:26.634Z"
   },
   {
    "duration": 5,
    "start_time": "2022-11-11T15:48:30.411Z"
   },
   {
    "duration": 10,
    "start_time": "2022-11-11T15:48:32.367Z"
   },
   {
    "duration": 21,
    "start_time": "2022-11-11T15:48:35.626Z"
   },
   {
    "duration": 14,
    "start_time": "2022-11-11T15:48:39.113Z"
   },
   {
    "duration": 6,
    "start_time": "2022-11-11T15:48:46.528Z"
   },
   {
    "duration": 4,
    "start_time": "2022-11-11T15:48:48.555Z"
   },
   {
    "duration": 9,
    "start_time": "2022-11-11T15:48:50.327Z"
   },
   {
    "duration": 5,
    "start_time": "2022-11-11T15:48:54.078Z"
   },
   {
    "duration": 15,
    "start_time": "2022-11-11T15:48:56.196Z"
   },
   {
    "duration": 5,
    "start_time": "2022-11-11T15:49:02.018Z"
   },
   {
    "duration": 125,
    "start_time": "2022-11-11T15:49:34.879Z"
   },
   {
    "duration": 130,
    "start_time": "2022-11-11T15:49:38.351Z"
   },
   {
    "duration": 11,
    "start_time": "2022-11-11T15:49:48.007Z"
   },
   {
    "duration": 11,
    "start_time": "2022-11-11T15:49:53.859Z"
   },
   {
    "duration": 23,
    "start_time": "2022-11-11T15:49:56.194Z"
   },
   {
    "duration": 216,
    "start_time": "2022-11-11T15:50:49.166Z"
   },
   {
    "duration": 243,
    "start_time": "2022-11-11T15:50:51.328Z"
   },
   {
    "duration": 2236,
    "start_time": "2022-11-11T15:50:57.875Z"
   },
   {
    "duration": 256,
    "start_time": "2022-11-11T15:51:49.504Z"
   },
   {
    "duration": 229,
    "start_time": "2022-11-11T15:51:58.014Z"
   },
   {
    "duration": 341,
    "start_time": "2022-11-11T15:52:00.267Z"
   },
   {
    "duration": 226,
    "start_time": "2022-11-11T15:52:02.505Z"
   },
   {
    "duration": 256,
    "start_time": "2022-11-11T15:52:05.438Z"
   },
   {
    "duration": 221,
    "start_time": "2022-11-11T15:52:07.642Z"
   },
   {
    "duration": 245,
    "start_time": "2022-11-11T15:52:10.908Z"
   },
   {
    "duration": 258,
    "start_time": "2022-11-11T15:52:13.529Z"
   },
   {
    "duration": 285,
    "start_time": "2022-11-11T15:52:16.171Z"
   },
   {
    "duration": 235,
    "start_time": "2022-11-11T15:52:22.455Z"
   },
   {
    "duration": 223,
    "start_time": "2022-11-11T15:52:38.269Z"
   },
   {
    "duration": 246,
    "start_time": "2022-11-11T15:52:40.799Z"
   },
   {
    "duration": 9,
    "start_time": "2022-11-11T15:52:49.646Z"
   },
   {
    "duration": 9,
    "start_time": "2022-11-11T15:52:53.197Z"
   },
   {
    "duration": 35,
    "start_time": "2022-11-11T15:52:55.858Z"
   },
   {
    "duration": 7,
    "start_time": "2022-11-11T15:52:59.254Z"
   },
   {
    "duration": 40,
    "start_time": "2022-11-11T15:53:02.080Z"
   },
   {
    "duration": 3,
    "start_time": "2022-11-11T15:53:42.920Z"
   },
   {
    "duration": 66,
    "start_time": "2022-11-11T15:53:42.928Z"
   },
   {
    "duration": 14,
    "start_time": "2022-11-11T15:53:42.996Z"
   },
   {
    "duration": 11,
    "start_time": "2022-11-11T15:53:43.012Z"
   },
   {
    "duration": 32,
    "start_time": "2022-11-11T15:53:43.025Z"
   },
   {
    "duration": 16,
    "start_time": "2022-11-11T15:53:43.058Z"
   },
   {
    "duration": 5,
    "start_time": "2022-11-11T15:53:43.076Z"
   },
   {
    "duration": 43,
    "start_time": "2022-11-11T15:53:43.082Z"
   },
   {
    "duration": 18,
    "start_time": "2022-11-11T15:53:43.127Z"
   },
   {
    "duration": 7,
    "start_time": "2022-11-11T15:53:43.147Z"
   },
   {
    "duration": 7,
    "start_time": "2022-11-11T15:53:43.157Z"
   },
   {
    "duration": 14,
    "start_time": "2022-11-11T15:53:43.166Z"
   },
   {
    "duration": 5,
    "start_time": "2022-11-11T15:53:43.181Z"
   },
   {
    "duration": 50,
    "start_time": "2022-11-11T15:53:43.188Z"
   },
   {
    "duration": 11,
    "start_time": "2022-11-11T15:53:43.240Z"
   },
   {
    "duration": 5,
    "start_time": "2022-11-11T15:53:43.253Z"
   },
   {
    "duration": 7,
    "start_time": "2022-11-11T15:53:43.260Z"
   },
   {
    "duration": 9,
    "start_time": "2022-11-11T15:53:43.268Z"
   },
   {
    "duration": 17,
    "start_time": "2022-11-11T15:53:43.278Z"
   },
   {
    "duration": 43,
    "start_time": "2022-11-11T15:53:43.297Z"
   },
   {
    "duration": 4,
    "start_time": "2022-11-11T15:53:43.341Z"
   },
   {
    "duration": 14,
    "start_time": "2022-11-11T15:53:43.347Z"
   },
   {
    "duration": 23,
    "start_time": "2022-11-11T15:53:43.362Z"
   },
   {
    "duration": 12,
    "start_time": "2022-11-11T15:53:43.387Z"
   },
   {
    "duration": 8,
    "start_time": "2022-11-11T15:53:43.420Z"
   },
   {
    "duration": 15,
    "start_time": "2022-11-11T15:53:43.430Z"
   },
   {
    "duration": 21,
    "start_time": "2022-11-11T15:53:43.446Z"
   },
   {
    "duration": 11,
    "start_time": "2022-11-11T15:53:43.469Z"
   },
   {
    "duration": 19,
    "start_time": "2022-11-11T15:53:43.485Z"
   },
   {
    "duration": 58,
    "start_time": "2022-11-11T15:53:43.507Z"
   },
   {
    "duration": 5,
    "start_time": "2022-11-11T15:53:43.575Z"
   },
   {
    "duration": 145,
    "start_time": "2022-11-11T15:53:43.582Z"
   },
   {
    "duration": 246,
    "start_time": "2022-11-11T15:53:43.729Z"
   },
   {
    "duration": 7,
    "start_time": "2022-11-11T15:53:43.977Z"
   },
   {
    "duration": 16,
    "start_time": "2022-11-11T15:53:43.986Z"
   },
   {
    "duration": 38,
    "start_time": "2022-11-11T15:53:44.004Z"
   },
   {
    "duration": 253,
    "start_time": "2022-11-11T15:53:44.044Z"
   },
   {
    "duration": 252,
    "start_time": "2022-11-11T15:53:44.300Z"
   },
   {
    "duration": 37,
    "start_time": "2022-11-11T15:53:44.554Z"
   },
   {
    "duration": 2343,
    "start_time": "2022-11-11T15:53:44.593Z"
   },
   {
    "duration": 3,
    "start_time": "2022-11-11T15:53:46.938Z"
   },
   {
    "duration": 288,
    "start_time": "2022-11-11T15:53:46.942Z"
   },
   {
    "duration": 39,
    "start_time": "2022-11-11T15:53:47.232Z"
   },
   {
    "duration": 251,
    "start_time": "2022-11-11T15:53:47.273Z"
   },
   {
    "duration": 240,
    "start_time": "2022-11-11T15:53:47.526Z"
   },
   {
    "duration": 285,
    "start_time": "2022-11-11T15:53:47.768Z"
   },
   {
    "duration": 252,
    "start_time": "2022-11-11T15:53:48.055Z"
   },
   {
    "duration": 238,
    "start_time": "2022-11-11T15:53:48.310Z"
   },
   {
    "duration": 436,
    "start_time": "2022-11-11T15:53:48.550Z"
   },
   {
    "duration": 301,
    "start_time": "2022-11-11T15:53:48.988Z"
   },
   {
    "duration": 266,
    "start_time": "2022-11-11T15:53:49.291Z"
   },
   {
    "duration": 232,
    "start_time": "2022-11-11T15:53:49.559Z"
   },
   {
    "duration": 245,
    "start_time": "2022-11-11T15:53:49.793Z"
   },
   {
    "duration": 252,
    "start_time": "2022-11-11T15:53:50.039Z"
   },
   {
    "duration": 11,
    "start_time": "2022-11-11T15:53:50.292Z"
   },
   {
    "duration": 19,
    "start_time": "2022-11-11T15:53:50.304Z"
   },
   {
    "duration": 37,
    "start_time": "2022-11-11T15:53:50.325Z"
   },
   {
    "duration": 7,
    "start_time": "2022-11-11T15:53:50.364Z"
   },
   {
    "duration": 61,
    "start_time": "2022-11-11T15:53:50.372Z"
   },
   {
    "duration": 1141,
    "start_time": "2022-11-12T00:12:28.825Z"
   },
   {
    "duration": 69,
    "start_time": "2022-11-12T00:12:29.968Z"
   },
   {
    "duration": 14,
    "start_time": "2022-11-12T00:12:30.038Z"
   },
   {
    "duration": 10,
    "start_time": "2022-11-12T00:12:30.054Z"
   },
   {
    "duration": 45,
    "start_time": "2022-11-12T00:12:30.065Z"
   },
   {
    "duration": 17,
    "start_time": "2022-11-12T00:12:30.112Z"
   },
   {
    "duration": 10,
    "start_time": "2022-11-12T00:12:30.131Z"
   },
   {
    "duration": 18,
    "start_time": "2022-11-12T00:12:30.143Z"
   },
   {
    "duration": 47,
    "start_time": "2022-11-12T00:12:30.163Z"
   },
   {
    "duration": 25,
    "start_time": "2022-11-12T00:12:30.213Z"
   },
   {
    "duration": 30,
    "start_time": "2022-11-12T00:12:30.239Z"
   },
   {
    "duration": 33,
    "start_time": "2022-11-12T00:12:30.270Z"
   },
   {
    "duration": 40,
    "start_time": "2022-11-12T00:12:30.305Z"
   },
   {
    "duration": 26,
    "start_time": "2022-11-12T00:12:30.347Z"
   },
   {
    "duration": 29,
    "start_time": "2022-11-12T00:12:30.375Z"
   },
   {
    "duration": 27,
    "start_time": "2022-11-12T00:12:30.406Z"
   },
   {
    "duration": 31,
    "start_time": "2022-11-12T00:12:30.435Z"
   },
   {
    "duration": 24,
    "start_time": "2022-11-12T00:12:30.468Z"
   },
   {
    "duration": 20,
    "start_time": "2022-11-12T00:12:30.494Z"
   },
   {
    "duration": 61,
    "start_time": "2022-11-12T00:12:30.516Z"
   },
   {
    "duration": 4,
    "start_time": "2022-11-12T00:12:30.579Z"
   },
   {
    "duration": 17,
    "start_time": "2022-11-12T00:12:30.585Z"
   },
   {
    "duration": 22,
    "start_time": "2022-11-12T00:12:30.604Z"
   },
   {
    "duration": 13,
    "start_time": "2022-11-12T00:12:30.628Z"
   },
   {
    "duration": 15,
    "start_time": "2022-11-12T00:12:30.643Z"
   },
   {
    "duration": 24,
    "start_time": "2022-11-12T00:12:30.660Z"
   },
   {
    "duration": 28,
    "start_time": "2022-11-12T00:12:30.686Z"
   },
   {
    "duration": 35,
    "start_time": "2022-11-12T00:12:30.717Z"
   },
   {
    "duration": 77,
    "start_time": "2022-11-12T00:12:30.754Z"
   },
   {
    "duration": 63,
    "start_time": "2022-11-12T00:12:30.833Z"
   },
   {
    "duration": 9,
    "start_time": "2022-11-12T00:12:30.898Z"
   },
   {
    "duration": 181,
    "start_time": "2022-11-12T00:12:30.908Z"
   },
   {
    "duration": 137,
    "start_time": "2022-11-12T00:12:31.091Z"
   },
   {
    "duration": 8,
    "start_time": "2022-11-12T00:12:31.230Z"
   },
   {
    "duration": 16,
    "start_time": "2022-11-12T00:12:31.239Z"
   },
   {
    "duration": 20,
    "start_time": "2022-11-12T00:12:31.257Z"
   },
   {
    "duration": 242,
    "start_time": "2022-11-12T00:12:31.278Z"
   },
   {
    "duration": 277,
    "start_time": "2022-11-12T00:12:31.522Z"
   },
   {
    "duration": 41,
    "start_time": "2022-11-12T00:12:31.801Z"
   },
   {
    "duration": 2130,
    "start_time": "2022-11-12T00:12:31.844Z"
   },
   {
    "duration": 3,
    "start_time": "2022-11-12T00:12:33.976Z"
   },
   {
    "duration": 261,
    "start_time": "2022-11-12T00:12:33.981Z"
   },
   {
    "duration": 40,
    "start_time": "2022-11-12T00:12:34.244Z"
   },
   {
    "duration": 255,
    "start_time": "2022-11-12T00:12:34.286Z"
   },
   {
    "duration": 347,
    "start_time": "2022-11-12T00:12:34.543Z"
   },
   {
    "duration": 246,
    "start_time": "2022-11-12T00:12:34.891Z"
   },
   {
    "duration": 254,
    "start_time": "2022-11-12T00:12:35.139Z"
   },
   {
    "duration": 237,
    "start_time": "2022-11-12T00:12:35.395Z"
   },
   {
    "duration": 271,
    "start_time": "2022-11-12T00:12:35.634Z"
   },
   {
    "duration": 258,
    "start_time": "2022-11-12T00:12:35.907Z"
   },
   {
    "duration": 306,
    "start_time": "2022-11-12T00:12:36.167Z"
   },
   {
    "duration": 239,
    "start_time": "2022-11-12T00:12:36.476Z"
   },
   {
    "duration": 228,
    "start_time": "2022-11-12T00:12:36.719Z"
   },
   {
    "duration": 252,
    "start_time": "2022-11-12T00:12:36.949Z"
   },
   {
    "duration": 19,
    "start_time": "2022-11-12T00:12:37.202Z"
   },
   {
    "duration": 9,
    "start_time": "2022-11-12T00:12:37.223Z"
   },
   {
    "duration": 59,
    "start_time": "2022-11-12T00:12:37.235Z"
   },
   {
    "duration": 30,
    "start_time": "2022-11-12T00:12:37.296Z"
   },
   {
    "duration": 49,
    "start_time": "2022-11-12T00:12:37.328Z"
   },
   {
    "duration": 22,
    "start_time": "2022-11-12T00:46:30.184Z"
   },
   {
    "duration": 4,
    "start_time": "2022-11-12T00:46:47.549Z"
   },
   {
    "duration": 6,
    "start_time": "2022-11-12T00:47:16.457Z"
   }
  ],
  "colab": {
   "collapsed_sections": [],
   "provenance": []
  },
  "kernelspec": {
   "display_name": "Python 3 (ipykernel)",
   "language": "python",
   "name": "python3"
  },
  "language_info": {
   "codemirror_mode": {
    "name": "ipython",
    "version": 3
   },
   "file_extension": ".py",
   "mimetype": "text/x-python",
   "name": "python",
   "nbconvert_exporter": "python",
   "pygments_lexer": "ipython3",
   "version": "3.9.16"
  },
  "toc": {
   "base_numbering": 1,
   "nav_menu": {
    "height": "63px",
    "width": "185px"
   },
   "number_sections": true,
   "sideBar": true,
   "skip_h1_title": true,
   "title_cell": "Table of Contents",
   "title_sidebar": "Contents",
   "toc_cell": false,
   "toc_position": {
    "height": "calc(100% - 180px)",
    "left": "10px",
    "top": "150px",
    "width": "225px"
   },
   "toc_section_display": true,
   "toc_window_display": true
  }
 },
 "nbformat": 4,
 "nbformat_minor": 2
}
