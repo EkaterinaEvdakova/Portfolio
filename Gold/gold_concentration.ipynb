{
 "cells": [
  {
   "cell_type": "markdown",
   "metadata": {
    "toc": true
   },
   "source": [
    "<h1>Содержание<span class=\"tocSkip\"></span></h1>\n",
    "<div class=\"toc\"><ul class=\"toc-item\"><li><span><a href=\"#Подготовка-данных\" data-toc-modified-id=\"Подготовка-данных-1\"><span class=\"toc-item-num\">1&nbsp;&nbsp;</span>Подготовка данных</a></span><ul class=\"toc-item\"><li><span><a href=\"#Изучение-данных\" data-toc-modified-id=\"Изучение-данных-1.1\"><span class=\"toc-item-num\">1.1&nbsp;&nbsp;</span>Изучение данных</a></span></li><li><span><a href=\"#Рассчет-эффективности-обогощения\" data-toc-modified-id=\"Рассчет-эффективности-обогощения-1.2\"><span class=\"toc-item-num\">1.2&nbsp;&nbsp;</span>Рассчет эффективности обогощения</a></span></li><li><span><a href=\"#Анализ-признаков-недоступных-в-тестовой-выборке\" data-toc-modified-id=\"Анализ-признаков-недоступных-в-тестовой-выборке-1.3\"><span class=\"toc-item-num\">1.3&nbsp;&nbsp;</span>Анализ признаков недоступных в тестовой выборке</a></span></li><li><span><a href=\"#Предобработка-данных\" data-toc-modified-id=\"Предобработка-данных-1.4\"><span class=\"toc-item-num\">1.4&nbsp;&nbsp;</span>Предобработка данных</a></span></li><li><span><a href=\"#Вывод\" data-toc-modified-id=\"Вывод-1.5\"><span class=\"toc-item-num\">1.5&nbsp;&nbsp;</span>Вывод</a></span></li></ul></li><li><span><a href=\"#Анализ-данных\" data-toc-modified-id=\"Анализ-данных-2\"><span class=\"toc-item-num\">2&nbsp;&nbsp;</span>Анализ данных</a></span><ul class=\"toc-item\"><li><span><a href=\"#Анализ-изменения-концентрации-металлов-(Au,-Ag,-Pb)-на-различных-этапах-очистки\" data-toc-modified-id=\"Анализ-изменения-концентрации-металлов-(Au,-Ag,-Pb)-на-различных-этапах-очистки-2.1\"><span class=\"toc-item-num\">2.1&nbsp;&nbsp;</span>Анализ изменения концентрации металлов (Au, Ag, Pb) на различных этапах очистки</a></span></li><li><span><a href=\"#Распределения-размеров-гранул-сырья-на-обучающей-и-тестовой-выборке\" data-toc-modified-id=\"Распределения-размеров-гранул-сырья-на-обучающей-и-тестовой-выборке-2.2\"><span class=\"toc-item-num\">2.2&nbsp;&nbsp;</span>Распределения размеров гранул сырья на обучающей и тестовой выборке</a></span></li><li><span><a href=\"#Cуммарная-концентрация-всех-веществ-на-разных-стадиях:-в-сырье,-в-черновом-и-финальном-концентратах\" data-toc-modified-id=\"Cуммарная-концентрация-всех-веществ-на-разных-стадиях:-в-сырье,-в-черновом-и-финальном-концентратах-2.3\"><span class=\"toc-item-num\">2.3&nbsp;&nbsp;</span>Cуммарная концентрация всех веществ на разных стадиях: в сырье, в черновом и финальном концентратах</a></span></li></ul></li><li><span><a href=\"#Модель\" data-toc-modified-id=\"Модель-3\"><span class=\"toc-item-num\">3&nbsp;&nbsp;</span>Модель</a></span><ul class=\"toc-item\"><li><span><a href=\"#Функция-для-вычисления-итоговой-sMAPE\" data-toc-modified-id=\"Функция-для-вычисления-итоговой-sMAPE-3.1\"><span class=\"toc-item-num\">3.1&nbsp;&nbsp;</span>Функция для вычисления итоговой sMAPE</a></span></li><li><span><a href=\"#Обучение-моделей\" data-toc-modified-id=\"Обучение-моделей-3.2\"><span class=\"toc-item-num\">3.2&nbsp;&nbsp;</span>Обучение моделей</a></span></li></ul></li><li><span><a href=\"#Вывод\" data-toc-modified-id=\"Вывод-4\"><span class=\"toc-item-num\">4&nbsp;&nbsp;</span>Вывод</a></span></li><li><span><a href=\"#Чек-лист-готовности-проекта\" data-toc-modified-id=\"Чек-лист-готовности-проекта-5\"><span class=\"toc-item-num\">5&nbsp;&nbsp;</span>Чек-лист готовности проекта</a></span></li></ul></div>"
   ]
  },
  {
   "cell_type": "markdown",
   "metadata": {},
   "source": [
    "# Восстановление золота из руды"
   ]
  },
  {
   "cell_type": "markdown",
   "metadata": {},
   "source": [
    "Необходимо подготовить прототип модели машинного обучения компании, разрабатывающей решения для эффективной работы промышленных предприятий.\n",
    "\n",
    "Модель должна предсказать коэффициент восстановления золота из золотосодержащей руды. Имеются данные с параметрами добычи и очистки. \n",
    "\n",
    "Модель поможет оптимизировать производство, чтобы не запускать предприятие с убыточными характеристиками.\n",
    "\n",
    "План работы:\n",
    "\n",
    "1. Подготовить данные;\n",
    "2. Провести исследовательский анализ данных;\n",
    "3. Построить и обучить модель."
   ]
  },
  {
   "cell_type": "code",
   "execution_count": 7,
   "metadata": {},
   "outputs": [
    {
     "name": "stdout",
     "output_type": "stream",
     "text": [
      "Requirement already satisfied: pycodestyle in c:\\users\\kat35\\anaconda3\\envs\\ds_practicum_env1\\lib\\site-packages (2.10.0)\n",
      "Requirement already satisfied: pycodestyle_magic in c:\\users\\kat35\\anaconda3\\envs\\ds_practicum_env1\\lib\\site-packages (0.5)\n",
      "Requirement already satisfied: flake8 in c:\\users\\kat35\\anaconda3\\envs\\ds_practicum_env1\\lib\\site-packages (6.0.0)\n",
      "Requirement already satisfied: mccabe<0.8.0,>=0.7.0 in c:\\users\\kat35\\anaconda3\\envs\\ds_practicum_env1\\lib\\site-packages (from flake8) (0.7.0)\n",
      "Requirement already satisfied: pycodestyle<2.11.0,>=2.10.0 in c:\\users\\kat35\\anaconda3\\envs\\ds_practicum_env1\\lib\\site-packages (from flake8) (2.10.0)\n",
      "Requirement already satisfied: pyflakes<3.1.0,>=3.0.0 in c:\\users\\kat35\\anaconda3\\envs\\ds_practicum_env1\\lib\\site-packages (from flake8) (3.0.1)\n",
      "The pycodestyle_magic extension is already loaded. To reload it, use:\n",
      "  %reload_ext pycodestyle_magic\n"
     ]
    }
   ],
   "source": [
    "!pip install pycodestyle pycodestyle_magic\n",
    "!pip install flake8\n",
    "%load_ext pycodestyle_magic"
   ]
  },
  {
   "cell_type": "markdown",
   "metadata": {},
   "source": [
    "## Подготовка данных"
   ]
  },
  {
   "cell_type": "code",
   "execution_count": 8,
   "metadata": {},
   "outputs": [],
   "source": [
    "# Загрузка библиотек\n",
    "import pandas as pd\n",
    "import numpy as np\n",
    "import warnings\n",
    "import seaborn as sb\n",
    "warnings.filterwarnings(\"ignore\")\n",
    "import matplotlib.pyplot as plt\n",
    "from sklearn.metrics import (\n",
    "    mean_absolute_error,\n",
    "    make_scorer)\n",
    "from sklearn.model_selection import (\n",
    "    train_test_split,\n",
    "    cross_val_score,\n",
    "    cross_validate,\n",
    "    KFold)\n",
    "from sklearn.preprocessing import StandardScaler\n",
    "from sklearn.tree import DecisionTreeRegressor\n",
    "from sklearn.ensemble import RandomForestRegressor\n",
    "from sklearn.linear_model import (\n",
    "    LinearRegression,\n",
    "    RidgeCV)\n",
    "from sklearn.dummy import DummyRegressor"
   ]
  },
  {
   "cell_type": "markdown",
   "metadata": {},
   "source": [
    "### Изучение данных"
   ]
  },
  {
   "cell_type": "code",
   "execution_count": 9,
   "metadata": {},
   "outputs": [
    {
     "name": "stdout",
     "output_type": "stream",
     "text": [
      "(19439, 87) (4860, 53) (14579, 87)\n"
     ]
    }
   ],
   "source": [
    "# Загрузка данных\n",
    "gold_recovery_full_new = pd.read_csv('gold_industry_full.csv')\n",
    "gold_recovery_test_new = pd.read_csv('gold_industry_test.csv')\n",
    "gold_recovery_train_new = pd.read_csv('gold_industry_train.csv')\n",
    "print(gold_recovery_full_new.shape, gold_recovery_test_new.shape,\n",
    "      gold_recovery_train_new.shape)"
   ]
  },
  {
   "cell_type": "code",
   "execution_count": 10,
   "metadata": {},
   "outputs": [],
   "source": [
    "test = gold_recovery_test_new.copy()\n",
    "full = gold_recovery_full_new.copy()\n",
    "train = gold_recovery_train_new.copy()"
   ]
  },
  {
   "cell_type": "markdown",
   "metadata": {},
   "source": [
    "Для обучения моделей необходимо, чтобы в обучающей и тестовой выборке было одинаковое количество признаков.\n",
    "Также в тестовой выборке нет целевых признаков, их нужно определить из полной выборки."
   ]
  },
  {
   "cell_type": "markdown",
   "metadata": {},
   "source": [
    "Восстановим целевые признаки в тестовой выборке"
   ]
  },
  {
   "cell_type": "code",
   "execution_count": 11,
   "metadata": {},
   "outputs": [],
   "source": [
    "columns = set(full.columns) - set(['date', 'final.output.recovery',\n",
    "                                   'rougher.output.recovery'])\n",
    "full = full.drop(columns=columns, axis=1)\n",
    "# тестовая выборка с целевыми признаками\n",
    "test2 = test.merge(full, on='date', how='left')"
   ]
  },
  {
   "cell_type": "code",
   "execution_count": 12,
   "metadata": {},
   "outputs": [
    {
     "data": {
      "text/html": [
       "<div>\n",
       "<style scoped>\n",
       "    .dataframe tbody tr th:only-of-type {\n",
       "        vertical-align: middle;\n",
       "    }\n",
       "\n",
       "    .dataframe tbody tr th {\n",
       "        vertical-align: top;\n",
       "    }\n",
       "\n",
       "    .dataframe thead th {\n",
       "        text-align: right;\n",
       "    }\n",
       "</style>\n",
       "<table border=\"1\" class=\"dataframe\">\n",
       "  <thead>\n",
       "    <tr style=\"text-align: right;\">\n",
       "      <th></th>\n",
       "      <th>date</th>\n",
       "      <th>rougher.input.feed_au</th>\n",
       "      <th>rougher.input.feed_ag</th>\n",
       "      <th>rougher.input.feed_pb</th>\n",
       "      <th>rougher.input.feed_sol</th>\n",
       "      <th>rougher.input.feed_rate</th>\n",
       "      <th>rougher.input.feed_size</th>\n",
       "      <th>rougher.input.floatbank10_sulfate</th>\n",
       "      <th>rougher.input.floatbank10_xanthate</th>\n",
       "      <th>rougher.state.floatbank10_a_air</th>\n",
       "      <th>...</th>\n",
       "      <th>secondary_cleaner.state.floatbank4_b_air</th>\n",
       "      <th>secondary_cleaner.state.floatbank4_b_level</th>\n",
       "      <th>secondary_cleaner.state.floatbank5_a_air</th>\n",
       "      <th>secondary_cleaner.state.floatbank5_a_level</th>\n",
       "      <th>secondary_cleaner.state.floatbank5_b_air</th>\n",
       "      <th>secondary_cleaner.state.floatbank5_b_level</th>\n",
       "      <th>secondary_cleaner.state.floatbank6_a_air</th>\n",
       "      <th>secondary_cleaner.state.floatbank6_a_level</th>\n",
       "      <th>rougher.output.recovery</th>\n",
       "      <th>final.output.recovery</th>\n",
       "    </tr>\n",
       "  </thead>\n",
       "  <tbody>\n",
       "    <tr>\n",
       "      <th>0</th>\n",
       "      <td>2017-12-09 14:59:59</td>\n",
       "      <td>4.365491</td>\n",
       "      <td>6.158718</td>\n",
       "      <td>3.875727</td>\n",
       "      <td>39.135119</td>\n",
       "      <td>555.820208</td>\n",
       "      <td>94.544358</td>\n",
       "      <td>6.146982</td>\n",
       "      <td>9.308612</td>\n",
       "      <td>1196.238112</td>\n",
       "      <td>...</td>\n",
       "      <td>20.020205</td>\n",
       "      <td>-500.220296</td>\n",
       "      <td>17.963512</td>\n",
       "      <td>-499.939490</td>\n",
       "      <td>12.990306</td>\n",
       "      <td>-500.080993</td>\n",
       "      <td>19.990336</td>\n",
       "      <td>-499.191575</td>\n",
       "      <td>89.514960</td>\n",
       "      <td>70.281454</td>\n",
       "    </tr>\n",
       "    <tr>\n",
       "      <th>1</th>\n",
       "      <td>2017-12-09 15:59:59</td>\n",
       "      <td>4.362781</td>\n",
       "      <td>6.048130</td>\n",
       "      <td>3.902537</td>\n",
       "      <td>39.713906</td>\n",
       "      <td>544.731687</td>\n",
       "      <td>123.742430</td>\n",
       "      <td>6.210119</td>\n",
       "      <td>9.297709</td>\n",
       "      <td>1201.904177</td>\n",
       "      <td>...</td>\n",
       "      <td>20.054122</td>\n",
       "      <td>-500.314711</td>\n",
       "      <td>17.979515</td>\n",
       "      <td>-499.272871</td>\n",
       "      <td>12.992404</td>\n",
       "      <td>-499.976268</td>\n",
       "      <td>20.013986</td>\n",
       "      <td>-500.625471</td>\n",
       "      <td>89.858126</td>\n",
       "      <td>65.523246</td>\n",
       "    </tr>\n",
       "  </tbody>\n",
       "</table>\n",
       "<p>2 rows × 55 columns</p>\n",
       "</div>"
      ],
      "text/plain": [
       "                  date  rougher.input.feed_au  rougher.input.feed_ag  \\\n",
       "0  2017-12-09 14:59:59               4.365491               6.158718   \n",
       "1  2017-12-09 15:59:59               4.362781               6.048130   \n",
       "\n",
       "   rougher.input.feed_pb  rougher.input.feed_sol  rougher.input.feed_rate  \\\n",
       "0               3.875727               39.135119               555.820208   \n",
       "1               3.902537               39.713906               544.731687   \n",
       "\n",
       "   rougher.input.feed_size  rougher.input.floatbank10_sulfate  \\\n",
       "0                94.544358                           6.146982   \n",
       "1               123.742430                           6.210119   \n",
       "\n",
       "   rougher.input.floatbank10_xanthate  rougher.state.floatbank10_a_air  ...  \\\n",
       "0                            9.308612                      1196.238112  ...   \n",
       "1                            9.297709                      1201.904177  ...   \n",
       "\n",
       "   secondary_cleaner.state.floatbank4_b_air  \\\n",
       "0                                 20.020205   \n",
       "1                                 20.054122   \n",
       "\n",
       "   secondary_cleaner.state.floatbank4_b_level  \\\n",
       "0                                 -500.220296   \n",
       "1                                 -500.314711   \n",
       "\n",
       "   secondary_cleaner.state.floatbank5_a_air  \\\n",
       "0                                 17.963512   \n",
       "1                                 17.979515   \n",
       "\n",
       "   secondary_cleaner.state.floatbank5_a_level  \\\n",
       "0                                 -499.939490   \n",
       "1                                 -499.272871   \n",
       "\n",
       "   secondary_cleaner.state.floatbank5_b_air  \\\n",
       "0                                 12.990306   \n",
       "1                                 12.992404   \n",
       "\n",
       "   secondary_cleaner.state.floatbank5_b_level  \\\n",
       "0                                 -500.080993   \n",
       "1                                 -499.976268   \n",
       "\n",
       "   secondary_cleaner.state.floatbank6_a_air  \\\n",
       "0                                 19.990336   \n",
       "1                                 20.013986   \n",
       "\n",
       "   secondary_cleaner.state.floatbank6_a_level  rougher.output.recovery  \\\n",
       "0                                 -499.191575                89.514960   \n",
       "1                                 -500.625471                89.858126   \n",
       "\n",
       "   final.output.recovery  \n",
       "0              70.281454  \n",
       "1              65.523246  \n",
       "\n",
       "[2 rows x 55 columns]"
      ]
     },
     "execution_count": 12,
     "metadata": {},
     "output_type": "execute_result"
    }
   ],
   "source": [
    "test2.head(2)"
   ]
  },
  {
   "cell_type": "code",
   "execution_count": 13,
   "metadata": {},
   "outputs": [
    {
     "data": {
      "text/plain": [
       "date                                            0\n",
       "rougher.input.feed_au                           0\n",
       "rougher.input.feed_ag                           0\n",
       "rougher.input.feed_pb                          28\n",
       "rougher.input.feed_sol                         22\n",
       "rougher.input.feed_rate                         4\n",
       "rougher.input.feed_size                        44\n",
       "rougher.input.floatbank10_sulfate               3\n",
       "rougher.input.floatbank10_xanthate              1\n",
       "rougher.state.floatbank10_a_air                 1\n",
       "rougher.state.floatbank10_a_level               1\n",
       "rougher.state.floatbank10_b_air                 1\n",
       "rougher.state.floatbank10_b_level               1\n",
       "rougher.state.floatbank10_c_air                 1\n",
       "rougher.state.floatbank10_c_level               1\n",
       "rougher.state.floatbank10_d_air                 0\n",
       "rougher.state.floatbank10_d_level               0\n",
       "rougher.state.floatbank10_e_air                 7\n",
       "rougher.state.floatbank10_e_level               0\n",
       "rougher.state.floatbank10_f_air                 0\n",
       "rougher.state.floatbank10_f_level               0\n",
       "rougher.input.floatbank11_sulfate               8\n",
       "rougher.input.floatbank11_xanthate             46\n",
       "primary_cleaner.input.sulfate                   1\n",
       "primary_cleaner.input.depressant                9\n",
       "primary_cleaner.input.feed_size                 0\n",
       "primary_cleaner.input.xanthate                 43\n",
       "primary_cleaner.state.floatbank8_a_air          1\n",
       "primary_cleaner.state.floatbank8_a_level        1\n",
       "primary_cleaner.state.floatbank8_b_air          1\n",
       "primary_cleaner.state.floatbank8_b_level        1\n",
       "primary_cleaner.state.floatbank8_c_air          2\n",
       "primary_cleaner.state.floatbank8_c_level        1\n",
       "primary_cleaner.state.floatbank8_d_air          2\n",
       "primary_cleaner.state.floatbank8_d_level        1\n",
       "secondary_cleaner.state.floatbank2_a_air      126\n",
       "secondary_cleaner.state.floatbank2_a_level      1\n",
       "secondary_cleaner.state.floatbank2_b_air        1\n",
       "secondary_cleaner.state.floatbank2_b_level      1\n",
       "secondary_cleaner.state.floatbank3_a_air        1\n",
       "secondary_cleaner.state.floatbank3_a_level      1\n",
       "secondary_cleaner.state.floatbank3_b_air        1\n",
       "secondary_cleaner.state.floatbank3_b_level      1\n",
       "secondary_cleaner.state.floatbank4_a_air        1\n",
       "secondary_cleaner.state.floatbank4_a_level      1\n",
       "secondary_cleaner.state.floatbank4_b_air        1\n",
       "secondary_cleaner.state.floatbank4_b_level      1\n",
       "secondary_cleaner.state.floatbank5_a_air        1\n",
       "secondary_cleaner.state.floatbank5_a_level      1\n",
       "secondary_cleaner.state.floatbank5_b_air        1\n",
       "secondary_cleaner.state.floatbank5_b_level      1\n",
       "secondary_cleaner.state.floatbank6_a_air        1\n",
       "secondary_cleaner.state.floatbank6_a_level      1\n",
       "rougher.output.recovery                         0\n",
       "final.output.recovery                           0\n",
       "dtype: int64"
      ]
     },
     "execution_count": 13,
     "metadata": {},
     "output_type": "execute_result"
    }
   ],
   "source": [
    "test2.isnull().sum()"
   ]
  },
  {
   "cell_type": "markdown",
   "metadata": {},
   "source": [
    "Пропусков в целевых признаках нет.\n",
    "Подготовим обучающие данные удалив из них признаки, которых нет в тестовой выборке"
   ]
  },
  {
   "cell_type": "code",
   "execution_count": 14,
   "metadata": {},
   "outputs": [
    {
     "data": {
      "text/plain": [
       "(14579, 55)"
      ]
     },
     "execution_count": 14,
     "metadata": {},
     "output_type": "execute_result"
    }
   ],
   "source": [
    "columns_for_deleted = set(gold_recovery_train_new.columns) - set(\n",
    "    gold_recovery_test_new.columns) - set(\n",
    "    ['final.output.recovery', 'rougher.output.recovery'])\n",
    "columns_for_deleted = list(columns_for_deleted)\n",
    "train = gold_recovery_train_new.copy()\n",
    "train = train.drop(columns=columns_for_deleted, axis=1)\n",
    "train.shape"
   ]
  },
  {
   "cell_type": "markdown",
   "metadata": {},
   "source": [
    "Переименуем данные:"
   ]
  },
  {
   "cell_type": "code",
   "execution_count": 15,
   "metadata": {},
   "outputs": [],
   "source": [
    "test = test2.copy()"
   ]
  },
  {
   "cell_type": "markdown",
   "metadata": {},
   "source": [
    "### Рассчет эффективности обогощения"
   ]
  },
  {
   "cell_type": "markdown",
   "metadata": {},
   "source": [
    "• C — доля золота в концентрате после флотации/очистки;\n",
    "\n",
    "• F — доля золота в сырье/концентрате до флотации/очистки;\n",
    "\n",
    "• T — доля золота в отвальных хвостах после флотации/очистки"
   ]
  },
  {
   "cell_type": "code",
   "execution_count": 16,
   "metadata": {},
   "outputs": [],
   "source": [
    "# Функция расчета эффективности обогощения\n",
    "def recovery(C, F, T):\n",
    "    result = C * (F - T) / (F * (C - T)) * 100\n",
    "    return result"
   ]
  },
  {
   "cell_type": "markdown",
   "metadata": {},
   "source": [
    "Так как анализ проводится на полной обучающей выборке со всеми признакми, создадим еще раз train_all - содержащий все признаки"
   ]
  },
  {
   "cell_type": "code",
   "execution_count": 17,
   "metadata": {},
   "outputs": [],
   "source": [
    "train_all = gold_recovery_train_new.copy()"
   ]
  },
  {
   "cell_type": "code",
   "execution_count": 18,
   "metadata": {},
   "outputs": [],
   "source": [
    "recovery_train = train_all['rougher.output.recovery']\n",
    "C = train_all['rougher.output.concentrate_au']\n",
    "F = train_all['rougher.input.feed_au']\n",
    "T = train_all['rougher.output.tail_au']"
   ]
  },
  {
   "cell_type": "code",
   "execution_count": 19,
   "metadata": {},
   "outputs": [
    {
     "name": "stdout",
     "output_type": "stream",
     "text": [
      "85.9465\n",
      "85.9465\n"
     ]
    }
   ],
   "source": [
    "print(round(recovery(C, F, T).median(), 5))\n",
    "print(round(recovery_train.median(), 5))"
   ]
  },
  {
   "cell_type": "markdown",
   "metadata": {},
   "source": [
    "Медианные значения расчитанной эффективности и взятой из таблицы - совпадают"
   ]
  },
  {
   "cell_type": "code",
   "execution_count": 20,
   "metadata": {},
   "outputs": [
    {
     "data": {
      "text/plain": [
       "0.0"
      ]
     },
     "execution_count": 20,
     "metadata": {},
     "output_type": "execute_result"
    }
   ],
   "source": [
    "# Расчитаем mae\n",
    "mae = mean_absolute_error(recovery_train, recovery(C, F, T))\n",
    "round(mae, 5)"
   ]
  },
  {
   "cell_type": "markdown",
   "metadata": {},
   "source": [
    "Эффективность расчитана верно."
   ]
  },
  {
   "cell_type": "markdown",
   "metadata": {},
   "source": [
    "### Анализ признаков недоступных в тестовой выборке"
   ]
  },
  {
   "cell_type": "code",
   "execution_count": 21,
   "metadata": {},
   "outputs": [
    {
     "data": {
      "text/plain": [
       "{'final.output.concentrate_ag',\n",
       " 'final.output.concentrate_au',\n",
       " 'final.output.concentrate_pb',\n",
       " 'final.output.concentrate_sol',\n",
       " 'final.output.recovery',\n",
       " 'final.output.tail_ag',\n",
       " 'final.output.tail_au',\n",
       " 'final.output.tail_pb',\n",
       " 'final.output.tail_sol',\n",
       " 'primary_cleaner.output.concentrate_ag',\n",
       " 'primary_cleaner.output.concentrate_au',\n",
       " 'primary_cleaner.output.concentrate_pb',\n",
       " 'primary_cleaner.output.concentrate_sol',\n",
       " 'primary_cleaner.output.tail_ag',\n",
       " 'primary_cleaner.output.tail_au',\n",
       " 'primary_cleaner.output.tail_pb',\n",
       " 'primary_cleaner.output.tail_sol',\n",
       " 'rougher.calculation.au_pb_ratio',\n",
       " 'rougher.calculation.floatbank10_sulfate_to_au_feed',\n",
       " 'rougher.calculation.floatbank11_sulfate_to_au_feed',\n",
       " 'rougher.calculation.sulfate_to_au_concentrate',\n",
       " 'rougher.output.concentrate_ag',\n",
       " 'rougher.output.concentrate_au',\n",
       " 'rougher.output.concentrate_pb',\n",
       " 'rougher.output.concentrate_sol',\n",
       " 'rougher.output.recovery',\n",
       " 'rougher.output.tail_ag',\n",
       " 'rougher.output.tail_au',\n",
       " 'rougher.output.tail_pb',\n",
       " 'rougher.output.tail_sol',\n",
       " 'secondary_cleaner.output.tail_ag',\n",
       " 'secondary_cleaner.output.tail_au',\n",
       " 'secondary_cleaner.output.tail_pb',\n",
       " 'secondary_cleaner.output.tail_sol'}"
      ]
     },
     "execution_count": 21,
     "metadata": {},
     "output_type": "execute_result"
    }
   ],
   "source": [
    "set(gold_recovery_train_new.columns) - set(gold_recovery_test_new.columns)"
   ]
  },
  {
   "cell_type": "markdown",
   "metadata": {},
   "source": [
    "Во-первых, в тестовой выборке не было таргетов. Во-вторых, там не было данных о параметрах продуктов. Эти данные неизвестны до начала технологического процесса и через них можно вычислить целевой признак. В-третьих, не было расчетных данных, которые в себе могли также содержать информацию о целевом признаке."
   ]
  },
  {
   "cell_type": "markdown",
   "metadata": {},
   "source": [
    "### Предобработка данных"
   ]
  },
  {
   "cell_type": "code",
   "execution_count": 22,
   "metadata": {},
   "outputs": [
    {
     "data": {
      "text/plain": [
       "date                                            0\n",
       "rougher.input.feed_au                           0\n",
       "rougher.input.feed_ag                           0\n",
       "rougher.input.feed_pb                          72\n",
       "rougher.input.feed_sol                         77\n",
       "rougher.input.feed_rate                         7\n",
       "rougher.input.feed_size                       101\n",
       "rougher.input.floatbank10_sulfate              31\n",
       "rougher.input.floatbank10_xanthate              7\n",
       "rougher.state.floatbank10_a_air                 0\n",
       "rougher.state.floatbank10_a_level               0\n",
       "rougher.state.floatbank10_b_air                 0\n",
       "rougher.state.floatbank10_b_level               0\n",
       "rougher.state.floatbank10_c_air                 0\n",
       "rougher.state.floatbank10_c_level               0\n",
       "rougher.state.floatbank10_d_air                 0\n",
       "rougher.state.floatbank10_d_level               0\n",
       "rougher.state.floatbank10_e_air               429\n",
       "rougher.state.floatbank10_e_level               0\n",
       "rougher.state.floatbank10_f_air                 0\n",
       "rougher.state.floatbank10_f_level               0\n",
       "rougher.input.floatbank11_sulfate              36\n",
       "rougher.input.floatbank11_xanthate            407\n",
       "rougher.output.recovery                         0\n",
       "primary_cleaner.input.sulfate                  23\n",
       "primary_cleaner.input.depressant               28\n",
       "primary_cleaner.input.feed_size                 0\n",
       "primary_cleaner.input.xanthate                 61\n",
       "primary_cleaner.state.floatbank8_a_air          3\n",
       "primary_cleaner.state.floatbank8_a_level        0\n",
       "primary_cleaner.state.floatbank8_b_air          3\n",
       "primary_cleaner.state.floatbank8_b_level        0\n",
       "primary_cleaner.state.floatbank8_c_air          0\n",
       "primary_cleaner.state.floatbank8_c_level        0\n",
       "primary_cleaner.state.floatbank8_d_air          1\n",
       "primary_cleaner.state.floatbank8_d_level        0\n",
       "secondary_cleaner.state.floatbank2_a_air       94\n",
       "secondary_cleaner.state.floatbank2_a_level      0\n",
       "secondary_cleaner.state.floatbank2_b_air       22\n",
       "secondary_cleaner.state.floatbank2_b_level      0\n",
       "secondary_cleaner.state.floatbank3_a_air       12\n",
       "secondary_cleaner.state.floatbank3_a_level      0\n",
       "secondary_cleaner.state.floatbank3_b_air        0\n",
       "secondary_cleaner.state.floatbank3_b_level      0\n",
       "secondary_cleaner.state.floatbank4_a_air        5\n",
       "secondary_cleaner.state.floatbank4_a_level      0\n",
       "secondary_cleaner.state.floatbank4_b_air        0\n",
       "secondary_cleaner.state.floatbank4_b_level      0\n",
       "secondary_cleaner.state.floatbank5_a_air        0\n",
       "secondary_cleaner.state.floatbank5_a_level      0\n",
       "secondary_cleaner.state.floatbank5_b_air        0\n",
       "secondary_cleaner.state.floatbank5_b_level      0\n",
       "secondary_cleaner.state.floatbank6_a_air        1\n",
       "secondary_cleaner.state.floatbank6_a_level      0\n",
       "final.output.recovery                           0\n",
       "dtype: int64"
      ]
     },
     "execution_count": 22,
     "metadata": {},
     "output_type": "execute_result"
    }
   ],
   "source": [
    "train.isnull().sum()"
   ]
  },
  {
   "cell_type": "markdown",
   "metadata": {},
   "source": [
    "Есть пропуски почти в каждом столбце. Проверим какая часть данных имеет пропуски:"
   ]
  },
  {
   "cell_type": "code",
   "execution_count": 23,
   "metadata": {},
   "outputs": [
    {
     "name": "stdout",
     "output_type": "stream",
     "text": [
      "Доля пропусков в трейне 8.29 %\n",
      "Доля пропусков в тесте 6.65 %\n"
     ]
    }
   ],
   "source": [
    "print('Доля пропусков в трейне',\n",
    "      round((1-(train.dropna().shape[0] / train.shape[0])) * 100, 2), '%')\n",
    "print('Доля пропусков в тесте',\n",
    "      round((1-(test.dropna().shape[0] / test.shape[0])) * 100, 2), '%')"
   ]
  },
  {
   "cell_type": "code",
   "execution_count": 24,
   "metadata": {},
   "outputs": [],
   "source": [
    "train_not_null = train.ffill(axis=0)\n",
    "test_not_null = test.ffill(axis=0)"
   ]
  },
  {
   "cell_type": "code",
   "execution_count": 25,
   "metadata": {},
   "outputs": [
    {
     "data": {
      "text/plain": [
       "date                                          0\n",
       "rougher.input.feed_au                         0\n",
       "rougher.input.feed_ag                         0\n",
       "rougher.input.feed_pb                         0\n",
       "rougher.input.feed_sol                        0\n",
       "rougher.input.feed_rate                       0\n",
       "rougher.input.feed_size                       0\n",
       "rougher.input.floatbank10_sulfate             0\n",
       "rougher.input.floatbank10_xanthate            0\n",
       "rougher.state.floatbank10_a_air               0\n",
       "rougher.state.floatbank10_a_level             0\n",
       "rougher.state.floatbank10_b_air               0\n",
       "rougher.state.floatbank10_b_level             0\n",
       "rougher.state.floatbank10_c_air               0\n",
       "rougher.state.floatbank10_c_level             0\n",
       "rougher.state.floatbank10_d_air               0\n",
       "rougher.state.floatbank10_d_level             0\n",
       "rougher.state.floatbank10_e_air               0\n",
       "rougher.state.floatbank10_e_level             0\n",
       "rougher.state.floatbank10_f_air               0\n",
       "rougher.state.floatbank10_f_level             0\n",
       "rougher.input.floatbank11_sulfate             0\n",
       "rougher.input.floatbank11_xanthate            0\n",
       "rougher.output.recovery                       0\n",
       "primary_cleaner.input.sulfate                 0\n",
       "primary_cleaner.input.depressant              0\n",
       "primary_cleaner.input.feed_size               0\n",
       "primary_cleaner.input.xanthate                0\n",
       "primary_cleaner.state.floatbank8_a_air        0\n",
       "primary_cleaner.state.floatbank8_a_level      0\n",
       "primary_cleaner.state.floatbank8_b_air        0\n",
       "primary_cleaner.state.floatbank8_b_level      0\n",
       "primary_cleaner.state.floatbank8_c_air        0\n",
       "primary_cleaner.state.floatbank8_c_level      0\n",
       "primary_cleaner.state.floatbank8_d_air        0\n",
       "primary_cleaner.state.floatbank8_d_level      0\n",
       "secondary_cleaner.state.floatbank2_a_air      0\n",
       "secondary_cleaner.state.floatbank2_a_level    0\n",
       "secondary_cleaner.state.floatbank2_b_air      0\n",
       "secondary_cleaner.state.floatbank2_b_level    0\n",
       "secondary_cleaner.state.floatbank3_a_air      0\n",
       "secondary_cleaner.state.floatbank3_a_level    0\n",
       "secondary_cleaner.state.floatbank3_b_air      0\n",
       "secondary_cleaner.state.floatbank3_b_level    0\n",
       "secondary_cleaner.state.floatbank4_a_air      0\n",
       "secondary_cleaner.state.floatbank4_a_level    0\n",
       "secondary_cleaner.state.floatbank4_b_air      0\n",
       "secondary_cleaner.state.floatbank4_b_level    0\n",
       "secondary_cleaner.state.floatbank5_a_air      0\n",
       "secondary_cleaner.state.floatbank5_a_level    0\n",
       "secondary_cleaner.state.floatbank5_b_air      0\n",
       "secondary_cleaner.state.floatbank5_b_level    0\n",
       "secondary_cleaner.state.floatbank6_a_air      0\n",
       "secondary_cleaner.state.floatbank6_a_level    0\n",
       "final.output.recovery                         0\n",
       "dtype: int64"
      ]
     },
     "execution_count": 25,
     "metadata": {},
     "output_type": "execute_result"
    }
   ],
   "source": [
    "train_not_null.isnull().sum()"
   ]
  },
  {
   "cell_type": "markdown",
   "metadata": {},
   "source": [
    "Проверим наличие дубликатов"
   ]
  },
  {
   "cell_type": "code",
   "execution_count": 26,
   "metadata": {},
   "outputs": [
    {
     "name": "stdout",
     "output_type": "stream",
     "text": [
      "0 0\n"
     ]
    }
   ],
   "source": [
    "print(test_not_null.duplicated().sum(), train_not_null.duplicated().sum())"
   ]
  },
  {
   "cell_type": "markdown",
   "metadata": {},
   "source": [
    "Дубликатов нет. "
   ]
  },
  {
   "cell_type": "code",
   "execution_count": 27,
   "metadata": {},
   "outputs": [
    {
     "name": "stdout",
     "output_type": "stream",
     "text": [
      "Top Absolute Correlations\n",
      "rougher.state.floatbank10_b_level           rougher.state.floatbank10_c_level             0.989389\n",
      "rougher.state.floatbank10_c_level           rougher.state.floatbank10_d_level             0.980289\n",
      "rougher.state.floatbank10_e_level           rougher.state.floatbank10_f_level             0.979850\n",
      "rougher.state.floatbank10_b_level           rougher.state.floatbank10_d_level             0.972879\n",
      "primary_cleaner.state.floatbank8_a_air      primary_cleaner.state.floatbank8_b_air        0.963371\n",
      "rougher.state.floatbank10_c_level           rougher.state.floatbank10_e_level             0.962928\n",
      "rougher.state.floatbank10_b_level           rougher.state.floatbank10_e_level             0.954842\n",
      "rougher.state.floatbank10_c_level           rougher.state.floatbank10_f_level             0.954201\n",
      "rougher.state.floatbank10_d_level           rougher.state.floatbank10_f_level             0.951983\n",
      "                                            rougher.state.floatbank10_e_level             0.950055\n",
      "rougher.state.floatbank10_b_level           rougher.state.floatbank10_f_level             0.946712\n",
      "primary_cleaner.state.floatbank8_a_level    primary_cleaner.state.floatbank8_c_level      0.940683\n",
      "rougher.state.floatbank10_b_air             rougher.state.floatbank10_c_air               0.939414\n",
      "rougher.state.floatbank10_e_air             rougher.state.floatbank10_f_air               0.931731\n",
      "rougher.state.floatbank10_b_air             rougher.state.floatbank10_d_air               0.930258\n",
      "primary_cleaner.state.floatbank8_b_air      primary_cleaner.state.floatbank8_c_air        0.930083\n",
      "rougher.state.floatbank10_c_air             rougher.state.floatbank10_d_air               0.918979\n",
      "primary_cleaner.state.floatbank8_a_air      primary_cleaner.state.floatbank8_c_air        0.915446\n",
      "secondary_cleaner.state.floatbank2_a_level  secondary_cleaner.state.floatbank2_b_level    0.898639\n",
      "secondary_cleaner.state.floatbank5_a_air    secondary_cleaner.state.floatbank5_b_air      0.894023\n",
      "rougher.input.floatbank10_xanthate          rougher.input.floatbank11_xanthate            0.881214\n",
      "secondary_cleaner.state.floatbank2_a_air    secondary_cleaner.state.floatbank2_b_air      0.877877\n",
      "rougher.state.floatbank10_d_air             rougher.state.floatbank10_e_air               0.862312\n",
      "secondary_cleaner.state.floatbank4_b_air    secondary_cleaner.state.floatbank5_b_air      0.853977\n",
      "secondary_cleaner.state.floatbank4_a_air    secondary_cleaner.state.floatbank4_b_air      0.845529\n",
      "rougher.input.feed_au                       rougher.input.feed_ag                         0.840868\n",
      "rougher.state.floatbank10_d_air             rougher.state.floatbank10_f_air               0.834280\n",
      "rougher.state.floatbank10_b_air             rougher.state.floatbank10_e_air               0.832660\n",
      "primary_cleaner.state.floatbank8_a_level    primary_cleaner.state.floatbank8_b_level      0.830478\n",
      "secondary_cleaner.state.floatbank5_a_level  secondary_cleaner.state.floatbank5_b_level    0.825800\n",
      "rougher.input.floatbank10_sulfate           rougher.input.floatbank11_sulfate             0.816166\n",
      "rougher.state.floatbank10_b_air             rougher.state.floatbank10_f_air               0.814109\n",
      "primary_cleaner.state.floatbank8_b_level    primary_cleaner.state.floatbank8_c_level      0.806076\n",
      "rougher.state.floatbank10_c_air             rougher.state.floatbank10_e_air               0.795035\n",
      "secondary_cleaner.state.floatbank4_b_air    secondary_cleaner.state.floatbank5_a_air      0.775201\n",
      "secondary_cleaner.state.floatbank3_a_air    secondary_cleaner.state.floatbank3_b_air      0.767170\n",
      "rougher.state.floatbank10_c_air             rougher.state.floatbank10_f_air               0.755427\n",
      "secondary_cleaner.state.floatbank4_a_air    secondary_cleaner.state.floatbank5_a_air      0.753642\n",
      "secondary_cleaner.state.floatbank4_a_level  secondary_cleaner.state.floatbank5_a_level    0.741007\n",
      "rougher.input.feed_au                       rougher.input.feed_pb                         0.723763\n",
      "dtype: float64\n"
     ]
    }
   ],
   "source": [
    "def get_redundant_pairs(df):\n",
    "    '''Get diagonal and lower triangular pairs of correlation matrix'''\n",
    "    pairs_to_drop = set()\n",
    "    cols = df.columns\n",
    "    for i in range(0, df.shape[1]):\n",
    "        for j in range(0, i+1):\n",
    "            pairs_to_drop.add((cols[i], cols[j]))\n",
    "    return pairs_to_drop\n",
    "\n",
    "\n",
    "def get_top_abs_correlations(df, n=5):\n",
    "    au_corr = df.corr().abs().unstack()\n",
    "    labels_to_drop = get_redundant_pairs(df)\n",
    "    au_corr = au_corr.drop(labels=labels_to_drop).sort_values(ascending=False)\n",
    "    return au_corr[0:n]\n",
    "\n",
    "\n",
    "print(\"Top Absolute Correlations\")\n",
    "сorr_columns = get_top_abs_correlations(\n",
    "    train_not_null.drop(columns='date', axis=1), 40)\n",
    "print(сorr_columns)"
   ]
  },
  {
   "cell_type": "markdown",
   "metadata": {},
   "source": [
    "Удалим признаки с кореррялцией более 0,9"
   ]
  },
  {
   "cell_type": "code",
   "execution_count": 28,
   "metadata": {},
   "outputs": [
    {
     "data": {
      "text/plain": [
       "['rougher.state.floatbank10_b_level',\n",
       " 'rougher.state.floatbank10_c_level',\n",
       " 'rougher.state.floatbank10_e_level',\n",
       " 'rougher.state.floatbank10_b_level',\n",
       " 'primary_cleaner.state.floatbank8_a_air',\n",
       " 'rougher.state.floatbank10_c_level',\n",
       " 'rougher.state.floatbank10_b_level',\n",
       " 'rougher.state.floatbank10_c_level',\n",
       " 'rougher.state.floatbank10_d_level',\n",
       " 'rougher.state.floatbank10_d_level',\n",
       " 'rougher.state.floatbank10_b_level',\n",
       " 'primary_cleaner.state.floatbank8_a_level',\n",
       " 'rougher.state.floatbank10_b_air',\n",
       " 'rougher.state.floatbank10_e_air',\n",
       " 'rougher.state.floatbank10_b_air',\n",
       " 'primary_cleaner.state.floatbank8_b_air',\n",
       " 'rougher.state.floatbank10_c_air',\n",
       " 'primary_cleaner.state.floatbank8_a_air']"
      ]
     },
     "execution_count": 28,
     "metadata": {},
     "output_type": "execute_result"
    }
   ],
   "source": [
    "t = pd.DataFrame(сorr_columns[сorr_columns >= 0.9].index)\n",
    "columns_with_corr = []\n",
    "for i in range(len(t)):\n",
    "    columns_with_corr.append(t.iloc[i, 0][0])\n",
    "columns_with_corr"
   ]
  },
  {
   "cell_type": "code",
   "execution_count": 29,
   "metadata": {
    "scrolled": true
   },
   "outputs": [
    {
     "name": "stdout",
     "output_type": "stream",
     "text": [
      "(4860, 45) (14579, 45)\n"
     ]
    }
   ],
   "source": [
    "test_not_null_not_corr = test_not_null.copy()\n",
    "test_not_null_not_corr = test_not_null_not_corr.drop(\n",
    "    columns=columns_with_corr, axis=1)\n",
    "train_not_null_not_corr = train_not_null.copy()\n",
    "train_not_null_not_corr = train_not_null_not_corr.drop(\n",
    "    columns=columns_with_corr, axis=1)\n",
    "print(test_not_null_not_corr.shape, train_not_null_not_corr.shape)"
   ]
  },
  {
   "cell_type": "markdown",
   "metadata": {},
   "source": [
    "Проанализируем оставшиеся признаки на наличие аномалий."
   ]
  },
  {
   "cell_type": "code",
   "execution_count": 30,
   "metadata": {},
   "outputs": [
    {
     "data": {
      "text/html": [
       "<div>\n",
       "<style scoped>\n",
       "    .dataframe tbody tr th:only-of-type {\n",
       "        vertical-align: middle;\n",
       "    }\n",
       "\n",
       "    .dataframe tbody tr th {\n",
       "        vertical-align: top;\n",
       "    }\n",
       "\n",
       "    .dataframe thead th {\n",
       "        text-align: right;\n",
       "    }\n",
       "</style>\n",
       "<table border=\"1\" class=\"dataframe\">\n",
       "  <thead>\n",
       "    <tr style=\"text-align: right;\">\n",
       "      <th></th>\n",
       "      <th>rougher.input.feed_au</th>\n",
       "      <th>rougher.input.feed_ag</th>\n",
       "      <th>rougher.input.feed_pb</th>\n",
       "      <th>rougher.input.feed_sol</th>\n",
       "      <th>rougher.input.feed_rate</th>\n",
       "      <th>rougher.input.feed_size</th>\n",
       "      <th>rougher.input.floatbank10_sulfate</th>\n",
       "      <th>rougher.input.floatbank10_xanthate</th>\n",
       "      <th>rougher.state.floatbank10_a_air</th>\n",
       "      <th>rougher.state.floatbank10_a_level</th>\n",
       "      <th>...</th>\n",
       "      <th>secondary_cleaner.state.floatbank4_a_level</th>\n",
       "      <th>secondary_cleaner.state.floatbank4_b_air</th>\n",
       "      <th>secondary_cleaner.state.floatbank4_b_level</th>\n",
       "      <th>secondary_cleaner.state.floatbank5_a_air</th>\n",
       "      <th>secondary_cleaner.state.floatbank5_a_level</th>\n",
       "      <th>secondary_cleaner.state.floatbank5_b_air</th>\n",
       "      <th>secondary_cleaner.state.floatbank5_b_level</th>\n",
       "      <th>secondary_cleaner.state.floatbank6_a_air</th>\n",
       "      <th>secondary_cleaner.state.floatbank6_a_level</th>\n",
       "      <th>final.output.recovery</th>\n",
       "    </tr>\n",
       "  </thead>\n",
       "  <tbody>\n",
       "    <tr>\n",
       "      <th>count</th>\n",
       "      <td>14579.000000</td>\n",
       "      <td>14579.000000</td>\n",
       "      <td>14579.000000</td>\n",
       "      <td>14579.000000</td>\n",
       "      <td>14579.000000</td>\n",
       "      <td>14579.000000</td>\n",
       "      <td>14579.000000</td>\n",
       "      <td>14579.000000</td>\n",
       "      <td>14579.000000</td>\n",
       "      <td>14579.000000</td>\n",
       "      <td>...</td>\n",
       "      <td>14579.000000</td>\n",
       "      <td>14579.000000</td>\n",
       "      <td>14579.000000</td>\n",
       "      <td>14579.000000</td>\n",
       "      <td>14579.000000</td>\n",
       "      <td>14579.000000</td>\n",
       "      <td>14579.000000</td>\n",
       "      <td>14579.000000</td>\n",
       "      <td>14579.000000</td>\n",
       "      <td>14579.000000</td>\n",
       "    </tr>\n",
       "    <tr>\n",
       "      <th>mean</th>\n",
       "      <td>8.352941</td>\n",
       "      <td>8.877460</td>\n",
       "      <td>3.592094</td>\n",
       "      <td>36.545646</td>\n",
       "      <td>474.284502</td>\n",
       "      <td>59.070865</td>\n",
       "      <td>12.406554</td>\n",
       "      <td>5.993247</td>\n",
       "      <td>1104.208278</td>\n",
       "      <td>-379.367166</td>\n",
       "      <td>...</td>\n",
       "      <td>-484.971102</td>\n",
       "      <td>14.823764</td>\n",
       "      <td>-460.046154</td>\n",
       "      <td>15.394610</td>\n",
       "      <td>-487.973768</td>\n",
       "      <td>11.949009</td>\n",
       "      <td>-486.338692</td>\n",
       "      <td>18.927133</td>\n",
       "      <td>-505.688730</td>\n",
       "      <td>66.759066</td>\n",
       "    </tr>\n",
       "    <tr>\n",
       "      <th>std</th>\n",
       "      <td>1.934376</td>\n",
       "      <td>1.922536</td>\n",
       "      <td>1.068227</td>\n",
       "      <td>5.221540</td>\n",
       "      <td>108.540067</td>\n",
       "      <td>22.903811</td>\n",
       "      <td>3.460023</td>\n",
       "      <td>1.155053</td>\n",
       "      <td>162.235606</td>\n",
       "      <td>94.652311</td>\n",
       "      <td>...</td>\n",
       "      <td>48.795359</td>\n",
       "      <td>4.863659</td>\n",
       "      <td>67.933026</td>\n",
       "      <td>5.405045</td>\n",
       "      <td>35.231439</td>\n",
       "      <td>5.241169</td>\n",
       "      <td>38.726292</td>\n",
       "      <td>5.550736</td>\n",
       "      <td>37.347370</td>\n",
       "      <td>10.619709</td>\n",
       "    </tr>\n",
       "    <tr>\n",
       "      <th>min</th>\n",
       "      <td>0.010000</td>\n",
       "      <td>0.010000</td>\n",
       "      <td>0.010000</td>\n",
       "      <td>0.010000</td>\n",
       "      <td>0.002986</td>\n",
       "      <td>0.049194</td>\n",
       "      <td>0.001083</td>\n",
       "      <td>0.000568</td>\n",
       "      <td>-0.042069</td>\n",
       "      <td>-657.949759</td>\n",
       "      <td>...</td>\n",
       "      <td>-799.798523</td>\n",
       "      <td>0.000000</td>\n",
       "      <td>-800.836914</td>\n",
       "      <td>-0.372054</td>\n",
       "      <td>-797.323986</td>\n",
       "      <td>0.528083</td>\n",
       "      <td>-800.220337</td>\n",
       "      <td>-0.079426</td>\n",
       "      <td>-809.741464</td>\n",
       "      <td>0.000000</td>\n",
       "    </tr>\n",
       "    <tr>\n",
       "      <th>25%</th>\n",
       "      <td>6.932996</td>\n",
       "      <td>7.341922</td>\n",
       "      <td>2.868687</td>\n",
       "      <td>34.076253</td>\n",
       "      <td>411.020607</td>\n",
       "      <td>47.322462</td>\n",
       "      <td>10.002228</td>\n",
       "      <td>5.303563</td>\n",
       "      <td>999.644856</td>\n",
       "      <td>-499.861797</td>\n",
       "      <td>...</td>\n",
       "      <td>-500.704937</td>\n",
       "      <td>11.889685</td>\n",
       "      <td>-500.184081</td>\n",
       "      <td>10.977413</td>\n",
       "      <td>-500.451167</td>\n",
       "      <td>8.947381</td>\n",
       "      <td>-500.129137</td>\n",
       "      <td>14.985684</td>\n",
       "      <td>-500.755346</td>\n",
       "      <td>63.114596</td>\n",
       "    </tr>\n",
       "    <tr>\n",
       "      <th>50%</th>\n",
       "      <td>8.225284</td>\n",
       "      <td>8.715859</td>\n",
       "      <td>3.524599</td>\n",
       "      <td>37.091668</td>\n",
       "      <td>498.144696</td>\n",
       "      <td>54.464259</td>\n",
       "      <td>12.003079</td>\n",
       "      <td>6.003001</td>\n",
       "      <td>1000.982624</td>\n",
       "      <td>-300.314199</td>\n",
       "      <td>...</td>\n",
       "      <td>-499.820809</td>\n",
       "      <td>14.957945</td>\n",
       "      <td>-499.424528</td>\n",
       "      <td>14.963654</td>\n",
       "      <td>-499.772653</td>\n",
       "      <td>11.000057</td>\n",
       "      <td>-499.926255</td>\n",
       "      <td>19.960781</td>\n",
       "      <td>-500.054273</td>\n",
       "      <td>67.962788</td>\n",
       "    </tr>\n",
       "    <tr>\n",
       "      <th>75%</th>\n",
       "      <td>9.832210</td>\n",
       "      <td>10.255843</td>\n",
       "      <td>4.253958</td>\n",
       "      <td>39.885734</td>\n",
       "      <td>549.576867</td>\n",
       "      <td>64.469177</td>\n",
       "      <td>14.917931</td>\n",
       "      <td>6.796563</td>\n",
       "      <td>1292.663971</td>\n",
       "      <td>-299.989315</td>\n",
       "      <td>...</td>\n",
       "      <td>-498.048862</td>\n",
       "      <td>17.125406</td>\n",
       "      <td>-400.083087</td>\n",
       "      <td>18.012762</td>\n",
       "      <td>-498.182011</td>\n",
       "      <td>14.002573</td>\n",
       "      <td>-499.285414</td>\n",
       "      <td>23.038231</td>\n",
       "      <td>-499.506135</td>\n",
       "      <td>72.598187</td>\n",
       "    </tr>\n",
       "    <tr>\n",
       "      <th>max</th>\n",
       "      <td>13.731330</td>\n",
       "      <td>14.596026</td>\n",
       "      <td>7.052325</td>\n",
       "      <td>53.475325</td>\n",
       "      <td>717.508837</td>\n",
       "      <td>484.967466</td>\n",
       "      <td>36.118275</td>\n",
       "      <td>9.703448</td>\n",
       "      <td>1512.299531</td>\n",
       "      <td>-273.776101</td>\n",
       "      <td>...</td>\n",
       "      <td>-245.239184</td>\n",
       "      <td>31.269706</td>\n",
       "      <td>-6.506986</td>\n",
       "      <td>43.709931</td>\n",
       "      <td>-244.483566</td>\n",
       "      <td>27.926001</td>\n",
       "      <td>-137.740004</td>\n",
       "      <td>32.188906</td>\n",
       "      <td>-123.307487</td>\n",
       "      <td>100.000000</td>\n",
       "    </tr>\n",
       "  </tbody>\n",
       "</table>\n",
       "<p>8 rows × 44 columns</p>\n",
       "</div>"
      ],
      "text/plain": [
       "       rougher.input.feed_au  rougher.input.feed_ag  rougher.input.feed_pb  \\\n",
       "count           14579.000000           14579.000000           14579.000000   \n",
       "mean                8.352941               8.877460               3.592094   \n",
       "std                 1.934376               1.922536               1.068227   \n",
       "min                 0.010000               0.010000               0.010000   \n",
       "25%                 6.932996               7.341922               2.868687   \n",
       "50%                 8.225284               8.715859               3.524599   \n",
       "75%                 9.832210              10.255843               4.253958   \n",
       "max                13.731330              14.596026               7.052325   \n",
       "\n",
       "       rougher.input.feed_sol  rougher.input.feed_rate  \\\n",
       "count            14579.000000             14579.000000   \n",
       "mean                36.545646               474.284502   \n",
       "std                  5.221540               108.540067   \n",
       "min                  0.010000                 0.002986   \n",
       "25%                 34.076253               411.020607   \n",
       "50%                 37.091668               498.144696   \n",
       "75%                 39.885734               549.576867   \n",
       "max                 53.475325               717.508837   \n",
       "\n",
       "       rougher.input.feed_size  rougher.input.floatbank10_sulfate  \\\n",
       "count             14579.000000                       14579.000000   \n",
       "mean                 59.070865                          12.406554   \n",
       "std                  22.903811                           3.460023   \n",
       "min                   0.049194                           0.001083   \n",
       "25%                  47.322462                          10.002228   \n",
       "50%                  54.464259                          12.003079   \n",
       "75%                  64.469177                          14.917931   \n",
       "max                 484.967466                          36.118275   \n",
       "\n",
       "       rougher.input.floatbank10_xanthate  rougher.state.floatbank10_a_air  \\\n",
       "count                        14579.000000                     14579.000000   \n",
       "mean                             5.993247                      1104.208278   \n",
       "std                              1.155053                       162.235606   \n",
       "min                              0.000568                        -0.042069   \n",
       "25%                              5.303563                       999.644856   \n",
       "50%                              6.003001                      1000.982624   \n",
       "75%                              6.796563                      1292.663971   \n",
       "max                              9.703448                      1512.299531   \n",
       "\n",
       "       rougher.state.floatbank10_a_level  ...  \\\n",
       "count                       14579.000000  ...   \n",
       "mean                         -379.367166  ...   \n",
       "std                            94.652311  ...   \n",
       "min                          -657.949759  ...   \n",
       "25%                          -499.861797  ...   \n",
       "50%                          -300.314199  ...   \n",
       "75%                          -299.989315  ...   \n",
       "max                          -273.776101  ...   \n",
       "\n",
       "       secondary_cleaner.state.floatbank4_a_level  \\\n",
       "count                                14579.000000   \n",
       "mean                                  -484.971102   \n",
       "std                                     48.795359   \n",
       "min                                   -799.798523   \n",
       "25%                                   -500.704937   \n",
       "50%                                   -499.820809   \n",
       "75%                                   -498.048862   \n",
       "max                                   -245.239184   \n",
       "\n",
       "       secondary_cleaner.state.floatbank4_b_air  \\\n",
       "count                              14579.000000   \n",
       "mean                                  14.823764   \n",
       "std                                    4.863659   \n",
       "min                                    0.000000   \n",
       "25%                                   11.889685   \n",
       "50%                                   14.957945   \n",
       "75%                                   17.125406   \n",
       "max                                   31.269706   \n",
       "\n",
       "       secondary_cleaner.state.floatbank4_b_level  \\\n",
       "count                                14579.000000   \n",
       "mean                                  -460.046154   \n",
       "std                                     67.933026   \n",
       "min                                   -800.836914   \n",
       "25%                                   -500.184081   \n",
       "50%                                   -499.424528   \n",
       "75%                                   -400.083087   \n",
       "max                                     -6.506986   \n",
       "\n",
       "       secondary_cleaner.state.floatbank5_a_air  \\\n",
       "count                              14579.000000   \n",
       "mean                                  15.394610   \n",
       "std                                    5.405045   \n",
       "min                                   -0.372054   \n",
       "25%                                   10.977413   \n",
       "50%                                   14.963654   \n",
       "75%                                   18.012762   \n",
       "max                                   43.709931   \n",
       "\n",
       "       secondary_cleaner.state.floatbank5_a_level  \\\n",
       "count                                14579.000000   \n",
       "mean                                  -487.973768   \n",
       "std                                     35.231439   \n",
       "min                                   -797.323986   \n",
       "25%                                   -500.451167   \n",
       "50%                                   -499.772653   \n",
       "75%                                   -498.182011   \n",
       "max                                   -244.483566   \n",
       "\n",
       "       secondary_cleaner.state.floatbank5_b_air  \\\n",
       "count                              14579.000000   \n",
       "mean                                  11.949009   \n",
       "std                                    5.241169   \n",
       "min                                    0.528083   \n",
       "25%                                    8.947381   \n",
       "50%                                   11.000057   \n",
       "75%                                   14.002573   \n",
       "max                                   27.926001   \n",
       "\n",
       "       secondary_cleaner.state.floatbank5_b_level  \\\n",
       "count                                14579.000000   \n",
       "mean                                  -486.338692   \n",
       "std                                     38.726292   \n",
       "min                                   -800.220337   \n",
       "25%                                   -500.129137   \n",
       "50%                                   -499.926255   \n",
       "75%                                   -499.285414   \n",
       "max                                   -137.740004   \n",
       "\n",
       "       secondary_cleaner.state.floatbank6_a_air  \\\n",
       "count                              14579.000000   \n",
       "mean                                  18.927133   \n",
       "std                                    5.550736   \n",
       "min                                   -0.079426   \n",
       "25%                                   14.985684   \n",
       "50%                                   19.960781   \n",
       "75%                                   23.038231   \n",
       "max                                   32.188906   \n",
       "\n",
       "       secondary_cleaner.state.floatbank6_a_level  final.output.recovery  \n",
       "count                                14579.000000           14579.000000  \n",
       "mean                                  -505.688730              66.759066  \n",
       "std                                     37.347370              10.619709  \n",
       "min                                   -809.741464               0.000000  \n",
       "25%                                   -500.755346              63.114596  \n",
       "50%                                   -500.054273              67.962788  \n",
       "75%                                   -499.506135              72.598187  \n",
       "max                                   -123.307487             100.000000  \n",
       "\n",
       "[8 rows x 44 columns]"
      ]
     },
     "execution_count": 30,
     "metadata": {},
     "output_type": "execute_result"
    }
   ],
   "source": [
    "# Построим гистограммы по всем столбцам\n",
    "train_not_null_not_corr.describe()"
   ]
  },
  {
   "cell_type": "code",
   "execution_count": 31,
   "metadata": {
    "scrolled": true
   },
   "outputs": [
    {
     "data": {
      "image/png": "[encoded data removed]",
      "text/plain": [
       "<Figure size 3000x3000 with 49 Axes>"
      ]
     },
     "metadata": {},
     "output_type": "display_data"
    }
   ],
   "source": [
    "train_not_null_not_corr.hist(bins = 10, figsize = (30, 30))\n",
    "plt.show() "
   ]
  },
  {
   "cell_type": "code",
   "execution_count": 32,
   "metadata": {},
   "outputs": [],
   "source": [
    "# Удалим аномалии\n",
    "train_not_null_not_corr = train_not_null_not_corr[(train_not_null_not_corr[\n",
    "    'primary_cleaner.state.floatbank8_c_level'] > (-700))]\n",
    "train_not_null_not_corr = train_not_null_not_corr[(train_not_null_not_corr[\n",
    "    'primary_cleaner.state.floatbank8_d_level'] > (-700))]\n",
    "train_not_null_not_corr = train_not_null_not_corr[(train_not_null_not_corr[\n",
    "    'rougher.input.feed_size'] < 120)]\n",
    "train_not_null_not_corr = train_not_null_not_corr[(train_not_null_not_corr[\n",
    "    'rougher.input.feed_rate'] > 100)]\n",
    "train_not_null_not_corr = train_not_null_not_corr[(train_not_null_not_corr[\n",
    "    'secondary_cleaner.state.floatbank2_b_level'] > (-700))]\n",
    "train_not_null_not_corr = train_not_null_not_corr[(train_not_null_not_corr[\n",
    "    'secondary_cleaner.state.floatbank2_b_air'] > (10))]\n",
    "train_not_null_not_corr = train_not_null_not_corr[(train_not_null_not_corr[\n",
    "    'secondary_cleaner.state.floatbank4_a_level'] > (-700))]\n",
    "train_not_null_not_corr = train_not_null_not_corr[(train_not_null_not_corr[\n",
    "    'secondary_cleaner.state.floatbank5_b_level'] > (-700))]\n",
    "train_not_null_not_corr = train_not_null_not_corr[(train_not_null_not_corr[\n",
    "    'secondary_cleaner.state.floatbank6_a_level'] > (-800))]\n",
    "train_not_null_not_corr = train_not_null_not_corr[(train_not_null_not_corr[\n",
    "    'final.output.recovery'] > (20))]\n",
    "train_not_null_not_corr = train_not_null_not_corr[(train_not_null_not_corr[\n",
    "    'rougher.output.recovery'] > (40))]\n",
    "# Удалим аномалии из данных train_all (содержат все признаки)\n",
    "# Удалим аномалии\n",
    "train_all = train_all[(train_all[\n",
    "    'primary_cleaner.state.floatbank8_c_level'] > (-700))]\n",
    "train_all = train_all[(train_all[\n",
    "    'primary_cleaner.state.floatbank8_d_level'] > (-700))]\n",
    "train_all = train_all[(train_all[\n",
    "    'rougher.input.feed_size'] < 120)]\n",
    "train_all = train_all[(train_all[\n",
    "    'rougher.input.feed_rate'] > 100)]\n",
    "train_all = train_all[(train_all[\n",
    "    'secondary_cleaner.state.floatbank2_b_level'] > (-700))]\n",
    "train_all = train_all[(train_all[\n",
    "    'secondary_cleaner.state.floatbank2_b_air'] > (10))]\n",
    "train_all = train_all[(train_all[\n",
    "    'secondary_cleaner.state.floatbank4_a_level'] > (-700))]\n",
    "train_all = train_all[(train_all[\n",
    "    'secondary_cleaner.state.floatbank5_b_level'] > (-700))]\n",
    "train_all = train_all[(train_all[\n",
    "    'secondary_cleaner.state.floatbank6_a_level'] > (-800))]\n",
    "train_all = train_all[(train_all[\n",
    "    'final.output.recovery'] > (20))]\n",
    "train_all = train_all[(train_all[\n",
    "    'rougher.output.recovery'] > (40))]"
   ]
  },
  {
   "cell_type": "markdown",
   "metadata": {},
   "source": [
    "Промасштабируем данные"
   ]
  },
  {
   "cell_type": "code",
   "execution_count": 33,
   "metadata": {},
   "outputs": [],
   "source": [
    "columns = list(set(train_not_null_not_corr.columns) - set([\n",
    "    'final.output.recovery', 'rougher.output.recovery', 'date']))\n",
    "scaler = StandardScaler().fit(train_not_null_not_corr[columns])\n",
    "train_scaler = train_not_null_not_corr.copy()\n",
    "test_scaler = test_not_null_not_corr.copy()\n",
    "train_scaler[columns] = scaler.transform(train_not_null_not_corr[columns])\n",
    "test_scaler[columns] = scaler.transform(test_not_null_not_corr[columns])"
   ]
  },
  {
   "cell_type": "markdown",
   "metadata": {},
   "source": [
    "Признаков слишком много, может быть есть какие-либо коррелирующие друг с другом. Например, использование какого-то конкретного реагента в определенном объеме требует использование на следующем этапе определенного реагента с определенным объемом в силу технологического процесса. Так как мы не знаем тонкостей технологического процесса определим как признаки коррелируют друг с другом."
   ]
  },
  {
   "cell_type": "code",
   "execution_count": 34,
   "metadata": {},
   "outputs": [
    {
     "data": {
      "text/plain": [
       "(13161, 45)"
      ]
     },
     "execution_count": 34,
     "metadata": {},
     "output_type": "execute_result"
    }
   ],
   "source": [
    "train_scaler.shape"
   ]
  },
  {
   "cell_type": "markdown",
   "metadata": {},
   "source": [
    "Разделим данные на обучающие и целевые признаки"
   ]
  },
  {
   "cell_type": "code",
   "execution_count": 35,
   "metadata": {},
   "outputs": [
    {
     "name": "stdout",
     "output_type": "stream",
     "text": [
      "(13161, 42) (13161, 2) (4860, 42) (4860, 2)\n"
     ]
    }
   ],
   "source": [
    "features_train = train_scaler.drop(columns=[\n",
    "    'final.output.recovery', 'rougher.output.recovery', 'date'],\n",
    "                                   axis=1)\n",
    "target_train = train_scaler[['final.output.recovery',\n",
    "                             'rougher.output.recovery']]\n",
    "features_test = test_scaler.drop(\n",
    "    columns=['final.output.recovery',\n",
    "             'rougher.output.recovery', 'date'],\n",
    "    axis=1)\n",
    "target_test = test_scaler[\n",
    "    ['final.output.recovery', 'rougher.output.recovery']]\n",
    "print(features_train.shape, target_train.shape,\n",
    "      features_test.shape, target_test.shape)"
   ]
  },
  {
   "cell_type": "markdown",
   "metadata": {},
   "source": [
    "### Вывод"
   ]
  },
  {
   "cell_type": "markdown",
   "metadata": {},
   "source": [
    "Были подготовлены данные:\n",
    "- Удалены пропуски (10% данных).\n",
    "- удалены сильно коррелирующие признаки (корреляция более 0,85).\n",
    "- Удалены признаки, которых не было в тесте (данные, которые можно получить во время технологического процесса, но не в начале).\n",
    "- Добавлены таргетированые признаки в тестовую выборку.\n",
    "- Была проведена проверка на дубликатов.\n",
    "- Удалены аномалии.\n"
   ]
  },
  {
   "cell_type": "markdown",
   "metadata": {},
   "source": [
    "## Анализ данных"
   ]
  },
  {
   "cell_type": "markdown",
   "metadata": {},
   "source": [
    "### Анализ изменения концентрации металлов (Au, Ag, Pb) на различных этапах очистки"
   ]
  },
  {
   "cell_type": "markdown",
   "metadata": {},
   "source": [
    "Создадим датафрем для данных о концентрации металов на различных этапах отчистки."
   ]
  },
  {
   "cell_type": "code",
   "execution_count": 36,
   "metadata": {},
   "outputs": [
    {
     "data": {
      "text/html": [
       "<div>\n",
       "<style scoped>\n",
       "    .dataframe tbody tr th:only-of-type {\n",
       "        vertical-align: middle;\n",
       "    }\n",
       "\n",
       "    .dataframe tbody tr th {\n",
       "        vertical-align: top;\n",
       "    }\n",
       "\n",
       "    .dataframe thead th {\n",
       "        text-align: right;\n",
       "    }\n",
       "</style>\n",
       "<table border=\"1\" class=\"dataframe\">\n",
       "  <thead>\n",
       "    <tr style=\"text-align: right;\">\n",
       "      <th></th>\n",
       "      <th>au</th>\n",
       "      <th>ag</th>\n",
       "      <th>pb</th>\n",
       "    </tr>\n",
       "  </thead>\n",
       "  <tbody>\n",
       "    <tr>\n",
       "      <th>rougher.input</th>\n",
       "      <td>8.344916</td>\n",
       "      <td>8.890451</td>\n",
       "      <td>3.598062</td>\n",
       "    </tr>\n",
       "    <tr>\n",
       "      <th>rougher</th>\n",
       "      <td>20.285334</td>\n",
       "      <td>12.285505</td>\n",
       "      <td>7.693653</td>\n",
       "    </tr>\n",
       "    <tr>\n",
       "      <th>primary</th>\n",
       "      <td>32.048164</td>\n",
       "      <td>8.510891</td>\n",
       "      <td>9.785641</td>\n",
       "    </tr>\n",
       "    <tr>\n",
       "      <th>final</th>\n",
       "      <td>44.375600</td>\n",
       "      <td>5.206221</td>\n",
       "      <td>10.011751</td>\n",
       "    </tr>\n",
       "  </tbody>\n",
       "</table>\n",
       "</div>"
      ],
      "text/plain": [
       "                      au         ag         pb\n",
       "rougher.input   8.344916   8.890451   3.598062\n",
       "rougher        20.285334  12.285505   7.693653\n",
       "primary        32.048164   8.510891   9.785641\n",
       "final          44.375600   5.206221  10.011751"
      ]
     },
     "execution_count": 36,
     "metadata": {},
     "output_type": "execute_result"
    }
   ],
   "source": [
    "concentration_au = pd.DataFrame(\n",
    "    train_all.loc[:, [\n",
    "        'rougher.input.feed_au',\n",
    "        'rougher.output.concentrate_au',\n",
    "        'primary_cleaner.output.concentrate_au',\n",
    "        'final.output.concentrate_au'\n",
    "    ]])\n",
    "concentration_ag = pd.DataFrame(\n",
    "    train_all.loc[:, [\n",
    "        'rougher.input.feed_ag',\n",
    "        'rougher.output.concentrate_ag',\n",
    "        'primary_cleaner.output.concentrate_ag',\n",
    "        'final.output.concentrate_ag'\n",
    "    ]])\n",
    "concentration_pb = pd.DataFrame(\n",
    "    train_all.loc[:, [\n",
    "        'rougher.input.feed_pb',\n",
    "        'rougher.output.concentrate_pb',\n",
    "        'primary_cleaner.output.concentrate_pb',\n",
    "        'final.output.concentrate_pb'\n",
    "    ]])\n",
    "stats_au = concentration_au.describe()\n",
    "stats_ag = concentration_ag.describe()\n",
    "stats_pb = concentration_pb.describe()\n",
    "stats_mean = stats_au[stats_au.index == 'mean']\n",
    "stats_mean = stats_mean.rename(\n",
    "    columns={\n",
    "        \"rougher.input.feed_au\": \"rougher.input\",\n",
    "        \"rougher.output.concentrate_au\": \"rougher\",\n",
    "        \"primary_cleaner.output.concentrate_au\": \"primary\",\n",
    "        \"final.output.concentrate_au\": \"final\"\n",
    "    })\n",
    "stats_mean = stats_mean.reset_index(drop=True)\n",
    "stats_mean.loc[1] = stats_ag[stats_ag.index == 'mean'].to_numpy()[0]\n",
    "stats_mean.loc[2] = stats_pb[stats_pb.index == 'mean'].to_numpy()[0]\n",
    "stats_mean = stats_mean.rename(index={\n",
    "                               0: \"au\",\n",
    "                               1: \"ag\",\n",
    "                               2: \"pb\"})\n",
    "stats_mean = stats_mean.T\n",
    "stats_mean"
   ]
  },
  {
   "cell_type": "code",
   "execution_count": 37,
   "metadata": {},
   "outputs": [
    {
     "data": {
      "text/plain": [
       "[Text(0.5, 0, 'Этап'), Text(0, 0.5, 'Средняя концентрация металлов')]"
      ]
     },
     "execution_count": 37,
     "metadata": {},
     "output_type": "execute_result"
    },
    {
     "data": {
      "image/png": "[encoded data removed]",
      "text/plain": [
       "<Figure size 640x480 with 1 Axes>"
      ]
     },
     "metadata": {},
     "output_type": "display_data"
    }
   ],
   "source": [
    "ax = stats_mean.plot(kind='bar')\n",
    "ax.set_title(\n",
    "    'Распределение средней концентрация (Au, Ag, Pb) на различных этапах'\n",
    "            )\n",
    "ax.set(xlabel='Этап', ylabel='Средняя концентрация металлов')"
   ]
  },
  {
   "cell_type": "markdown",
   "metadata": {},
   "source": [
    "Видно, что концентрация золота растет (что логично, мы его и ищем). Концентрация ag падает, концентрация pb - растет, но незначительно, по сравнению с концентрацией золота."
   ]
  },
  {
   "cell_type": "markdown",
   "metadata": {},
   "source": [
    "### Распределения размеров гранул сырья на обучающей и тестовой выборке"
   ]
  },
  {
   "cell_type": "code",
   "execution_count": 38,
   "metadata": {},
   "outputs": [
    {
     "data": {
      "image/png": "[encoded data removed]",
      "text/plain": [
       "<Figure size 640x480 with 1 Axes>"
      ]
     },
     "metadata": {},
     "output_type": "display_data"
    }
   ],
   "source": [
    "ax1 = features_train['rougher.input.feed_size'].plot.density()\n",
    "ax2 = features_test['rougher.input.feed_size'].plot.density()\n",
    "plt.legend(['train', 'test'])\n",
    "plt.xlim([-5, 5])\n",
    "plt.title('Размер гранул сырья на тестовой и обучающей выборке')\n",
    "plt.xlabel('Размер гранул')\n",
    "plt.ylabel('Оценка плотности вероятности')\n",
    "plt.show()"
   ]
  },
  {
   "cell_type": "markdown",
   "metadata": {},
   "source": [
    "Данные в обучающей и тестовой выборке близки по своим значениям."
   ]
  },
  {
   "cell_type": "markdown",
   "metadata": {},
   "source": [
    "### Cуммарная концентрация всех веществ на разных стадиях: в сырье, в черновом и финальном концентратах"
   ]
  },
  {
   "cell_type": "code",
   "execution_count": 39,
   "metadata": {
    "scrolled": true
   },
   "outputs": [
    {
     "data": {
      "text/html": [
       "<div>\n",
       "<style scoped>\n",
       "    .dataframe tbody tr th:only-of-type {\n",
       "        vertical-align: middle;\n",
       "    }\n",
       "\n",
       "    .dataframe tbody tr th {\n",
       "        vertical-align: top;\n",
       "    }\n",
       "\n",
       "    .dataframe thead th {\n",
       "        text-align: right;\n",
       "    }\n",
       "</style>\n",
       "<table border=\"1\" class=\"dataframe\">\n",
       "  <thead>\n",
       "    <tr style=\"text-align: right;\">\n",
       "      <th></th>\n",
       "      <th>rougher.input</th>\n",
       "      <th>rougher</th>\n",
       "      <th>final</th>\n",
       "    </tr>\n",
       "  </thead>\n",
       "  <tbody>\n",
       "    <tr>\n",
       "      <th>count</th>\n",
       "      <td>13042.000000</td>\n",
       "      <td>13104.000000</td>\n",
       "      <td>13103.000000</td>\n",
       "    </tr>\n",
       "    <tr>\n",
       "      <th>mean</th>\n",
       "      <td>20.876203</td>\n",
       "      <td>40.264491</td>\n",
       "      <td>59.594744</td>\n",
       "    </tr>\n",
       "    <tr>\n",
       "      <th>std</th>\n",
       "      <td>4.368286</td>\n",
       "      <td>3.812652</td>\n",
       "      <td>3.984560</td>\n",
       "    </tr>\n",
       "    <tr>\n",
       "      <th>min</th>\n",
       "      <td>0.030000</td>\n",
       "      <td>0.030000</td>\n",
       "      <td>1.685441</td>\n",
       "    </tr>\n",
       "    <tr>\n",
       "      <th>25%</th>\n",
       "      <td>17.422821</td>\n",
       "      <td>38.594960</td>\n",
       "      <td>59.303209</td>\n",
       "    </tr>\n",
       "    <tr>\n",
       "      <th>50%</th>\n",
       "      <td>20.374638</td>\n",
       "      <td>40.443500</td>\n",
       "      <td>60.270957</td>\n",
       "    </tr>\n",
       "    <tr>\n",
       "      <th>75%</th>\n",
       "      <td>23.980712</td>\n",
       "      <td>42.478488</td>\n",
       "      <td>61.050522</td>\n",
       "    </tr>\n",
       "    <tr>\n",
       "      <th>max</th>\n",
       "      <td>33.324268</td>\n",
       "      <td>50.432394</td>\n",
       "      <td>64.968881</td>\n",
       "    </tr>\n",
       "  </tbody>\n",
       "</table>\n",
       "</div>"
      ],
      "text/plain": [
       "       rougher.input       rougher         final\n",
       "count   13042.000000  13104.000000  13103.000000\n",
       "mean       20.876203     40.264491     59.594744\n",
       "std         4.368286      3.812652      3.984560\n",
       "min         0.030000      0.030000      1.685441\n",
       "25%        17.422821     38.594960     59.303209\n",
       "50%        20.374638     40.443500     60.270957\n",
       "75%        23.980712     42.478488     61.050522\n",
       "max        33.324268     50.432394     64.968881"
      ]
     },
     "execution_count": 39,
     "metadata": {},
     "output_type": "execute_result"
    }
   ],
   "source": [
    "concentration_au = concentration_au.rename(columns={\"rougher.input.feed_au\" :\"rougher.input\",\n",
    "                               \"rougher.output.concentrate_au\": \"rougher\", \n",
    "                                \"primary_cleaner.output.concentrate_au\": \"primary\",\n",
    "                                \"final.output.concentrate_au\": \"final\"})\n",
    "\n",
    "concentration_ag = concentration_ag.rename(columns={\"rougher.input.feed_ag\" :\"rougher.input\",\n",
    "                               \"rougher.output.concentrate_ag\": \"rougher\", \n",
    "                                \"primary_cleaner.output.concentrate_ag\": \"primary\",\n",
    "                                \"final.output.concentrate_ag\": \"final\"})\n",
    "\n",
    "concentration_pb = concentration_pb.rename(columns={\"rougher.input.feed_pb\" :\"rougher.input\",\n",
    "                               \"rougher.output.concentrate_pb\": \"rougher\", \n",
    "                               \"primary_cleaner.output.concentrate_pb\": \"primary\",\n",
    "                                \"final.output.concentrate_pb\": \"final\"})\n",
    "\n",
    "concentration = concentration_au + concentration_ag + concentration_pb\n",
    "concentration = concentration.drop(columns=['primary'], axis = 1)\n",
    "concentration.describe()"
   ]
  },
  {
   "cell_type": "code",
   "execution_count": 40,
   "metadata": {},
   "outputs": [
    {
     "data": {
      "image/png": "[encoded data removed]",
      "text/plain": [
       "<Figure size 640x480 with 1 Axes>"
      ]
     },
     "metadata": {},
     "output_type": "display_data"
    }
   ],
   "source": [
    "concentration.plot.density()\n",
    "plt.legend(['rougher.input',\t'rougher',\t'final'])\n",
    "plt.title('Распределение суммарной концентрации веществ на разных стадиях')\n",
    "plt.xlabel('Концентрация')\n",
    "plt.ylabel('Оценка плотности вероятности')\n",
    "plt.xlim([0, 80])\n",
    "plt.show()"
   ]
  },
  {
   "cell_type": "markdown",
   "metadata": {},
   "source": [
    "На финальной стадии концентрация всех веществ максимальная. С каждым этапом - концентрация веществ увеличивается."
   ]
  },
  {
   "cell_type": "markdown",
   "metadata": {},
   "source": [
    "## Модель"
   ]
  },
  {
   "cell_type": "markdown",
   "metadata": {},
   "source": [
    "### Функция для вычисления итоговой sMAPE"
   ]
  },
  {
   "cell_type": "code",
   "execution_count": 41,
   "metadata": {},
   "outputs": [],
   "source": [
    "def smape(target, predictions):\n",
    "    a = predictions\n",
    "    f = target\n",
    "    result_ = 1 / len(a) * 100 * np.sum(\n",
    "        2 * np.abs(f - a) / (np.abs(a) + np.abs(f)))\n",
    "    return result_"
   ]
  },
  {
   "cell_type": "markdown",
   "metadata": {},
   "source": [
    "### Обучение моделей"
   ]
  },
  {
   "cell_type": "markdown",
   "metadata": {},
   "source": [
    "Модель RidgeCV"
   ]
  },
  {
   "cell_type": "code",
   "execution_count": 42,
   "metadata": {},
   "outputs": [
    {
     "name": "stdout",
     "output_type": "stream",
     "text": [
      "sMAPE rougher -7.035673871892792\n",
      "Параметры 10.0\n",
      "sMAPE final -9.309609182965309\n",
      "Параметры 10.0\n",
      "sMAPE 8.741125355197179\n"
     ]
    }
   ],
   "source": [
    "rcv1 = RidgeCV(scoring=make_scorer(smape, greater_is_better=False), cv=5).fit(\n",
    "    features_train, target_train['rougher.output.recovery'])\n",
    "smape_rougher = rcv1.best_score_\n",
    "alpha_rougher = rcv1.alpha_\n",
    "print('sMAPE rougher', smape_rougher)\n",
    "print('Параметры', alpha_rougher)\n",
    "\n",
    "rcv2 = RidgeCV(scoring=make_scorer(smape, greater_is_better=False), cv=5).fit(\n",
    "    features_train, target_train['final.output.recovery'])\n",
    "smape_final = rcv2.best_score_\n",
    "alpha_final = rcv2.alpha_\n",
    "print('sMAPE final', smape_final)\n",
    "print('Параметры', alpha_rougher)\n",
    "\n",
    "smape_all = abs(smape_rougher)*0.25+abs(smape_final)*0.75\n",
    "print('sMAPE', smape_all)"
   ]
  },
  {
   "cell_type": "markdown",
   "metadata": {},
   "source": [
    "K-fold"
   ]
  },
  {
   "cell_type": "code",
   "execution_count": 46,
   "metadata": {},
   "outputs": [],
   "source": [
    "def K_Fold(model, features, target):\n",
    "    cv = KFold(n_splits=3, random_state=1234, shuffle=True )\n",
    "    smape_score = []\n",
    "    for train_index, test_index in cv.split(target):\n",
    "        x_train, x_test = features[features.index.isin(train_index)], features[features.index.isin(test_index)]\n",
    "        y_train, y_test = target[target.index.isin(train_index)], target[target.index.isin(test_index)]\n",
    "        model.fit(x_train,y_train )\n",
    "        prediction = model.predict(x_test)\n",
    "        smape_score.append(smape(y_test, prediction))\n",
    "    result_smape = np.sum(smape_score)/len(smape_score)\n",
    "    return result_smape"
   ]
  },
  {
   "cell_type": "markdown",
   "metadata": {},
   "source": [
    "Функция для обучения моделей и расчета sMAPE"
   ]
  },
  {
   "cell_type": "code",
   "execution_count": 47,
   "metadata": {},
   "outputs": [],
   "source": [
    "def styding(model, features, target):\n",
    "    smape_rougher = K_Fold(model, features, target['rougher.output.recovery'])\n",
    "    print(smape_rougher)\n",
    "    smape_final = K_Fold(model, features, target['final.output.recovery'])\n",
    "    print(smape_final)\n",
    "    smape_all = np.abs(smape_rougher*0.25+smape_final*0.75)\n",
    "    return smape_all"
   ]
  },
  {
   "cell_type": "code",
   "execution_count": 48,
   "metadata": {},
   "outputs": [
    {
     "name": "stdout",
     "output_type": "stream",
     "text": [
      "2.4041111055562356\n",
      "5.273887623489745\n",
      "RandomForestRegressor sMAPE 4.556443494006368\n"
     ]
    }
   ],
   "source": [
    "print('RandomForestRegressor sMAPE',\n",
    "      styding(RandomForestRegressor(random_state=12345),\n",
    "              features_train, target_train))"
   ]
  },
  {
   "cell_type": "code",
   "execution_count": 50,
   "metadata": {},
   "outputs": [
    {
     "name": "stdout",
     "output_type": "stream",
     "text": [
      "3.512860340700039\n",
      "7.610369464419388\n",
      "DecisionTreeRegressor sMAPE 6.585992183489551\n"
     ]
    }
   ],
   "source": [
    "print('DecisionTreeRegressor sMAPE',\n",
    "      styding(DecisionTreeRegressor(random_state=12345),\n",
    "              features_train, target_train))"
   ]
  },
  {
   "cell_type": "code",
   "execution_count": 53,
   "metadata": {},
   "outputs": [
    {
     "name": "stdout",
     "output_type": "stream",
     "text": [
      "4.120114525417564\n",
      "7.316255221117111\n",
      "LinearRegression sMAPE 6.517220047192224\n"
     ]
    }
   ],
   "source": [
    "print('LinearRegression sMAPE',\n",
    "      styding(LinearRegression(),\n",
    "              features_train, target_train))"
   ]
  },
  {
   "cell_type": "markdown",
   "metadata": {},
   "source": [
    "Используем на тесте модель RandomForestRegressor"
   ]
  },
  {
   "cell_type": "code",
   "execution_count": 57,
   "metadata": {},
   "outputs": [
    {
     "name": "stdout",
     "output_type": "stream",
     "text": [
      "sMAPE rougher 2.6048252124483287\n",
      "sMAPE rougher 6.142637746141951\n",
      "sMAPE 5.258184612718545\n"
     ]
    }
   ],
   "source": [
    "the_best_model = RandomForestRegressor(random_state=12345)\n",
    "the_best_model.fit(features_train, target_train['rougher.output.recovery'])\n",
    "prediction = the_best_model.predict(features_test)\n",
    "sMAPE_rougher = smape(target_test['rougher.output.recovery'], prediction)\n",
    "print('sMAPE rougher', sMAPE_rougher)\n",
    "the_best_model = RandomForestRegressor(random_state=12345)\n",
    "the_best_model.fit(features_train, target_train['final.output.recovery'])\n",
    "prediction = the_best_model.predict(features_test)\n",
    "sMAPE_final = smape(target_test['final.output.recovery'], prediction)\n",
    "print('sMAPE rougher', sMAPE_final)\n",
    "smape_all = abs(sMAPE_rougher)*0.25+abs(sMAPE_final)*0.75\n",
    "print('sMAPE', smape_all)"
   ]
  },
  {
   "cell_type": "code",
   "execution_count": 63,
   "metadata": {},
   "outputs": [
    {
     "name": "stdout",
     "output_type": "stream",
     "text": [
      "sMAPE rougher 6.055176617965567\n",
      "sMAPE rougher 9.207440422333022\n",
      "sMAPE 8.419374471241158\n"
     ]
    }
   ],
   "source": [
    "dummy_regr = DummyRegressor(strategy=\"mean\")\n",
    "dummy_regr.fit(features_train, target_train['rougher.output.recovery'])\n",
    "prediction = dummy_regr.predict(features_test)\n",
    "sMAPE_rougher = smape(target_test['rougher.output.recovery'], prediction)\n",
    "print('sMAPE rougher', sMAPE_rougher)\n",
    "dummy_regr = DummyRegressor(strategy=\"mean\")\n",
    "dummy_regr.fit(features_train, target_train['final.output.recovery'])\n",
    "prediction = dummy_regr.predict(features_test)\n",
    "sMAPE_final = smape(target_test['final.output.recovery'], prediction)\n",
    "print('sMAPE rougher', sMAPE_final)\n",
    "smape_all = abs(sMAPE_rougher) * 0.25+abs(sMAPE_final) * 0.75\n",
    "print('sMAPE', smape_all)"
   ]
  },
  {
   "cell_type": "markdown",
   "metadata": {},
   "source": [
    "<font color='purple'><b>Наша модель работает лучше, чем константная модель. Все не зря. </b></font>"
   ]
  },
  {
   "cell_type": "markdown",
   "metadata": {},
   "source": [
    "## Вывод "
   ]
  },
  {
   "cell_type": "markdown",
   "metadata": {},
   "source": [
    "Решаемая задача - предсказать коэффициент восстановления золота из золотосодержащей руды по данным с параметрами добычи и очистки. Задача была разбита на три этапа:\n",
    "\n",
    "<b>Подготовка данных:</b>\n",
    "\n",
    "    -Проведение исследовательского анализа данных\n",
    "\n",
    "    -Построение и обучение модели.\n",
    "\n",
    "    -Подготовка данных В ходе предподготовки данных для дальнейшего анализа:\n",
    "\n",
    "    -Удалены пропуски (10% данных).\n",
    "\n",
    "    -Удалены сильно коррелируюшие признаки (корреляция более 0,85).\n",
    "\n",
    "    -Удалены признаки, которых не было в тесте.\n",
    "\n",
    "    -Добавлены таргетированые признаки в тестовую выборку.\n",
    "\n",
    "    -Была проведена проверка на дублика\n",
    "\n",
    "    -Удалили аномалии. \n",
    "\n",
    "\n",
    "В тестовой выборке отсутсвовали следующие признаки:\n",
    "\n",
    "    -Целевые признаки. Они были восстановлены из полной выборки.\n",
    "\n",
    "    -Признаки, содержащие данные неизвестные до начала технологического процесса. Это логично, так как предсказание модель делает до начала работ.\n",
    "\n",
    "    -Рассчетных данных. Эти данные могли привести к утечке целевого признака. Была проведена           проверка, что эффективность обогащения рассчитана правильно.\n",
    "\n",
    "<b>Анализ данных</b>\n",
    "\n",
    "Были получены графики, описывающие как меняется концентрация металлов (Au, Ag, Pb) на различных этапах очистки.Видно что концентрация золота растет (цель технологического процесса - восстановление золота). Концентраия ag падает, концентрация pb - растет, но незначительно, по сравнению с концентрацией золота.\n",
    "\n",
    "Было проведено сравнение распределения размеров гранул сырья на обучающей и тестовой выборках. Данные в обучающей и тестовой выборке близки по своим значениям.\n",
    "\n",
    "Исследована суммарная концентрация всех веществ на разных стадиях: в сырье, в черновом и финальном концентратах. На финальной стадии концентрация всех веществ максимальная. С каждым этапом - концентрация веществ увеличивается.\n",
    "\n",
    "<b>Построение моделей и оценка их работы</b>\n",
    "\n",
    "Для решения задачи использовалась метрика качества — sMAPE. \n",
    "\n",
    "Для оценки работы модели использовалась кросс-валидация с 3 блоками. \n",
    "\n",
    "Модели, которые были обучены: RidgeCV, дерево решений, случайный лес. Лучшую значение метрки качества дала модель случайного леса (RandomForestRegressor) - 4.6. Эта модель и была использована для оценки тестовго набора данных. sMARE теста равна 5.2."
   ]
  },
  {
   "cell_type": "code",
   "execution_count": null,
   "metadata": {},
   "outputs": [],
   "source": []
  }
 ],
 "metadata": {
  "ExecuteTimeLog": [
   {
    "duration": 1708,
    "start_time": "2023-01-14T07:41:43.905Z"
   },
   {
    "duration": 151,
    "start_time": "2023-01-14T07:42:01.087Z"
   },
   {
    "duration": 37,
    "start_time": "2023-01-14T07:42:13.561Z"
   },
   {
    "duration": 4,
    "start_time": "2023-01-14T07:42:24.496Z"
   },
   {
    "duration": 37,
    "start_time": "2023-01-14T07:42:26.479Z"
   },
   {
    "duration": 39,
    "start_time": "2023-01-14T07:45:27.063Z"
   },
   {
    "duration": 5,
    "start_time": "2023-01-14T07:45:36.953Z"
   },
   {
    "duration": 83,
    "start_time": "2023-01-14T07:45:57.969Z"
   },
   {
    "duration": 42,
    "start_time": "2023-01-14T07:46:04.243Z"
   },
   {
    "duration": 4,
    "start_time": "2023-01-14T07:46:39.709Z"
   },
   {
    "duration": 37,
    "start_time": "2023-01-14T07:46:42.264Z"
   },
   {
    "duration": 3,
    "start_time": "2023-01-14T07:54:11.281Z"
   },
   {
    "duration": 33,
    "start_time": "2023-01-14T07:54:13.477Z"
   },
   {
    "duration": 706,
    "start_time": "2023-01-14T07:59:46.937Z"
   },
   {
    "duration": 14,
    "start_time": "2023-01-14T07:59:59.945Z"
   },
   {
    "duration": 13,
    "start_time": "2023-01-14T08:01:06.405Z"
   },
   {
    "duration": 23,
    "start_time": "2023-01-14T08:01:14.396Z"
   },
   {
    "duration": 7,
    "start_time": "2023-01-14T08:01:26.452Z"
   },
   {
    "duration": 49,
    "start_time": "2023-01-14T08:01:54.053Z"
   },
   {
    "duration": 11,
    "start_time": "2023-01-14T08:02:08.184Z"
   },
   {
    "duration": 3,
    "start_time": "2023-01-14T08:02:34.300Z"
   },
   {
    "duration": 3,
    "start_time": "2023-01-14T08:03:15.668Z"
   },
   {
    "duration": 6,
    "start_time": "2023-01-14T08:03:42.280Z"
   },
   {
    "duration": 3,
    "start_time": "2023-01-14T08:04:00.772Z"
   },
   {
    "duration": 7,
    "start_time": "2023-01-14T08:04:08.339Z"
   },
   {
    "duration": 7,
    "start_time": "2023-01-14T08:05:10.984Z"
   },
   {
    "duration": 57,
    "start_time": "2023-01-14T08:05:22.597Z"
   },
   {
    "duration": 5,
    "start_time": "2023-01-14T08:06:43.338Z"
   },
   {
    "duration": 5,
    "start_time": "2023-01-14T08:08:42.984Z"
   },
   {
    "duration": 3,
    "start_time": "2023-01-14T08:09:50.488Z"
   },
   {
    "duration": 17,
    "start_time": "2023-01-14T08:10:02.114Z"
   },
   {
    "duration": 21,
    "start_time": "2023-01-14T08:10:28.398Z"
   },
   {
    "duration": 15,
    "start_time": "2023-01-14T08:11:32.535Z"
   },
   {
    "duration": 10,
    "start_time": "2023-01-14T08:11:57.497Z"
   },
   {
    "duration": 4,
    "start_time": "2023-01-14T08:12:23.040Z"
   },
   {
    "duration": 13,
    "start_time": "2023-01-14T08:12:57.339Z"
   },
   {
    "duration": 7,
    "start_time": "2023-01-14T08:13:11.435Z"
   },
   {
    "duration": 4,
    "start_time": "2023-01-14T08:13:27.094Z"
   },
   {
    "duration": 8,
    "start_time": "2023-01-14T08:14:17.634Z"
   },
   {
    "duration": 714,
    "start_time": "2023-01-14T08:14:37.286Z"
   },
   {
    "duration": 12,
    "start_time": "2023-01-14T08:14:39.054Z"
   },
   {
    "duration": 20,
    "start_time": "2023-01-14T08:14:44.610Z"
   },
   {
    "duration": 14,
    "start_time": "2023-01-14T08:14:46.398Z"
   },
   {
    "duration": 22,
    "start_time": "2023-01-14T08:14:47.929Z"
   },
   {
    "duration": 732,
    "start_time": "2023-01-14T08:15:12.586Z"
   },
   {
    "duration": 13,
    "start_time": "2023-01-14T08:15:14.670Z"
   },
   {
    "duration": 13,
    "start_time": "2023-01-14T08:15:16.563Z"
   },
   {
    "duration": 19,
    "start_time": "2023-01-14T08:15:18.038Z"
   },
   {
    "duration": 13,
    "start_time": "2023-01-14T08:15:21.550Z"
   },
   {
    "duration": 3,
    "start_time": "2023-01-14T08:15:23.693Z"
   },
   {
    "duration": 3,
    "start_time": "2023-01-14T08:15:26.775Z"
   },
   {
    "duration": 6,
    "start_time": "2023-01-14T08:15:28.306Z"
   },
   {
    "duration": 3,
    "start_time": "2023-01-14T08:15:29.556Z"
   },
   {
    "duration": 7,
    "start_time": "2023-01-14T08:15:31.305Z"
   },
   {
    "duration": 5,
    "start_time": "2023-01-14T08:15:36.646Z"
   },
   {
    "duration": 8,
    "start_time": "2023-01-14T08:15:39.735Z"
   },
   {
    "duration": 16,
    "start_time": "2023-01-14T08:15:46.056Z"
   },
   {
    "duration": 8,
    "start_time": "2023-01-14T08:15:49.186Z"
   },
   {
    "duration": 7,
    "start_time": "2023-01-14T08:15:52.105Z"
   },
   {
    "duration": 4,
    "start_time": "2023-01-14T08:16:04.212Z"
   },
   {
    "duration": 14,
    "start_time": "2023-01-14T08:16:18.416Z"
   },
   {
    "duration": 8,
    "start_time": "2023-01-14T08:16:38.673Z"
   },
   {
    "duration": 26,
    "start_time": "2023-01-14T08:16:59.910Z"
   },
   {
    "duration": 12,
    "start_time": "2023-01-14T08:17:29.003Z"
   },
   {
    "duration": 77,
    "start_time": "2023-01-14T08:17:47.518Z"
   },
   {
    "duration": 150,
    "start_time": "2023-01-14T08:18:13.248Z"
   },
   {
    "duration": 6,
    "start_time": "2023-01-14T08:19:00.039Z"
   },
   {
    "duration": 16,
    "start_time": "2023-01-14T08:19:19.022Z"
   },
   {
    "duration": 5,
    "start_time": "2023-01-14T08:19:47.658Z"
   },
   {
    "duration": 6,
    "start_time": "2023-01-14T08:21:55.581Z"
   },
   {
    "duration": 4,
    "start_time": "2023-01-14T08:22:03.304Z"
   },
   {
    "duration": 4,
    "start_time": "2023-01-14T08:22:56.179Z"
   },
   {
    "duration": 12,
    "start_time": "2023-01-14T08:23:36.720Z"
   },
   {
    "duration": 5,
    "start_time": "2023-01-14T08:23:50.536Z"
   },
   {
    "duration": 48,
    "start_time": "2023-01-14T08:24:27.592Z"
   },
   {
    "duration": 5,
    "start_time": "2023-01-14T08:24:36.011Z"
   },
   {
    "duration": 109,
    "start_time": "2023-01-14T08:25:16.385Z"
   },
   {
    "duration": 4438,
    "start_time": "2023-01-14T08:25:25.441Z"
   },
   {
    "duration": 20,
    "start_time": "2023-01-14T08:25:46.490Z"
   },
   {
    "duration": 4,
    "start_time": "2023-01-14T08:25:54.538Z"
   },
   {
    "duration": 175,
    "start_time": "2023-01-14T08:26:18.338Z"
   },
   {
    "duration": 8,
    "start_time": "2023-01-14T08:26:42.191Z"
   },
   {
    "duration": 2,
    "start_time": "2023-01-14T08:27:01.174Z"
   },
   {
    "duration": 60,
    "start_time": "2023-01-14T08:27:09.464Z"
   },
   {
    "duration": 45,
    "start_time": "2023-01-14T08:27:14.852Z"
   },
   {
    "duration": 56,
    "start_time": "2023-01-14T08:28:27.215Z"
   },
   {
    "duration": 169,
    "start_time": "2023-01-14T08:28:37.203Z"
   },
   {
    "duration": 668,
    "start_time": "2023-01-14T08:29:38.772Z"
   },
   {
    "duration": 30,
    "start_time": "2023-01-14T08:30:25.486Z"
   },
   {
    "duration": 1532,
    "start_time": "2023-01-14T08:30:36.376Z"
   },
   {
    "duration": 4,
    "start_time": "2023-01-14T08:31:37.538Z"
   },
   {
    "duration": 2,
    "start_time": "2023-01-14T08:31:46.404Z"
   },
   {
    "duration": 3,
    "start_time": "2023-01-14T08:31:50.855Z"
   },
   {
    "duration": 3088,
    "start_time": "2023-01-14T08:32:34.349Z"
   },
   {
    "duration": 2686,
    "start_time": "2023-01-14T08:33:28.938Z"
   },
   {
    "duration": 3535,
    "start_time": "2023-01-14T08:34:04.606Z"
   },
   {
    "duration": 7,
    "start_time": "2023-01-14T08:35:05.152Z"
   },
   {
    "duration": 4,
    "start_time": "2023-01-14T08:35:13.400Z"
   },
   {
    "duration": 296970,
    "start_time": "2023-01-14T08:35:23.072Z"
   },
   {
    "duration": 3,
    "start_time": "2023-01-14T08:40:20.045Z"
   },
   {
    "duration": 5619,
    "start_time": "2023-01-14T08:40:28.690Z"
   },
   {
    "duration": 4346,
    "start_time": "2023-01-14T08:43:22.504Z"
   },
   {
    "duration": 2210,
    "start_time": "2023-01-14T08:44:02.421Z"
   },
   {
    "duration": 2856,
    "start_time": "2023-01-14T08:44:24.371Z"
   },
   {
    "duration": 5,
    "start_time": "2023-01-14T08:45:41.493Z"
   },
   {
    "duration": 803,
    "start_time": "2023-01-14T08:45:41.500Z"
   },
   {
    "duration": 9,
    "start_time": "2023-01-14T08:45:42.305Z"
   },
   {
    "duration": 37,
    "start_time": "2023-01-14T08:45:42.316Z"
   },
   {
    "duration": 47,
    "start_time": "2023-01-14T08:45:42.355Z"
   },
   {
    "duration": 36,
    "start_time": "2023-01-14T08:45:42.404Z"
   },
   {
    "duration": 46,
    "start_time": "2023-01-14T08:45:42.443Z"
   },
   {
    "duration": 14,
    "start_time": "2023-01-14T08:45:42.491Z"
   },
   {
    "duration": 46,
    "start_time": "2023-01-14T08:45:42.508Z"
   },
   {
    "duration": 26,
    "start_time": "2023-01-14T08:45:42.559Z"
   },
   {
    "duration": 28,
    "start_time": "2023-01-14T08:45:42.588Z"
   },
   {
    "duration": 36,
    "start_time": "2023-01-14T08:45:42.618Z"
   },
   {
    "duration": 11,
    "start_time": "2023-01-14T08:45:42.657Z"
   },
   {
    "duration": 6,
    "start_time": "2023-01-14T08:45:42.671Z"
   },
   {
    "duration": 12,
    "start_time": "2023-01-14T08:45:42.679Z"
   },
   {
    "duration": 19,
    "start_time": "2023-01-14T08:45:42.693Z"
   },
   {
    "duration": 24,
    "start_time": "2023-01-14T08:45:42.714Z"
   },
   {
    "duration": 108,
    "start_time": "2023-01-14T08:45:42.741Z"
   },
   {
    "duration": 159,
    "start_time": "2023-01-14T08:45:42.853Z"
   },
   {
    "duration": 12,
    "start_time": "2023-01-14T08:45:43.014Z"
   },
   {
    "duration": 27,
    "start_time": "2023-01-14T08:45:43.032Z"
   },
   {
    "duration": 114,
    "start_time": "2023-01-14T08:45:43.061Z"
   },
   {
    "duration": 4749,
    "start_time": "2023-01-14T08:45:43.176Z"
   },
   {
    "duration": 31,
    "start_time": "2023-01-14T08:45:47.927Z"
   },
   {
    "duration": 5,
    "start_time": "2023-01-14T08:45:47.961Z"
   },
   {
    "duration": 173,
    "start_time": "2023-01-14T08:45:47.968Z"
   },
   {
    "duration": 9,
    "start_time": "2023-01-14T08:45:48.147Z"
   },
   {
    "duration": 46,
    "start_time": "2023-01-14T08:45:48.161Z"
   },
   {
    "duration": 185,
    "start_time": "2023-01-14T08:45:48.208Z"
   },
   {
    "duration": 722,
    "start_time": "2023-01-14T08:45:48.395Z"
   },
   {
    "duration": 32,
    "start_time": "2023-01-14T08:45:49.120Z"
   },
   {
    "duration": 1818,
    "start_time": "2023-01-14T08:45:49.155Z"
   },
   {
    "duration": 3,
    "start_time": "2023-01-14T08:45:50.975Z"
   },
   {
    "duration": 2564,
    "start_time": "2023-01-14T08:45:50.980Z"
   },
   {
    "duration": 15,
    "start_time": "2023-01-14T08:45:53.620Z"
   },
   {
    "duration": 93,
    "start_time": "2023-01-14T08:45:53.648Z"
   },
   {
    "duration": 291377,
    "start_time": "2023-01-14T08:45:53.743Z"
   },
   {
    "duration": 5153,
    "start_time": "2023-01-14T08:50:45.122Z"
   },
   {
    "duration": 3055,
    "start_time": "2023-01-14T08:50:50.276Z"
   },
   {
    "duration": 7,
    "start_time": "2023-01-14T08:59:35.590Z"
   },
   {
    "duration": 2682,
    "start_time": "2023-01-14T08:59:37.391Z"
   },
   {
    "duration": 5,
    "start_time": "2023-01-14T09:00:34.774Z"
   },
   {
    "duration": 2666,
    "start_time": "2023-01-14T09:00:45.343Z"
   },
   {
    "duration": 5,
    "start_time": "2023-01-14T09:01:44.615Z"
   },
   {
    "duration": 5,
    "start_time": "2023-01-14T09:01:55.405Z"
   },
   {
    "duration": 2482,
    "start_time": "2023-01-14T09:01:57.901Z"
   },
   {
    "duration": 4,
    "start_time": "2023-01-14T09:03:00.559Z"
   },
   {
    "duration": 1705,
    "start_time": "2023-01-14T09:03:01.837Z"
   },
   {
    "duration": 4,
    "start_time": "2023-01-14T09:03:47.172Z"
   },
   {
    "duration": 1722,
    "start_time": "2023-01-14T09:03:48.768Z"
   },
   {
    "duration": 6,
    "start_time": "2023-01-14T09:04:46.486Z"
   },
   {
    "duration": 1707,
    "start_time": "2023-01-14T09:04:48.035Z"
   },
   {
    "duration": 8,
    "start_time": "2023-01-14T09:06:02.223Z"
   },
   {
    "duration": 4,
    "start_time": "2023-01-14T09:06:11.473Z"
   },
   {
    "duration": 4,
    "start_time": "2023-01-14T09:06:26.991Z"
   },
   {
    "duration": 67,
    "start_time": "2023-01-14T09:06:32.295Z"
   },
   {
    "duration": 4,
    "start_time": "2023-01-14T09:06:44.437Z"
   },
   {
    "duration": 1716,
    "start_time": "2023-01-14T09:06:49.599Z"
   },
   {
    "duration": 5,
    "start_time": "2023-01-14T09:07:15.435Z"
   },
   {
    "duration": 1715,
    "start_time": "2023-01-14T09:07:17.374Z"
   },
   {
    "duration": 5,
    "start_time": "2023-01-14T09:11:15.636Z"
   },
   {
    "duration": 1751,
    "start_time": "2023-01-14T09:11:17.756Z"
   },
   {
    "duration": 4,
    "start_time": "2023-01-14T09:18:54.274Z"
   },
   {
    "duration": 5,
    "start_time": "2023-01-14T09:19:20.358Z"
   },
   {
    "duration": 4,
    "start_time": "2023-01-14T09:19:30.663Z"
   },
   {
    "duration": 1700,
    "start_time": "2023-01-14T09:19:31.892Z"
   },
   {
    "duration": 4,
    "start_time": "2023-01-14T09:21:25.988Z"
   },
   {
    "duration": 4,
    "start_time": "2023-01-14T09:21:51.815Z"
   },
   {
    "duration": 589,
    "start_time": "2023-01-14T09:21:58.651Z"
   },
   {
    "duration": 5,
    "start_time": "2023-01-14T09:24:10.046Z"
   },
   {
    "duration": 4,
    "start_time": "2023-01-14T09:27:32.875Z"
   },
   {
    "duration": 582,
    "start_time": "2023-01-14T09:27:37.219Z"
   },
   {
    "duration": 4,
    "start_time": "2023-01-14T09:28:09.407Z"
   },
   {
    "duration": 576,
    "start_time": "2023-01-14T09:28:13.484Z"
   },
   {
    "duration": 4,
    "start_time": "2023-01-14T09:30:43.255Z"
   },
   {
    "duration": 1800,
    "start_time": "2023-01-14T09:30:47.802Z"
   },
   {
    "duration": 5,
    "start_time": "2023-01-14T09:31:25.998Z"
   },
   {
    "duration": 5,
    "start_time": "2023-01-14T09:31:33.390Z"
   },
   {
    "duration": 5,
    "start_time": "2023-01-14T09:34:22.496Z"
   },
   {
    "duration": 1810,
    "start_time": "2023-01-14T09:34:24.347Z"
   },
   {
    "duration": 6,
    "start_time": "2023-01-14T09:34:55.894Z"
   },
   {
    "duration": 1748,
    "start_time": "2023-01-14T09:34:57.170Z"
   },
   {
    "duration": 5,
    "start_time": "2023-01-14T09:36:01.992Z"
   },
   {
    "duration": 5,
    "start_time": "2023-01-14T09:36:10.071Z"
   },
   {
    "duration": 1711,
    "start_time": "2023-01-14T09:36:11.252Z"
   },
   {
    "duration": 5,
    "start_time": "2023-01-14T09:37:34.939Z"
   },
   {
    "duration": 1781,
    "start_time": "2023-01-14T09:37:42.518Z"
   },
   {
    "duration": 5,
    "start_time": "2023-01-14T09:38:27.264Z"
   },
   {
    "duration": 6,
    "start_time": "2023-01-14T09:38:35.542Z"
   },
   {
    "duration": 4,
    "start_time": "2023-01-14T09:39:13.653Z"
   },
   {
    "duration": 4,
    "start_time": "2023-01-14T09:39:18.868Z"
   },
   {
    "duration": 1723,
    "start_time": "2023-01-14T09:39:28.735Z"
   },
   {
    "duration": 60,
    "start_time": "2023-01-14T09:40:03.571Z"
   },
   {
    "duration": 4,
    "start_time": "2023-01-14T09:40:13.009Z"
   },
   {
    "duration": 1677,
    "start_time": "2023-01-14T09:40:16.438Z"
   },
   {
    "duration": 5,
    "start_time": "2023-01-14T09:40:38.153Z"
   },
   {
    "duration": 1767,
    "start_time": "2023-01-14T09:40:41.352Z"
   },
   {
    "duration": 4,
    "start_time": "2023-01-14T09:41:06.087Z"
   },
   {
    "duration": 5,
    "start_time": "2023-01-14T09:41:10.108Z"
   },
   {
    "duration": 4,
    "start_time": "2023-01-14T09:41:15.181Z"
   },
   {
    "duration": 1732,
    "start_time": "2023-01-14T09:41:17.013Z"
   },
   {
    "duration": 4,
    "start_time": "2023-01-14T09:42:12.503Z"
   },
   {
    "duration": 4,
    "start_time": "2023-01-14T09:42:15.886Z"
   },
   {
    "duration": 1739,
    "start_time": "2023-01-14T09:42:17.036Z"
   },
   {
    "duration": 4,
    "start_time": "2023-01-14T09:42:34.308Z"
   },
   {
    "duration": 4,
    "start_time": "2023-01-14T09:42:38.913Z"
   },
   {
    "duration": 1731,
    "start_time": "2023-01-14T09:42:40.073Z"
   },
   {
    "duration": 9,
    "start_time": "2023-01-14T09:42:55.525Z"
   },
   {
    "duration": 1728,
    "start_time": "2023-01-14T09:42:59.324Z"
   },
   {
    "duration": 3,
    "start_time": "2023-01-14T09:46:02.041Z"
   },
   {
    "duration": 4,
    "start_time": "2023-01-14T09:46:28.635Z"
   },
   {
    "duration": 5,
    "start_time": "2023-01-14T09:46:35.439Z"
   },
   {
    "duration": 1733,
    "start_time": "2023-01-14T09:46:36.712Z"
   },
   {
    "duration": 4,
    "start_time": "2023-01-14T09:47:17.053Z"
   },
   {
    "duration": 2576,
    "start_time": "2023-01-14T09:47:18.477Z"
   },
   {
    "duration": 4,
    "start_time": "2023-01-14T09:47:34.771Z"
   },
   {
    "duration": 2598,
    "start_time": "2023-01-14T09:47:36.366Z"
   },
   {
    "duration": 5,
    "start_time": "2023-01-14T09:48:13.896Z"
   },
   {
    "duration": 2566,
    "start_time": "2023-01-14T09:48:15.137Z"
   },
   {
    "duration": 5,
    "start_time": "2023-01-14T09:48:35.308Z"
   },
   {
    "duration": 2547,
    "start_time": "2023-01-14T09:48:37.135Z"
   },
   {
    "duration": 5,
    "start_time": "2023-01-14T09:49:09.901Z"
   },
   {
    "duration": 2449,
    "start_time": "2023-01-14T09:49:11.699Z"
   },
   {
    "duration": 4,
    "start_time": "2023-01-14T09:49:26.646Z"
   },
   {
    "duration": 2597,
    "start_time": "2023-01-14T09:49:33.408Z"
   },
   {
    "duration": 5,
    "start_time": "2023-01-14T09:50:05.543Z"
   },
   {
    "duration": 2589,
    "start_time": "2023-01-14T09:50:13.166Z"
   },
   {
    "duration": 4,
    "start_time": "2023-01-14T09:50:57.675Z"
   },
   {
    "duration": 2538,
    "start_time": "2023-01-14T09:51:06.408Z"
   },
   {
    "duration": 5,
    "start_time": "2023-01-14T09:51:40.838Z"
   },
   {
    "duration": 2541,
    "start_time": "2023-01-14T09:51:42.311Z"
   },
   {
    "duration": 6,
    "start_time": "2023-01-14T09:51:55.398Z"
   },
   {
    "duration": 4,
    "start_time": "2023-01-14T09:54:26.636Z"
   },
   {
    "duration": 4,
    "start_time": "2023-01-14T09:54:32.455Z"
   },
   {
    "duration": 840,
    "start_time": "2023-01-14T09:54:33.737Z"
   },
   {
    "duration": 4,
    "start_time": "2023-01-14T09:56:48.037Z"
   },
   {
    "duration": 843,
    "start_time": "2023-01-14T09:56:53.775Z"
   },
   {
    "duration": 4,
    "start_time": "2023-01-14T09:57:30.946Z"
   },
   {
    "duration": 573,
    "start_time": "2023-01-14T09:57:32.077Z"
   },
   {
    "duration": 5,
    "start_time": "2023-01-14T09:57:58.664Z"
   },
   {
    "duration": 5,
    "start_time": "2023-01-14T09:58:07.863Z"
   },
   {
    "duration": 1738,
    "start_time": "2023-01-14T09:58:09.250Z"
   },
   {
    "duration": 5,
    "start_time": "2023-01-14T09:59:18.747Z"
   },
   {
    "duration": 6,
    "start_time": "2023-01-14T09:59:22.880Z"
   },
   {
    "duration": 1769,
    "start_time": "2023-01-14T09:59:24.051Z"
   },
   {
    "duration": 7,
    "start_time": "2023-01-14T09:59:52.368Z"
   },
   {
    "duration": 1738,
    "start_time": "2023-01-14T09:59:58.864Z"
   },
   {
    "duration": 5,
    "start_time": "2023-01-14T10:00:28.417Z"
   },
   {
    "duration": 1755,
    "start_time": "2023-01-14T10:00:33.719Z"
   },
   {
    "duration": 4,
    "start_time": "2023-01-14T10:01:42.805Z"
   },
   {
    "duration": 1845,
    "start_time": "2023-01-14T10:01:44.137Z"
   },
   {
    "duration": 8,
    "start_time": "2023-01-14T10:01:57.219Z"
   },
   {
    "duration": 1762,
    "start_time": "2023-01-14T10:02:00.900Z"
   },
   {
    "duration": 5,
    "start_time": "2023-01-14T10:02:37.205Z"
   },
   {
    "duration": 1767,
    "start_time": "2023-01-14T10:02:41.946Z"
   },
   {
    "duration": 1751,
    "start_time": "2023-01-14T10:03:24.956Z"
   },
   {
    "duration": 4,
    "start_time": "2023-01-14T10:04:09.750Z"
   },
   {
    "duration": 1714,
    "start_time": "2023-01-14T10:04:12.664Z"
   },
   {
    "duration": 3547,
    "start_time": "2023-01-14T10:06:20.987Z"
   },
   {
    "duration": 4,
    "start_time": "2023-01-14T10:08:31.904Z"
   },
   {
    "duration": 1777,
    "start_time": "2023-01-14T10:08:41.036Z"
   },
   {
    "duration": 3531,
    "start_time": "2023-01-14T10:09:22.309Z"
   },
   {
    "duration": 1513,
    "start_time": "2023-01-14T10:12:33.574Z"
   },
   {
    "duration": 906,
    "start_time": "2023-01-14T10:12:35.089Z"
   },
   {
    "duration": 28,
    "start_time": "2023-01-14T10:12:35.997Z"
   },
   {
    "duration": 17,
    "start_time": "2023-01-14T10:12:36.028Z"
   },
   {
    "duration": 24,
    "start_time": "2023-01-14T10:12:36.046Z"
   },
   {
    "duration": 6,
    "start_time": "2023-01-14T10:12:36.072Z"
   },
   {
    "duration": 45,
    "start_time": "2023-01-14T10:12:36.080Z"
   },
   {
    "duration": 4,
    "start_time": "2023-01-14T10:12:36.129Z"
   },
   {
    "duration": 14,
    "start_time": "2023-01-14T10:12:36.135Z"
   },
   {
    "duration": 9,
    "start_time": "2023-01-14T10:12:36.152Z"
   },
   {
    "duration": 3,
    "start_time": "2023-01-14T10:12:36.163Z"
   },
   {
    "duration": 11,
    "start_time": "2023-01-14T10:12:36.168Z"
   },
   {
    "duration": 7,
    "start_time": "2023-01-14T10:12:36.181Z"
   },
   {
    "duration": 6,
    "start_time": "2023-01-14T10:12:36.189Z"
   },
   {
    "duration": 37,
    "start_time": "2023-01-14T10:12:36.196Z"
   },
   {
    "duration": 18,
    "start_time": "2023-01-14T10:12:36.236Z"
   },
   {
    "duration": 14,
    "start_time": "2023-01-14T10:12:36.256Z"
   },
   {
    "duration": 105,
    "start_time": "2023-01-14T10:12:36.271Z"
   },
   {
    "duration": 199,
    "start_time": "2023-01-14T10:12:36.378Z"
   },
   {
    "duration": 12,
    "start_time": "2023-01-14T10:12:36.579Z"
   },
   {
    "duration": 10,
    "start_time": "2023-01-14T10:12:36.593Z"
   },
   {
    "duration": 136,
    "start_time": "2023-01-14T10:12:36.604Z"
   },
   {
    "duration": 4557,
    "start_time": "2023-01-14T10:12:36.742Z"
   },
   {
    "duration": 33,
    "start_time": "2023-01-14T10:12:41.301Z"
   },
   {
    "duration": 17,
    "start_time": "2023-01-14T10:12:41.339Z"
   },
   {
    "duration": 136,
    "start_time": "2023-01-14T10:12:41.358Z"
   },
   {
    "duration": 10,
    "start_time": "2023-01-14T10:12:41.496Z"
   },
   {
    "duration": 67,
    "start_time": "2023-01-14T10:12:41.509Z"
   },
   {
    "duration": 183,
    "start_time": "2023-01-14T10:12:41.577Z"
   },
   {
    "duration": 702,
    "start_time": "2023-01-14T10:12:41.762Z"
   },
   {
    "duration": 24,
    "start_time": "2023-01-14T10:12:42.466Z"
   },
   {
    "duration": 1629,
    "start_time": "2023-01-14T10:12:42.492Z"
   },
   {
    "duration": 5,
    "start_time": "2023-01-14T10:12:46.990Z"
   },
   {
    "duration": 4606,
    "start_time": "2023-01-14T10:12:49.417Z"
   },
   {
    "duration": 4,
    "start_time": "2023-01-14T10:14:23.763Z"
   },
   {
    "duration": 4228,
    "start_time": "2023-01-14T10:14:27.914Z"
   },
   {
    "duration": 74,
    "start_time": "2023-01-14T10:20:21.178Z"
   },
   {
    "duration": 69,
    "start_time": "2023-01-14T10:20:28.704Z"
   },
   {
    "duration": 61,
    "start_time": "2023-01-14T10:20:55.215Z"
   },
   {
    "duration": 55,
    "start_time": "2023-01-14T10:21:19.537Z"
   },
   {
    "duration": 59,
    "start_time": "2023-01-14T10:21:32.237Z"
   },
   {
    "duration": 61,
    "start_time": "2023-01-14T10:22:33.778Z"
   },
   {
    "duration": 58,
    "start_time": "2023-01-14T10:23:26.079Z"
   },
   {
    "duration": 57,
    "start_time": "2023-01-14T10:23:42.916Z"
   },
   {
    "duration": 57,
    "start_time": "2023-01-14T10:23:54.208Z"
   },
   {
    "duration": 40,
    "start_time": "2023-01-14T10:24:20.153Z"
   },
   {
    "duration": 63,
    "start_time": "2023-01-14T10:26:23.616Z"
   },
   {
    "duration": 45,
    "start_time": "2023-01-14T10:26:28.335Z"
   },
   {
    "duration": 4,
    "start_time": "2023-01-14T10:26:47.966Z"
   },
   {
    "duration": 3607,
    "start_time": "2023-01-14T10:27:01.937Z"
   },
   {
    "duration": 5,
    "start_time": "2023-01-14T10:27:17.605Z"
   },
   {
    "duration": 1700,
    "start_time": "2023-01-14T10:27:20.953Z"
   },
   {
    "duration": 4,
    "start_time": "2023-01-14T10:27:36.163Z"
   },
   {
    "duration": 2817,
    "start_time": "2023-01-14T10:27:54.013Z"
   },
   {
    "duration": 4,
    "start_time": "2023-01-14T10:27:58.972Z"
   },
   {
    "duration": 4,
    "start_time": "2023-01-14T10:28:12.205Z"
   },
   {
    "duration": 198957,
    "start_time": "2023-01-14T10:28:13.652Z"
   },
   {
    "duration": 3586,
    "start_time": "2023-01-14T10:32:52.919Z"
   },
   {
    "duration": 1585,
    "start_time": "2023-01-14T10:33:43.840Z"
   },
   {
    "duration": 46,
    "start_time": "2023-01-14T10:34:52.245Z"
   },
   {
    "duration": 61591,
    "start_time": "2023-01-14T10:39:47.364Z"
   },
   {
    "duration": 122117,
    "start_time": "2023-01-14T10:42:10.037Z"
   },
   {
    "duration": 5,
    "start_time": "2023-01-14T10:47:08.436Z"
   },
   {
    "duration": 838,
    "start_time": "2023-01-14T10:47:08.443Z"
   },
   {
    "duration": 17,
    "start_time": "2023-01-14T10:47:09.283Z"
   },
   {
    "duration": 23,
    "start_time": "2023-01-14T10:47:09.302Z"
   },
   {
    "duration": 32,
    "start_time": "2023-01-14T10:47:09.328Z"
   },
   {
    "duration": 22,
    "start_time": "2023-01-14T10:47:09.362Z"
   },
   {
    "duration": 26,
    "start_time": "2023-01-14T10:47:09.386Z"
   },
   {
    "duration": 3,
    "start_time": "2023-01-14T10:47:09.414Z"
   },
   {
    "duration": 26,
    "start_time": "2023-01-14T10:47:09.419Z"
   },
   {
    "duration": 17,
    "start_time": "2023-01-14T10:47:09.449Z"
   },
   {
    "duration": 6,
    "start_time": "2023-01-14T10:47:09.468Z"
   },
   {
    "duration": 20,
    "start_time": "2023-01-14T10:47:09.476Z"
   },
   {
    "duration": 11,
    "start_time": "2023-01-14T10:47:09.498Z"
   },
   {
    "duration": 27,
    "start_time": "2023-01-14T10:47:09.511Z"
   },
   {
    "duration": 17,
    "start_time": "2023-01-14T10:47:09.540Z"
   },
   {
    "duration": 18,
    "start_time": "2023-01-14T10:47:09.559Z"
   },
   {
    "duration": 15,
    "start_time": "2023-01-14T10:47:09.579Z"
   },
   {
    "duration": 97,
    "start_time": "2023-01-14T10:47:09.596Z"
   },
   {
    "duration": 170,
    "start_time": "2023-01-14T10:47:09.694Z"
   },
   {
    "duration": 7,
    "start_time": "2023-01-14T10:47:09.865Z"
   },
   {
    "duration": 50,
    "start_time": "2023-01-14T10:47:09.873Z"
   },
   {
    "duration": 129,
    "start_time": "2023-01-14T10:47:09.931Z"
   },
   {
    "duration": 4725,
    "start_time": "2023-01-14T10:47:10.061Z"
   },
   {
    "duration": 20,
    "start_time": "2023-01-14T10:47:14.788Z"
   },
   {
    "duration": 35,
    "start_time": "2023-01-14T10:47:14.809Z"
   },
   {
    "duration": 145,
    "start_time": "2023-01-14T10:47:14.845Z"
   },
   {
    "duration": 9,
    "start_time": "2023-01-14T10:47:14.992Z"
   },
   {
    "duration": 93,
    "start_time": "2023-01-14T10:47:15.004Z"
   },
   {
    "duration": 201,
    "start_time": "2023-01-14T10:47:15.099Z"
   },
   {
    "duration": 716,
    "start_time": "2023-01-14T10:47:15.302Z"
   },
   {
    "duration": 35,
    "start_time": "2023-01-14T10:47:16.021Z"
   },
   {
    "duration": 1616,
    "start_time": "2023-01-14T10:47:16.058Z"
   },
   {
    "duration": 3,
    "start_time": "2023-01-14T10:47:17.676Z"
   },
   {
    "duration": 3564,
    "start_time": "2023-01-14T10:47:17.681Z"
   },
   {
    "duration": 6,
    "start_time": "2023-01-14T10:47:21.329Z"
   },
   {
    "duration": 102,
    "start_time": "2023-01-14T10:47:21.337Z"
   },
   {
    "duration": 198764,
    "start_time": "2023-01-14T10:47:21.441Z"
   },
   {
    "duration": 3387,
    "start_time": "2023-01-14T10:50:40.207Z"
   },
   {
    "duration": 1241,
    "start_time": "2023-01-14T10:50:43.596Z"
   },
   {
    "duration": 118660,
    "start_time": "2023-01-14T10:50:44.841Z"
   },
   {
    "duration": 4029,
    "start_time": "2023-01-15T09:56:04.935Z"
   },
   {
    "duration": 812,
    "start_time": "2023-01-15T09:56:08.966Z"
   },
   {
    "duration": 21,
    "start_time": "2023-01-15T09:56:09.784Z"
   },
   {
    "duration": 18,
    "start_time": "2023-01-15T09:56:09.808Z"
   },
   {
    "duration": 43,
    "start_time": "2023-01-15T09:56:09.829Z"
   },
   {
    "duration": 31,
    "start_time": "2023-01-15T09:56:09.874Z"
   },
   {
    "duration": 29,
    "start_time": "2023-01-15T09:56:09.908Z"
   },
   {
    "duration": 9,
    "start_time": "2023-01-15T09:56:09.939Z"
   },
   {
    "duration": 13,
    "start_time": "2023-01-15T09:56:09.950Z"
   },
   {
    "duration": 42,
    "start_time": "2023-01-15T09:56:09.964Z"
   },
   {
    "duration": 18,
    "start_time": "2023-01-15T09:56:10.008Z"
   },
   {
    "duration": 29,
    "start_time": "2023-01-15T09:56:10.028Z"
   },
   {
    "duration": 25,
    "start_time": "2023-01-15T09:56:10.059Z"
   },
   {
    "duration": 39,
    "start_time": "2023-01-15T09:56:10.087Z"
   },
   {
    "duration": 18,
    "start_time": "2023-01-15T09:56:10.127Z"
   },
   {
    "duration": 44,
    "start_time": "2023-01-15T09:56:10.147Z"
   },
   {
    "duration": 24,
    "start_time": "2023-01-15T09:56:10.192Z"
   },
   {
    "duration": 97,
    "start_time": "2023-01-15T09:56:10.218Z"
   },
   {
    "duration": 194,
    "start_time": "2023-01-15T09:56:10.317Z"
   },
   {
    "duration": 8,
    "start_time": "2023-01-15T09:56:10.513Z"
   },
   {
    "duration": 25,
    "start_time": "2023-01-15T09:56:10.522Z"
   },
   {
    "duration": 144,
    "start_time": "2023-01-15T09:56:10.549Z"
   },
   {
    "duration": 4998,
    "start_time": "2023-01-15T09:56:10.695Z"
   },
   {
    "duration": 27,
    "start_time": "2023-01-15T09:56:15.696Z"
   },
   {
    "duration": 4,
    "start_time": "2023-01-15T09:56:15.724Z"
   },
   {
    "duration": 167,
    "start_time": "2023-01-15T09:56:15.730Z"
   },
   {
    "duration": 20,
    "start_time": "2023-01-15T09:56:15.899Z"
   },
   {
    "duration": 63,
    "start_time": "2023-01-15T09:56:15.921Z"
   },
   {
    "duration": 188,
    "start_time": "2023-01-15T09:56:15.986Z"
   },
   {
    "duration": 742,
    "start_time": "2023-01-15T09:56:16.179Z"
   },
   {
    "duration": 25,
    "start_time": "2023-01-15T09:56:16.923Z"
   },
   {
    "duration": 3157,
    "start_time": "2023-01-15T09:56:16.950Z"
   },
   {
    "duration": 4,
    "start_time": "2023-01-15T09:56:20.110Z"
   },
   {
    "duration": 3470,
    "start_time": "2023-01-15T09:56:20.116Z"
   },
   {
    "duration": 47,
    "start_time": "2023-01-15T11:26:48.869Z"
   },
   {
    "duration": 1543,
    "start_time": "2023-01-15T11:26:52.009Z"
   },
   {
    "duration": 2854,
    "start_time": "2023-01-15T11:27:05.037Z"
   },
   {
    "duration": 646,
    "start_time": "2023-01-15T12:22:59.935Z"
   },
   {
    "duration": 14,
    "start_time": "2023-01-15T12:23:02.471Z"
   },
   {
    "duration": 63,
    "start_time": "2023-01-15T12:23:54.783Z"
   },
   {
    "duration": 16,
    "start_time": "2023-01-15T12:24:11.057Z"
   },
   {
    "duration": 22,
    "start_time": "2023-01-15T12:24:13.038Z"
   },
   {
    "duration": 8,
    "start_time": "2023-01-15T12:24:14.443Z"
   },
   {
    "duration": 10,
    "start_time": "2023-01-15T12:24:19.867Z"
   },
   {
    "duration": 3,
    "start_time": "2023-01-15T12:24:24.200Z"
   },
   {
    "duration": 3,
    "start_time": "2023-01-15T12:25:13.086Z"
   },
   {
    "duration": 4,
    "start_time": "2023-01-15T12:25:20.239Z"
   },
   {
    "duration": 687,
    "start_time": "2023-01-15T12:25:20.246Z"
   },
   {
    "duration": 9,
    "start_time": "2023-01-15T12:25:20.935Z"
   },
   {
    "duration": 13,
    "start_time": "2023-01-15T12:25:20.947Z"
   },
   {
    "duration": 20,
    "start_time": "2023-01-15T12:25:20.962Z"
   },
   {
    "duration": 34,
    "start_time": "2023-01-15T12:25:20.984Z"
   },
   {
    "duration": 10,
    "start_time": "2023-01-15T12:25:21.020Z"
   },
   {
    "duration": 3,
    "start_time": "2023-01-15T12:25:21.031Z"
   },
   {
    "duration": 3,
    "start_time": "2023-01-15T12:25:28.044Z"
   },
   {
    "duration": 5,
    "start_time": "2023-01-15T12:25:37.703Z"
   },
   {
    "duration": 3,
    "start_time": "2023-01-15T12:25:39.096Z"
   },
   {
    "duration": 9,
    "start_time": "2023-01-15T12:25:40.698Z"
   },
   {
    "duration": 8,
    "start_time": "2023-01-15T12:25:45.518Z"
   },
   {
    "duration": 4,
    "start_time": "2023-01-15T12:25:50.372Z"
   },
   {
    "duration": 7,
    "start_time": "2023-01-15T12:25:57.322Z"
   },
   {
    "duration": 21,
    "start_time": "2023-01-15T12:26:02.680Z"
   },
   {
    "duration": 12,
    "start_time": "2023-01-15T12:26:05.411Z"
   },
   {
    "duration": 41,
    "start_time": "2023-01-15T12:30:13.440Z"
   },
   {
    "duration": 13,
    "start_time": "2023-01-15T12:30:52.229Z"
   },
   {
    "duration": 52,
    "start_time": "2023-01-15T12:35:57.105Z"
   },
   {
    "duration": 185,
    "start_time": "2023-01-15T12:36:02.184Z"
   },
   {
    "duration": 164,
    "start_time": "2023-01-15T12:36:03.957Z"
   },
   {
    "duration": 52,
    "start_time": "2023-01-15T12:36:34.865Z"
   },
   {
    "duration": 186,
    "start_time": "2023-01-15T12:36:36.046Z"
   },
   {
    "duration": 49,
    "start_time": "2023-01-15T12:37:04.638Z"
   },
   {
    "duration": 167,
    "start_time": "2023-01-15T12:37:06.654Z"
   },
   {
    "duration": 120,
    "start_time": "2023-01-15T12:37:18.175Z"
   },
   {
    "duration": 158,
    "start_time": "2023-01-15T12:37:38.040Z"
   },
   {
    "duration": 91,
    "start_time": "2023-01-15T12:38:51.533Z"
   },
   {
    "duration": 5,
    "start_time": "2023-01-15T12:38:58.055Z"
   },
   {
    "duration": 711,
    "start_time": "2023-01-15T12:38:58.062Z"
   },
   {
    "duration": 11,
    "start_time": "2023-01-15T12:38:58.776Z"
   },
   {
    "duration": 30,
    "start_time": "2023-01-15T12:38:58.789Z"
   },
   {
    "duration": 27,
    "start_time": "2023-01-15T12:38:58.822Z"
   },
   {
    "duration": 7,
    "start_time": "2023-01-15T12:38:58.851Z"
   },
   {
    "duration": 10,
    "start_time": "2023-01-15T12:38:58.860Z"
   },
   {
    "duration": 3,
    "start_time": "2023-01-15T12:38:58.872Z"
   },
   {
    "duration": 4,
    "start_time": "2023-01-15T12:38:58.877Z"
   },
   {
    "duration": 36,
    "start_time": "2023-01-15T12:38:58.883Z"
   },
   {
    "duration": 5,
    "start_time": "2023-01-15T12:38:58.922Z"
   },
   {
    "duration": 9,
    "start_time": "2023-01-15T12:38:58.928Z"
   },
   {
    "duration": 7,
    "start_time": "2023-01-15T12:38:58.938Z"
   },
   {
    "duration": 9,
    "start_time": "2023-01-15T12:38:58.946Z"
   },
   {
    "duration": 15,
    "start_time": "2023-01-15T12:38:58.956Z"
   },
   {
    "duration": 54,
    "start_time": "2023-01-15T12:38:58.973Z"
   },
   {
    "duration": 11,
    "start_time": "2023-01-15T12:38:59.028Z"
   },
   {
    "duration": 99,
    "start_time": "2023-01-15T12:38:59.040Z"
   },
   {
    "duration": 138,
    "start_time": "2023-01-15T12:38:59.141Z"
   },
   {
    "duration": 6,
    "start_time": "2023-01-15T12:38:59.281Z"
   },
   {
    "duration": 28,
    "start_time": "2023-01-15T12:38:59.288Z"
   },
   {
    "duration": 118,
    "start_time": "2023-01-15T12:38:59.318Z"
   },
   {
    "duration": 4079,
    "start_time": "2023-01-15T12:38:59.437Z"
   },
   {
    "duration": 22,
    "start_time": "2023-01-15T12:39:03.518Z"
   },
   {
    "duration": 5,
    "start_time": "2023-01-15T12:39:03.541Z"
   },
   {
    "duration": 128,
    "start_time": "2023-01-15T12:39:03.548Z"
   },
   {
    "duration": 11,
    "start_time": "2023-01-15T12:39:03.678Z"
   },
   {
    "duration": 65,
    "start_time": "2023-01-15T12:39:03.690Z"
   },
   {
    "duration": 174,
    "start_time": "2023-01-15T12:39:03.758Z"
   },
   {
    "duration": 629,
    "start_time": "2023-01-15T12:39:09.574Z"
   },
   {
    "duration": 36,
    "start_time": "2023-01-15T12:39:16.665Z"
   },
   {
    "duration": 167,
    "start_time": "2023-01-15T12:40:24.773Z"
   },
   {
    "duration": 24,
    "start_time": "2023-01-15T12:44:23.802Z"
   },
   {
    "duration": 23,
    "start_time": "2023-01-15T12:44:52.930Z"
   },
   {
    "duration": 4,
    "start_time": "2023-01-15T12:45:16.985Z"
   },
   {
    "duration": 703,
    "start_time": "2023-01-15T12:45:16.991Z"
   },
   {
    "duration": 9,
    "start_time": "2023-01-15T12:45:17.696Z"
   },
   {
    "duration": 18,
    "start_time": "2023-01-15T12:45:17.706Z"
   },
   {
    "duration": 35,
    "start_time": "2023-01-15T12:45:17.726Z"
   },
   {
    "duration": 9,
    "start_time": "2023-01-15T12:45:17.763Z"
   },
   {
    "duration": 44,
    "start_time": "2023-01-15T12:45:17.773Z"
   },
   {
    "duration": 10,
    "start_time": "2023-01-15T12:45:17.819Z"
   },
   {
    "duration": 9,
    "start_time": "2023-01-15T12:45:17.830Z"
   },
   {
    "duration": 29,
    "start_time": "2023-01-15T12:45:17.841Z"
   },
   {
    "duration": 11,
    "start_time": "2023-01-15T12:45:17.872Z"
   },
   {
    "duration": 29,
    "start_time": "2023-01-15T12:45:17.884Z"
   },
   {
    "duration": 16,
    "start_time": "2023-01-15T12:45:17.915Z"
   },
   {
    "duration": 20,
    "start_time": "2023-01-15T12:45:17.932Z"
   },
   {
    "duration": 37,
    "start_time": "2023-01-15T12:45:17.954Z"
   },
   {
    "duration": 21,
    "start_time": "2023-01-15T12:45:17.992Z"
   },
   {
    "duration": 22,
    "start_time": "2023-01-15T12:45:18.014Z"
   },
   {
    "duration": 99,
    "start_time": "2023-01-15T12:45:18.037Z"
   },
   {
    "duration": 115,
    "start_time": "2023-01-15T12:45:18.137Z"
   },
   {
    "duration": 6,
    "start_time": "2023-01-15T12:45:18.254Z"
   },
   {
    "duration": 51,
    "start_time": "2023-01-15T12:45:18.261Z"
   },
   {
    "duration": 106,
    "start_time": "2023-01-15T12:45:18.314Z"
   },
   {
    "duration": 4044,
    "start_time": "2023-01-15T12:45:18.421Z"
   },
   {
    "duration": 20,
    "start_time": "2023-01-15T12:45:22.467Z"
   },
   {
    "duration": 8,
    "start_time": "2023-01-15T12:45:22.489Z"
   },
   {
    "duration": 121,
    "start_time": "2023-01-15T12:45:22.499Z"
   },
   {
    "duration": 8,
    "start_time": "2023-01-15T12:45:22.622Z"
   },
   {
    "duration": 51,
    "start_time": "2023-01-15T12:45:22.632Z"
   },
   {
    "duration": 190,
    "start_time": "2023-01-15T12:45:22.686Z"
   },
   {
    "duration": 584,
    "start_time": "2023-01-15T12:45:22.878Z"
   },
   {
    "duration": 36,
    "start_time": "2023-01-15T12:45:40.758Z"
   },
   {
    "duration": 26,
    "start_time": "2023-01-15T12:46:42.156Z"
   },
   {
    "duration": 1374,
    "start_time": "2023-01-15T12:47:11.325Z"
   },
   {
    "duration": 18,
    "start_time": "2023-01-15T12:53:40.762Z"
   },
   {
    "duration": 18,
    "start_time": "2023-01-15T12:53:46.988Z"
   },
   {
    "duration": 18,
    "start_time": "2023-01-15T12:53:49.356Z"
   },
   {
    "duration": 4,
    "start_time": "2023-01-15T12:55:28.714Z"
   },
   {
    "duration": 203,
    "start_time": "2023-01-15T12:57:06.293Z"
   },
   {
    "duration": 4,
    "start_time": "2023-01-15T12:57:14.994Z"
   },
   {
    "duration": 4,
    "start_time": "2023-01-15T12:57:20.583Z"
   },
   {
    "duration": 3,
    "start_time": "2023-01-15T12:57:23.977Z"
   },
   {
    "duration": 1359,
    "start_time": "2023-01-15T12:58:11.038Z"
   },
   {
    "duration": 683,
    "start_time": "2023-01-15T12:58:12.399Z"
   },
   {
    "duration": 15,
    "start_time": "2023-01-15T12:58:13.084Z"
   },
   {
    "duration": 19,
    "start_time": "2023-01-15T12:58:13.101Z"
   },
   {
    "duration": 24,
    "start_time": "2023-01-15T12:58:13.121Z"
   },
   {
    "duration": 6,
    "start_time": "2023-01-15T12:58:13.146Z"
   },
   {
    "duration": 13,
    "start_time": "2023-01-15T12:58:13.154Z"
   },
   {
    "duration": 3,
    "start_time": "2023-01-15T12:58:13.169Z"
   },
   {
    "duration": 6,
    "start_time": "2023-01-15T12:58:13.173Z"
   },
   {
    "duration": 5,
    "start_time": "2023-01-15T12:58:13.215Z"
   },
   {
    "duration": 7,
    "start_time": "2023-01-15T12:58:13.222Z"
   },
   {
    "duration": 10,
    "start_time": "2023-01-15T12:58:13.231Z"
   },
   {
    "duration": 7,
    "start_time": "2023-01-15T12:58:13.242Z"
   },
   {
    "duration": 5,
    "start_time": "2023-01-15T12:58:13.250Z"
   },
   {
    "duration": 10,
    "start_time": "2023-01-15T12:58:13.256Z"
   },
   {
    "duration": 54,
    "start_time": "2023-01-15T12:58:13.267Z"
   },
   {
    "duration": 21,
    "start_time": "2023-01-15T12:58:13.323Z"
   },
   {
    "duration": 122,
    "start_time": "2023-01-15T12:58:13.345Z"
   },
   {
    "duration": 135,
    "start_time": "2023-01-15T12:58:13.468Z"
   },
   {
    "duration": 12,
    "start_time": "2023-01-15T12:58:13.605Z"
   },
   {
    "duration": 9,
    "start_time": "2023-01-15T12:58:13.619Z"
   },
   {
    "duration": 113,
    "start_time": "2023-01-15T12:58:13.630Z"
   },
   {
    "duration": 4222,
    "start_time": "2023-01-15T12:58:13.745Z"
   },
   {
    "duration": 38,
    "start_time": "2023-01-15T12:58:17.969Z"
   },
   {
    "duration": 3,
    "start_time": "2023-01-15T12:58:18.010Z"
   },
   {
    "duration": 3,
    "start_time": "2023-01-15T12:59:00.499Z"
   },
   {
    "duration": 4,
    "start_time": "2023-01-15T12:59:04.934Z"
   },
   {
    "duration": 652,
    "start_time": "2023-01-15T12:59:04.951Z"
   },
   {
    "duration": 15,
    "start_time": "2023-01-15T12:59:05.605Z"
   },
   {
    "duration": 13,
    "start_time": "2023-01-15T12:59:05.622Z"
   },
   {
    "duration": 17,
    "start_time": "2023-01-15T12:59:05.637Z"
   },
   {
    "duration": 13,
    "start_time": "2023-01-15T12:59:05.655Z"
   },
   {
    "duration": 10,
    "start_time": "2023-01-15T12:59:05.670Z"
   },
   {
    "duration": 8,
    "start_time": "2023-01-15T12:59:05.681Z"
   },
   {
    "duration": 28,
    "start_time": "2023-01-15T12:59:05.690Z"
   },
   {
    "duration": 10,
    "start_time": "2023-01-15T12:59:05.720Z"
   },
   {
    "duration": 19,
    "start_time": "2023-01-15T12:59:05.732Z"
   },
   {
    "duration": 17,
    "start_time": "2023-01-15T12:59:05.752Z"
   },
   {
    "duration": 7,
    "start_time": "2023-01-15T12:59:05.770Z"
   },
   {
    "duration": 4,
    "start_time": "2023-01-15T12:59:05.779Z"
   },
   {
    "duration": 14,
    "start_time": "2023-01-15T12:59:05.785Z"
   },
   {
    "duration": 15,
    "start_time": "2023-01-15T12:59:05.800Z"
   },
   {
    "duration": 18,
    "start_time": "2023-01-15T12:59:05.817Z"
   },
   {
    "duration": 94,
    "start_time": "2023-01-15T12:59:05.837Z"
   },
   {
    "duration": 123,
    "start_time": "2023-01-15T12:59:05.933Z"
   },
   {
    "duration": 7,
    "start_time": "2023-01-15T12:59:06.059Z"
   },
   {
    "duration": 13,
    "start_time": "2023-01-15T12:59:06.068Z"
   },
   {
    "duration": 109,
    "start_time": "2023-01-15T12:59:06.083Z"
   },
   {
    "duration": 4,
    "start_time": "2023-01-15T12:59:33.219Z"
   },
   {
    "duration": 4,
    "start_time": "2023-01-15T12:59:47.369Z"
   },
   {
    "duration": 7,
    "start_time": "2023-01-15T13:00:05.934Z"
   },
   {
    "duration": 4,
    "start_time": "2023-01-15T13:00:53.417Z"
   },
   {
    "duration": 720,
    "start_time": "2023-01-15T13:00:53.423Z"
   },
   {
    "duration": 10,
    "start_time": "2023-01-15T13:00:54.145Z"
   },
   {
    "duration": 14,
    "start_time": "2023-01-15T13:00:54.156Z"
   },
   {
    "duration": 22,
    "start_time": "2023-01-15T13:00:54.172Z"
   },
   {
    "duration": 24,
    "start_time": "2023-01-15T13:00:54.195Z"
   },
   {
    "duration": 9,
    "start_time": "2023-01-15T13:00:54.221Z"
   },
   {
    "duration": 7,
    "start_time": "2023-01-15T13:00:54.232Z"
   },
   {
    "duration": 7,
    "start_time": "2023-01-15T13:00:54.240Z"
   },
   {
    "duration": 13,
    "start_time": "2023-01-15T13:00:54.249Z"
   },
   {
    "duration": 4,
    "start_time": "2023-01-15T13:00:54.264Z"
   },
   {
    "duration": 12,
    "start_time": "2023-01-15T13:00:54.269Z"
   },
   {
    "duration": 9,
    "start_time": "2023-01-15T13:00:54.282Z"
   },
   {
    "duration": 24,
    "start_time": "2023-01-15T13:00:54.293Z"
   },
   {
    "duration": 18,
    "start_time": "2023-01-15T13:00:54.319Z"
   },
   {
    "duration": 16,
    "start_time": "2023-01-15T13:00:54.338Z"
   },
   {
    "duration": 19,
    "start_time": "2023-01-15T13:00:54.356Z"
   },
   {
    "duration": 4,
    "start_time": "2023-01-15T13:00:54.376Z"
   },
   {
    "duration": 4,
    "start_time": "2023-01-15T13:00:58.639Z"
   },
   {
    "duration": 4,
    "start_time": "2023-01-15T13:01:15.415Z"
   },
   {
    "duration": 680,
    "start_time": "2023-01-15T13:01:15.422Z"
   },
   {
    "duration": 18,
    "start_time": "2023-01-15T13:01:16.104Z"
   },
   {
    "duration": 14,
    "start_time": "2023-01-15T13:01:16.124Z"
   },
   {
    "duration": 17,
    "start_time": "2023-01-15T13:01:16.139Z"
   },
   {
    "duration": 5,
    "start_time": "2023-01-15T13:01:16.158Z"
   },
   {
    "duration": 19,
    "start_time": "2023-01-15T13:01:16.164Z"
   },
   {
    "duration": 3,
    "start_time": "2023-01-15T13:01:16.184Z"
   },
   {
    "duration": 6,
    "start_time": "2023-01-15T13:01:16.188Z"
   },
   {
    "duration": 20,
    "start_time": "2023-01-15T13:01:16.196Z"
   },
   {
    "duration": 3,
    "start_time": "2023-01-15T13:01:16.218Z"
   },
   {
    "duration": 12,
    "start_time": "2023-01-15T13:01:16.223Z"
   },
   {
    "duration": 6,
    "start_time": "2023-01-15T13:01:16.237Z"
   },
   {
    "duration": 5,
    "start_time": "2023-01-15T13:01:16.244Z"
   },
   {
    "duration": 19,
    "start_time": "2023-01-15T13:01:16.250Z"
   },
   {
    "duration": 14,
    "start_time": "2023-01-15T13:01:16.271Z"
   },
   {
    "duration": 4,
    "start_time": "2023-01-15T13:01:16.286Z"
   },
   {
    "duration": 5,
    "start_time": "2023-01-15T13:01:20.055Z"
   },
   {
    "duration": 4,
    "start_time": "2023-01-15T13:01:22.346Z"
   },
   {
    "duration": 1365,
    "start_time": "2023-01-15T13:05:17.404Z"
   },
   {
    "duration": 705,
    "start_time": "2023-01-15T13:05:18.770Z"
   },
   {
    "duration": 15,
    "start_time": "2023-01-15T13:05:19.476Z"
   },
   {
    "duration": 23,
    "start_time": "2023-01-15T13:05:19.493Z"
   },
   {
    "duration": 24,
    "start_time": "2023-01-15T13:05:19.518Z"
   },
   {
    "duration": 7,
    "start_time": "2023-01-15T13:05:19.544Z"
   },
   {
    "duration": 15,
    "start_time": "2023-01-15T13:05:19.552Z"
   },
   {
    "duration": 3,
    "start_time": "2023-01-15T13:05:19.569Z"
   },
   {
    "duration": 6,
    "start_time": "2023-01-15T13:05:19.573Z"
   },
   {
    "duration": 4,
    "start_time": "2023-01-15T13:11:39.913Z"
   },
   {
    "duration": 651,
    "start_time": "2023-01-15T13:11:39.919Z"
   },
   {
    "duration": 14,
    "start_time": "2023-01-15T13:11:40.571Z"
   },
   {
    "duration": 31,
    "start_time": "2023-01-15T13:11:40.587Z"
   },
   {
    "duration": 18,
    "start_time": "2023-01-15T13:11:40.619Z"
   },
   {
    "duration": 8,
    "start_time": "2023-01-15T13:11:40.639Z"
   },
   {
    "duration": 15,
    "start_time": "2023-01-15T13:11:40.649Z"
   },
   {
    "duration": 4,
    "start_time": "2023-01-15T13:11:40.666Z"
   },
   {
    "duration": 6,
    "start_time": "2023-01-15T13:11:40.672Z"
   },
   {
    "duration": 12,
    "start_time": "2023-01-15T13:11:40.680Z"
   },
   {
    "duration": 22,
    "start_time": "2023-01-15T13:11:40.694Z"
   },
   {
    "duration": 22,
    "start_time": "2023-01-15T13:11:40.717Z"
   },
   {
    "duration": 6,
    "start_time": "2023-01-15T13:11:40.741Z"
   },
   {
    "duration": 7,
    "start_time": "2023-01-15T13:11:40.750Z"
   },
   {
    "duration": 10,
    "start_time": "2023-01-15T13:11:40.759Z"
   },
   {
    "duration": 15,
    "start_time": "2023-01-15T13:11:40.771Z"
   },
   {
    "duration": 40,
    "start_time": "2023-01-15T13:11:40.788Z"
   },
   {
    "duration": 93,
    "start_time": "2023-01-15T13:11:40.830Z"
   },
   {
    "duration": 126,
    "start_time": "2023-01-15T13:11:40.925Z"
   },
   {
    "duration": 7,
    "start_time": "2023-01-15T13:11:41.052Z"
   },
   {
    "duration": 11,
    "start_time": "2023-01-15T13:11:41.061Z"
   },
   {
    "duration": 125,
    "start_time": "2023-01-15T13:11:41.074Z"
   },
   {
    "duration": 3,
    "start_time": "2023-01-15T13:11:41.201Z"
   },
   {
    "duration": 3,
    "start_time": "2023-01-15T13:11:41.216Z"
   },
   {
    "duration": 4243,
    "start_time": "2023-01-15T13:11:41.221Z"
   },
   {
    "duration": 4,
    "start_time": "2023-01-15T13:11:56.764Z"
   },
   {
    "duration": 5,
    "start_time": "2023-01-15T13:11:58.594Z"
   },
   {
    "duration": 53,
    "start_time": "2023-01-15T13:13:02.176Z"
   },
   {
    "duration": 123,
    "start_time": "2023-01-15T13:13:08.814Z"
   },
   {
    "duration": 10,
    "start_time": "2023-01-15T13:13:14.650Z"
   },
   {
    "duration": 4,
    "start_time": "2023-01-15T13:13:19.660Z"
   },
   {
    "duration": 650,
    "start_time": "2023-01-15T13:13:19.667Z"
   },
   {
    "duration": 9,
    "start_time": "2023-01-15T13:13:20.319Z"
   },
   {
    "duration": 12,
    "start_time": "2023-01-15T13:13:20.330Z"
   },
   {
    "duration": 19,
    "start_time": "2023-01-15T13:13:20.343Z"
   },
   {
    "duration": 7,
    "start_time": "2023-01-15T13:13:20.363Z"
   },
   {
    "duration": 9,
    "start_time": "2023-01-15T13:13:20.371Z"
   },
   {
    "duration": 2,
    "start_time": "2023-01-15T13:13:20.381Z"
   },
   {
    "duration": 3,
    "start_time": "2023-01-15T13:13:20.415Z"
   },
   {
    "duration": 12,
    "start_time": "2023-01-15T13:13:20.419Z"
   },
   {
    "duration": 11,
    "start_time": "2023-01-15T13:13:20.432Z"
   },
   {
    "duration": 8,
    "start_time": "2023-01-15T13:13:20.445Z"
   },
   {
    "duration": 6,
    "start_time": "2023-01-15T13:13:20.455Z"
   },
   {
    "duration": 6,
    "start_time": "2023-01-15T13:13:20.462Z"
   },
   {
    "duration": 8,
    "start_time": "2023-01-15T13:13:20.470Z"
   },
   {
    "duration": 35,
    "start_time": "2023-01-15T13:13:20.480Z"
   },
   {
    "duration": 18,
    "start_time": "2023-01-15T13:13:20.517Z"
   },
   {
    "duration": 98,
    "start_time": "2023-01-15T13:13:20.537Z"
   },
   {
    "duration": 122,
    "start_time": "2023-01-15T13:13:20.637Z"
   },
   {
    "duration": 6,
    "start_time": "2023-01-15T13:13:20.761Z"
   },
   {
    "duration": 12,
    "start_time": "2023-01-15T13:13:20.768Z"
   },
   {
    "duration": 122,
    "start_time": "2023-01-15T13:13:20.782Z"
   },
   {
    "duration": 10,
    "start_time": "2023-01-15T13:13:20.906Z"
   },
   {
    "duration": 5,
    "start_time": "2023-01-15T13:13:20.918Z"
   },
   {
    "duration": 4003,
    "start_time": "2023-01-15T13:13:20.924Z"
   },
   {
    "duration": 35,
    "start_time": "2023-01-15T13:13:24.929Z"
   },
   {
    "duration": 102,
    "start_time": "2023-01-15T13:13:24.966Z"
   },
   {
    "duration": 8,
    "start_time": "2023-01-15T13:13:25.070Z"
   },
   {
    "duration": 69,
    "start_time": "2023-01-15T13:13:25.079Z"
   },
   {
    "duration": 168,
    "start_time": "2023-01-15T13:13:25.149Z"
   },
   {
    "duration": 676,
    "start_time": "2023-01-15T13:13:25.319Z"
   },
   {
    "duration": 28,
    "start_time": "2023-01-15T13:13:25.996Z"
   },
   {
    "duration": 1307,
    "start_time": "2023-01-15T13:13:31.467Z"
   },
   {
    "duration": 1390,
    "start_time": "2023-01-15T13:13:41.597Z"
   },
   {
    "duration": 2,
    "start_time": "2023-01-15T13:19:01.180Z"
   },
   {
    "duration": 12,
    "start_time": "2023-01-15T13:20:26.316Z"
   },
   {
    "duration": 680,
    "start_time": "2023-01-15T13:20:26.331Z"
   },
   {
    "duration": 11,
    "start_time": "2023-01-15T13:20:27.012Z"
   },
   {
    "duration": 21,
    "start_time": "2023-01-15T13:20:27.027Z"
   },
   {
    "duration": 24,
    "start_time": "2023-01-15T13:20:27.049Z"
   },
   {
    "duration": 7,
    "start_time": "2023-01-15T13:20:27.074Z"
   },
   {
    "duration": 3,
    "start_time": "2023-01-15T13:20:27.083Z"
   },
   {
    "duration": 5,
    "start_time": "2023-01-15T13:20:27.088Z"
   },
   {
    "duration": 20,
    "start_time": "2023-01-15T13:20:27.096Z"
   },
   {
    "duration": 7,
    "start_time": "2023-01-15T13:20:27.117Z"
   },
   {
    "duration": 10,
    "start_time": "2023-01-15T13:20:27.127Z"
   },
   {
    "duration": 11,
    "start_time": "2023-01-15T13:20:27.139Z"
   },
   {
    "duration": 7,
    "start_time": "2023-01-15T13:20:27.151Z"
   },
   {
    "duration": 5,
    "start_time": "2023-01-15T13:20:27.159Z"
   },
   {
    "duration": 10,
    "start_time": "2023-01-15T13:20:27.166Z"
   },
   {
    "duration": 9,
    "start_time": "2023-01-15T13:20:34.574Z"
   },
   {
    "duration": 20,
    "start_time": "2023-01-15T13:20:39.002Z"
   },
   {
    "duration": 9,
    "start_time": "2023-01-15T13:21:19.760Z"
   },
   {
    "duration": 4,
    "start_time": "2023-01-15T13:21:29.187Z"
   },
   {
    "duration": 663,
    "start_time": "2023-01-15T13:21:29.193Z"
   },
   {
    "duration": 13,
    "start_time": "2023-01-15T13:21:29.858Z"
   },
   {
    "duration": 13,
    "start_time": "2023-01-15T13:21:29.872Z"
   },
   {
    "duration": 30,
    "start_time": "2023-01-15T13:21:29.887Z"
   },
   {
    "duration": 8,
    "start_time": "2023-01-15T13:21:29.918Z"
   },
   {
    "duration": 8,
    "start_time": "2023-01-15T13:21:29.927Z"
   },
   {
    "duration": 2,
    "start_time": "2023-01-15T13:21:29.937Z"
   },
   {
    "duration": 4,
    "start_time": "2023-01-15T13:21:29.941Z"
   },
   {
    "duration": 7,
    "start_time": "2023-01-15T13:21:29.946Z"
   },
   {
    "duration": 3,
    "start_time": "2023-01-15T13:21:29.955Z"
   },
   {
    "duration": 9,
    "start_time": "2023-01-15T13:21:29.959Z"
   },
   {
    "duration": 5,
    "start_time": "2023-01-15T13:21:29.969Z"
   },
   {
    "duration": 4,
    "start_time": "2023-01-15T13:21:29.976Z"
   },
   {
    "duration": 39,
    "start_time": "2023-01-15T13:21:29.982Z"
   },
   {
    "duration": 14,
    "start_time": "2023-01-15T13:21:33.156Z"
   },
   {
    "duration": 19,
    "start_time": "2023-01-15T13:21:34.957Z"
   },
   {
    "duration": 11,
    "start_time": "2023-01-15T13:22:03.865Z"
   },
   {
    "duration": 2,
    "start_time": "2023-01-15T13:23:37.678Z"
   },
   {
    "duration": 4,
    "start_time": "2023-01-15T13:24:51.893Z"
   },
   {
    "duration": 641,
    "start_time": "2023-01-15T13:24:51.899Z"
   },
   {
    "duration": 10,
    "start_time": "2023-01-15T13:24:52.541Z"
   },
   {
    "duration": 20,
    "start_time": "2023-01-15T13:24:52.553Z"
   },
   {
    "duration": 21,
    "start_time": "2023-01-15T13:24:52.575Z"
   },
   {
    "duration": 12,
    "start_time": "2023-01-15T13:24:52.615Z"
   },
   {
    "duration": 4,
    "start_time": "2023-01-15T13:24:52.628Z"
   },
   {
    "duration": 10,
    "start_time": "2023-01-15T13:24:52.635Z"
   },
   {
    "duration": 10,
    "start_time": "2023-01-15T13:24:52.648Z"
   },
   {
    "duration": 8,
    "start_time": "2023-01-15T13:24:52.659Z"
   },
   {
    "duration": 8,
    "start_time": "2023-01-15T13:24:52.668Z"
   },
   {
    "duration": 6,
    "start_time": "2023-01-15T13:24:52.678Z"
   },
   {
    "duration": 22,
    "start_time": "2023-01-15T13:24:52.685Z"
   },
   {
    "duration": 34,
    "start_time": "2023-01-15T13:24:52.709Z"
   },
   {
    "duration": 11,
    "start_time": "2023-01-15T13:24:52.745Z"
   },
   {
    "duration": 12,
    "start_time": "2023-01-15T13:24:52.758Z"
   },
   {
    "duration": 15,
    "start_time": "2023-01-15T13:24:52.772Z"
   },
   {
    "duration": 13,
    "start_time": "2023-01-15T13:24:55.567Z"
   },
   {
    "duration": 11,
    "start_time": "2023-01-15T13:26:03.383Z"
   },
   {
    "duration": 45,
    "start_time": "2023-01-15T13:27:19.801Z"
   },
   {
    "duration": 9,
    "start_time": "2023-01-15T13:27:51.577Z"
   },
   {
    "duration": 17,
    "start_time": "2023-01-15T13:28:37.366Z"
   },
   {
    "duration": 9,
    "start_time": "2023-01-15T13:28:50.283Z"
   },
   {
    "duration": 16,
    "start_time": "2023-01-15T13:29:22.816Z"
   },
   {
    "duration": 142,
    "start_time": "2023-01-15T13:29:37.886Z"
   },
   {
    "duration": 3,
    "start_time": "2023-01-15T13:30:01.266Z"
   },
   {
    "duration": 7,
    "start_time": "2023-01-15T13:30:02.792Z"
   },
   {
    "duration": 9,
    "start_time": "2023-01-15T13:30:14.230Z"
   },
   {
    "duration": 7,
    "start_time": "2023-01-15T13:30:38.113Z"
   },
   {
    "duration": 14,
    "start_time": "2023-01-15T13:30:53.296Z"
   },
   {
    "duration": 168,
    "start_time": "2023-01-15T13:31:22.961Z"
   },
   {
    "duration": 6594,
    "start_time": "2023-01-15T13:31:26.539Z"
   },
   {
    "duration": 26,
    "start_time": "2023-01-15T13:32:04.586Z"
   },
   {
    "duration": 755,
    "start_time": "2023-01-15T13:33:41.367Z"
   },
   {
    "duration": 36,
    "start_time": "2023-01-15T13:34:24.044Z"
   },
   {
    "duration": 28,
    "start_time": "2023-01-15T13:37:09.600Z"
   },
   {
    "duration": 77,
    "start_time": "2023-01-15T13:38:46.939Z"
   },
   {
    "duration": 130,
    "start_time": "2023-01-15T13:40:26.097Z"
   },
   {
    "duration": 4,
    "start_time": "2023-01-15T13:42:17.709Z"
   },
   {
    "duration": 10,
    "start_time": "2023-01-15T13:42:59.428Z"
   },
   {
    "duration": 3,
    "start_time": "2023-01-15T13:43:20.821Z"
   },
   {
    "duration": 6,
    "start_time": "2023-01-15T13:43:22.358Z"
   },
   {
    "duration": 16,
    "start_time": "2023-01-15T13:43:36.151Z"
   },
   {
    "duration": 9,
    "start_time": "2023-01-15T13:43:47.123Z"
   },
   {
    "duration": 4,
    "start_time": "2023-01-15T13:43:57.204Z"
   },
   {
    "duration": 777,
    "start_time": "2023-01-15T13:44:43.211Z"
   },
   {
    "duration": 5,
    "start_time": "2023-01-15T13:44:47.751Z"
   },
   {
    "duration": 632,
    "start_time": "2023-01-15T13:44:47.758Z"
   },
   {
    "duration": 10,
    "start_time": "2023-01-15T13:44:48.392Z"
   },
   {
    "duration": 13,
    "start_time": "2023-01-15T13:44:48.415Z"
   },
   {
    "duration": 21,
    "start_time": "2023-01-15T13:44:48.430Z"
   },
   {
    "duration": 7,
    "start_time": "2023-01-15T13:44:48.453Z"
   },
   {
    "duration": 8,
    "start_time": "2023-01-15T13:44:48.462Z"
   },
   {
    "duration": 3,
    "start_time": "2023-01-15T13:44:48.472Z"
   },
   {
    "duration": 9,
    "start_time": "2023-01-15T13:44:48.476Z"
   },
   {
    "duration": 5,
    "start_time": "2023-01-15T13:44:48.515Z"
   },
   {
    "duration": 4,
    "start_time": "2023-01-15T13:44:48.521Z"
   },
   {
    "duration": 9,
    "start_time": "2023-01-15T13:44:48.526Z"
   },
   {
    "duration": 6,
    "start_time": "2023-01-15T13:44:48.538Z"
   },
   {
    "duration": 6,
    "start_time": "2023-01-15T13:44:48.545Z"
   },
   {
    "duration": 11,
    "start_time": "2023-01-15T13:44:48.553Z"
   },
   {
    "duration": 17,
    "start_time": "2023-01-15T13:44:48.565Z"
   },
   {
    "duration": 36,
    "start_time": "2023-01-15T13:44:48.584Z"
   },
   {
    "duration": 12,
    "start_time": "2023-01-15T13:44:48.622Z"
   },
   {
    "duration": 121,
    "start_time": "2023-01-15T13:44:48.635Z"
   },
   {
    "duration": 128,
    "start_time": "2023-01-15T13:44:48.758Z"
   },
   {
    "duration": 6,
    "start_time": "2023-01-15T13:44:48.888Z"
   },
   {
    "duration": 21,
    "start_time": "2023-01-15T13:44:48.896Z"
   },
   {
    "duration": 119,
    "start_time": "2023-01-15T13:44:48.918Z"
   },
   {
    "duration": 4200,
    "start_time": "2023-01-15T13:44:49.038Z"
   },
   {
    "duration": 714,
    "start_time": "2023-01-15T13:45:05.593Z"
   },
   {
    "duration": 765,
    "start_time": "2023-01-15T13:46:24.993Z"
   },
   {
    "duration": 4139,
    "start_time": "2023-01-15T13:46:36.870Z"
   },
   {
    "duration": 4161,
    "start_time": "2023-01-15T13:53:50.090Z"
   },
   {
    "duration": 20,
    "start_time": "2023-01-15T13:54:15.946Z"
   },
   {
    "duration": 94,
    "start_time": "2023-01-15T13:54:21.478Z"
   },
   {
    "duration": 4,
    "start_time": "2023-01-15T13:54:33.933Z"
   },
   {
    "duration": 623,
    "start_time": "2023-01-15T13:54:33.938Z"
   },
   {
    "duration": 15,
    "start_time": "2023-01-15T13:54:34.563Z"
   },
   {
    "duration": 13,
    "start_time": "2023-01-15T13:54:34.581Z"
   },
   {
    "duration": 39,
    "start_time": "2023-01-15T13:54:34.596Z"
   },
   {
    "duration": 10,
    "start_time": "2023-01-15T13:54:34.637Z"
   },
   {
    "duration": 10,
    "start_time": "2023-01-15T13:54:34.649Z"
   },
   {
    "duration": 3,
    "start_time": "2023-01-15T13:54:34.660Z"
   },
   {
    "duration": 5,
    "start_time": "2023-01-15T13:54:34.666Z"
   },
   {
    "duration": 9,
    "start_time": "2023-01-15T13:54:34.673Z"
   },
   {
    "duration": 33,
    "start_time": "2023-01-15T13:54:34.683Z"
   },
   {
    "duration": 7,
    "start_time": "2023-01-15T13:54:34.718Z"
   },
   {
    "duration": 8,
    "start_time": "2023-01-15T13:54:34.726Z"
   },
   {
    "duration": 5,
    "start_time": "2023-01-15T13:54:34.735Z"
   },
   {
    "duration": 11,
    "start_time": "2023-01-15T13:54:34.741Z"
   },
   {
    "duration": 16,
    "start_time": "2023-01-15T13:54:34.753Z"
   },
   {
    "duration": 8,
    "start_time": "2023-01-15T13:54:34.771Z"
   },
   {
    "duration": 40,
    "start_time": "2023-01-15T13:54:34.781Z"
   },
   {
    "duration": 102,
    "start_time": "2023-01-15T13:54:34.823Z"
   },
   {
    "duration": 134,
    "start_time": "2023-01-15T13:54:34.926Z"
   },
   {
    "duration": 7,
    "start_time": "2023-01-15T13:54:35.061Z"
   },
   {
    "duration": 12,
    "start_time": "2023-01-15T13:54:35.069Z"
   },
   {
    "duration": 119,
    "start_time": "2023-01-15T13:54:35.083Z"
   },
   {
    "duration": 4006,
    "start_time": "2023-01-15T13:54:35.205Z"
   },
   {
    "duration": 22,
    "start_time": "2023-01-15T13:54:39.212Z"
   },
   {
    "duration": 103,
    "start_time": "2023-01-15T13:54:39.235Z"
   },
   {
    "duration": 3,
    "start_time": "2023-01-15T13:54:39.340Z"
   },
   {
    "duration": 5,
    "start_time": "2023-01-15T13:54:39.344Z"
   },
   {
    "duration": 8,
    "start_time": "2023-01-15T13:54:39.351Z"
   },
   {
    "duration": 63,
    "start_time": "2023-01-15T13:54:39.361Z"
   },
   {
    "duration": 179,
    "start_time": "2023-01-15T13:54:44.979Z"
   },
   {
    "duration": 763,
    "start_time": "2023-01-15T13:54:51.639Z"
   },
   {
    "duration": 21,
    "start_time": "2023-01-15T13:55:39.596Z"
   },
   {
    "duration": 21,
    "start_time": "2023-01-15T13:56:47.999Z"
   },
   {
    "duration": 53,
    "start_time": "2023-01-15T13:58:11.940Z"
   },
   {
    "duration": 5,
    "start_time": "2023-01-15T13:58:21.385Z"
   },
   {
    "duration": 604,
    "start_time": "2023-01-15T13:58:21.392Z"
   },
   {
    "duration": 19,
    "start_time": "2023-01-15T13:58:21.997Z"
   },
   {
    "duration": 15,
    "start_time": "2023-01-15T13:58:22.018Z"
   },
   {
    "duration": 21,
    "start_time": "2023-01-15T13:58:22.034Z"
   },
   {
    "duration": 22,
    "start_time": "2023-01-15T13:58:22.057Z"
   },
   {
    "duration": 15,
    "start_time": "2023-01-15T13:58:22.081Z"
   },
   {
    "duration": 15,
    "start_time": "2023-01-15T13:58:22.099Z"
   },
   {
    "duration": 4,
    "start_time": "2023-01-15T13:58:22.117Z"
   },
   {
    "duration": 9,
    "start_time": "2023-01-15T13:58:22.123Z"
   },
   {
    "duration": 7,
    "start_time": "2023-01-15T13:58:22.133Z"
   },
   {
    "duration": 19,
    "start_time": "2023-01-15T13:58:22.142Z"
   },
   {
    "duration": 9,
    "start_time": "2023-01-15T13:58:22.163Z"
   },
   {
    "duration": 5,
    "start_time": "2023-01-15T13:58:22.174Z"
   },
   {
    "duration": 10,
    "start_time": "2023-01-15T13:58:22.180Z"
   },
   {
    "duration": 31,
    "start_time": "2023-01-15T13:58:22.192Z"
   },
   {
    "duration": 8,
    "start_time": "2023-01-15T13:58:22.225Z"
   },
   {
    "duration": 13,
    "start_time": "2023-01-15T13:58:22.235Z"
   },
   {
    "duration": 108,
    "start_time": "2023-01-15T13:58:22.250Z"
   },
   {
    "duration": 137,
    "start_time": "2023-01-15T13:58:22.360Z"
   },
   {
    "duration": 17,
    "start_time": "2023-01-15T13:58:22.500Z"
   },
   {
    "duration": 14,
    "start_time": "2023-01-15T13:58:22.520Z"
   },
   {
    "duration": 119,
    "start_time": "2023-01-15T13:58:22.535Z"
   },
   {
    "duration": 4019,
    "start_time": "2023-01-15T13:58:22.657Z"
   },
   {
    "duration": 54,
    "start_time": "2023-01-15T13:58:26.678Z"
   },
   {
    "duration": 100,
    "start_time": "2023-01-15T13:58:26.734Z"
   },
   {
    "duration": 4,
    "start_time": "2023-01-15T13:58:26.835Z"
   },
   {
    "duration": 15,
    "start_time": "2023-01-15T13:58:26.840Z"
   },
   {
    "duration": 10,
    "start_time": "2023-01-15T13:58:26.856Z"
   },
   {
    "duration": 56,
    "start_time": "2023-01-15T13:58:26.867Z"
   },
   {
    "duration": 172,
    "start_time": "2023-01-15T13:58:26.924Z"
   },
   {
    "duration": 705,
    "start_time": "2023-01-15T13:58:27.097Z"
   },
   {
    "duration": 27,
    "start_time": "2023-01-15T13:58:27.803Z"
   },
   {
    "duration": 1357,
    "start_time": "2023-01-15T13:58:31.523Z"
   },
   {
    "duration": 1199,
    "start_time": "2023-01-15T13:58:38.570Z"
   },
   {
    "duration": 4,
    "start_time": "2023-01-15T14:02:50.435Z"
   },
   {
    "duration": 56,
    "start_time": "2023-01-15T14:04:48.381Z"
   },
   {
    "duration": 44,
    "start_time": "2023-01-15T14:04:55.105Z"
   },
   {
    "duration": 13,
    "start_time": "2023-01-15T14:05:04.017Z"
   },
   {
    "duration": 4,
    "start_time": "2023-01-15T14:05:12.520Z"
   },
   {
    "duration": 630,
    "start_time": "2023-01-15T14:05:12.527Z"
   },
   {
    "duration": 9,
    "start_time": "2023-01-15T14:05:13.159Z"
   },
   {
    "duration": 13,
    "start_time": "2023-01-15T14:05:13.170Z"
   },
   {
    "duration": 32,
    "start_time": "2023-01-15T14:05:13.184Z"
   },
   {
    "duration": 8,
    "start_time": "2023-01-15T14:05:13.218Z"
   },
   {
    "duration": 9,
    "start_time": "2023-01-15T14:05:13.227Z"
   },
   {
    "duration": 3,
    "start_time": "2023-01-15T14:05:13.238Z"
   },
   {
    "duration": 4,
    "start_time": "2023-01-15T14:05:13.243Z"
   },
   {
    "duration": 10,
    "start_time": "2023-01-15T14:05:13.248Z"
   },
   {
    "duration": 7,
    "start_time": "2023-01-15T14:05:13.259Z"
   },
   {
    "duration": 8,
    "start_time": "2023-01-15T14:05:13.267Z"
   },
   {
    "duration": 38,
    "start_time": "2023-01-15T14:05:13.277Z"
   },
   {
    "duration": 5,
    "start_time": "2023-01-15T14:05:13.317Z"
   },
   {
    "duration": 17,
    "start_time": "2023-01-15T14:05:13.323Z"
   },
   {
    "duration": 18,
    "start_time": "2023-01-15T14:05:13.341Z"
   },
   {
    "duration": 10,
    "start_time": "2023-01-15T14:05:13.360Z"
   },
   {
    "duration": 16,
    "start_time": "2023-01-15T14:05:13.371Z"
   },
   {
    "duration": 112,
    "start_time": "2023-01-15T14:05:13.388Z"
   },
   {
    "duration": 126,
    "start_time": "2023-01-15T14:05:13.502Z"
   },
   {
    "duration": 7,
    "start_time": "2023-01-15T14:05:13.630Z"
   },
   {
    "duration": 12,
    "start_time": "2023-01-15T14:05:13.638Z"
   },
   {
    "duration": 113,
    "start_time": "2023-01-15T14:05:13.651Z"
   },
   {
    "duration": 3903,
    "start_time": "2023-01-15T14:05:13.768Z"
   },
   {
    "duration": 63,
    "start_time": "2023-01-15T14:05:17.673Z"
   },
   {
    "duration": 99,
    "start_time": "2023-01-15T14:05:17.738Z"
   },
   {
    "duration": 5,
    "start_time": "2023-01-15T14:05:17.838Z"
   },
   {
    "duration": 5,
    "start_time": "2023-01-15T14:05:17.844Z"
   },
   {
    "duration": 9,
    "start_time": "2023-01-15T14:05:17.851Z"
   },
   {
    "duration": 66,
    "start_time": "2023-01-15T14:05:17.861Z"
   },
   {
    "duration": 176,
    "start_time": "2023-01-15T14:05:17.928Z"
   },
   {
    "duration": 704,
    "start_time": "2023-01-15T14:05:18.105Z"
   },
   {
    "duration": 22,
    "start_time": "2023-01-15T14:05:18.815Z"
   },
   {
    "duration": 1315,
    "start_time": "2023-01-15T14:05:18.839Z"
   },
   {
    "duration": 5,
    "start_time": "2023-01-15T14:05:20.156Z"
   },
   {
    "duration": 3357,
    "start_time": "2023-01-15T14:05:20.163Z"
   },
   {
    "duration": 97,
    "start_time": "2023-01-15T14:05:23.522Z"
   },
   {
    "duration": 9,
    "start_time": "2023-01-15T14:05:23.620Z"
   },
   {
    "duration": 118583,
    "start_time": "2023-01-15T14:05:23.631Z"
   },
   {
    "duration": 2060,
    "start_time": "2023-01-15T14:07:22.215Z"
   },
   {
    "duration": 1346,
    "start_time": "2023-01-15T14:07:24.276Z"
   },
   {
    "duration": 69929,
    "start_time": "2023-01-15T14:07:25.625Z"
   },
   {
    "duration": 41,
    "start_time": "2023-01-15T14:08:35.557Z"
   },
   {
    "duration": 10,
    "start_time": "2023-01-15T14:08:58.099Z"
   },
   {
    "duration": 47,
    "start_time": "2023-01-15T14:09:01.234Z"
   },
   {
    "duration": 49,
    "start_time": "2023-01-15T14:12:07.807Z"
   },
   {
    "duration": 49,
    "start_time": "2023-01-15T14:15:24.099Z"
   },
   {
    "duration": 1367,
    "start_time": "2023-01-15T14:15:29.948Z"
   },
   {
    "duration": 690,
    "start_time": "2023-01-15T14:15:31.317Z"
   },
   {
    "duration": 19,
    "start_time": "2023-01-15T14:15:32.008Z"
   },
   {
    "duration": 15,
    "start_time": "2023-01-15T14:15:32.029Z"
   },
   {
    "duration": 25,
    "start_time": "2023-01-15T14:15:32.046Z"
   },
   {
    "duration": 8,
    "start_time": "2023-01-15T14:15:32.074Z"
   },
   {
    "duration": 50,
    "start_time": "2023-01-15T14:15:32.084Z"
   },
   {
    "duration": 4,
    "start_time": "2023-01-15T14:15:32.136Z"
   },
   {
    "duration": 4,
    "start_time": "2023-01-15T14:15:32.142Z"
   },
   {
    "duration": 10,
    "start_time": "2023-01-15T14:15:32.149Z"
   },
   {
    "duration": 4,
    "start_time": "2023-01-15T14:15:32.161Z"
   },
   {
    "duration": 12,
    "start_time": "2023-01-15T14:15:32.166Z"
   },
   {
    "duration": 6,
    "start_time": "2023-01-15T14:15:32.179Z"
   },
   {
    "duration": 31,
    "start_time": "2023-01-15T14:15:32.187Z"
   },
   {
    "duration": 11,
    "start_time": "2023-01-15T14:15:32.220Z"
   },
   {
    "duration": 14,
    "start_time": "2023-01-15T14:15:32.232Z"
   },
   {
    "duration": 10,
    "start_time": "2023-01-15T14:15:32.248Z"
   },
   {
    "duration": 8,
    "start_time": "2023-01-15T14:15:32.259Z"
   },
   {
    "duration": 128,
    "start_time": "2023-01-15T14:15:32.268Z"
   },
   {
    "duration": 153,
    "start_time": "2023-01-15T14:15:32.398Z"
   },
   {
    "duration": 6,
    "start_time": "2023-01-15T14:15:32.553Z"
   },
   {
    "duration": 14,
    "start_time": "2023-01-15T14:15:32.560Z"
   },
   {
    "duration": 120,
    "start_time": "2023-01-15T14:15:32.576Z"
   },
   {
    "duration": 4190,
    "start_time": "2023-01-15T14:15:32.698Z"
   },
   {
    "duration": 58,
    "start_time": "2023-01-15T14:15:36.890Z"
   },
   {
    "duration": 104,
    "start_time": "2023-01-15T14:15:36.951Z"
   },
   {
    "duration": 4,
    "start_time": "2023-01-15T14:15:37.057Z"
   },
   {
    "duration": 5,
    "start_time": "2023-01-15T14:15:37.064Z"
   },
   {
    "duration": 13,
    "start_time": "2023-01-15T14:15:37.070Z"
   },
   {
    "duration": 76,
    "start_time": "2023-01-15T14:15:37.084Z"
   },
   {
    "duration": 181,
    "start_time": "2023-01-15T14:15:37.162Z"
   },
   {
    "duration": 606,
    "start_time": "2023-01-15T14:15:37.345Z"
   },
   {
    "duration": 38,
    "start_time": "2023-01-15T14:15:37.953Z"
   },
   {
    "duration": 1447,
    "start_time": "2023-01-15T14:15:37.993Z"
   },
   {
    "duration": 3,
    "start_time": "2023-01-15T14:15:39.441Z"
   },
   {
    "duration": 3573,
    "start_time": "2023-01-15T14:15:39.446Z"
   },
   {
    "duration": 6,
    "start_time": "2023-01-15T14:15:43.021Z"
   },
   {
    "duration": 5,
    "start_time": "2023-01-15T14:15:43.117Z"
   },
   {
    "duration": 117291,
    "start_time": "2023-01-15T14:15:43.124Z"
   },
   {
    "duration": 2072,
    "start_time": "2023-01-15T14:17:40.416Z"
   },
   {
    "duration": 1030,
    "start_time": "2023-01-15T14:17:42.490Z"
   },
   {
    "duration": 71040,
    "start_time": "2023-01-15T14:17:43.522Z"
   },
   {
    "duration": 9,
    "start_time": "2023-01-15T14:18:54.563Z"
   },
   {
    "duration": 1359,
    "start_time": "2023-01-15T14:21:13.805Z"
   },
   {
    "duration": 684,
    "start_time": "2023-01-15T14:21:15.166Z"
   },
   {
    "duration": 14,
    "start_time": "2023-01-15T14:21:15.852Z"
   },
   {
    "duration": 13,
    "start_time": "2023-01-15T14:21:15.868Z"
   },
   {
    "duration": 34,
    "start_time": "2023-01-15T14:21:15.883Z"
   },
   {
    "duration": 6,
    "start_time": "2023-01-15T14:21:15.919Z"
   },
   {
    "duration": 17,
    "start_time": "2023-01-15T14:21:15.926Z"
   },
   {
    "duration": 3,
    "start_time": "2023-01-15T14:21:15.945Z"
   },
   {
    "duration": 5,
    "start_time": "2023-01-15T14:21:15.950Z"
   },
   {
    "duration": 8,
    "start_time": "2023-01-15T14:21:15.957Z"
   },
   {
    "duration": 3,
    "start_time": "2023-01-15T14:21:15.967Z"
   },
   {
    "duration": 10,
    "start_time": "2023-01-15T14:21:15.972Z"
   },
   {
    "duration": 38,
    "start_time": "2023-01-15T14:21:15.983Z"
   },
   {
    "duration": 5,
    "start_time": "2023-01-15T14:21:16.023Z"
   },
   {
    "duration": 14,
    "start_time": "2023-01-15T14:21:16.029Z"
   },
   {
    "duration": 16,
    "start_time": "2023-01-15T14:21:16.045Z"
   },
   {
    "duration": 14,
    "start_time": "2023-01-15T14:21:16.062Z"
   },
   {
    "duration": 39,
    "start_time": "2023-01-15T14:21:16.078Z"
   },
   {
    "duration": 104,
    "start_time": "2023-01-15T14:21:16.119Z"
   },
   {
    "duration": 155,
    "start_time": "2023-01-15T14:21:16.225Z"
   },
   {
    "duration": 7,
    "start_time": "2023-01-15T14:21:16.382Z"
   },
   {
    "duration": 24,
    "start_time": "2023-01-15T14:21:16.391Z"
   },
   {
    "duration": 119,
    "start_time": "2023-01-15T14:21:16.417Z"
   },
   {
    "duration": 4145,
    "start_time": "2023-01-15T14:21:16.538Z"
   },
   {
    "duration": 58,
    "start_time": "2023-01-15T14:21:20.685Z"
   },
   {
    "duration": 106,
    "start_time": "2023-01-15T14:21:20.745Z"
   },
   {
    "duration": 3,
    "start_time": "2023-01-15T14:21:20.853Z"
   },
   {
    "duration": 13,
    "start_time": "2023-01-15T14:21:20.859Z"
   },
   {
    "duration": 63,
    "start_time": "2023-01-15T14:21:20.873Z"
   },
   {
    "duration": 188,
    "start_time": "2023-01-15T14:21:20.938Z"
   },
   {
    "duration": 586,
    "start_time": "2023-01-15T14:21:21.128Z"
   },
   {
    "duration": 23,
    "start_time": "2023-01-15T14:21:21.715Z"
   },
   {
    "duration": 1300,
    "start_time": "2023-01-15T14:21:21.739Z"
   },
   {
    "duration": 4,
    "start_time": "2023-01-15T14:21:23.040Z"
   },
   {
    "duration": 3571,
    "start_time": "2023-01-15T14:21:23.045Z"
   },
   {
    "duration": 98,
    "start_time": "2023-01-15T14:21:26.618Z"
   },
   {
    "duration": 4,
    "start_time": "2023-01-15T14:21:26.717Z"
   },
   {
    "duration": 116611,
    "start_time": "2023-01-15T14:21:26.723Z"
   },
   {
    "duration": 2000,
    "start_time": "2023-01-15T14:23:23.336Z"
   },
   {
    "duration": 1280,
    "start_time": "2023-01-15T14:23:25.337Z"
   },
   {
    "duration": 71511,
    "start_time": "2023-01-15T14:23:26.621Z"
   },
   {
    "duration": 8,
    "start_time": "2023-01-15T14:24:38.134Z"
   },
   {
    "duration": 46,
    "start_time": "2023-01-15T14:27:47.230Z"
   },
   {
    "duration": 1373,
    "start_time": "2023-01-15T14:28:16.393Z"
   },
   {
    "duration": 703,
    "start_time": "2023-01-15T14:28:17.767Z"
   },
   {
    "duration": 15,
    "start_time": "2023-01-15T14:28:18.471Z"
   },
   {
    "duration": 16,
    "start_time": "2023-01-15T14:28:18.487Z"
   },
   {
    "duration": 24,
    "start_time": "2023-01-15T14:28:18.515Z"
   },
   {
    "duration": 7,
    "start_time": "2023-01-15T14:28:18.541Z"
   },
   {
    "duration": 14,
    "start_time": "2023-01-15T14:28:18.550Z"
   },
   {
    "duration": 3,
    "start_time": "2023-01-15T14:28:18.566Z"
   },
   {
    "duration": 6,
    "start_time": "2023-01-15T14:28:18.571Z"
   },
   {
    "duration": 8,
    "start_time": "2023-01-15T14:28:18.615Z"
   },
   {
    "duration": 3,
    "start_time": "2023-01-15T14:28:18.625Z"
   },
   {
    "duration": 10,
    "start_time": "2023-01-15T14:28:18.630Z"
   },
   {
    "duration": 7,
    "start_time": "2023-01-15T14:28:18.642Z"
   },
   {
    "duration": 5,
    "start_time": "2023-01-15T14:28:18.650Z"
   },
   {
    "duration": 9,
    "start_time": "2023-01-15T14:28:18.657Z"
   },
   {
    "duration": 53,
    "start_time": "2023-01-15T14:28:18.668Z"
   },
   {
    "duration": 10,
    "start_time": "2023-01-15T14:28:18.723Z"
   },
   {
    "duration": 8,
    "start_time": "2023-01-15T14:28:18.735Z"
   },
   {
    "duration": 121,
    "start_time": "2023-01-15T14:28:18.744Z"
   },
   {
    "duration": 123,
    "start_time": "2023-01-15T14:28:18.867Z"
   },
   {
    "duration": 5,
    "start_time": "2023-01-15T14:28:18.992Z"
   },
   {
    "duration": 23,
    "start_time": "2023-01-15T14:28:18.999Z"
   },
   {
    "duration": 121,
    "start_time": "2023-01-15T14:28:19.024Z"
   },
   {
    "duration": 4056,
    "start_time": "2023-01-15T14:28:19.147Z"
   },
   {
    "duration": 49,
    "start_time": "2023-01-15T14:28:23.205Z"
   },
   {
    "duration": 111,
    "start_time": "2023-01-15T14:28:23.255Z"
   },
   {
    "duration": 4,
    "start_time": "2023-01-15T14:28:23.368Z"
   },
   {
    "duration": 8,
    "start_time": "2023-01-15T14:28:23.376Z"
   },
   {
    "duration": 72,
    "start_time": "2023-01-15T14:28:23.386Z"
   },
   {
    "duration": 173,
    "start_time": "2023-01-15T14:28:23.460Z"
   },
   {
    "duration": 592,
    "start_time": "2023-01-15T14:28:23.634Z"
   },
   {
    "duration": 22,
    "start_time": "2023-01-15T14:28:24.227Z"
   },
   {
    "duration": 1188,
    "start_time": "2023-01-15T14:28:27.656Z"
   },
   {
    "duration": 1225,
    "start_time": "2023-01-15T14:28:34.225Z"
   },
   {
    "duration": 1375,
    "start_time": "2023-01-15T14:28:38.998Z"
   },
   {
    "duration": 52,
    "start_time": "2023-01-15T14:28:55.098Z"
   },
   {
    "duration": 7,
    "start_time": "2023-01-15T14:29:15.217Z"
   },
   {
    "duration": 8,
    "start_time": "2023-01-15T14:30:28.594Z"
   },
   {
    "duration": 51,
    "start_time": "2023-01-15T14:30:45.920Z"
   },
   {
    "duration": 9,
    "start_time": "2023-01-15T14:30:48.479Z"
   },
   {
    "duration": 113,
    "start_time": "2023-01-15T14:31:21.714Z"
   },
   {
    "duration": 3,
    "start_time": "2023-01-15T14:31:26.720Z"
   },
   {
    "duration": 4,
    "start_time": "2023-01-15T14:32:02.281Z"
   },
   {
    "duration": 3,
    "start_time": "2023-01-15T14:32:14.087Z"
   },
   {
    "duration": 1310,
    "start_time": "2023-01-15T14:34:39.650Z"
   },
   {
    "duration": 683,
    "start_time": "2023-01-15T14:34:40.962Z"
   },
   {
    "duration": 15,
    "start_time": "2023-01-15T14:34:41.647Z"
   },
   {
    "duration": 13,
    "start_time": "2023-01-15T14:34:41.664Z"
   },
   {
    "duration": 37,
    "start_time": "2023-01-15T14:34:41.679Z"
   },
   {
    "duration": 6,
    "start_time": "2023-01-15T14:34:41.718Z"
   },
   {
    "duration": 14,
    "start_time": "2023-01-15T14:34:41.726Z"
   },
   {
    "duration": 4,
    "start_time": "2023-01-15T14:34:41.742Z"
   },
   {
    "duration": 4,
    "start_time": "2023-01-15T14:34:41.748Z"
   },
   {
    "duration": 8,
    "start_time": "2023-01-15T14:34:41.754Z"
   },
   {
    "duration": 10,
    "start_time": "2023-01-15T14:34:41.763Z"
   },
   {
    "duration": 14,
    "start_time": "2023-01-15T14:34:41.774Z"
   },
   {
    "duration": 30,
    "start_time": "2023-01-15T14:34:41.789Z"
   },
   {
    "duration": 5,
    "start_time": "2023-01-15T14:34:41.820Z"
   },
   {
    "duration": 9,
    "start_time": "2023-01-15T14:34:41.826Z"
   },
   {
    "duration": 15,
    "start_time": "2023-01-15T14:34:41.837Z"
   },
   {
    "duration": 10,
    "start_time": "2023-01-15T14:34:41.853Z"
   },
   {
    "duration": 9,
    "start_time": "2023-01-15T14:34:41.865Z"
   },
   {
    "duration": 153,
    "start_time": "2023-01-15T14:34:41.876Z"
   },
   {
    "duration": 151,
    "start_time": "2023-01-15T14:34:42.031Z"
   },
   {
    "duration": 7,
    "start_time": "2023-01-15T14:34:42.183Z"
   },
   {
    "duration": 12,
    "start_time": "2023-01-15T14:34:42.192Z"
   },
   {
    "duration": 118,
    "start_time": "2023-01-15T14:34:42.215Z"
   },
   {
    "duration": 4629,
    "start_time": "2023-01-15T14:34:42.334Z"
   },
   {
    "duration": 56,
    "start_time": "2023-01-15T14:34:46.965Z"
   },
   {
    "duration": 118,
    "start_time": "2023-01-15T14:34:47.023Z"
   },
   {
    "duration": 4,
    "start_time": "2023-01-15T14:34:47.142Z"
   },
   {
    "duration": 12,
    "start_time": "2023-01-15T14:34:47.149Z"
   },
   {
    "duration": 63,
    "start_time": "2023-01-15T14:34:47.162Z"
   },
   {
    "duration": 177,
    "start_time": "2023-01-15T14:34:47.226Z"
   },
   {
    "duration": 612,
    "start_time": "2023-01-15T14:34:47.405Z"
   },
   {
    "duration": 22,
    "start_time": "2023-01-15T14:34:48.019Z"
   },
   {
    "duration": 1268,
    "start_time": "2023-01-15T14:34:48.043Z"
   },
   {
    "duration": 3,
    "start_time": "2023-01-15T14:34:49.313Z"
   },
   {
    "duration": 3301,
    "start_time": "2023-01-15T14:34:49.318Z"
   },
   {
    "duration": 95,
    "start_time": "2023-01-15T14:34:52.621Z"
   },
   {
    "duration": 97,
    "start_time": "2023-01-15T14:34:52.719Z"
   },
   {
    "duration": 138005,
    "start_time": "2023-01-15T14:34:52.817Z"
   },
   {
    "duration": 2441,
    "start_time": "2023-01-15T14:37:10.824Z"
   },
   {
    "duration": 1254,
    "start_time": "2023-01-15T14:37:13.267Z"
   },
   {
    "duration": 82997,
    "start_time": "2023-01-15T14:37:14.524Z"
   },
   {
    "duration": 8,
    "start_time": "2023-01-15T14:38:37.523Z"
   }
  ],
  "kernelspec": {
   "display_name": "Python 3 (ipykernel)",
   "language": "python",
   "name": "python3"
  },
  "language_info": {
   "codemirror_mode": {
    "name": "ipython",
    "version": 3
   },
   "file_extension": ".py",
   "mimetype": "text/x-python",
   "name": "python",
   "nbconvert_exporter": "python",
   "pygments_lexer": "ipython3",
   "version": "3.9.16"
  },
  "toc": {
   "base_numbering": 1,
   "nav_menu": {},
   "number_sections": true,
   "sideBar": true,
   "skip_h1_title": true,
   "title_cell": "Содержание",
   "title_sidebar": "Contents",
   "toc_cell": true,
   "toc_position": {
    "height": "calc(100% - 180px)",
    "left": "10px",
    "top": "150px",
    "width": "280px"
   },
   "toc_section_display": true,
   "toc_window_display": true
  }
 },
 "nbformat": 4,
 "nbformat_minor": 2
}
